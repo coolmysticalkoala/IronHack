{
 "cells": [
  {
   "cell_type": "markdown",
   "metadata": {
    "id": "JIbtOgdA10lH"
   },
   "source": [
    "# PCA\n"
   ]
  },
  {
   "cell_type": "code",
   "execution_count": 2,
   "metadata": {
    "executionInfo": {
     "elapsed": 1022,
     "status": "ok",
     "timestamp": 1626422791927,
     "user": {
      "displayName": "Ignacio Soteras",
      "photoUrl": "",
      "userId": "02050793736257155229"
     },
     "user_tz": -120
    },
    "id": "Xie9v3Xc3vB8"
   },
   "outputs": [],
   "source": [
    "import pandas as pd\n",
    "import numpy as np\n",
    "from sklearn.model_selection import train_test_split"
   ]
  },
  {
   "cell_type": "code",
   "execution_count": 3,
   "metadata": {
    "executionInfo": {
     "elapsed": 594,
     "status": "ok",
     "timestamp": 1626422822011,
     "user": {
      "displayName": "Ignacio Soteras",
      "photoUrl": "",
      "userId": "02050793736257155229"
     },
     "user_tz": -120
    },
    "id": "hakKlTeEFzQG"
   },
   "outputs": [],
   "source": [
    "data = pd.read_csv('DATA_Housing_Prices.csv')"
   ]
  },
  {
   "cell_type": "code",
   "execution_count": 4,
   "metadata": {
    "colab": {
     "base_uri": "https://localhost:8080/",
     "height": 255
    },
    "executionInfo": {
     "elapsed": 216,
     "status": "ok",
     "timestamp": 1626422859401,
     "user": {
      "displayName": "Ignacio Soteras",
      "photoUrl": "",
      "userId": "02050793736257155229"
     },
     "user_tz": -120
    },
    "id": "5GcsqgmO8YEE",
    "outputId": "c5fb0be8-4448-4ad1-837d-6fee73102b84"
   },
   "outputs": [
    {
     "data": {
      "text/html": [
       "<div>\n",
       "<style scoped>\n",
       "    .dataframe tbody tr th:only-of-type {\n",
       "        vertical-align: middle;\n",
       "    }\n",
       "\n",
       "    .dataframe tbody tr th {\n",
       "        vertical-align: top;\n",
       "    }\n",
       "\n",
       "    .dataframe thead th {\n",
       "        text-align: right;\n",
       "    }\n",
       "</style>\n",
       "<table border=\"1\" class=\"dataframe\">\n",
       "  <thead>\n",
       "    <tr style=\"text-align: right;\">\n",
       "      <th></th>\n",
       "      <th>Id</th>\n",
       "      <th>MSSubClass</th>\n",
       "      <th>MSZoning</th>\n",
       "      <th>LotFrontage</th>\n",
       "      <th>LotArea</th>\n",
       "      <th>Street</th>\n",
       "      <th>Alley</th>\n",
       "      <th>LotShape</th>\n",
       "      <th>LandContour</th>\n",
       "      <th>Utilities</th>\n",
       "      <th>...</th>\n",
       "      <th>PoolQC</th>\n",
       "      <th>Fence</th>\n",
       "      <th>MiscFeature</th>\n",
       "      <th>MiscVal</th>\n",
       "      <th>MoSold</th>\n",
       "      <th>YrSold</th>\n",
       "      <th>SaleType</th>\n",
       "      <th>SaleCondition</th>\n",
       "      <th>SalePrice</th>\n",
       "      <th>Antiquity</th>\n",
       "    </tr>\n",
       "  </thead>\n",
       "  <tbody>\n",
       "    <tr>\n",
       "      <th>0</th>\n",
       "      <td>1</td>\n",
       "      <td>60</td>\n",
       "      <td>RL</td>\n",
       "      <td>65.0</td>\n",
       "      <td>8450</td>\n",
       "      <td>Pave</td>\n",
       "      <td>NaN</td>\n",
       "      <td>Reg</td>\n",
       "      <td>Lvl</td>\n",
       "      <td>AllPub</td>\n",
       "      <td>...</td>\n",
       "      <td>NaN</td>\n",
       "      <td>NaN</td>\n",
       "      <td>NaN</td>\n",
       "      <td>0</td>\n",
       "      <td>2</td>\n",
       "      <td>2008</td>\n",
       "      <td>WD</td>\n",
       "      <td>Normal</td>\n",
       "      <td>208500</td>\n",
       "      <td>5</td>\n",
       "    </tr>\n",
       "    <tr>\n",
       "      <th>1</th>\n",
       "      <td>2</td>\n",
       "      <td>20</td>\n",
       "      <td>RL</td>\n",
       "      <td>80.0</td>\n",
       "      <td>9600</td>\n",
       "      <td>Pave</td>\n",
       "      <td>NaN</td>\n",
       "      <td>Reg</td>\n",
       "      <td>Lvl</td>\n",
       "      <td>AllPub</td>\n",
       "      <td>...</td>\n",
       "      <td>NaN</td>\n",
       "      <td>NaN</td>\n",
       "      <td>NaN</td>\n",
       "      <td>0</td>\n",
       "      <td>5</td>\n",
       "      <td>2007</td>\n",
       "      <td>WD</td>\n",
       "      <td>Normal</td>\n",
       "      <td>181500</td>\n",
       "      <td>31</td>\n",
       "    </tr>\n",
       "    <tr>\n",
       "      <th>2</th>\n",
       "      <td>3</td>\n",
       "      <td>60</td>\n",
       "      <td>RL</td>\n",
       "      <td>68.0</td>\n",
       "      <td>11250</td>\n",
       "      <td>Pave</td>\n",
       "      <td>NaN</td>\n",
       "      <td>IR1</td>\n",
       "      <td>Lvl</td>\n",
       "      <td>AllPub</td>\n",
       "      <td>...</td>\n",
       "      <td>NaN</td>\n",
       "      <td>NaN</td>\n",
       "      <td>NaN</td>\n",
       "      <td>0</td>\n",
       "      <td>9</td>\n",
       "      <td>2008</td>\n",
       "      <td>WD</td>\n",
       "      <td>Normal</td>\n",
       "      <td>223500</td>\n",
       "      <td>6</td>\n",
       "    </tr>\n",
       "    <tr>\n",
       "      <th>3</th>\n",
       "      <td>4</td>\n",
       "      <td>70</td>\n",
       "      <td>RL</td>\n",
       "      <td>60.0</td>\n",
       "      <td>9550</td>\n",
       "      <td>Pave</td>\n",
       "      <td>NaN</td>\n",
       "      <td>IR1</td>\n",
       "      <td>Lvl</td>\n",
       "      <td>AllPub</td>\n",
       "      <td>...</td>\n",
       "      <td>NaN</td>\n",
       "      <td>NaN</td>\n",
       "      <td>NaN</td>\n",
       "      <td>0</td>\n",
       "      <td>2</td>\n",
       "      <td>2006</td>\n",
       "      <td>WD</td>\n",
       "      <td>Abnorml</td>\n",
       "      <td>140000</td>\n",
       "      <td>36</td>\n",
       "    </tr>\n",
       "    <tr>\n",
       "      <th>4</th>\n",
       "      <td>5</td>\n",
       "      <td>60</td>\n",
       "      <td>RL</td>\n",
       "      <td>84.0</td>\n",
       "      <td>14260</td>\n",
       "      <td>Pave</td>\n",
       "      <td>NaN</td>\n",
       "      <td>IR1</td>\n",
       "      <td>Lvl</td>\n",
       "      <td>AllPub</td>\n",
       "      <td>...</td>\n",
       "      <td>NaN</td>\n",
       "      <td>NaN</td>\n",
       "      <td>NaN</td>\n",
       "      <td>0</td>\n",
       "      <td>12</td>\n",
       "      <td>2008</td>\n",
       "      <td>WD</td>\n",
       "      <td>Normal</td>\n",
       "      <td>250000</td>\n",
       "      <td>8</td>\n",
       "    </tr>\n",
       "  </tbody>\n",
       "</table>\n",
       "<p>5 rows × 82 columns</p>\n",
       "</div>"
      ],
      "text/plain": [
       "   Id  MSSubClass MSZoning  LotFrontage  LotArea Street Alley LotShape  \\\n",
       "0   1          60       RL         65.0     8450   Pave   NaN      Reg   \n",
       "1   2          20       RL         80.0     9600   Pave   NaN      Reg   \n",
       "2   3          60       RL         68.0    11250   Pave   NaN      IR1   \n",
       "3   4          70       RL         60.0     9550   Pave   NaN      IR1   \n",
       "4   5          60       RL         84.0    14260   Pave   NaN      IR1   \n",
       "\n",
       "  LandContour Utilities  ... PoolQC Fence MiscFeature MiscVal MoSold YrSold  \\\n",
       "0         Lvl    AllPub  ...    NaN   NaN         NaN       0      2   2008   \n",
       "1         Lvl    AllPub  ...    NaN   NaN         NaN       0      5   2007   \n",
       "2         Lvl    AllPub  ...    NaN   NaN         NaN       0      9   2008   \n",
       "3         Lvl    AllPub  ...    NaN   NaN         NaN       0      2   2006   \n",
       "4         Lvl    AllPub  ...    NaN   NaN         NaN       0     12   2008   \n",
       "\n",
       "  SaleType  SaleCondition  SalePrice  Antiquity  \n",
       "0       WD         Normal     208500          5  \n",
       "1       WD         Normal     181500         31  \n",
       "2       WD         Normal     223500          6  \n",
       "3       WD        Abnorml     140000         36  \n",
       "4       WD         Normal     250000          8  \n",
       "\n",
       "[5 rows x 82 columns]"
      ]
     },
     "execution_count": 4,
     "metadata": {},
     "output_type": "execute_result"
    }
   ],
   "source": [
    "# Let's construct a dataframe with this features\n",
    "data['Antiquity'] = data['YrSold'] - data['YearRemodAdd']\n",
    "\n",
    "X = data.drop(columns=['Id','SalePrice','YearBuilt', 'YearRemodAdd', 'YrSold',\n",
    "                       'LotFrontage','MasVnrArea','GarageYrBlt'], axis = 1)\n",
    "y = np.log(data['SalePrice'])\n",
    "\n",
    "data.head()"
   ]
  },
  {
   "cell_type": "code",
   "execution_count": 5,
   "metadata": {
    "colab": {
     "base_uri": "https://localhost:8080/",
     "height": 225
    },
    "executionInfo": {
     "elapsed": 203,
     "status": "ok",
     "timestamp": 1626422902058,
     "user": {
      "displayName": "Ignacio Soteras",
      "photoUrl": "",
      "userId": "02050793736257155229"
     },
     "user_tz": -120
    },
    "id": "F7CQG_8rGRAZ",
    "outputId": "685bff9b-c2a8-4a0c-8607-0bb9e4c81f71"
   },
   "outputs": [
    {
     "data": {
      "text/html": [
       "<div>\n",
       "<style scoped>\n",
       "    .dataframe tbody tr th:only-of-type {\n",
       "        vertical-align: middle;\n",
       "    }\n",
       "\n",
       "    .dataframe tbody tr th {\n",
       "        vertical-align: top;\n",
       "    }\n",
       "\n",
       "    .dataframe thead th {\n",
       "        text-align: right;\n",
       "    }\n",
       "</style>\n",
       "<table border=\"1\" class=\"dataframe\">\n",
       "  <thead>\n",
       "    <tr style=\"text-align: right;\">\n",
       "      <th></th>\n",
       "      <th>MSSubClass</th>\n",
       "      <th>LotArea</th>\n",
       "      <th>OverallQual</th>\n",
       "      <th>OverallCond</th>\n",
       "      <th>BsmtFinSF1</th>\n",
       "      <th>BsmtFinSF2</th>\n",
       "      <th>BsmtUnfSF</th>\n",
       "      <th>TotalBsmtSF</th>\n",
       "      <th>1stFlrSF</th>\n",
       "      <th>2ndFlrSF</th>\n",
       "      <th>...</th>\n",
       "      <th>GarageArea</th>\n",
       "      <th>WoodDeckSF</th>\n",
       "      <th>OpenPorchSF</th>\n",
       "      <th>EnclosedPorch</th>\n",
       "      <th>3SsnPorch</th>\n",
       "      <th>ScreenPorch</th>\n",
       "      <th>PoolArea</th>\n",
       "      <th>MiscVal</th>\n",
       "      <th>MoSold</th>\n",
       "      <th>Antiquity</th>\n",
       "    </tr>\n",
       "  </thead>\n",
       "  <tbody>\n",
       "    <tr>\n",
       "      <th>0</th>\n",
       "      <td>60</td>\n",
       "      <td>8450</td>\n",
       "      <td>7</td>\n",
       "      <td>5</td>\n",
       "      <td>706</td>\n",
       "      <td>0</td>\n",
       "      <td>150</td>\n",
       "      <td>856</td>\n",
       "      <td>856</td>\n",
       "      <td>854</td>\n",
       "      <td>...</td>\n",
       "      <td>548</td>\n",
       "      <td>0</td>\n",
       "      <td>61</td>\n",
       "      <td>0</td>\n",
       "      <td>0</td>\n",
       "      <td>0</td>\n",
       "      <td>0</td>\n",
       "      <td>0</td>\n",
       "      <td>2</td>\n",
       "      <td>5</td>\n",
       "    </tr>\n",
       "    <tr>\n",
       "      <th>1</th>\n",
       "      <td>20</td>\n",
       "      <td>9600</td>\n",
       "      <td>6</td>\n",
       "      <td>8</td>\n",
       "      <td>978</td>\n",
       "      <td>0</td>\n",
       "      <td>284</td>\n",
       "      <td>1262</td>\n",
       "      <td>1262</td>\n",
       "      <td>0</td>\n",
       "      <td>...</td>\n",
       "      <td>460</td>\n",
       "      <td>298</td>\n",
       "      <td>0</td>\n",
       "      <td>0</td>\n",
       "      <td>0</td>\n",
       "      <td>0</td>\n",
       "      <td>0</td>\n",
       "      <td>0</td>\n",
       "      <td>5</td>\n",
       "      <td>31</td>\n",
       "    </tr>\n",
       "    <tr>\n",
       "      <th>2</th>\n",
       "      <td>60</td>\n",
       "      <td>11250</td>\n",
       "      <td>7</td>\n",
       "      <td>5</td>\n",
       "      <td>486</td>\n",
       "      <td>0</td>\n",
       "      <td>434</td>\n",
       "      <td>920</td>\n",
       "      <td>920</td>\n",
       "      <td>866</td>\n",
       "      <td>...</td>\n",
       "      <td>608</td>\n",
       "      <td>0</td>\n",
       "      <td>42</td>\n",
       "      <td>0</td>\n",
       "      <td>0</td>\n",
       "      <td>0</td>\n",
       "      <td>0</td>\n",
       "      <td>0</td>\n",
       "      <td>9</td>\n",
       "      <td>6</td>\n",
       "    </tr>\n",
       "    <tr>\n",
       "      <th>3</th>\n",
       "      <td>70</td>\n",
       "      <td>9550</td>\n",
       "      <td>7</td>\n",
       "      <td>5</td>\n",
       "      <td>216</td>\n",
       "      <td>0</td>\n",
       "      <td>540</td>\n",
       "      <td>756</td>\n",
       "      <td>961</td>\n",
       "      <td>756</td>\n",
       "      <td>...</td>\n",
       "      <td>642</td>\n",
       "      <td>0</td>\n",
       "      <td>35</td>\n",
       "      <td>272</td>\n",
       "      <td>0</td>\n",
       "      <td>0</td>\n",
       "      <td>0</td>\n",
       "      <td>0</td>\n",
       "      <td>2</td>\n",
       "      <td>36</td>\n",
       "    </tr>\n",
       "    <tr>\n",
       "      <th>4</th>\n",
       "      <td>60</td>\n",
       "      <td>14260</td>\n",
       "      <td>8</td>\n",
       "      <td>5</td>\n",
       "      <td>655</td>\n",
       "      <td>0</td>\n",
       "      <td>490</td>\n",
       "      <td>1145</td>\n",
       "      <td>1145</td>\n",
       "      <td>1053</td>\n",
       "      <td>...</td>\n",
       "      <td>836</td>\n",
       "      <td>192</td>\n",
       "      <td>84</td>\n",
       "      <td>0</td>\n",
       "      <td>0</td>\n",
       "      <td>0</td>\n",
       "      <td>0</td>\n",
       "      <td>0</td>\n",
       "      <td>12</td>\n",
       "      <td>8</td>\n",
       "    </tr>\n",
       "  </tbody>\n",
       "</table>\n",
       "<p>5 rows × 31 columns</p>\n",
       "</div>"
      ],
      "text/plain": [
       "   MSSubClass  LotArea  OverallQual  OverallCond  BsmtFinSF1  BsmtFinSF2  \\\n",
       "0          60     8450            7            5         706           0   \n",
       "1          20     9600            6            8         978           0   \n",
       "2          60    11250            7            5         486           0   \n",
       "3          70     9550            7            5         216           0   \n",
       "4          60    14260            8            5         655           0   \n",
       "\n",
       "   BsmtUnfSF  TotalBsmtSF  1stFlrSF  2ndFlrSF  ...  GarageArea  WoodDeckSF  \\\n",
       "0        150          856       856       854  ...         548           0   \n",
       "1        284         1262      1262         0  ...         460         298   \n",
       "2        434          920       920       866  ...         608           0   \n",
       "3        540          756       961       756  ...         642           0   \n",
       "4        490         1145      1145      1053  ...         836         192   \n",
       "\n",
       "   OpenPorchSF  EnclosedPorch  3SsnPorch  ScreenPorch  PoolArea  MiscVal  \\\n",
       "0           61              0          0            0         0        0   \n",
       "1            0              0          0            0         0        0   \n",
       "2           42              0          0            0         0        0   \n",
       "3           35            272          0            0         0        0   \n",
       "4           84              0          0            0         0        0   \n",
       "\n",
       "   MoSold  Antiquity  \n",
       "0       2          5  \n",
       "1       5         31  \n",
       "2       9          6  \n",
       "3       2         36  \n",
       "4      12          8  \n",
       "\n",
       "[5 rows x 31 columns]"
      ]
     },
     "execution_count": 5,
     "metadata": {},
     "output_type": "execute_result"
    }
   ],
   "source": [
    "X_cols = X.select_dtypes(include=np.number).columns\n",
    "X = X.select_dtypes(include=np.number)\n",
    "\n",
    "X.head()"
   ]
  },
  {
   "cell_type": "code",
   "execution_count": 6,
   "metadata": {
    "colab": {
     "base_uri": "https://localhost:8080/"
    },
    "executionInfo": {
     "elapsed": 211,
     "status": "ok",
     "timestamp": 1626422910768,
     "user": {
      "displayName": "Ignacio Soteras",
      "photoUrl": "",
      "userId": "02050793736257155229"
     },
     "user_tz": -120
    },
    "id": "D3Hh1vJBHvuq",
    "outputId": "84e77b2d-c41c-4d27-b250-b9df59d0a012"
   },
   "outputs": [
    {
     "data": {
      "text/plain": [
       "MSSubClass       0\n",
       "LotArea          0\n",
       "OverallQual      0\n",
       "OverallCond      0\n",
       "BsmtFinSF1       0\n",
       "BsmtFinSF2       0\n",
       "BsmtUnfSF        0\n",
       "TotalBsmtSF      0\n",
       "1stFlrSF         0\n",
       "2ndFlrSF         0\n",
       "LowQualFinSF     0\n",
       "GrLivArea        0\n",
       "BsmtFullBath     0\n",
       "BsmtHalfBath     0\n",
       "FullBath         0\n",
       "HalfBath         0\n",
       "BedroomAbvGr     0\n",
       "KitchenAbvGr     0\n",
       "TotRmsAbvGrd     0\n",
       "Fireplaces       0\n",
       "GarageCars       0\n",
       "GarageArea       0\n",
       "WoodDeckSF       0\n",
       "OpenPorchSF      0\n",
       "EnclosedPorch    0\n",
       "3SsnPorch        0\n",
       "ScreenPorch      0\n",
       "PoolArea         0\n",
       "MiscVal          0\n",
       "MoSold           0\n",
       "Antiquity        0\n",
       "dtype: int64"
      ]
     },
     "execution_count": 6,
     "metadata": {},
     "output_type": "execute_result"
    }
   ],
   "source": [
    "X.isna().sum()"
   ]
  },
  {
   "cell_type": "markdown",
   "metadata": {
    "id": "YW4TNP_XBpp-"
   },
   "source": [
    "# Scaling the data before PCA"
   ]
  },
  {
   "cell_type": "code",
   "execution_count": 7,
   "metadata": {
    "executionInfo": {
     "elapsed": 201,
     "status": "ok",
     "timestamp": 1626422969811,
     "user": {
      "displayName": "Ignacio Soteras",
      "photoUrl": "",
      "userId": "02050793736257155229"
     },
     "user_tz": -120
    },
    "id": "LfxVqHwy5CmB"
   },
   "outputs": [],
   "source": [
    "from sklearn.preprocessing import StandardScaler\n",
    "from sklearn.model_selection import train_test_split\n",
    "\n",
    "X_train, X_test, y_train, y_test = train_test_split(X, y, test_size=0.30, random_state=42)\n",
    "\n",
    "scaler = StandardScaler()\n",
    "\n",
    "scaler.fit(X_train)\n",
    "\n",
    "X_train = scaler.transform(X_train)\n",
    "X_test  = scaler.transform(X_test)\n",
    "\n",
    "X_train = pd.DataFrame(X_train, columns = X.columns)\n",
    "X_test  = pd.DataFrame(X_test , columns = X.columns)"
   ]
  },
  {
   "cell_type": "code",
   "execution_count": 8,
   "metadata": {
    "colab": {
     "base_uri": "https://localhost:8080/"
    },
    "executionInfo": {
     "elapsed": 213,
     "status": "ok",
     "timestamp": 1626422979582,
     "user": {
      "displayName": "Ignacio Soteras",
      "photoUrl": "",
      "userId": "02050793736257155229"
     },
     "user_tz": -120
    },
    "id": "PjdFdVKl0z8R",
    "outputId": "ec87a69b-0c71-47f2-c83a-03e7bd8ec697"
   },
   "outputs": [
    {
     "data": {
      "text/plain": [
       "(1022, 31)"
      ]
     },
     "execution_count": 8,
     "metadata": {},
     "output_type": "execute_result"
    }
   ],
   "source": [
    "X_train.shape"
   ]
  },
  {
   "cell_type": "markdown",
   "metadata": {
    "id": "RxdMEL4lCWMD"
   },
   "source": [
    "# Performing PCA"
   ]
  },
  {
   "cell_type": "code",
   "execution_count": 9,
   "metadata": {
    "executionInfo": {
     "elapsed": 211,
     "status": "ok",
     "timestamp": 1626423259204,
     "user": {
      "displayName": "Ignacio Soteras",
      "photoUrl": "",
      "userId": "02050793736257155229"
     },
     "user_tz": -120
    },
    "id": "7zp2BOXXBgoL"
   },
   "outputs": [],
   "source": [
    "from sklearn.decomposition import PCA\n",
    "\n",
    "pca = PCA(svd_solver='full')\n",
    "\n",
    "pca.fit(X_train)\n",
    "\n",
    "X_train = pca.transform(X_train)\n",
    "X_test  = pca.transform(X_test)\n",
    "\n",
    "cols = [ 'PCA_' + str(i) for i in list(range(1,len(X.columns)+1))]\n",
    "\n",
    "X_train = pd.DataFrame(X_train, columns = cols)\n",
    "X_test  = pd.DataFrame(X_test , columns = cols)\n",
    "\n",
    "#X_train = pd.DataFrame(X_train, columns = X.columns)\n",
    "#X_test  = pd.DataFrame(X_test , columns = X.columns)"
   ]
  },
  {
   "cell_type": "code",
   "execution_count": 10,
   "metadata": {
    "colab": {
     "base_uri": "https://localhost:8080/",
     "height": 312
    },
    "executionInfo": {
     "elapsed": 200,
     "status": "ok",
     "timestamp": 1626423263561,
     "user": {
      "displayName": "Ignacio Soteras",
      "photoUrl": "",
      "userId": "02050793736257155229"
     },
     "user_tz": -120
    },
    "id": "rnDlgsCl1CDw",
    "outputId": "d90425a7-7de9-429b-d9fc-bef0fabd8343"
   },
   "outputs": [
    {
     "data": {
      "text/html": [
       "<div>\n",
       "<style scoped>\n",
       "    .dataframe tbody tr th:only-of-type {\n",
       "        vertical-align: middle;\n",
       "    }\n",
       "\n",
       "    .dataframe tbody tr th {\n",
       "        vertical-align: top;\n",
       "    }\n",
       "\n",
       "    .dataframe thead th {\n",
       "        text-align: right;\n",
       "    }\n",
       "</style>\n",
       "<table border=\"1\" class=\"dataframe\">\n",
       "  <thead>\n",
       "    <tr style=\"text-align: right;\">\n",
       "      <th></th>\n",
       "      <th>PCA_1</th>\n",
       "      <th>PCA_2</th>\n",
       "      <th>PCA_3</th>\n",
       "      <th>PCA_4</th>\n",
       "      <th>PCA_5</th>\n",
       "      <th>PCA_6</th>\n",
       "      <th>PCA_7</th>\n",
       "      <th>PCA_8</th>\n",
       "      <th>PCA_9</th>\n",
       "      <th>PCA_10</th>\n",
       "      <th>...</th>\n",
       "      <th>PCA_22</th>\n",
       "      <th>PCA_23</th>\n",
       "      <th>PCA_24</th>\n",
       "      <th>PCA_25</th>\n",
       "      <th>PCA_26</th>\n",
       "      <th>PCA_27</th>\n",
       "      <th>PCA_28</th>\n",
       "      <th>PCA_29</th>\n",
       "      <th>PCA_30</th>\n",
       "      <th>PCA_31</th>\n",
       "    </tr>\n",
       "  </thead>\n",
       "  <tbody>\n",
       "    <tr>\n",
       "      <th>0</th>\n",
       "      <td>0.941454</td>\n",
       "      <td>0.345513</td>\n",
       "      <td>-2.112678</td>\n",
       "      <td>1.660708</td>\n",
       "      <td>-0.452819</td>\n",
       "      <td>0.104519</td>\n",
       "      <td>0.265846</td>\n",
       "      <td>-0.543530</td>\n",
       "      <td>0.242605</td>\n",
       "      <td>-0.068156</td>\n",
       "      <td>...</td>\n",
       "      <td>-0.480751</td>\n",
       "      <td>0.265092</td>\n",
       "      <td>0.139323</td>\n",
       "      <td>0.542344</td>\n",
       "      <td>0.105571</td>\n",
       "      <td>0.666165</td>\n",
       "      <td>-0.172675</td>\n",
       "      <td>-0.006821</td>\n",
       "      <td>-6.382582e-16</td>\n",
       "      <td>-2.486303e-16</td>\n",
       "    </tr>\n",
       "    <tr>\n",
       "      <th>1</th>\n",
       "      <td>-2.107544</td>\n",
       "      <td>0.860526</td>\n",
       "      <td>0.401491</td>\n",
       "      <td>-2.145899</td>\n",
       "      <td>2.044390</td>\n",
       "      <td>0.026212</td>\n",
       "      <td>0.147927</td>\n",
       "      <td>0.476597</td>\n",
       "      <td>-1.206812</td>\n",
       "      <td>0.924042</td>\n",
       "      <td>...</td>\n",
       "      <td>-0.502128</td>\n",
       "      <td>-0.884767</td>\n",
       "      <td>-1.061572</td>\n",
       "      <td>-1.410468</td>\n",
       "      <td>0.167552</td>\n",
       "      <td>0.658051</td>\n",
       "      <td>-0.306940</td>\n",
       "      <td>-0.047905</td>\n",
       "      <td>-2.892170e-16</td>\n",
       "      <td>-4.261102e-16</td>\n",
       "    </tr>\n",
       "    <tr>\n",
       "      <th>2</th>\n",
       "      <td>0.631129</td>\n",
       "      <td>-1.755853</td>\n",
       "      <td>-1.144649</td>\n",
       "      <td>-1.749626</td>\n",
       "      <td>-0.139473</td>\n",
       "      <td>-0.046576</td>\n",
       "      <td>0.344210</td>\n",
       "      <td>-0.548844</td>\n",
       "      <td>-0.099450</td>\n",
       "      <td>-0.126007</td>\n",
       "      <td>...</td>\n",
       "      <td>0.367198</td>\n",
       "      <td>0.163487</td>\n",
       "      <td>0.268237</td>\n",
       "      <td>0.085463</td>\n",
       "      <td>-0.238612</td>\n",
       "      <td>-0.053587</td>\n",
       "      <td>0.024210</td>\n",
       "      <td>0.438600</td>\n",
       "      <td>3.418339e-16</td>\n",
       "      <td>5.648696e-16</td>\n",
       "    </tr>\n",
       "    <tr>\n",
       "      <th>3</th>\n",
       "      <td>3.932944</td>\n",
       "      <td>0.935698</td>\n",
       "      <td>-3.826203</td>\n",
       "      <td>1.154840</td>\n",
       "      <td>-0.540938</td>\n",
       "      <td>1.228420</td>\n",
       "      <td>-0.153198</td>\n",
       "      <td>-0.029159</td>\n",
       "      <td>-0.716549</td>\n",
       "      <td>0.329924</td>\n",
       "      <td>...</td>\n",
       "      <td>-0.395770</td>\n",
       "      <td>-0.562257</td>\n",
       "      <td>0.341707</td>\n",
       "      <td>-0.316715</td>\n",
       "      <td>-0.297497</td>\n",
       "      <td>0.266608</td>\n",
       "      <td>0.027728</td>\n",
       "      <td>-0.090186</td>\n",
       "      <td>8.836496e-17</td>\n",
       "      <td>1.090736e-15</td>\n",
       "    </tr>\n",
       "    <tr>\n",
       "      <th>4</th>\n",
       "      <td>0.725932</td>\n",
       "      <td>-0.413855</td>\n",
       "      <td>1.562954</td>\n",
       "      <td>-1.820942</td>\n",
       "      <td>-0.565672</td>\n",
       "      <td>-0.015590</td>\n",
       "      <td>0.544393</td>\n",
       "      <td>-1.357035</td>\n",
       "      <td>-0.693071</td>\n",
       "      <td>0.104439</td>\n",
       "      <td>...</td>\n",
       "      <td>0.297722</td>\n",
       "      <td>-0.223689</td>\n",
       "      <td>0.433532</td>\n",
       "      <td>0.884804</td>\n",
       "      <td>0.001743</td>\n",
       "      <td>-0.231202</td>\n",
       "      <td>-0.365035</td>\n",
       "      <td>0.055632</td>\n",
       "      <td>-1.191479e-16</td>\n",
       "      <td>1.731801e-17</td>\n",
       "    </tr>\n",
       "  </tbody>\n",
       "</table>\n",
       "<p>5 rows × 31 columns</p>\n",
       "</div>"
      ],
      "text/plain": [
       "      PCA_1     PCA_2     PCA_3     PCA_4     PCA_5     PCA_6     PCA_7  \\\n",
       "0  0.941454  0.345513 -2.112678  1.660708 -0.452819  0.104519  0.265846   \n",
       "1 -2.107544  0.860526  0.401491 -2.145899  2.044390  0.026212  0.147927   \n",
       "2  0.631129 -1.755853 -1.144649 -1.749626 -0.139473 -0.046576  0.344210   \n",
       "3  3.932944  0.935698 -3.826203  1.154840 -0.540938  1.228420 -0.153198   \n",
       "4  0.725932 -0.413855  1.562954 -1.820942 -0.565672 -0.015590  0.544393   \n",
       "\n",
       "      PCA_8     PCA_9    PCA_10  ...    PCA_22    PCA_23    PCA_24    PCA_25  \\\n",
       "0 -0.543530  0.242605 -0.068156  ... -0.480751  0.265092  0.139323  0.542344   \n",
       "1  0.476597 -1.206812  0.924042  ... -0.502128 -0.884767 -1.061572 -1.410468   \n",
       "2 -0.548844 -0.099450 -0.126007  ...  0.367198  0.163487  0.268237  0.085463   \n",
       "3 -0.029159 -0.716549  0.329924  ... -0.395770 -0.562257  0.341707 -0.316715   \n",
       "4 -1.357035 -0.693071  0.104439  ...  0.297722 -0.223689  0.433532  0.884804   \n",
       "\n",
       "     PCA_26    PCA_27    PCA_28    PCA_29        PCA_30        PCA_31  \n",
       "0  0.105571  0.666165 -0.172675 -0.006821 -6.382582e-16 -2.486303e-16  \n",
       "1  0.167552  0.658051 -0.306940 -0.047905 -2.892170e-16 -4.261102e-16  \n",
       "2 -0.238612 -0.053587  0.024210  0.438600  3.418339e-16  5.648696e-16  \n",
       "3 -0.297497  0.266608  0.027728 -0.090186  8.836496e-17  1.090736e-15  \n",
       "4  0.001743 -0.231202 -0.365035  0.055632 -1.191479e-16  1.731801e-17  \n",
       "\n",
       "[5 rows x 31 columns]"
      ]
     },
     "execution_count": 10,
     "metadata": {},
     "output_type": "execute_result"
    }
   ],
   "source": [
    "X_train.head()"
   ]
  },
  {
   "cell_type": "markdown",
   "metadata": {
    "id": "ULRwKeARCb3D"
   },
   "source": [
    "# Getting variances"
   ]
  },
  {
   "cell_type": "code",
   "execution_count": 11,
   "metadata": {
    "colab": {
     "base_uri": "https://localhost:8080/"
    },
    "executionInfo": {
     "elapsed": 251,
     "status": "ok",
     "timestamp": 1626423394922,
     "user": {
      "displayName": "Ignacio Soteras",
      "photoUrl": "",
      "userId": "02050793736257155229"
     },
     "user_tz": -120
    },
    "id": "tt2nU1uiCdfb",
    "outputId": "a1cf4200-ecec-483d-d183-2806a09b28f2"
   },
   "outputs": [
    {
     "name": "stdout",
     "output_type": "stream",
     "text": [
      "[1.95647880e-01 9.92818113e-02 6.85530557e-02 5.90067826e-02\n",
      " 4.75434968e-02 3.93473881e-02 3.71146490e-02 3.52248651e-02\n",
      " 3.41908311e-02 3.31054042e-02 3.15754859e-02 3.11760392e-02\n",
      " 2.98620215e-02 2.87441856e-02 2.81198161e-02 2.69006068e-02\n",
      " 2.56107816e-02 2.43162090e-02 2.11343301e-02 1.99361673e-02\n",
      " 1.80217404e-02 1.38315490e-02 1.24798515e-02 8.92806905e-03\n",
      " 8.44527982e-03 8.16602907e-03 6.26052596e-03 4.20425906e-03\n",
      " 3.27088864e-03 3.85847410e-32 2.75087554e-33]\n"
     ]
    }
   ],
   "source": [
    "# Getting\n",
    "print(pca.explained_variance_ratio_) # Individual variances of each principal components\n",
    "#print(pca.singular_values_)"
   ]
  },
  {
   "cell_type": "code",
   "execution_count": 12,
   "metadata": {
    "executionInfo": {
     "elapsed": 214,
     "status": "ok",
     "timestamp": 1626423495456,
     "user": {
      "displayName": "Ignacio Soteras",
      "photoUrl": "",
      "userId": "02050793736257155229"
     },
     "user_tz": -120
    },
    "id": "gNXO9WGEP_y-"
   },
   "outputs": [],
   "source": [
    "variances = pca.explained_variance_ratio_.tolist()"
   ]
  },
  {
   "cell_type": "code",
   "execution_count": 13,
   "metadata": {
    "colab": {
     "base_uri": "https://localhost:8080/"
    },
    "executionInfo": {
     "elapsed": 201,
     "status": "ok",
     "timestamp": 1626423498986,
     "user": {
      "displayName": "Ignacio Soteras",
      "photoUrl": "",
      "userId": "02050793736257155229"
     },
     "user_tz": -120
    },
    "id": "JKmM34WbSOG4",
    "outputId": "982ef7ab-6b7e-4b2d-8e03-61a02b71f099"
   },
   "outputs": [
    {
     "data": {
      "text/plain": [
       "[0.19564788034362157, 0.09928181134833847]"
      ]
     },
     "execution_count": 13,
     "metadata": {},
     "output_type": "execute_result"
    }
   ],
   "source": [
    "variances[:2]"
   ]
  },
  {
   "cell_type": "code",
   "execution_count": 14,
   "metadata": {
    "colab": {
     "base_uri": "https://localhost:8080/",
     "height": 236
    },
    "executionInfo": {
     "elapsed": 215,
     "status": "ok",
     "timestamp": 1626423663595,
     "user": {
      "displayName": "Ignacio Soteras",
      "photoUrl": "",
      "userId": "02050793736257155229"
     },
     "user_tz": -120
    },
    "id": "S1o-Ems8QsJO",
    "outputId": "7eee79f8-bbce-429b-9874-0076cdb12447"
   },
   "outputs": [
    {
     "data": {
      "text/html": [
       "<div>\n",
       "<style scoped>\n",
       "    .dataframe tbody tr th:only-of-type {\n",
       "        vertical-align: middle;\n",
       "    }\n",
       "\n",
       "    .dataframe tbody tr th {\n",
       "        vertical-align: top;\n",
       "    }\n",
       "\n",
       "    .dataframe thead th {\n",
       "        text-align: right;\n",
       "    }\n",
       "</style>\n",
       "<table border=\"1\" class=\"dataframe\">\n",
       "  <thead>\n",
       "    <tr style=\"text-align: right;\">\n",
       "      <th></th>\n",
       "      <th>num_pca</th>\n",
       "      <th>variance</th>\n",
       "      <th>cum_variance</th>\n",
       "    </tr>\n",
       "  </thead>\n",
       "  <tbody>\n",
       "    <tr>\n",
       "      <th>0</th>\n",
       "      <td>1</td>\n",
       "      <td>0.195648</td>\n",
       "      <td>0.195648</td>\n",
       "    </tr>\n",
       "    <tr>\n",
       "      <th>1</th>\n",
       "      <td>2</td>\n",
       "      <td>0.099282</td>\n",
       "      <td>0.294930</td>\n",
       "    </tr>\n",
       "    <tr>\n",
       "      <th>2</th>\n",
       "      <td>3</td>\n",
       "      <td>0.068553</td>\n",
       "      <td>0.363483</td>\n",
       "    </tr>\n",
       "    <tr>\n",
       "      <th>3</th>\n",
       "      <td>4</td>\n",
       "      <td>0.059007</td>\n",
       "      <td>0.422490</td>\n",
       "    </tr>\n",
       "    <tr>\n",
       "      <th>4</th>\n",
       "      <td>5</td>\n",
       "      <td>0.047543</td>\n",
       "      <td>0.470033</td>\n",
       "    </tr>\n",
       "    <tr>\n",
       "      <th>5</th>\n",
       "      <td>6</td>\n",
       "      <td>0.039347</td>\n",
       "      <td>0.509380</td>\n",
       "    </tr>\n",
       "  </tbody>\n",
       "</table>\n",
       "</div>"
      ],
      "text/plain": [
       "   num_pca  variance  cum_variance\n",
       "0        1  0.195648      0.195648\n",
       "1        2  0.099282      0.294930\n",
       "2        3  0.068553      0.363483\n",
       "3        4  0.059007      0.422490\n",
       "4        5  0.047543      0.470033\n",
       "5        6  0.039347      0.509380"
      ]
     },
     "execution_count": 14,
     "metadata": {},
     "output_type": "execute_result"
    }
   ],
   "source": [
    "total_variance = [sum(variances[:i]) for i in range(1, len(variances)+1)]\n",
    "scree = pd.DataFrame({'num_pca': range(1,len(variances)+1),'variance': variances,'cum_variance': total_variance})\n",
    "scree.head(6)"
   ]
  },
  {
   "cell_type": "code",
   "execution_count": 15,
   "metadata": {
    "colab": {
     "base_uri": "https://localhost:8080/",
     "height": 515
    },
    "executionInfo": {
     "elapsed": 1573,
     "status": "ok",
     "timestamp": 1626423811432,
     "user": {
      "displayName": "Ignacio Soteras",
      "photoUrl": "",
      "userId": "02050793736257155229"
     },
     "user_tz": -120
    },
    "id": "sOkM5yK5JEnx",
    "outputId": "de5e7c0b-f903-4c58-e7f6-f521b669a5ee"
   },
   "outputs": [
    {
     "data": {
      "text/plain": [
       "<AxesSubplot:xlabel='num_pca', ylabel='cum_variance'>"
      ]
     },
     "execution_count": 15,
     "metadata": {},
     "output_type": "execute_result"
    },
    {
     "data": {
      "image/png": "[encoded data removed]",
      "text/plain": [
       "<Figure size 1152x576 with 2 Axes>"
      ]
     },
     "metadata": {},
     "output_type": "display_data"
    }
   ],
   "source": [
    "import matplotlib.pyplot as plt\n",
    "import seaborn as sns\n",
    "%matplotlib inline\n",
    "\n",
    "sns.set_style(\"darkgrid\", {\"axes.facecolor\": \".9\"})\n",
    "\n",
    "fig, ax = plt.subplots(1,2,figsize=(16,8))\n",
    "\n",
    "sns.lineplot(x=\"num_pca\", y=\"variance\", data=scree, ax = ax[0], color = 'black')\n",
    "ax[0].set_xticks(range(1,32))\n",
    "sns.barplot(x=\"num_pca\", y=\"cum_variance\", data=scree, ax = ax[1], color = 'lightblue')"
   ]
  },
  {
   "cell_type": "markdown",
   "metadata": {
    "id": "Tqw3OlSmUCF0"
   },
   "source": [
    "Here we have a very bad scenario. On the left plot it looks that there is an elbow at 6 pca's. However, with five principal components we are only able to explain\n",
    "\n",
    "```\n",
    "cum_variance[6] = 0.51\n",
    "```\n",
    "\n",
    "only 51% of the total variability of the data!!!\n",
    "\n",
    "Bear in mind that we only selected the numerical columns and we didn't take into account the categorical ones. \n"
   ]
  },
  {
   "cell_type": "markdown",
   "metadata": {
    "id": "MYifnhkumyK5"
   },
   "source": [
    "# Getting the pca coeficients"
   ]
  },
  {
   "cell_type": "code",
   "execution_count": 16,
   "metadata": {
    "colab": {
     "base_uri": "https://localhost:8080/"
    },
    "executionInfo": {
     "elapsed": 261,
     "status": "ok",
     "timestamp": 1626423965953,
     "user": {
      "displayName": "Ignacio Soteras",
      "photoUrl": "",
      "userId": "02050793736257155229"
     },
     "user_tz": -120
    },
    "id": "cQymnyxmmxhj",
    "outputId": "ed79975c-eda4-47f7-c0c1-bc63e23784a6"
   },
   "outputs": [
    {
     "data": {
      "text/plain": [
       "array([[-1.05200957e-02,  1.27389175e-01,  3.14161242e-01,\n",
       "        -5.75828096e-02,  1.35557849e-01, -5.23239544e-03,\n",
       "         1.39099420e-01,  2.76249457e-01,  2.82716243e-01,\n",
       "         1.75098454e-01,  1.45902462e-02,  3.54203654e-01,\n",
       "         6.55478804e-02, -2.24434911e-02,  2.83142136e-01,\n",
       "         1.36580975e-01,  1.53922311e-01,  2.81740861e-03,\n",
       "         2.92254809e-01,  2.12274158e-01,  2.91546795e-01,\n",
       "         2.90989761e-01,  1.50691478e-01,  1.57031478e-01,\n",
       "        -5.88585866e-02,  1.62284147e-02,  4.93714233e-02,\n",
       "         9.17984732e-02,  9.96282703e-03,  3.10254017e-02,\n",
       "        -2.02061410e-01],\n",
       "       [-2.30851313e-01,  1.05029680e-01,  4.33960071e-02,\n",
       "        -4.08811490e-02,  3.34486818e-01,  9.80821479e-02,\n",
       "        -7.96409870e-02,  2.97626580e-01,  2.53065846e-01,\n",
       "        -4.22642728e-01, -1.09698469e-01, -1.75369614e-01,\n",
       "         3.07233240e-01,  1.22948113e-02, -1.47130532e-01,\n",
       "        -2.25910212e-01, -3.20230812e-01, -1.91956432e-01,\n",
       "        -2.69580284e-01,  5.69900398e-02,  8.19756594e-02,\n",
       "         1.18498676e-01,  8.29843929e-02, -1.17697321e-02,\n",
       "        -9.86089214e-02,  3.26464318e-02,  1.26711058e-02,\n",
       "         6.37910147e-03, -7.22628667e-02, -1.13427173e-02,\n",
       "        -5.97310098e-02],\n",
       "       [ 1.22865591e-01,  2.01607462e-01, -1.30548787e-01,\n",
       "         1.26020045e-01,  3.71958752e-01,  1.88882867e-01,\n",
       "        -5.27340932e-01, -7.94439003e-02, -5.31323299e-02,\n",
       "         1.91707402e-01,  8.40708589e-02,  1.27879399e-01,\n",
       "         3.56356119e-01,  8.55250484e-02, -1.19836869e-01,\n",
       "         1.64294072e-01,  1.14167778e-01,  4.09962387e-02,\n",
       "         9.34670192e-02,  1.57269569e-01, -1.64845557e-01,\n",
       "        -1.20902286e-01,  7.92252839e-02,  1.80433744e-02,\n",
       "         6.87977089e-02, -5.08566087e-02,  1.40610924e-01,\n",
       "         1.96582131e-01,  1.39694418e-01, -1.31636134e-02,\n",
       "         1.79581290e-01],\n",
       "       [-2.35475650e-01,  1.89125455e-01, -1.83522307e-01,\n",
       "        -8.86726055e-03, -7.82194381e-02,  1.41359277e-01,\n",
       "         2.33954524e-01,  2.00573093e-01,  3.07320254e-01,\n",
       "        -1.87980276e-01,  1.42961171e-01,  8.22056775e-02,\n",
       "        -1.29170892e-01,  8.95586852e-02, -3.40666144e-02,\n",
       "        -3.52911244e-01,  2.74690569e-01,  2.80519907e-01,\n",
       "         1.82553704e-01,  5.23856737e-02, -1.66274316e-01,\n",
       "        -1.10925573e-01, -8.48959438e-02, -1.01772539e-01,\n",
       "         2.18271755e-01, -1.30348016e-03,  9.03813642e-02,\n",
       "         1.39942952e-01,  1.20604239e-01,  4.31425720e-03,\n",
       "         3.29960356e-01],\n",
       "       [ 3.59379706e-01, -1.10221950e-01, -6.41319827e-02,\n",
       "        -3.58609574e-01,  1.96758925e-01, -2.15982576e-01,\n",
       "        -7.52040618e-02,  5.43182122e-02,  7.28209125e-02,\n",
       "        -6.90947693e-02, -3.08901461e-02, -6.76716283e-03,\n",
       "         2.62187610e-01, -2.92175125e-01,  1.53039627e-01,\n",
       "        -1.42841194e-01,  1.63388290e-03,  4.95868186e-01,\n",
       "         4.28099127e-02, -2.26368463e-01,  2.69068008e-02,\n",
       "         3.31495353e-02, -2.41912736e-02, -1.43551935e-01,\n",
       "        -3.64664906e-03, -4.29239955e-02, -3.09604224e-01,\n",
       "        -1.89755849e-02,  2.48007101e-02, -3.15929064e-02,\n",
       "         3.66367600e-02],\n",
       "       [-1.10416213e-01, -1.06623725e-01,  3.94306639e-02,\n",
       "        -2.58740129e-01, -2.05148846e-04, -1.27576024e-01,\n",
       "         1.01531703e-01,  5.78834200e-02, -2.67327323e-02,\n",
       "         5.30403307e-02,  2.48642496e-01,  4.69063771e-02,\n",
       "         9.08684182e-02, -4.65082608e-01, -1.61145278e-01,\n",
       "         1.56185909e-01, -6.98029275e-02, -2.32318963e-01,\n",
       "        -3.15511864e-02,  5.23946315e-02, -1.18961742e-02,\n",
       "         2.46665850e-02, -2.87275935e-01,  1.49966965e-01,\n",
       "         2.68173016e-01, -1.55023345e-01,  1.87907607e-01,\n",
       "         2.20670928e-01, -1.25448431e-01, -3.82029417e-01,\n",
       "         1.59815959e-01],\n",
       "       [-2.50548996e-02,  3.86921413e-02,  6.96618553e-02,\n",
       "         2.28718348e-01,  7.43419210e-03,  2.73860804e-02,\n",
       "        -4.42949868e-02, -2.72564779e-02, -1.35064371e-02,\n",
       "         5.78125649e-02,  2.53740599e-01,  6.10350248e-02,\n",
       "         1.47050149e-02,  1.54985188e-01,  3.02527166e-02,\n",
       "        -1.42961698e-01,  1.54303124e-02, -1.73805905e-01,\n",
       "         2.73504176e-02, -1.38433285e-01,  1.03921771e-02,\n",
       "         3.28665417e-02,  2.36086958e-01, -2.45910883e-01,\n",
       "         3.95789697e-01, -1.25595528e-02, -5.24060842e-01,\n",
       "         1.79120718e-01, -2.57495208e-01, -3.02248928e-01,\n",
       "        -1.76155148e-01],\n",
       "       [ 1.22143307e-01, -1.99514424e-01,  6.38899189e-02,\n",
       "         1.13891373e-01,  1.63660616e-01, -3.06716652e-01,\n",
       "        -2.01262631e-03,  6.25866578e-02,  5.60780631e-02,\n",
       "        -4.01568179e-02,  4.19782411e-01,  4.56887675e-02,\n",
       "        -6.93606130e-03,  1.55369371e-01,  3.52763899e-02,\n",
       "        -1.26684854e-01, -4.53778327e-02, -2.07996145e-02,\n",
       "        -3.68392242e-02, -8.07301606e-02, -1.80547782e-01,\n",
       "        -1.52702575e-01, -2.30836441e-01,  2.51126024e-01,\n",
       "        -8.12414757e-02,  3.72611838e-01,  5.70467326e-02,\n",
       "         3.02567500e-01, -1.47900684e-01,  3.35876721e-01,\n",
       "        -1.46071804e-01],\n",
       "       [-3.30211875e-01,  1.61197786e-01, -5.02790618e-02,\n",
       "         1.24448882e-02,  1.23046745e-01, -4.17485097e-01,\n",
       "        -3.29079650e-02, -4.73986992e-02, -1.80196842e-02,\n",
       "         9.41141072e-02, -2.79882561e-01,  3.96937423e-02,\n",
       "         3.05592215e-02, -1.88474782e-01, -9.27199104e-02,\n",
       "         1.33398769e-01,  1.33902194e-01, -1.33910804e-01,\n",
       "         7.12764399e-02,  1.17899882e-01, -1.04550488e-02,\n",
       "         1.43428765e-03, -8.35623464e-02, -1.95707718e-01,\n",
       "         1.37559156e-01,  5.39520392e-01, -2.28146181e-01,\n",
       "        -1.33801960e-01,  6.24256416e-02,  1.10118692e-01,\n",
       "         1.46178501e-01],\n",
       "       [ 1.61912249e-01, -1.21125103e-01,  9.04740946e-02,\n",
       "         2.61339176e-01, -4.91109501e-02,  7.13114613e-02,\n",
       "        -4.06977800e-03, -3.04447996e-02, -2.04807443e-02,\n",
       "        -1.72809034e-02, -9.34954526e-02, -3.78257158e-02,\n",
       "        -4.40113173e-02, -5.41526516e-02,  3.24992929e-02,\n",
       "        -8.72455546e-02, -2.49539412e-01,  9.88408751e-02,\n",
       "        -1.00365606e-01,  9.85620957e-03,  1.87470783e-01,\n",
       "         2.03288382e-01, -1.75343091e-01, -1.08236559e-01,\n",
       "         3.43804460e-01,  2.12892232e-01,  1.35824076e-01,\n",
       "         2.32066961e-01,  6.21689942e-01, -8.48737263e-02,\n",
       "        -1.38164864e-01],\n",
       "       [ 2.81057593e-02, -7.14289869e-02,  1.39032132e-02,\n",
       "        -3.51969752e-01,  9.46810707e-02, -1.68466831e-01,\n",
       "        -2.77495412e-02,  1.27400190e-02, -3.37018679e-02,\n",
       "         5.76265773e-02, -3.25785067e-01, -6.27022048e-03,\n",
       "        -1.79585546e-01,  4.05631914e-01, -2.54529979e-02,\n",
       "         5.94249086e-02, -5.98645573e-02, -1.00599759e-01,\n",
       "        -1.00173346e-01,  5.14516296e-02,  9.65424217e-02,\n",
       "         1.03159325e-01, -5.83838701e-02,  4.28785328e-03,\n",
       "         2.94240603e-01, -3.07639224e-01, -1.01248613e-01,\n",
       "         3.62425473e-01, -5.03852717e-02,  3.25376278e-01,\n",
       "         1.97858685e-01],\n",
       "       [-7.98187589e-02,  3.57267581e-03,  4.18415917e-02,\n",
       "         2.38935381e-01,  4.32035300e-02, -4.01344096e-01,\n",
       "         1.53477619e-01,  6.17684182e-02,  3.01334395e-02,\n",
       "        -2.25037782e-02, -9.95701195e-02, -5.58000491e-03,\n",
       "         2.38481826e-03, -2.39915581e-01, -1.52485825e-03,\n",
       "        -4.55540095e-02, -1.56334776e-02, -8.65019675e-02,\n",
       "         3.09730044e-03,  7.94913273e-02, -2.93608202e-01,\n",
       "        -2.86334733e-01,  3.33677686e-01,  7.35479913e-02,\n",
       "        -7.26329089e-02, -4.31739630e-01, -8.75503071e-02,\n",
       "         1.52894793e-01,  3.47472694e-01,  7.63542242e-02,\n",
       "        -1.58669097e-01],\n",
       "       [ 1.14274808e-01,  2.00046982e-01, -4.45845869e-02,\n",
       "        -3.86647605e-01, -6.92845558e-02,  7.47149896e-02,\n",
       "         9.97556995e-02,  5.34623064e-02, -1.71722001e-02,\n",
       "         7.45167989e-03, -7.72212324e-02, -1.33812036e-02,\n",
       "        -1.43465949e-01,  1.81129072e-01,  9.65105589e-02,\n",
       "         1.14185943e-01, -1.09356040e-01, -7.44164374e-02,\n",
       "        -8.51586606e-02,  4.66606495e-02, -1.82470567e-01,\n",
       "        -2.01140585e-01,  1.56836889e-01,  9.89181506e-02,\n",
       "        -2.94392191e-01,  3.38719009e-01, -1.50935677e-01,\n",
       "         3.18196764e-01,  2.09322488e-01, -4.30934734e-01,\n",
       "         7.36708646e-04],\n",
       "       [ 1.99669297e-02,  1.78767398e-01,  3.56532165e-03,\n",
       "        -2.25297366e-01, -2.04853613e-01,  4.06287889e-01,\n",
       "         6.39739159e-02, -9.51915426e-03, -2.72027699e-02,\n",
       "         2.10228050e-02,  1.55653983e-01,  1.15644026e-02,\n",
       "         9.23380901e-02, -3.05592892e-01, -3.64501510e-02,\n",
       "         7.13525187e-02, -1.37872454e-01, -9.14751224e-02,\n",
       "        -5.99317813e-02, -2.19078011e-02, -7.22363269e-02,\n",
       "        -7.93046364e-02,  1.71659823e-01,  2.58871862e-01,\n",
       "         2.69036468e-01,  1.10999450e-01, -2.73025254e-01,\n",
       "        -4.20263279e-02,  1.16488854e-01,  5.06135391e-01,\n",
       "        -3.98283557e-02],\n",
       "       [ 3.46493703e-01,  1.11906871e-01,  1.15599942e-01,\n",
       "        -1.08606347e-01, -7.53233968e-02, -1.41697116e-01,\n",
       "         8.77953382e-02, -3.78066221e-02,  2.59477096e-02,\n",
       "        -1.26693075e-02,  2.70459520e-01,  3.29351049e-02,\n",
       "        -7.91750701e-02, -4.12281528e-02, -4.61845608e-02,\n",
       "        -2.93806372e-02, -2.34273285e-01, -4.67383852e-02,\n",
       "        -7.84103342e-02,  4.75832108e-01,  1.56107295e-03,\n",
       "        -6.17169890e-02,  2.20165639e-01, -5.31954000e-01,\n",
       "         1.31069291e-02,  4.40112762e-02,  2.10704143e-01,\n",
       "        -8.78745568e-02, -1.07460384e-01,  1.28319930e-01,\n",
       "         1.19192136e-01],\n",
       "       [-2.94522775e-01, -4.62884576e-02, -1.34449883e-01,\n",
       "        -2.54732411e-01,  3.75696094e-02, -1.35976880e-01,\n",
       "        -8.19843395e-02, -8.90556519e-02, -1.07339060e-01,\n",
       "        -1.76742630e-02,  5.03419569e-01, -4.79720303e-02,\n",
       "        -1.36178261e-02,  1.03667263e-01, -5.60065613e-02,\n",
       "         4.31886030e-02,  1.11372938e-01, -1.37602319e-01,\n",
       "         1.92274124e-02, -2.64600769e-01,  2.23624964e-01,\n",
       "         2.54082313e-01,  1.90944538e-01, -1.85474566e-01,\n",
       "        -2.16050279e-01, -7.04753676e-02,  2.60961938e-02,\n",
       "        -1.17068626e-03,  3.99249715e-01,  9.83701672e-02,\n",
       "         3.92653810e-02],\n",
       "       [-1.25481641e-01, -4.33702219e-01, -4.22441559e-02,\n",
       "         2.79753345e-02, -7.88883224e-02,  2.41029068e-01,\n",
       "        -2.05595117e-02, -2.01372023e-02,  2.33554151e-02,\n",
       "         3.11166390e-02, -2.25264558e-01,  2.26435804e-02,\n",
       "         2.14398567e-02, -2.87150889e-01,  1.24181494e-02,\n",
       "         1.36121063e-03,  1.22396996e-01, -2.01658552e-02,\n",
       "         4.11556573e-02, -1.34279408e-01, -3.95166858e-03,\n",
       "        -1.91235018e-03,  3.29800296e-01, -2.86438231e-01,\n",
       "        -1.49200142e-01,  1.77630693e-01,  1.86774091e-01,\n",
       "         4.64691115e-01, -2.04487448e-01,  1.33061266e-01,\n",
       "         4.99807989e-02],\n",
       "       [ 5.14934484e-02,  6.35433528e-01, -1.57813316e-01,\n",
       "         1.83339413e-01, -1.17075948e-01, -1.44314410e-01,\n",
       "        -1.13986751e-02, -1.80494078e-01, -1.16922525e-01,\n",
       "         3.53470028e-02, -2.75801763e-02, -5.89056550e-02,\n",
       "        -7.76918959e-02, -2.27498735e-01,  5.51341544e-02,\n",
       "        -1.61526934e-01, -6.43715647e-02,  8.45952888e-02,\n",
       "        -1.02901887e-01, -1.39972040e-01,  2.02953529e-01,\n",
       "         2.26585355e-01, -3.75359327e-02,  6.92141026e-02,\n",
       "        -1.80653803e-01, -5.51095119e-02,  7.36226809e-02,\n",
       "         3.60472615e-01, -2.08029264e-01,  7.79913329e-02,\n",
       "         3.36961912e-02],\n",
       "       [-7.09172059e-02,  1.64097045e-01,  1.63131457e-01,\n",
       "        -1.18315889e-01,  1.13648535e-02,  2.07377758e-01,\n",
       "        -5.20938293e-02,  2.98400151e-02, -1.90160066e-02,\n",
       "         2.99856849e-02, -3.10124693e-02,  8.15995221e-03,\n",
       "         5.47912703e-02, -6.94135887e-02,  2.18621458e-01,\n",
       "        -2.34208227e-02,  1.16533942e-01, -2.34077335e-01,\n",
       "         3.99479874e-02, -4.21523493e-02, -1.31185175e-01,\n",
       "        -1.85505588e-01, -5.49654446e-01, -4.53427485e-01,\n",
       "        -1.76404988e-01, -1.73906228e-01, -7.34797284e-02,\n",
       "         1.01705159e-01,  7.76443609e-02,  1.32592289e-01,\n",
       "        -3.00735979e-01],\n",
       "       [ 2.66765721e-02, -1.18954674e-01,  1.19003302e-03,\n",
       "         2.59522508e-01, -5.26196802e-03,  1.29363205e-01,\n",
       "         7.45902165e-02,  1.12663521e-01,  1.01999191e-01,\n",
       "        -4.21189673e-02,  1.11193710e-01,  4.98817434e-02,\n",
       "        -1.34570398e-01, -5.51756033e-02, -3.94815043e-01,\n",
       "         3.19682695e-01, -1.18669486e-01,  1.74623051e-01,\n",
       "         2.87887498e-02,  1.97101931e-01,  8.30349130e-02,\n",
       "         1.27442219e-01, -2.16615244e-01, -5.82235121e-02,\n",
       "        -3.48160082e-01, -9.78564979e-02, -4.70828544e-01,\n",
       "         1.57593238e-01,  3.30251507e-02,  5.23686925e-02,\n",
       "         1.94072785e-01],\n",
       "       [ 1.38318188e-01,  2.30036474e-01,  2.95161825e-02,\n",
       "         5.31704466e-02,  4.46305612e-02, -4.78171223e-02,\n",
       "         2.58828115e-01,  2.87729298e-01,  5.20437502e-02,\n",
       "        -5.21096250e-03, -4.40538058e-02,  2.98746998e-02,\n",
       "         5.90329600e-02,  1.18260319e-01, -3.03273993e-01,\n",
       "         4.66184845e-01, -2.57122508e-02,  9.90105189e-02,\n",
       "        -2.36216243e-02, -5.19481325e-01, -8.96255248e-02,\n",
       "        -6.17344260e-02,  6.21434650e-02, -2.05660990e-01,\n",
       "         1.42937091e-01,  2.93195936e-02,  2.33617032e-01,\n",
       "        -2.70342173e-02, -4.73025804e-02,  4.37382882e-02,\n",
       "        -1.34972535e-01],\n",
       "       [-4.00302821e-01,  4.97770210e-03, -2.12320490e-01,\n",
       "        -1.33140928e-01, -2.39110462e-02, -3.46007837e-02,\n",
       "        -1.24238160e-01, -1.60119412e-01,  3.37376217e-02,\n",
       "        -1.04432981e-01,  7.87721137e-02, -5.48963207e-02,\n",
       "        -8.14099236e-02,  3.14613246e-02,  4.96611210e-02,\n",
       "         2.83566399e-01, -1.65766072e-01,  4.74431388e-01,\n",
       "        -2.42659961e-02,  2.64482702e-01, -2.06950753e-02,\n",
       "        -5.67510166e-02,  1.13466569e-02, -3.91307190e-02,\n",
       "         1.39189545e-01, -3.00727944e-02,  6.33585015e-02,\n",
       "         9.46110027e-02, -1.29813329e-01, -1.31565760e-02,\n",
       "        -4.93605913e-01],\n",
       "       [-1.28939452e-01,  1.26855140e-02,  1.33779353e-02,\n",
       "         5.63140551e-02,  2.74799349e-01,  6.87881279e-02,\n",
       "        -2.54401049e-01,  5.21591985e-02,  1.90097997e-01,\n",
       "         1.12347292e-01,  3.80528596e-02,  2.36239636e-01,\n",
       "        -5.31076549e-01, -1.67062773e-01,  2.85771637e-01,\n",
       "         4.91125208e-02, -4.18621220e-01, -6.65185112e-03,\n",
       "        -2.18398724e-02, -2.63010207e-01, -1.25745991e-01,\n",
       "        -4.46642801e-02,  2.40884034e-02, -3.89477976e-02,\n",
       "         5.40635981e-03, -3.61444657e-02,  2.71468710e-02,\n",
       "        -1.49499768e-01, -1.45732152e-02, -2.66583862e-03,\n",
       "         2.06505875e-01],\n",
       "       [-3.36888319e-01,  4.73188665e-02,  6.03853434e-01,\n",
       "        -4.68651002e-02, -1.28023202e-01, -1.56099847e-02,\n",
       "         3.75747555e-02, -9.94334707e-02, -2.13554247e-01,\n",
       "         2.29980211e-01,  1.25186044e-03,  3.45025315e-02,\n",
       "         2.48741796e-01,  1.33758339e-01, -1.06829336e-01,\n",
       "        -1.66414437e-01, -3.08808038e-01,  3.09004073e-01,\n",
       "         9.71111984e-02, -1.00546964e-01, -9.24476735e-02,\n",
       "        -6.41068465e-02,  1.55672599e-02, -1.39629094e-02,\n",
       "        -8.52282783e-02,  3.86344091e-03,  2.22448641e-02,\n",
       "         4.04915439e-02, -8.45422311e-03, -1.09280843e-02,\n",
       "         1.94569254e-01],\n",
       "       [-1.08617834e-01, -1.75687719e-02,  4.60442120e-02,\n",
       "         2.11153081e-01, -7.20671697e-03,  7.08372800e-03,\n",
       "         1.49218001e-01,  1.43729970e-01, -1.51637446e-01,\n",
       "        -1.14787155e-01,  1.25878619e-01, -1.95245960e-01,\n",
       "         2.06579643e-01,  4.65444768e-02,  5.99161771e-01,\n",
       "         3.51226737e-01,  9.58212076e-02,  8.96362108e-02,\n",
       "        -3.68416965e-01,  5.32559926e-02,  2.54409977e-02,\n",
       "        -4.09661999e-02,  4.69033691e-03, -3.31964400e-02,\n",
       "         5.08352988e-02, -1.13261117e-02, -4.50234598e-02,\n",
       "         3.49483999e-02, -1.22514800e-02,  2.29736940e-02,\n",
       "         3.39052184e-01],\n",
       "       [-6.52889692e-02, -9.92777142e-02, -5.46736149e-01,\n",
       "         5.33899605e-02, -1.58437949e-01, -3.49314202e-02,\n",
       "         2.43364569e-01,  6.79061714e-02,  4.53074838e-02,\n",
       "         3.26924344e-01, -4.26342292e-02,  3.00994796e-01,\n",
       "         3.78772063e-01,  1.52061193e-01,  1.32231372e-01,\n",
       "        -7.95425628e-02, -4.00782078e-01, -1.05146162e-01,\n",
       "         5.59443542e-02,  1.00899056e-03, -4.23429614e-02,\n",
       "         5.42298933e-02, -9.06276369e-02, -6.95567666e-02,\n",
       "        -7.49367527e-02, -3.68072984e-02, -1.30155924e-02,\n",
       "        -4.16366250e-02, -4.04890678e-03,  2.46426346e-02,\n",
       "         1.02027651e-02],\n",
       "       [ 6.31626700e-02,  1.81310320e-02,  9.72598529e-02,\n",
       "         3.40597985e-02, -2.85117770e-01, -1.15064016e-01,\n",
       "        -1.16122051e-01, -4.47754389e-01,  4.74431931e-01,\n",
       "        -3.89819523e-01, -3.06287153e-02,  2.14464252e-02,\n",
       "         1.96875414e-01,  8.13123066e-02,  1.20019725e-01,\n",
       "         2.34041761e-01, -1.35765857e-01, -1.53908809e-01,\n",
       "         2.95246952e-01, -1.37679001e-01,  4.22490994e-02,\n",
       "        -8.26559497e-02, -2.93388230e-02,  2.24957020e-02,\n",
       "         1.09303647e-02, -2.14701772e-02, -1.74788073e-03,\n",
       "         5.54123149e-02,  1.80505840e-02, -6.13385432e-03,\n",
       "         1.46011199e-01],\n",
       "       [ 2.37601369e-02,  1.61012389e-02, -1.14351247e-01,\n",
       "         3.84638111e-02,  1.49706646e-01,  3.35091291e-02,\n",
       "         5.58150101e-02,  2.20867783e-01, -3.48676910e-01,\n",
       "        -1.33927037e-01,  1.29768269e-02, -3.65901908e-01,\n",
       "        -5.55994925e-02, -1.51272514e-02,  1.05537547e-01,\n",
       "         2.82964067e-02, -2.46235638e-01, -6.77057419e-02,\n",
       "         6.73640056e-01,  2.70168059e-02,  2.25254683e-01,\n",
       "        -2.00662463e-01,  1.10277242e-02,  9.39551005e-03,\n",
       "         4.09294282e-02,  1.80320609e-02,  9.19454047e-03,\n",
       "         5.12845368e-02, -3.81739540e-02,  2.78926540e-02,\n",
       "         4.96177122e-02],\n",
       "       [ 4.73136197e-02,  6.87338604e-03,  1.86362077e-02,\n",
       "        -1.06858084e-02, -1.08481807e-02,  6.53916735e-03,\n",
       "         1.40351626e-02,  5.04820828e-03, -1.02295960e-01,\n",
       "        -1.10660766e-01, -1.14147695e-02, -1.68016461e-01,\n",
       "        -7.30172546e-03,  2.87062327e-03,  9.21234972e-02,\n",
       "         6.05733653e-02, -3.75492495e-02, -3.63115153e-02,\n",
       "         2.16274424e-01,  5.12490646e-02, -6.68945969e-01,\n",
       "         6.57520323e-01,  7.82878744e-03, -1.91851725e-02,\n",
       "         7.72221068e-03,  6.75422866e-03,  9.79615969e-03,\n",
       "        -2.36138346e-03, -2.34554115e-02,  1.67445576e-02,\n",
       "        -1.28181506e-02],\n",
       "       [-8.34606813e-17,  1.33390604e-16,  7.41642425e-17,\n",
       "        -2.06345629e-16,  1.53499142e-01,  5.04611770e-02,\n",
       "         1.48838268e-01, -1.49311778e-01,  4.72942757e-01,\n",
       "         5.35557901e-01,  5.82142709e-02, -6.44638525e-01,\n",
       "        -4.75823323e-17,  3.98829118e-17, -4.12410056e-17,\n",
       "         5.21967283e-17,  1.10546846e-18,  5.08401757e-17,\n",
       "         1.65740965e-16,  2.78085245e-17,  1.88785301e-16,\n",
       "        -2.00355972e-16,  3.66419677e-17, -1.39685677e-17,\n",
       "         1.13426049e-16, -1.61744347e-17,  1.20781977e-16,\n",
       "         7.00024062e-17, -1.86138928e-16, -3.87526581e-17,\n",
       "        -1.41028484e-16],\n",
       "       [ 0.00000000e+00,  5.25317878e-17,  4.17733487e-16,\n",
       "        -1.31214296e-16,  5.57125956e-01,  1.83149111e-01,\n",
       "         5.40209289e-01, -5.41927894e-01, -1.30305018e-01,\n",
       "        -1.47556719e-01, -1.60391749e-02,  1.77610573e-01,\n",
       "        -7.97868980e-17,  1.35805796e-16, -1.31715223e-16,\n",
       "        -3.79425295e-17,  7.26910183e-17,  6.42492039e-17,\n",
       "         2.72232255e-17, -7.60877585e-17,  1.58001429e-16,\n",
       "        -3.79619831e-17, -7.66988737e-17, -1.67651174e-17,\n",
       "         1.47233505e-17,  3.83786721e-17,  1.33906558e-16,\n",
       "        -1.39553845e-17, -1.83001851e-16, -1.69650864e-16,\n",
       "        -3.08529421e-17]])"
      ]
     },
     "execution_count": 16,
     "metadata": {},
     "output_type": "execute_result"
    }
   ],
   "source": [
    "pca.components_"
   ]
  },
  {
   "cell_type": "code",
   "execution_count": 17,
   "metadata": {
    "colab": {
     "base_uri": "https://localhost:8080/"
    },
    "executionInfo": {
     "elapsed": 227,
     "status": "ok",
     "timestamp": 1626424263798,
     "user": {
      "displayName": "Ignacio Soteras",
      "photoUrl": "",
      "userId": "02050793736257155229"
     },
     "user_tz": -120
    },
    "id": "xgCXk-Z3nB1a",
    "outputId": "18e1eb6d-7d03-463d-b678-43ad41d18480"
   },
   "outputs": [
    {
     "data": {
      "text/plain": [
       "array([-0.0105201 ,  0.12738917,  0.31416124, -0.05758281,  0.13555785,\n",
       "       -0.0052324 ,  0.13909942,  0.27624946,  0.28271624,  0.17509845,\n",
       "        0.01459025,  0.35420365,  0.06554788, -0.02244349,  0.28314214,\n",
       "        0.13658097,  0.15392231,  0.00281741,  0.29225481,  0.21227416,\n",
       "        0.2915468 ,  0.29098976,  0.15069148,  0.15703148, -0.05885859,\n",
       "        0.01622841,  0.04937142,  0.09179847,  0.00996283,  0.0310254 ,\n",
       "       -0.20206141])"
      ]
     },
     "execution_count": 17,
     "metadata": {},
     "output_type": "execute_result"
    }
   ],
   "source": [
    "# Fisrt pca components\n",
    "pca.components_[0,:]"
   ]
  },
  {
   "cell_type": "code",
   "execution_count": 18,
   "metadata": {
    "colab": {
     "base_uri": "https://localhost:8080/"
    },
    "executionInfo": {
     "elapsed": 222,
     "status": "ok",
     "timestamp": 1626424589642,
     "user": {
      "displayName": "Ignacio Soteras",
      "photoUrl": "",
      "userId": "02050793736257155229"
     },
     "user_tz": -120
    },
    "id": "J4PHai6CnMl-",
    "outputId": "e9dd4bdb-cf86-47b3-b03f-c515b2397874"
   },
   "outputs": [
    {
     "name": "stdout",
     "output_type": "stream",
     "text": [
      "Principal component  1\n",
      "[(12, 'GrLivArea', 0.35), (3, 'OverallQual', 0.31), (19, 'TotRmsAbvGrd', 0.29), (21, 'GarageCars', 0.29), (22, 'GarageArea', 0.29), (15, 'FullBath', 0.28), (9, '1stFlrSF', 0.28), (8, 'TotalBsmtSF', 0.28), (20, 'Fireplaces', 0.21), (31, 'Antiquity', -0.2), (10, '2ndFlrSF', 0.18), (24, 'OpenPorchSF', 0.16), (17, 'BedroomAbvGr', 0.15), (23, 'WoodDeckSF', 0.15), (7, 'BsmtUnfSF', 0.14), (16, 'HalfBath', 0.14), (5, 'BsmtFinSF1', 0.14), (2, 'LotArea', 0.13), (28, 'PoolArea', 0.09), (13, 'BsmtFullBath', 0.07), (25, 'EnclosedPorch', -0.06), (4, 'OverallCond', -0.06), (27, 'ScreenPorch', 0.05), (30, 'MoSold', 0.03), (14, 'BsmtHalfBath', -0.02), (26, '3SsnPorch', 0.02), (11, 'LowQualFinSF', 0.01), (1, 'MSSubClass', -0.01), (29, 'MiscVal', 0.01), (6, 'BsmtFinSF2', -0.01), (18, 'KitchenAbvGr', 0.0)]\n",
      "\n",
      "Principal component  2\n",
      "[(10, '2ndFlrSF', -0.42), (5, 'BsmtFinSF1', 0.33), (17, 'BedroomAbvGr', -0.32), (13, 'BsmtFullBath', 0.31), (8, 'TotalBsmtSF', 0.3), (19, 'TotRmsAbvGrd', -0.27), (9, '1stFlrSF', 0.25), (1, 'MSSubClass', -0.23), (16, 'HalfBath', -0.23), (18, 'KitchenAbvGr', -0.19), (12, 'GrLivArea', -0.18), (15, 'FullBath', -0.15), (22, 'GarageArea', 0.12), (11, 'LowQualFinSF', -0.11), (2, 'LotArea', 0.11), (25, 'EnclosedPorch', -0.1), (6, 'BsmtFinSF2', 0.1), (23, 'WoodDeckSF', 0.08), (21, 'GarageCars', 0.08), (7, 'BsmtUnfSF', -0.08), (29, 'MiscVal', -0.07), (31, 'Antiquity', -0.06), (20, 'Fireplaces', 0.06), (3, 'OverallQual', 0.04), (4, 'OverallCond', -0.04), (26, '3SsnPorch', 0.03), (27, 'ScreenPorch', 0.01), (14, 'BsmtHalfBath', 0.01), (24, 'OpenPorchSF', -0.01), (30, 'MoSold', -0.01), (28, 'PoolArea', 0.01)]\n",
      "\n",
      "Principal component  3\n",
      "[(7, 'BsmtUnfSF', -0.53), (5, 'BsmtFinSF1', 0.37), (13, 'BsmtFullBath', 0.36), (2, 'LotArea', 0.2), (28, 'PoolArea', 0.2), (10, '2ndFlrSF', 0.19), (6, 'BsmtFinSF2', 0.19), (31, 'Antiquity', 0.18), (21, 'GarageCars', -0.16), (16, 'HalfBath', 0.16), (20, 'Fireplaces', 0.16), (27, 'ScreenPorch', 0.14), (29, 'MiscVal', 0.14), (3, 'OverallQual', -0.13), (12, 'GrLivArea', 0.13), (4, 'OverallCond', 0.13), (1, 'MSSubClass', 0.12), (22, 'GarageArea', -0.12), (15, 'FullBath', -0.12), (17, 'BedroomAbvGr', 0.11), (19, 'TotRmsAbvGrd', 0.09), (14, 'BsmtHalfBath', 0.09), (11, 'LowQualFinSF', 0.08), (8, 'TotalBsmtSF', -0.08), (23, 'WoodDeckSF', 0.08), (25, 'EnclosedPorch', 0.07), (9, '1stFlrSF', -0.05), (26, '3SsnPorch', -0.05), (18, 'KitchenAbvGr', 0.04), (24, 'OpenPorchSF', 0.02), (30, 'MoSold', -0.01)]\n",
      "\n",
      "Principal component  4\n",
      "[(16, 'HalfBath', -0.35), (31, 'Antiquity', 0.33), (9, '1stFlrSF', 0.31), (18, 'KitchenAbvGr', 0.28), (17, 'BedroomAbvGr', 0.27), (1, 'MSSubClass', -0.24), (7, 'BsmtUnfSF', 0.23), (25, 'EnclosedPorch', 0.22), (8, 'TotalBsmtSF', 0.2), (2, 'LotArea', 0.19), (10, '2ndFlrSF', -0.19), (3, 'OverallQual', -0.18), (19, 'TotRmsAbvGrd', 0.18), (21, 'GarageCars', -0.17), (11, 'LowQualFinSF', 0.14), (6, 'BsmtFinSF2', 0.14), (28, 'PoolArea', 0.14), (13, 'BsmtFullBath', -0.13), (29, 'MiscVal', 0.12), (22, 'GarageArea', -0.11), (24, 'OpenPorchSF', -0.1), (27, 'ScreenPorch', 0.09), (14, 'BsmtHalfBath', 0.09), (23, 'WoodDeckSF', -0.08), (12, 'GrLivArea', 0.08), (5, 'BsmtFinSF1', -0.08), (20, 'Fireplaces', 0.05), (15, 'FullBath', -0.03), (4, 'OverallCond', -0.01), (30, 'MoSold', 0.0), (26, '3SsnPorch', -0.0)]\n",
      "\n",
      "Principal component  5\n",
      "[(18, 'KitchenAbvGr', 0.5), (1, 'MSSubClass', 0.36), (4, 'OverallCond', -0.36), (27, 'ScreenPorch', -0.31), (14, 'BsmtHalfBath', -0.29), (13, 'BsmtFullBath', 0.26), (20, 'Fireplaces', -0.23), (6, 'BsmtFinSF2', -0.22), (5, 'BsmtFinSF1', 0.2), (15, 'FullBath', 0.15), (24, 'OpenPorchSF', -0.14), (16, 'HalfBath', -0.14), (2, 'LotArea', -0.11), (7, 'BsmtUnfSF', -0.08), (9, '1stFlrSF', 0.07), (10, '2ndFlrSF', -0.07), (3, 'OverallQual', -0.06), (8, 'TotalBsmtSF', 0.05), (26, '3SsnPorch', -0.04), (19, 'TotRmsAbvGrd', 0.04), (31, 'Antiquity', 0.04), (22, 'GarageArea', 0.03), (30, 'MoSold', -0.03), (11, 'LowQualFinSF', -0.03), (21, 'GarageCars', 0.03), (29, 'MiscVal', 0.02), (23, 'WoodDeckSF', -0.02), (28, 'PoolArea', -0.02), (12, 'GrLivArea', -0.01), (25, 'EnclosedPorch', -0.0), (17, 'BedroomAbvGr', 0.0)]\n",
      "\n",
      "Principal component  6\n",
      "[(14, 'BsmtHalfBath', -0.47), (30, 'MoSold', -0.38), (23, 'WoodDeckSF', -0.29), (25, 'EnclosedPorch', 0.27), (4, 'OverallCond', -0.26), (11, 'LowQualFinSF', 0.25), (18, 'KitchenAbvGr', -0.23), (28, 'PoolArea', 0.22), (27, 'ScreenPorch', 0.19), (15, 'FullBath', -0.16), (31, 'Antiquity', 0.16), (16, 'HalfBath', 0.16), (26, '3SsnPorch', -0.16), (24, 'OpenPorchSF', 0.15), (6, 'BsmtFinSF2', -0.13), (29, 'MiscVal', -0.13), (1, 'MSSubClass', -0.11), (2, 'LotArea', -0.11), (7, 'BsmtUnfSF', 0.1), (13, 'BsmtFullBath', 0.09), (17, 'BedroomAbvGr', -0.07), (8, 'TotalBsmtSF', 0.06), (10, '2ndFlrSF', 0.05), (20, 'Fireplaces', 0.05), (12, 'GrLivArea', 0.05), (3, 'OverallQual', 0.04), (19, 'TotRmsAbvGrd', -0.03), (9, '1stFlrSF', -0.03), (22, 'GarageArea', 0.02), (21, 'GarageCars', -0.01), (5, 'BsmtFinSF1', -0.0)]\n",
      "\n",
      "Principal component  7\n",
      "[(27, 'ScreenPorch', -0.52), (25, 'EnclosedPorch', 0.4), (30, 'MoSold', -0.3), (29, 'MiscVal', -0.26), (11, 'LowQualFinSF', 0.25), (24, 'OpenPorchSF', -0.25), (23, 'WoodDeckSF', 0.24), (4, 'OverallCond', 0.23), (28, 'PoolArea', 0.18), (31, 'Antiquity', -0.18), (18, 'KitchenAbvGr', -0.17), (14, 'BsmtHalfBath', 0.15), (16, 'HalfBath', -0.14), (20, 'Fireplaces', -0.14), (3, 'OverallQual', 0.07), (12, 'GrLivArea', 0.06), (10, '2ndFlrSF', 0.06), (7, 'BsmtUnfSF', -0.04), (2, 'LotArea', 0.04), (22, 'GarageArea', 0.03), (15, 'FullBath', 0.03), (6, 'BsmtFinSF2', 0.03), (19, 'TotRmsAbvGrd', 0.03), (8, 'TotalBsmtSF', -0.03), (1, 'MSSubClass', -0.03), (17, 'BedroomAbvGr', 0.02), (13, 'BsmtFullBath', 0.01), (9, '1stFlrSF', -0.01), (26, '3SsnPorch', -0.01), (21, 'GarageCars', 0.01), (5, 'BsmtFinSF1', 0.01)]\n",
      "\n",
      "Principal component  8\n",
      "[(11, 'LowQualFinSF', 0.42), (26, '3SsnPorch', 0.37), (30, 'MoSold', 0.34), (6, 'BsmtFinSF2', -0.31), (28, 'PoolArea', 0.3), (24, 'OpenPorchSF', 0.25), (23, 'WoodDeckSF', -0.23), (2, 'LotArea', -0.2), (21, 'GarageCars', -0.18), (5, 'BsmtFinSF1', 0.16), (14, 'BsmtHalfBath', 0.16), (22, 'GarageArea', -0.15), (29, 'MiscVal', -0.15), (31, 'Antiquity', -0.15), (16, 'HalfBath', -0.13), (1, 'MSSubClass', 0.12), (4, 'OverallCond', 0.11), (25, 'EnclosedPorch', -0.08), (20, 'Fireplaces', -0.08), (3, 'OverallQual', 0.06), (8, 'TotalBsmtSF', 0.06), (27, 'ScreenPorch', 0.06), (9, '1stFlrSF', 0.06), (12, 'GrLivArea', 0.05), (17, 'BedroomAbvGr', -0.05), (10, '2ndFlrSF', -0.04), (19, 'TotRmsAbvGrd', -0.04), (15, 'FullBath', 0.04), (18, 'KitchenAbvGr', -0.02), (13, 'BsmtFullBath', -0.01), (7, 'BsmtUnfSF', -0.0)]\n",
      "\n",
      "Principal component  9\n",
      "[(26, '3SsnPorch', 0.54), (6, 'BsmtFinSF2', -0.42), (1, 'MSSubClass', -0.33), (11, 'LowQualFinSF', -0.28), (27, 'ScreenPorch', -0.23), (24, 'OpenPorchSF', -0.2), (14, 'BsmtHalfBath', -0.19), (2, 'LotArea', 0.16), (31, 'Antiquity', 0.15), (25, 'EnclosedPorch', 0.14), (18, 'KitchenAbvGr', -0.13), (17, 'BedroomAbvGr', 0.13), (28, 'PoolArea', -0.13), (16, 'HalfBath', 0.13), (5, 'BsmtFinSF1', 0.12), (20, 'Fireplaces', 0.12), (30, 'MoSold', 0.11), (10, '2ndFlrSF', 0.09), (15, 'FullBath', -0.09), (23, 'WoodDeckSF', -0.08), (19, 'TotRmsAbvGrd', 0.07), (29, 'MiscVal', 0.06), (3, 'OverallQual', -0.05), (8, 'TotalBsmtSF', -0.05), (12, 'GrLivArea', 0.04), (7, 'BsmtUnfSF', -0.03), (13, 'BsmtFullBath', 0.03), (9, '1stFlrSF', -0.02), (4, 'OverallCond', 0.01), (21, 'GarageCars', -0.01), (22, 'GarageArea', 0.0)]\n",
      "\n",
      "Principal component  10\n",
      "[(29, 'MiscVal', 0.62), (25, 'EnclosedPorch', 0.34), (4, 'OverallCond', 0.26), (17, 'BedroomAbvGr', -0.25), (28, 'PoolArea', 0.23), (26, '3SsnPorch', 0.21), (22, 'GarageArea', 0.2), (21, 'GarageCars', 0.19), (23, 'WoodDeckSF', -0.18), (1, 'MSSubClass', 0.16), (31, 'Antiquity', -0.14), (27, 'ScreenPorch', 0.14), (2, 'LotArea', -0.12), (24, 'OpenPorchSF', -0.11), (19, 'TotRmsAbvGrd', -0.1), (18, 'KitchenAbvGr', 0.1), (11, 'LowQualFinSF', -0.09), (3, 'OverallQual', 0.09), (16, 'HalfBath', -0.09), (30, 'MoSold', -0.08), (6, 'BsmtFinSF2', 0.07), (14, 'BsmtHalfBath', -0.05), (5, 'BsmtFinSF1', -0.05), (13, 'BsmtFullBath', -0.04), (12, 'GrLivArea', -0.04), (15, 'FullBath', 0.03), (8, 'TotalBsmtSF', -0.03), (9, '1stFlrSF', -0.02), (10, '2ndFlrSF', -0.02), (20, 'Fireplaces', 0.01), (7, 'BsmtUnfSF', -0.0)]\n",
      "\n",
      "Principal component  11\n",
      "[(14, 'BsmtHalfBath', 0.41), (28, 'PoolArea', 0.36), (4, 'OverallCond', -0.35), (11, 'LowQualFinSF', -0.33), (30, 'MoSold', 0.33), (26, '3SsnPorch', -0.31), (25, 'EnclosedPorch', 0.29), (31, 'Antiquity', 0.2), (13, 'BsmtFullBath', -0.18), (6, 'BsmtFinSF2', -0.17), (22, 'GarageArea', 0.1), (27, 'ScreenPorch', -0.1), (18, 'KitchenAbvGr', -0.1), (19, 'TotRmsAbvGrd', -0.1), (21, 'GarageCars', 0.1), (5, 'BsmtFinSF1', 0.09), (2, 'LotArea', -0.07), (17, 'BedroomAbvGr', -0.06), (16, 'HalfBath', 0.06), (23, 'WoodDeckSF', -0.06), (10, '2ndFlrSF', 0.06), (20, 'Fireplaces', 0.05), (29, 'MiscVal', -0.05), (9, '1stFlrSF', -0.03), (1, 'MSSubClass', 0.03), (7, 'BsmtUnfSF', -0.03), (15, 'FullBath', -0.03), (3, 'OverallQual', 0.01), (8, 'TotalBsmtSF', 0.01), (12, 'GrLivArea', -0.01), (24, 'OpenPorchSF', 0.0)]\n",
      "\n",
      "Principal component  12\n",
      "[(26, '3SsnPorch', -0.43), (6, 'BsmtFinSF2', -0.4), (29, 'MiscVal', 0.35), (23, 'WoodDeckSF', 0.33), (21, 'GarageCars', -0.29), (22, 'GarageArea', -0.29), (14, 'BsmtHalfBath', -0.24), (4, 'OverallCond', 0.24), (31, 'Antiquity', -0.16), (7, 'BsmtUnfSF', 0.15), (28, 'PoolArea', 0.15), (11, 'LowQualFinSF', -0.1), (27, 'ScreenPorch', -0.09), (18, 'KitchenAbvGr', -0.09), (1, 'MSSubClass', -0.08), (20, 'Fireplaces', 0.08), (30, 'MoSold', 0.08), (24, 'OpenPorchSF', 0.07), (25, 'EnclosedPorch', -0.07), (8, 'TotalBsmtSF', 0.06), (16, 'HalfBath', -0.05), (5, 'BsmtFinSF1', 0.04), (3, 'OverallQual', 0.04), (9, '1stFlrSF', 0.03), (10, '2ndFlrSF', -0.02), (17, 'BedroomAbvGr', -0.02), (12, 'GrLivArea', -0.01), (2, 'LotArea', 0.0), (19, 'TotRmsAbvGrd', 0.0), (13, 'BsmtFullBath', 0.0), (15, 'FullBath', -0.0)]\n",
      "\n",
      "Principal component  13\n",
      "[(30, 'MoSold', -0.43), (4, 'OverallCond', -0.39), (26, '3SsnPorch', 0.34), (28, 'PoolArea', 0.32), (25, 'EnclosedPorch', -0.29), (29, 'MiscVal', 0.21), (22, 'GarageArea', -0.2), (2, 'LotArea', 0.2), (21, 'GarageCars', -0.18), (14, 'BsmtHalfBath', 0.18), (23, 'WoodDeckSF', 0.16), (27, 'ScreenPorch', -0.15), (13, 'BsmtFullBath', -0.14), (1, 'MSSubClass', 0.11), (16, 'HalfBath', 0.11), (17, 'BedroomAbvGr', -0.11), (7, 'BsmtUnfSF', 0.1), (24, 'OpenPorchSF', 0.1), (15, 'FullBath', 0.1), (19, 'TotRmsAbvGrd', -0.09), (11, 'LowQualFinSF', -0.08), (6, 'BsmtFinSF2', 0.07), (18, 'KitchenAbvGr', -0.07), (5, 'BsmtFinSF1', -0.07), (8, 'TotalBsmtSF', 0.05), (20, 'Fireplaces', 0.05), (3, 'OverallQual', -0.04), (9, '1stFlrSF', -0.02), (12, 'GrLivArea', -0.01), (10, '2ndFlrSF', 0.01), (31, 'Antiquity', 0.0)]\n",
      "\n",
      "Principal component  14\n",
      "[(30, 'MoSold', 0.51), (6, 'BsmtFinSF2', 0.41), (14, 'BsmtHalfBath', -0.31), (27, 'ScreenPorch', -0.27), (25, 'EnclosedPorch', 0.27), (24, 'OpenPorchSF', 0.26), (4, 'OverallCond', -0.23), (5, 'BsmtFinSF1', -0.2), (2, 'LotArea', 0.18), (23, 'WoodDeckSF', 0.17), (11, 'LowQualFinSF', 0.16), (17, 'BedroomAbvGr', -0.14), (29, 'MiscVal', 0.12), (26, '3SsnPorch', 0.11), (13, 'BsmtFullBath', 0.09), (18, 'KitchenAbvGr', -0.09), (22, 'GarageArea', -0.08), (21, 'GarageCars', -0.07), (16, 'HalfBath', 0.07), (7, 'BsmtUnfSF', 0.06), (19, 'TotRmsAbvGrd', -0.06), (28, 'PoolArea', -0.04), (31, 'Antiquity', -0.04), (15, 'FullBath', -0.04), (9, '1stFlrSF', -0.03), (20, 'Fireplaces', -0.02), (10, '2ndFlrSF', 0.02), (1, 'MSSubClass', 0.02), (12, 'GrLivArea', 0.01), (8, 'TotalBsmtSF', -0.01), (3, 'OverallQual', 0.0)]\n",
      "\n",
      "Principal component  15\n",
      "[(24, 'OpenPorchSF', -0.53), (20, 'Fireplaces', 0.48), (1, 'MSSubClass', 0.35), (11, 'LowQualFinSF', 0.27), (17, 'BedroomAbvGr', -0.23), (23, 'WoodDeckSF', 0.22), (27, 'ScreenPorch', 0.21), (6, 'BsmtFinSF2', -0.14), (30, 'MoSold', 0.13), (31, 'Antiquity', 0.12), (3, 'OverallQual', 0.12), (2, 'LotArea', 0.11), (4, 'OverallCond', -0.11), (29, 'MiscVal', -0.11), (28, 'PoolArea', -0.09), (7, 'BsmtUnfSF', 0.09), (13, 'BsmtFullBath', -0.08), (19, 'TotRmsAbvGrd', -0.08), (5, 'BsmtFinSF1', -0.08), (22, 'GarageArea', -0.06), (18, 'KitchenAbvGr', -0.05), (15, 'FullBath', -0.05), (26, '3SsnPorch', 0.04), (14, 'BsmtHalfBath', -0.04), (8, 'TotalBsmtSF', -0.04), (12, 'GrLivArea', 0.03), (16, 'HalfBath', -0.03), (9, '1stFlrSF', 0.03), (25, 'EnclosedPorch', 0.01), (10, '2ndFlrSF', -0.01), (21, 'GarageCars', 0.0)]\n",
      "\n",
      "Principal component  16\n",
      "[(11, 'LowQualFinSF', 0.5), (29, 'MiscVal', 0.4), (1, 'MSSubClass', -0.29), (20, 'Fireplaces', -0.26), (4, 'OverallCond', -0.25), (22, 'GarageArea', 0.25), (21, 'GarageCars', 0.22), (25, 'EnclosedPorch', -0.22), (23, 'WoodDeckSF', 0.19), (24, 'OpenPorchSF', -0.19), (18, 'KitchenAbvGr', -0.14), (6, 'BsmtFinSF2', -0.14), (3, 'OverallQual', -0.13), (17, 'BedroomAbvGr', 0.11), (9, '1stFlrSF', -0.11), (14, 'BsmtHalfBath', 0.1), (30, 'MoSold', 0.1), (8, 'TotalBsmtSF', -0.09), (7, 'BsmtUnfSF', -0.08), (26, '3SsnPorch', -0.07), (15, 'FullBath', -0.06), (12, 'GrLivArea', -0.05), (2, 'LotArea', -0.05), (16, 'HalfBath', 0.04), (31, 'Antiquity', 0.04), (5, 'BsmtFinSF1', 0.04), (27, 'ScreenPorch', 0.03), (19, 'TotRmsAbvGrd', 0.02), (10, '2ndFlrSF', -0.02), (13, 'BsmtFullBath', -0.01), (28, 'PoolArea', -0.0)]\n",
      "\n",
      "Principal component  17\n",
      "[(28, 'PoolArea', 0.46), (2, 'LotArea', -0.43), (23, 'WoodDeckSF', 0.33), (14, 'BsmtHalfBath', -0.29), (24, 'OpenPorchSF', -0.29), (6, 'BsmtFinSF2', 0.24), (11, 'LowQualFinSF', -0.23), (29, 'MiscVal', -0.2), (27, 'ScreenPorch', 0.19), (26, '3SsnPorch', 0.18), (25, 'EnclosedPorch', -0.15), (20, 'Fireplaces', -0.13), (30, 'MoSold', 0.13), (1, 'MSSubClass', -0.13), (17, 'BedroomAbvGr', 0.12), (5, 'BsmtFinSF1', -0.08), (31, 'Antiquity', 0.05), (3, 'OverallQual', -0.04), (19, 'TotRmsAbvGrd', 0.04), (10, '2ndFlrSF', 0.03), (4, 'OverallCond', 0.03), (9, '1stFlrSF', 0.02), (12, 'GrLivArea', 0.02), (13, 'BsmtFullBath', 0.02), (7, 'BsmtUnfSF', -0.02), (18, 'KitchenAbvGr', -0.02), (8, 'TotalBsmtSF', -0.02), (15, 'FullBath', 0.01), (21, 'GarageCars', -0.0), (22, 'GarageArea', -0.0), (16, 'HalfBath', 0.0)]\n",
      "\n",
      "Principal component  18\n",
      "[(2, 'LotArea', 0.64), (28, 'PoolArea', 0.36), (14, 'BsmtHalfBath', -0.23), (22, 'GarageArea', 0.23), (29, 'MiscVal', -0.21), (21, 'GarageCars', 0.2), (4, 'OverallCond', 0.18), (25, 'EnclosedPorch', -0.18), (8, 'TotalBsmtSF', -0.18), (16, 'HalfBath', -0.16), (3, 'OverallQual', -0.16), (6, 'BsmtFinSF2', -0.14), (20, 'Fireplaces', -0.14), (5, 'BsmtFinSF1', -0.12), (9, '1stFlrSF', -0.12), (19, 'TotRmsAbvGrd', -0.1), (18, 'KitchenAbvGr', 0.08), (30, 'MoSold', 0.08), (13, 'BsmtFullBath', -0.08), (27, 'ScreenPorch', 0.07), (24, 'OpenPorchSF', 0.07), (17, 'BedroomAbvGr', -0.06), (12, 'GrLivArea', -0.06), (15, 'FullBath', 0.06), (26, '3SsnPorch', -0.06), (1, 'MSSubClass', 0.05), (23, 'WoodDeckSF', -0.04), (10, '2ndFlrSF', 0.04), (31, 'Antiquity', 0.03), (11, 'LowQualFinSF', -0.03), (7, 'BsmtUnfSF', -0.01)]\n",
      "\n",
      "Principal component  19\n",
      "[(23, 'WoodDeckSF', -0.55), (24, 'OpenPorchSF', -0.45), (31, 'Antiquity', -0.3), (18, 'KitchenAbvGr', -0.23), (15, 'FullBath', 0.22), (6, 'BsmtFinSF2', 0.21), (22, 'GarageArea', -0.19), (25, 'EnclosedPorch', -0.18), (26, '3SsnPorch', -0.17), (2, 'LotArea', 0.16), (3, 'OverallQual', 0.16), (30, 'MoSold', 0.13), (21, 'GarageCars', -0.13), (4, 'OverallCond', -0.12), (17, 'BedroomAbvGr', 0.12), (28, 'PoolArea', 0.1), (29, 'MiscVal', 0.08), (27, 'ScreenPorch', -0.07), (1, 'MSSubClass', -0.07), (14, 'BsmtHalfBath', -0.07), (13, 'BsmtFullBath', 0.05), (7, 'BsmtUnfSF', -0.05), (20, 'Fireplaces', -0.04), (19, 'TotRmsAbvGrd', 0.04), (11, 'LowQualFinSF', -0.03), (10, '2ndFlrSF', 0.03), (8, 'TotalBsmtSF', 0.03), (16, 'HalfBath', -0.02), (9, '1stFlrSF', -0.02), (5, 'BsmtFinSF1', 0.01), (12, 'GrLivArea', 0.01)]\n",
      "\n",
      "Principal component  20\n",
      "[(27, 'ScreenPorch', -0.47), (15, 'FullBath', -0.39), (25, 'EnclosedPorch', -0.35), (16, 'HalfBath', 0.32), (4, 'OverallCond', 0.26), (23, 'WoodDeckSF', -0.22), (20, 'Fireplaces', 0.2), (31, 'Antiquity', 0.19), (18, 'KitchenAbvGr', 0.17), (28, 'PoolArea', 0.16), (13, 'BsmtFullBath', -0.13), (6, 'BsmtFinSF2', 0.13), (22, 'GarageArea', 0.13), (2, 'LotArea', -0.12), (17, 'BedroomAbvGr', -0.12), (8, 'TotalBsmtSF', 0.11), (11, 'LowQualFinSF', 0.11), (9, '1stFlrSF', 0.1), (26, '3SsnPorch', -0.1), (21, 'GarageCars', 0.08), (7, 'BsmtUnfSF', 0.07), (24, 'OpenPorchSF', -0.06), (14, 'BsmtHalfBath', -0.06), (30, 'MoSold', 0.05), (12, 'GrLivArea', 0.05), (10, '2ndFlrSF', -0.04), (29, 'MiscVal', 0.03), (19, 'TotRmsAbvGrd', 0.03), (1, 'MSSubClass', 0.03), (5, 'BsmtFinSF1', -0.01), (3, 'OverallQual', 0.0)]\n",
      "\n",
      "Principal component  21\n",
      "[(20, 'Fireplaces', -0.52), (16, 'HalfBath', 0.47), (15, 'FullBath', -0.3), (8, 'TotalBsmtSF', 0.29), (7, 'BsmtUnfSF', 0.26), (27, 'ScreenPorch', 0.23), (2, 'LotArea', 0.23), (24, 'OpenPorchSF', -0.21), (25, 'EnclosedPorch', 0.14), (1, 'MSSubClass', 0.14), (31, 'Antiquity', -0.13), (14, 'BsmtHalfBath', 0.12), (18, 'KitchenAbvGr', 0.1), (21, 'GarageCars', -0.09), (23, 'WoodDeckSF', 0.06), (22, 'GarageArea', -0.06), (13, 'BsmtFullBath', 0.06), (4, 'OverallCond', 0.05), (9, '1stFlrSF', 0.05), (6, 'BsmtFinSF2', -0.05), (29, 'MiscVal', -0.05), (5, 'BsmtFinSF1', 0.04), (11, 'LowQualFinSF', -0.04), (30, 'MoSold', 0.04), (12, 'GrLivArea', 0.03), (3, 'OverallQual', 0.03), (26, '3SsnPorch', 0.03), (28, 'PoolArea', -0.03), (17, 'BedroomAbvGr', -0.03), (19, 'TotRmsAbvGrd', -0.02), (10, '2ndFlrSF', -0.01)]\n",
      "\n",
      "Principal component  22\n",
      "[(31, 'Antiquity', -0.49), (18, 'KitchenAbvGr', 0.47), (1, 'MSSubClass', -0.4), (16, 'HalfBath', 0.28), (20, 'Fireplaces', 0.26), (3, 'OverallQual', -0.21), (17, 'BedroomAbvGr', -0.17), (8, 'TotalBsmtSF', -0.16), (25, 'EnclosedPorch', 0.14), (4, 'OverallCond', -0.13), (29, 'MiscVal', -0.13), (7, 'BsmtUnfSF', -0.12), (10, '2ndFlrSF', -0.1), (28, 'PoolArea', 0.09), (13, 'BsmtFullBath', -0.08), (11, 'LowQualFinSF', 0.08), (27, 'ScreenPorch', 0.06), (22, 'GarageArea', -0.06), (12, 'GrLivArea', -0.05), (15, 'FullBath', 0.05), (24, 'OpenPorchSF', -0.04), (6, 'BsmtFinSF2', -0.03), (9, '1stFlrSF', 0.03), (14, 'BsmtHalfBath', 0.03), (26, '3SsnPorch', -0.03), (19, 'TotRmsAbvGrd', -0.02), (5, 'BsmtFinSF1', -0.02), (21, 'GarageCars', -0.02), (30, 'MoSold', -0.01), (23, 'WoodDeckSF', 0.01), (2, 'LotArea', 0.0)]\n",
      "\n",
      "Principal component  23\n",
      "[(13, 'BsmtFullBath', -0.53), (17, 'BedroomAbvGr', -0.42), (15, 'FullBath', 0.29), (5, 'BsmtFinSF1', 0.27), (20, 'Fireplaces', -0.26), (7, 'BsmtUnfSF', -0.25), (12, 'GrLivArea', 0.24), (31, 'Antiquity', 0.21), (9, '1stFlrSF', 0.19), (14, 'BsmtHalfBath', -0.17), (28, 'PoolArea', -0.15), (1, 'MSSubClass', -0.13), (21, 'GarageCars', -0.13), (10, '2ndFlrSF', 0.11), (6, 'BsmtFinSF2', 0.07), (4, 'OverallCond', 0.06), (8, 'TotalBsmtSF', 0.05), (16, 'HalfBath', 0.05), (22, 'GarageArea', -0.04), (24, 'OpenPorchSF', -0.04), (11, 'LowQualFinSF', 0.04), (26, '3SsnPorch', -0.04), (27, 'ScreenPorch', 0.03), (23, 'WoodDeckSF', 0.02), (19, 'TotRmsAbvGrd', -0.02), (29, 'MiscVal', -0.01), (3, 'OverallQual', 0.01), (2, 'LotArea', 0.01), (18, 'KitchenAbvGr', -0.01), (25, 'EnclosedPorch', 0.01), (30, 'MoSold', -0.0)]\n",
      "\n",
      "Principal component  24\n",
      "[(3, 'OverallQual', 0.6), (1, 'MSSubClass', -0.34), (18, 'KitchenAbvGr', 0.31), (17, 'BedroomAbvGr', -0.31), (13, 'BsmtFullBath', 0.25), (10, '2ndFlrSF', 0.23), (9, '1stFlrSF', -0.21), (31, 'Antiquity', 0.19), (16, 'HalfBath', -0.17), (14, 'BsmtHalfBath', 0.13), (5, 'BsmtFinSF1', -0.13), (15, 'FullBath', -0.11), (20, 'Fireplaces', -0.1), (8, 'TotalBsmtSF', -0.1), (19, 'TotRmsAbvGrd', 0.1), (21, 'GarageCars', -0.09), (25, 'EnclosedPorch', -0.09), (22, 'GarageArea', -0.06), (2, 'LotArea', 0.05), (4, 'OverallCond', -0.05), (28, 'PoolArea', 0.04), (7, 'BsmtUnfSF', 0.04), (12, 'GrLivArea', 0.03), (27, 'ScreenPorch', 0.02), (6, 'BsmtFinSF2', -0.02), (23, 'WoodDeckSF', 0.02), (24, 'OpenPorchSF', -0.01), (30, 'MoSold', -0.01), (29, 'MiscVal', -0.01), (26, '3SsnPorch', 0.0), (11, 'LowQualFinSF', 0.0)]\n",
      "\n",
      "Principal component  25\n",
      "[(15, 'FullBath', 0.6), (19, 'TotRmsAbvGrd', -0.37), (16, 'HalfBath', 0.35), (31, 'Antiquity', 0.34), (4, 'OverallCond', 0.21), (13, 'BsmtFullBath', 0.21), (12, 'GrLivArea', -0.2), (9, '1stFlrSF', -0.15), (7, 'BsmtUnfSF', 0.15), (8, 'TotalBsmtSF', 0.14), (11, 'LowQualFinSF', 0.13), (10, '2ndFlrSF', -0.11), (1, 'MSSubClass', -0.11), (17, 'BedroomAbvGr', 0.1), (18, 'KitchenAbvGr', 0.09), (20, 'Fireplaces', 0.05), (25, 'EnclosedPorch', 0.05), (14, 'BsmtHalfBath', 0.05), (3, 'OverallQual', 0.05), (27, 'ScreenPorch', -0.05), (22, 'GarageArea', -0.04), (28, 'PoolArea', 0.03), (24, 'OpenPorchSF', -0.03), (21, 'GarageCars', 0.03), (30, 'MoSold', 0.02), (2, 'LotArea', -0.02), (29, 'MiscVal', -0.01), (26, '3SsnPorch', -0.01), (5, 'BsmtFinSF1', -0.01), (6, 'BsmtFinSF2', 0.01), (23, 'WoodDeckSF', 0.0)]\n",
      "\n",
      "Principal component  26\n",
      "[(3, 'OverallQual', -0.55), (17, 'BedroomAbvGr', -0.4), (13, 'BsmtFullBath', 0.38), (10, '2ndFlrSF', 0.33), (12, 'GrLivArea', 0.3), (7, 'BsmtUnfSF', 0.24), (5, 'BsmtFinSF1', -0.16), (14, 'BsmtHalfBath', 0.15), (15, 'FullBath', 0.13), (18, 'KitchenAbvGr', -0.11), (2, 'LotArea', -0.1), (23, 'WoodDeckSF', -0.09), (16, 'HalfBath', -0.08), (25, 'EnclosedPorch', -0.07), (24, 'OpenPorchSF', -0.07), (8, 'TotalBsmtSF', 0.07), (1, 'MSSubClass', -0.07), (19, 'TotRmsAbvGrd', 0.06), (22, 'GarageArea', 0.05), (4, 'OverallCond', 0.05), (9, '1stFlrSF', 0.05), (11, 'LowQualFinSF', -0.04), (21, 'GarageCars', -0.04), (28, 'PoolArea', -0.04), (26, '3SsnPorch', -0.04), (6, 'BsmtFinSF2', -0.03), (30, 'MoSold', 0.02), (27, 'ScreenPorch', -0.01), (31, 'Antiquity', 0.01), (29, 'MiscVal', -0.0), (20, 'Fireplaces', 0.0)]\n",
      "\n",
      "Principal component  27\n",
      "[(9, '1stFlrSF', 0.47), (8, 'TotalBsmtSF', -0.45), (10, '2ndFlrSF', -0.39), (19, 'TotRmsAbvGrd', 0.3), (5, 'BsmtFinSF1', -0.29), (16, 'HalfBath', 0.23), (13, 'BsmtFullBath', 0.2), (18, 'KitchenAbvGr', -0.15), (31, 'Antiquity', 0.15), (20, 'Fireplaces', -0.14), (17, 'BedroomAbvGr', -0.14), (15, 'FullBath', 0.12), (7, 'BsmtUnfSF', -0.12), (6, 'BsmtFinSF2', -0.12), (3, 'OverallQual', 0.1), (22, 'GarageArea', -0.08), (14, 'BsmtHalfBath', 0.08), (1, 'MSSubClass', 0.06), (28, 'PoolArea', 0.06), (21, 'GarageCars', 0.04), (4, 'OverallCond', 0.03), (11, 'LowQualFinSF', -0.03), (23, 'WoodDeckSF', -0.03), (24, 'OpenPorchSF', 0.02), (26, '3SsnPorch', -0.02), (12, 'GrLivArea', 0.02), (2, 'LotArea', 0.02), (29, 'MiscVal', 0.02), (25, 'EnclosedPorch', 0.01), (30, 'MoSold', -0.01), (27, 'ScreenPorch', -0.0)]\n",
      "\n",
      "Principal component  28\n",
      "[(19, 'TotRmsAbvGrd', 0.67), (12, 'GrLivArea', -0.37), (9, '1stFlrSF', -0.35), (17, 'BedroomAbvGr', -0.25), (21, 'GarageCars', 0.23), (8, 'TotalBsmtSF', 0.22), (22, 'GarageArea', -0.2), (5, 'BsmtFinSF1', 0.15), (10, '2ndFlrSF', -0.13), (3, 'OverallQual', -0.11), (15, 'FullBath', 0.11), (18, 'KitchenAbvGr', -0.07), (7, 'BsmtUnfSF', 0.06), (13, 'BsmtFullBath', -0.06), (28, 'PoolArea', 0.05), (31, 'Antiquity', 0.05), (25, 'EnclosedPorch', 0.04), (4, 'OverallCond', 0.04), (29, 'MiscVal', -0.04), (6, 'BsmtFinSF2', 0.03), (16, 'HalfBath', 0.03), (30, 'MoSold', 0.03), (20, 'Fireplaces', 0.03), (1, 'MSSubClass', 0.02), (26, '3SsnPorch', 0.02), (2, 'LotArea', 0.02), (14, 'BsmtHalfBath', -0.02), (11, 'LowQualFinSF', 0.01), (23, 'WoodDeckSF', 0.01), (24, 'OpenPorchSF', 0.01), (27, 'ScreenPorch', 0.01)]\n",
      "\n",
      "Principal component  29\n",
      "[(21, 'GarageCars', -0.67), (22, 'GarageArea', 0.66), (19, 'TotRmsAbvGrd', 0.22), (12, 'GrLivArea', -0.17), (10, '2ndFlrSF', -0.11), (9, '1stFlrSF', -0.1), (15, 'FullBath', 0.09), (16, 'HalfBath', 0.06), (20, 'Fireplaces', 0.05), (1, 'MSSubClass', 0.05), (17, 'BedroomAbvGr', -0.04), (18, 'KitchenAbvGr', -0.04), (29, 'MiscVal', -0.02), (24, 'OpenPorchSF', -0.02), (3, 'OverallQual', 0.02), (30, 'MoSold', 0.02), (7, 'BsmtUnfSF', 0.01), (31, 'Antiquity', -0.01), (11, 'LowQualFinSF', -0.01), (5, 'BsmtFinSF1', -0.01), (4, 'OverallCond', -0.01), (27, 'ScreenPorch', 0.01), (23, 'WoodDeckSF', 0.01), (25, 'EnclosedPorch', 0.01), (13, 'BsmtFullBath', -0.01), (2, 'LotArea', 0.01), (26, '3SsnPorch', 0.01), (6, 'BsmtFinSF2', 0.01), (8, 'TotalBsmtSF', 0.01), (14, 'BsmtHalfBath', 0.0), (28, 'PoolArea', -0.0)]\n",
      "\n",
      "Principal component  30\n",
      "[(12, 'GrLivArea', -0.64), (10, '2ndFlrSF', 0.54), (9, '1stFlrSF', 0.47), (5, 'BsmtFinSF1', 0.15), (8, 'TotalBsmtSF', -0.15), (7, 'BsmtUnfSF', 0.15), (11, 'LowQualFinSF', 0.06), (6, 'BsmtFinSF2', 0.05), (4, 'OverallCond', -0.0), (22, 'GarageArea', -0.0), (21, 'GarageCars', 0.0), (29, 'MiscVal', -0.0), (19, 'TotRmsAbvGrd', 0.0), (31, 'Antiquity', -0.0), (2, 'LotArea', 0.0), (27, 'ScreenPorch', 0.0), (25, 'EnclosedPorch', 0.0), (1, 'MSSubClass', -0.0), (3, 'OverallQual', 0.0), (28, 'PoolArea', 0.0), (16, 'HalfBath', 0.0), (18, 'KitchenAbvGr', 0.0), (13, 'BsmtFullBath', -0.0), (15, 'FullBath', -0.0), (14, 'BsmtHalfBath', 0.0), (30, 'MoSold', -0.0), (23, 'WoodDeckSF', 0.0), (20, 'Fireplaces', 0.0), (26, '3SsnPorch', -0.0), (24, 'OpenPorchSF', -0.0), (17, 'BedroomAbvGr', 0.0)]\n",
      "\n",
      "Principal component  31\n",
      "[(5, 'BsmtFinSF1', 0.56), (8, 'TotalBsmtSF', -0.54), (7, 'BsmtUnfSF', 0.54), (6, 'BsmtFinSF2', 0.18), (12, 'GrLivArea', 0.18), (10, '2ndFlrSF', -0.15), (9, '1stFlrSF', -0.13), (11, 'LowQualFinSF', -0.02), (3, 'OverallQual', 0.0), (29, 'MiscVal', -0.0), (30, 'MoSold', -0.0), (21, 'GarageCars', 0.0), (14, 'BsmtHalfBath', 0.0), (27, 'ScreenPorch', 0.0), (15, 'FullBath', -0.0), (4, 'OverallCond', -0.0), (13, 'BsmtFullBath', -0.0), (23, 'WoodDeckSF', -0.0), (20, 'Fireplaces', -0.0), (17, 'BedroomAbvGr', 0.0), (18, 'KitchenAbvGr', 0.0), (2, 'LotArea', 0.0), (26, '3SsnPorch', 0.0), (22, 'GarageArea', -0.0), (16, 'HalfBath', -0.0), (31, 'Antiquity', -0.0), (19, 'TotRmsAbvGrd', 0.0), (24, 'OpenPorchSF', -0.0), (25, 'EnclosedPorch', 0.0), (28, 'PoolArea', -0.0), (1, 'MSSubClass', 0.0)]\n",
      "\n"
     ]
    }
   ],
   "source": [
    "for comp in range(1,len(pca.components_)+1):\n",
    "    print(\"Principal component \",comp)\n",
    "    my_list = [(abs(value),index+1,X.columns[index],value) for index,value in enumerate(pca.components_[comp-1,:]) ]\n",
    "    my_list.sort(reverse=True)\n",
    "    my_list = [(elem[1],elem[2],round(elem[3],2)) for elem in my_list]\n",
    "    print(my_list)\n",
    "    print()"
   ]
  },
  {
   "cell_type": "markdown",
   "metadata": {
    "id": "YZNYgOWGqqIH"
   },
   "source": [
    "# Generating a regression model with the pca"
   ]
  },
  {
   "cell_type": "code",
   "execution_count": 19,
   "metadata": {
    "executionInfo": {
     "elapsed": 213,
     "status": "ok",
     "timestamp": 1626424748835,
     "user": {
      "displayName": "Ignacio Soteras",
      "photoUrl": "",
      "userId": "02050793736257155229"
     },
     "user_tz": -120
    },
    "id": "S06GdLaUrgp-"
   },
   "outputs": [],
   "source": [
    "from matplotlib.ticker import FuncFormatter\n",
    "import matplotlib.ticker as ticker\n",
    "\n",
    "def show_errors(y_real_train, y_pred_train, y_real_test, y_pred_test):\n",
    "\n",
    "    plt.style.use('seaborn') \n",
    "\n",
    "    fig, ax = plt.subplots(2,2,figsize=(10,10))\n",
    "    \n",
    "    ax[0,0].scatter(x = np.exp(y_real_train), y = np.exp(y_pred_train), c = 'green')\n",
    "    ax[0,0].plot([0,700000], [0,700000], linestyle = '--',c = 'black')\n",
    "    ax[0,0].set_xlim(0,700000)\n",
    "    ax[0,0].set_ylim(0,700000)\n",
    "\n",
    "    ax[0,0].xaxis.set_major_formatter(FuncFormatter(lambda x, p: f'{int(x/1000)}K'))\n",
    "    ax[0,0].yaxis.set_major_formatter(FuncFormatter(lambda x, p: f'{int(x/1000)}K'))\n",
    "    ax[0,0].set_title('Train set')\n",
    "\n",
    "    ax[0,1].hist(x = np.exp(y_real_train)-np.exp(y_pred_train), bins = 50,color = 'green')\n",
    "    ax[0,1].set_xlim(-200000,200000)\n",
    "    ax[0,1].xaxis.set_major_formatter(FuncFormatter(lambda x, p: f'{int(x/1000)}K'))\n",
    "    ax[0,1].set_title('Train set')\n",
    "\n",
    "    ax[1,0].scatter(x = np.exp(y_real_test), y = np.exp(y_pred_test), c = 'blue')\n",
    "    ax[1,0].plot([0,700000], [0,700000], linestyle = '--',c = 'black')\n",
    "    ax[1,0].set_xlim(0,700000)\n",
    "    ax[1,0].set_ylim(0,700000)\n",
    "    ax[1,0].xaxis.set_major_formatter(FuncFormatter(lambda x, p: f'{int(x/1000)}K'))\n",
    "    ax[1,0].yaxis.set_major_formatter(FuncFormatter(lambda x, p: f'{int(x/1000)}K'))\n",
    "    ax[1,0].set_title('Test set')   \n",
    "\n",
    "    ax[1,1].hist(x = np.exp(y_real_test)-np.exp(y_pred_test), bins = 50,color = 'blue')\n",
    "    ax[1,1].set_xlim(-200000,200000)\n",
    "    ax[1,1].xaxis.set_major_formatter(FuncFormatter(lambda x, p: f'{int(x/1000)}K'))\n",
    "    ax[1,1].set_title('Test set')\n",
    "\n",
    "    fig.tight_layout()\n",
    "    pass"
   ]
  },
  {
   "cell_type": "code",
   "execution_count": 20,
   "metadata": {
    "colab": {
     "base_uri": "https://localhost:8080/",
     "height": 729
    },
    "executionInfo": {
     "elapsed": 2317,
     "status": "ok",
     "timestamp": 1626424783724,
     "user": {
      "displayName": "Ignacio Soteras",
      "photoUrl": "",
      "userId": "02050793736257155229"
     },
     "user_tz": -120
    },
    "id": "YUVB7MDU10lO",
    "outputId": "9d237145-cd93-4e9d-d989-c245c5f33182"
   },
   "outputs": [
    {
     "data": {
      "image/png": "[encoded data removed]",
      "text/plain": [
       "<Figure size 720x720 with 4 Axes>"
      ]
     },
     "metadata": {},
     "output_type": "display_data"
    }
   ],
   "source": [
    "from sklearn.linear_model import LinearRegression\n",
    "\n",
    "lm = LinearRegression()\n",
    "\n",
    "lm.fit(X_train,y_train)\n",
    "\n",
    "y_pred_train = lm.predict(X_train)\n",
    "y_pred_test  = lm.predict(X_test)\n",
    "\n",
    "show_errors(y_train, y_pred_train, y_test, y_pred_test)"
   ]
  },
  {
   "cell_type": "code",
   "execution_count": 22,
   "metadata": {
    "colab": {
     "base_uri": "https://localhost:8080/",
     "height": 327
    },
    "executionInfo": {
     "elapsed": 208,
     "status": "error",
     "timestamp": 1626424870528,
     "user": {
      "displayName": "Ignacio Soteras",
      "photoUrl": "",
      "userId": "02050793736257155229"
     },
     "user_tz": -120
    },
    "id": "p1H__uSXsxux",
    "outputId": "b9e91fb0-1d4d-4404-f30e-18183664aa7a"
   },
   "outputs": [],
   "source": [
    "#sns.pairplot(6)"
   ]
  },
  {
   "cell_type": "markdown",
   "metadata": {
    "id": "QCkPBoJ_sHz_"
   },
   "source": [
    "# Doing the same preprocessing"
   ]
  },
  {
   "cell_type": "code",
   "execution_count": 23,
   "metadata": {
    "executionInfo": {
     "elapsed": 202,
     "status": "ok",
     "timestamp": 1626424876230,
     "user": {
      "displayName": "Ignacio Soteras",
      "photoUrl": "",
      "userId": "02050793736257155229"
     },
     "user_tz": -120
    },
    "id": "02Uucq4FsKIy"
   },
   "outputs": [],
   "source": [
    "def preprocessing(df):\n",
    "    '''\n",
    "    Function to trasnform an input dataframe.\n",
    "    It will add another column named \"Antiquity\"\n",
    "    Drop all the Year related columns\n",
    "    Drop any column not in\n",
    "    cols_to_keep = ['Id',\n",
    "   'OverallQual',\n",
    "   'TotalBsmtSF',\n",
    "   'GrLivArea',\n",
    "   'FullBath',\n",
    "   'KitchenQual',\n",
    "   'GarageCars',\n",
    "   'Antiquity',\n",
    "   'SalePrice']\n",
    "    Replace values of variable KitchenQual to\n",
    "    {'Fa': 1, 'TA': 1.61, 'Gd': 1.61, 'Ex': 3.14}\n",
    "    Drop any row with 'LotArea' < 25000   \n",
    "    Input: \n",
    "    df = Pandas DataFrame object\n",
    "    Output:\n",
    "    Transformed DataFrame\n",
    "    '''\n",
    "    df2 = df.copy()\n",
    "\n",
    "    # Computing Antiquity\n",
    "    df2['Antiquity'] = df2['YrSold'] - df2['YearRemodAdd']\n",
    "    year_cols = ['YearBuilt', 'YearRemodAdd', 'YrSold']\n",
    "    df2.drop(columns = year_cols, axis = 1, inplace = True)\n",
    "\n",
    "    # Filtering by LotArea\n",
    "    df2 = df2[df2['LotArea'] < 25000 ]\n",
    "\n",
    "    # Droping unwanted columns\n",
    "    cols_to_keep = ['Id',\n",
    "   'OverallQual',\n",
    "   'TotalBsmtSF',\n",
    "   'GrLivArea',\n",
    "   'FullBath',\n",
    "   'KitchenQual',\n",
    "   'GarageCars',\n",
    "   'Antiquity',\n",
    "   'SalePrice']\n",
    "    df2 = df2[cols_to_keep]\n",
    "\n",
    "    # Replacing KitchenQual values by numerical ones.\n",
    "    df2['KitchenQual'] = df2['KitchenQual'].replace({'Fa': 1, 'TA': 1.61, 'Gd': 1.61, 'Ex': 3.14})\n",
    "\n",
    "    return df2"
   ]
  },
  {
   "cell_type": "code",
   "execution_count": 26,
   "metadata": {
    "colab": {
     "base_uri": "https://localhost:8080/",
     "height": 205
    },
    "executionInfo": {
     "elapsed": 203,
     "status": "ok",
     "timestamp": 1626424884060,
     "user": {
      "displayName": "Ignacio Soteras",
      "photoUrl": "",
      "userId": "02050793736257155229"
     },
     "user_tz": -120
    },
    "id": "W7Lf9dJusOb3",
    "outputId": "fcd3ca97-beb0-4d87-f3ac-9e04924b75b7"
   },
   "outputs": [
    {
     "data": {
      "text/html": [
       "<div>\n",
       "<style scoped>\n",
       "    .dataframe tbody tr th:only-of-type {\n",
       "        vertical-align: middle;\n",
       "    }\n",
       "\n",
       "    .dataframe tbody tr th {\n",
       "        vertical-align: top;\n",
       "    }\n",
       "\n",
       "    .dataframe thead th {\n",
       "        text-align: right;\n",
       "    }\n",
       "</style>\n",
       "<table border=\"1\" class=\"dataframe\">\n",
       "  <thead>\n",
       "    <tr style=\"text-align: right;\">\n",
       "      <th></th>\n",
       "      <th>Id</th>\n",
       "      <th>OverallQual</th>\n",
       "      <th>TotalBsmtSF</th>\n",
       "      <th>GrLivArea</th>\n",
       "      <th>FullBath</th>\n",
       "      <th>KitchenQual</th>\n",
       "      <th>GarageCars</th>\n",
       "      <th>Antiquity</th>\n",
       "      <th>SalePrice</th>\n",
       "    </tr>\n",
       "  </thead>\n",
       "  <tbody>\n",
       "    <tr>\n",
       "      <th>0</th>\n",
       "      <td>1</td>\n",
       "      <td>7</td>\n",
       "      <td>856</td>\n",
       "      <td>1710</td>\n",
       "      <td>2</td>\n",
       "      <td>1.61</td>\n",
       "      <td>2</td>\n",
       "      <td>5</td>\n",
       "      <td>208500</td>\n",
       "    </tr>\n",
       "    <tr>\n",
       "      <th>1</th>\n",
       "      <td>2</td>\n",
       "      <td>6</td>\n",
       "      <td>1262</td>\n",
       "      <td>1262</td>\n",
       "      <td>2</td>\n",
       "      <td>1.61</td>\n",
       "      <td>2</td>\n",
       "      <td>31</td>\n",
       "      <td>181500</td>\n",
       "    </tr>\n",
       "    <tr>\n",
       "      <th>2</th>\n",
       "      <td>3</td>\n",
       "      <td>7</td>\n",
       "      <td>920</td>\n",
       "      <td>1786</td>\n",
       "      <td>2</td>\n",
       "      <td>1.61</td>\n",
       "      <td>2</td>\n",
       "      <td>6</td>\n",
       "      <td>223500</td>\n",
       "    </tr>\n",
       "    <tr>\n",
       "      <th>3</th>\n",
       "      <td>4</td>\n",
       "      <td>7</td>\n",
       "      <td>756</td>\n",
       "      <td>1717</td>\n",
       "      <td>1</td>\n",
       "      <td>1.61</td>\n",
       "      <td>3</td>\n",
       "      <td>36</td>\n",
       "      <td>140000</td>\n",
       "    </tr>\n",
       "    <tr>\n",
       "      <th>4</th>\n",
       "      <td>5</td>\n",
       "      <td>8</td>\n",
       "      <td>1145</td>\n",
       "      <td>2198</td>\n",
       "      <td>2</td>\n",
       "      <td>1.61</td>\n",
       "      <td>3</td>\n",
       "      <td>8</td>\n",
       "      <td>250000</td>\n",
       "    </tr>\n",
       "  </tbody>\n",
       "</table>\n",
       "</div>"
      ],
      "text/plain": [
       "   Id  OverallQual  TotalBsmtSF  GrLivArea  FullBath  KitchenQual  GarageCars  \\\n",
       "0   1            7          856       1710         2         1.61           2   \n",
       "1   2            6         1262       1262         2         1.61           2   \n",
       "2   3            7          920       1786         2         1.61           2   \n",
       "3   4            7          756       1717         1         1.61           3   \n",
       "4   5            8         1145       2198         2         1.61           3   \n",
       "\n",
       "   Antiquity  SalePrice  \n",
       "0          5     208500  \n",
       "1         31     181500  \n",
       "2          6     223500  \n",
       "3         36     140000  \n",
       "4          8     250000  "
      ]
     },
     "execution_count": 26,
     "metadata": {},
     "output_type": "execute_result"
    }
   ],
   "source": [
    "data2 = pd.read_csv('DATA_Housing_Prices.csv')\n",
    "\n",
    "data2 = preprocessing(data2)\n",
    "data2.head()"
   ]
  },
  {
   "cell_type": "code",
   "execution_count": 27,
   "metadata": {
    "executionInfo": {
     "elapsed": 201,
     "status": "ok",
     "timestamp": 1626424888849,
     "user": {
      "displayName": "Ignacio Soteras",
      "photoUrl": "",
      "userId": "02050793736257155229"
     },
     "user_tz": -120
    },
    "id": "xzXTtqzLsdjA"
   },
   "outputs": [],
   "source": [
    "X = data2.drop(['Id','SalePrice'], axis=1)\n",
    "y = np.log(data2['SalePrice'])"
   ]
  },
  {
   "cell_type": "code",
   "execution_count": 28,
   "metadata": {
    "colab": {
     "base_uri": "https://localhost:8080/",
     "height": 205
    },
    "executionInfo": {
     "elapsed": 210,
     "status": "ok",
     "timestamp": 1626424892875,
     "user": {
      "displayName": "Ignacio Soteras",
      "photoUrl": "",
      "userId": "02050793736257155229"
     },
     "user_tz": -120
    },
    "id": "PZ1iOCldut6O",
    "outputId": "afb9d613-b404-4904-87aa-b36904dd165c"
   },
   "outputs": [
    {
     "data": {
      "text/html": [
       "<div>\n",
       "<style scoped>\n",
       "    .dataframe tbody tr th:only-of-type {\n",
       "        vertical-align: middle;\n",
       "    }\n",
       "\n",
       "    .dataframe tbody tr th {\n",
       "        vertical-align: top;\n",
       "    }\n",
       "\n",
       "    .dataframe thead th {\n",
       "        text-align: right;\n",
       "    }\n",
       "</style>\n",
       "<table border=\"1\" class=\"dataframe\">\n",
       "  <thead>\n",
       "    <tr style=\"text-align: right;\">\n",
       "      <th></th>\n",
       "      <th>OverallQual</th>\n",
       "      <th>TotalBsmtSF</th>\n",
       "      <th>GrLivArea</th>\n",
       "      <th>FullBath</th>\n",
       "      <th>KitchenQual</th>\n",
       "      <th>GarageCars</th>\n",
       "      <th>Antiquity</th>\n",
       "    </tr>\n",
       "  </thead>\n",
       "  <tbody>\n",
       "    <tr>\n",
       "      <th>0</th>\n",
       "      <td>-0.052554</td>\n",
       "      <td>-0.546283</td>\n",
       "      <td>-1.335617</td>\n",
       "      <td>-1.026416</td>\n",
       "      <td>-1.782494</td>\n",
       "      <td>-1.025568</td>\n",
       "      <td>-0.717109</td>\n",
       "    </tr>\n",
       "    <tr>\n",
       "      <th>1</th>\n",
       "      <td>2.864209</td>\n",
       "      <td>2.495175</td>\n",
       "      <td>1.211424</td>\n",
       "      <td>0.821133</td>\n",
       "      <td>3.758118</td>\n",
       "      <td>1.681282</td>\n",
       "      <td>-1.097384</td>\n",
       "    </tr>\n",
       "    <tr>\n",
       "      <th>2</th>\n",
       "      <td>1.405827</td>\n",
       "      <td>2.273452</td>\n",
       "      <td>1.013139</td>\n",
       "      <td>0.821133</td>\n",
       "      <td>-0.203160</td>\n",
       "      <td>0.327857</td>\n",
       "      <td>-0.431902</td>\n",
       "    </tr>\n",
       "    <tr>\n",
       "      <th>3</th>\n",
       "      <td>-0.052554</td>\n",
       "      <td>-0.787286</td>\n",
       "      <td>0.132100</td>\n",
       "      <td>0.821133</td>\n",
       "      <td>-0.203160</td>\n",
       "      <td>0.327857</td>\n",
       "      <td>0.233580</td>\n",
       "    </tr>\n",
       "    <tr>\n",
       "      <th>4</th>\n",
       "      <td>1.405827</td>\n",
       "      <td>0.581611</td>\n",
       "      <td>1.959592</td>\n",
       "      <td>0.821133</td>\n",
       "      <td>-0.203160</td>\n",
       "      <td>1.681282</td>\n",
       "      <td>-0.574505</td>\n",
       "    </tr>\n",
       "  </tbody>\n",
       "</table>\n",
       "</div>"
      ],
      "text/plain": [
       "   OverallQual  TotalBsmtSF  GrLivArea  FullBath  KitchenQual  GarageCars  \\\n",
       "0    -0.052554    -0.546283  -1.335617 -1.026416    -1.782494   -1.025568   \n",
       "1     2.864209     2.495175   1.211424  0.821133     3.758118    1.681282   \n",
       "2     1.405827     2.273452   1.013139  0.821133    -0.203160    0.327857   \n",
       "3    -0.052554    -0.787286   0.132100  0.821133    -0.203160    0.327857   \n",
       "4     1.405827     0.581611   1.959592  0.821133    -0.203160    1.681282   \n",
       "\n",
       "   Antiquity  \n",
       "0  -0.717109  \n",
       "1  -1.097384  \n",
       "2  -0.431902  \n",
       "3   0.233580  \n",
       "4  -0.574505  "
      ]
     },
     "execution_count": 28,
     "metadata": {},
     "output_type": "execute_result"
    }
   ],
   "source": [
    "X_train, X_test, y_train, y_test = train_test_split(X, y, test_size=0.30, random_state=42)\n",
    "\n",
    "scaler = StandardScaler()\n",
    "\n",
    "scaler.fit(X_train)\n",
    "\n",
    "X_train = scaler.transform(X_train)\n",
    "X_test  = scaler.transform(X_test)\n",
    "\n",
    "X_train = pd.DataFrame(X_train, columns = X.columns)\n",
    "X_test  = pd.DataFrame(X_test , columns = X.columns)\n",
    "\n",
    "X_train.head()"
   ]
  },
  {
   "cell_type": "markdown",
   "metadata": {
    "id": "2-oqspOcve89"
   },
   "source": [
    "# Computing the pca"
   ]
  },
  {
   "cell_type": "code",
   "execution_count": 29,
   "metadata": {
    "executionInfo": {
     "elapsed": 207,
     "status": "ok",
     "timestamp": 1626424909580,
     "user": {
      "displayName": "Ignacio Soteras",
      "photoUrl": "",
      "userId": "02050793736257155229"
     },
     "user_tz": -120
    },
    "id": "KVw_KksOvhuR"
   },
   "outputs": [],
   "source": [
    "pca = PCA(svd_solver='full')\n",
    "\n",
    "pca.fit(X_train)\n",
    "\n",
    "X_train = pca.transform(X_train)\n",
    "X_test  = pca.transform(X_test)\n",
    "\n",
    "X_train = pd.DataFrame(X_train, columns = X.columns)\n",
    "X_test  = pd.DataFrame(X_test , columns = X.columns)"
   ]
  },
  {
   "cell_type": "code",
   "execution_count": 30,
   "metadata": {
    "colab": {
     "base_uri": "https://localhost:8080/",
     "height": 236
    },
    "executionInfo": {
     "elapsed": 201,
     "status": "ok",
     "timestamp": 1626424914829,
     "user": {
      "displayName": "Ignacio Soteras",
      "photoUrl": "",
      "userId": "02050793736257155229"
     },
     "user_tz": -120
    },
    "id": "SVxnxNeHv7Pr",
    "outputId": "44037cb2-b1b8-47d1-b05a-1131511ac402"
   },
   "outputs": [
    {
     "data": {
      "text/html": [
       "<div>\n",
       "<style scoped>\n",
       "    .dataframe tbody tr th:only-of-type {\n",
       "        vertical-align: middle;\n",
       "    }\n",
       "\n",
       "    .dataframe tbody tr th {\n",
       "        vertical-align: top;\n",
       "    }\n",
       "\n",
       "    .dataframe thead th {\n",
       "        text-align: right;\n",
       "    }\n",
       "</style>\n",
       "<table border=\"1\" class=\"dataframe\">\n",
       "  <thead>\n",
       "    <tr style=\"text-align: right;\">\n",
       "      <th></th>\n",
       "      <th>num_pca</th>\n",
       "      <th>variance</th>\n",
       "      <th>cum_variance</th>\n",
       "    </tr>\n",
       "  </thead>\n",
       "  <tbody>\n",
       "    <tr>\n",
       "      <th>0</th>\n",
       "      <td>1</td>\n",
       "      <td>0.525403</td>\n",
       "      <td>0.525403</td>\n",
       "    </tr>\n",
       "    <tr>\n",
       "      <th>1</th>\n",
       "      <td>2</td>\n",
       "      <td>0.130041</td>\n",
       "      <td>0.655444</td>\n",
       "    </tr>\n",
       "    <tr>\n",
       "      <th>2</th>\n",
       "      <td>3</td>\n",
       "      <td>0.103425</td>\n",
       "      <td>0.758869</td>\n",
       "    </tr>\n",
       "    <tr>\n",
       "      <th>3</th>\n",
       "      <td>4</td>\n",
       "      <td>0.089549</td>\n",
       "      <td>0.848418</td>\n",
       "    </tr>\n",
       "    <tr>\n",
       "      <th>4</th>\n",
       "      <td>5</td>\n",
       "      <td>0.064804</td>\n",
       "      <td>0.913222</td>\n",
       "    </tr>\n",
       "    <tr>\n",
       "      <th>5</th>\n",
       "      <td>6</td>\n",
       "      <td>0.048159</td>\n",
       "      <td>0.961382</td>\n",
       "    </tr>\n",
       "  </tbody>\n",
       "</table>\n",
       "</div>"
      ],
      "text/plain": [
       "   num_pca  variance  cum_variance\n",
       "0        1  0.525403      0.525403\n",
       "1        2  0.130041      0.655444\n",
       "2        3  0.103425      0.758869\n",
       "3        4  0.089549      0.848418\n",
       "4        5  0.064804      0.913222\n",
       "5        6  0.048159      0.961382"
      ]
     },
     "execution_count": 30,
     "metadata": {},
     "output_type": "execute_result"
    }
   ],
   "source": [
    "variances = pca.explained_variance_ratio_.tolist()\n",
    "total_variance = [sum(variances[:i]) for i in range(1, len(variances)+1)]\n",
    "scree = pd.DataFrame({'num_pca': range(1,len(variances)+1),'variance':variances,'cum_variance': total_variance})\n",
    "scree.head(6)"
   ]
  },
  {
   "cell_type": "code",
   "execution_count": 31,
   "metadata": {
    "colab": {
     "base_uri": "https://localhost:8080/",
     "height": 515
    },
    "executionInfo": {
     "elapsed": 765,
     "status": "ok",
     "timestamp": 1626424936478,
     "user": {
      "displayName": "Ignacio Soteras",
      "photoUrl": "",
      "userId": "02050793736257155229"
     },
     "user_tz": -120
    },
    "id": "xqyBikTUvwoJ",
    "outputId": "4412420d-5e30-4431-f8ef-f1acfccbf912"
   },
   "outputs": [
    {
     "data": {
      "text/plain": [
       "<AxesSubplot:xlabel='num_pca', ylabel='cum_variance'>"
      ]
     },
     "execution_count": 31,
     "metadata": {},
     "output_type": "execute_result"
    },
    {
     "data": {
      "image/png": "[encoded data removed]",
      "text/plain": [
       "<Figure size 1152x576 with 2 Axes>"
      ]
     },
     "metadata": {},
     "output_type": "display_data"
    }
   ],
   "source": [
    "import matplotlib.pyplot as plt\n",
    "import seaborn as sns\n",
    "%matplotlib inline\n",
    "\n",
    "sns.set_style(\"darkgrid\", {\"axes.facecolor\": \".9\"})\n",
    "\n",
    "fig, ax = plt.subplots(1,2,figsize=(16,8))\n",
    "\n",
    "sns.lineplot(x=\"num_pca\", y=\"variance\", data=scree, ax = ax[0], color = 'black')\n",
    "ax[0].set_xticks(range(1,9))\n",
    "sns.barplot(x=\"num_pca\", y=\"cum_variance\", data=scree, ax = ax[1], color = 'lightblue')"
   ]
  },
  {
   "cell_type": "markdown",
   "metadata": {
    "id": "YLYxwAjXxaS8"
   },
   "source": [
    "According to the scree plot, with two principal components it should be enough. However, from ther right plot we see that with two principal components we only account for around 62% of the total variability of the houses characteristics. \n",
    "\n",
    "In contrast, if we pick four principal components we can account for more than 80% of the total variability of the houses characteristics. In particular:\n",
    "\n",
    "```\n",
    "cum_variance[4] = 0.85\n",
    "```\n",
    "\n",
    "meaning that with four principal components, we can account for 85% of the total variability in the houses characteristics."
   ]
  },
  {
   "cell_type": "markdown",
   "metadata": {
    "id": "u4io3bQyyf4Y"
   },
   "source": [
    "# Inspecting the coeficients"
   ]
  },
  {
   "cell_type": "code",
   "execution_count": 32,
   "metadata": {
    "colab": {
     "base_uri": "https://localhost:8080/"
    },
    "executionInfo": {
     "elapsed": 222,
     "status": "ok",
     "timestamp": 1626425204726,
     "user": {
      "displayName": "Ignacio Soteras",
      "photoUrl": "",
      "userId": "02050793736257155229"
     },
     "user_tz": -120
    },
    "id": "T6qHcJ0KyjLP",
    "outputId": "7fa0bce6-2965-44f3-e3d4-e8e5757675f4"
   },
   "outputs": [
    {
     "name": "stdout",
     "output_type": "stream",
     "text": [
      "Principal component  1\n",
      "[(1, 'OverallQual', 0.45), (6, 'GarageCars', 0.41), (3, 'GrLivArea', 0.39), (4, 'FullBath', 0.39), (2, 'TotalBsmtSF', 0.35), (7, 'Antiquity', -0.34), (5, 'KitchenQual', 0.28)]\n",
      "\n",
      "Principal component  2\n",
      "[(5, 'KitchenQual', 0.71), (4, 'FullBath', -0.51), (2, 'TotalBsmtSF', 0.37), (3, 'GrLivArea', -0.29), (7, 'Antiquity', 0.09), (1, 'OverallQual', 0.07), (6, 'GarageCars', -0.05)]\n",
      "\n",
      "Principal component  3\n",
      "[(7, 'Antiquity', 0.82), (3, 'GrLivArea', 0.51), (2, 'TotalBsmtSF', 0.21), (4, 'FullBath', 0.1), (5, 'KitchenQual', 0.06), (1, 'OverallQual', -0.05), (6, 'GarageCars', -0.05)]\n",
      "\n",
      "Principal component  4\n",
      "[(2, 'TotalBsmtSF', 0.69), (5, 'KitchenQual', -0.59), (6, 'GarageCars', 0.27), (3, 'GrLivArea', -0.22), (4, 'FullBath', -0.22), (7, 'Antiquity', 0.05), (1, 'OverallQual', 0.01)]\n",
      "\n",
      "Principal component  5\n",
      "[(6, 'GarageCars', 0.83), (2, 'TotalBsmtSF', -0.43), (4, 'FullBath', -0.25), (7, 'Antiquity', 0.24), (3, 'GrLivArea', -0.1), (1, 'OverallQual', 0.04), (5, 'KitchenQual', 0.03)]\n",
      "\n",
      "Principal component  6\n",
      "[(4, 'FullBath', 0.6), (1, 'OverallQual', -0.58), (3, 'GrLivArea', -0.4), (5, 'KitchenQual', 0.23), (6, 'GarageCars', 0.22), (2, 'TotalBsmtSF', 0.18), (7, 'Antiquity', 0.09)]\n",
      "\n",
      "Principal component  7\n",
      "[(1, 'OverallQual', -0.67), (3, 'GrLivArea', 0.53), (7, 'Antiquity', -0.35), (4, 'FullBath', -0.33), (6, 'GarageCars', 0.14), (2, 'TotalBsmtSF', 0.09), (5, 'KitchenQual', 0.05)]\n",
      "\n"
     ]
    }
   ],
   "source": [
    "for comp in range(1,len(pca.components_)+1):\n",
    "    print(\"Principal component \",comp)\n",
    "    my_list = [(abs(value),index+1,X.columns[index],value) for index,value in enumerate(pca.components_[comp-1,:]) ]\n",
    "    my_list.sort(reverse=True)\n",
    "    my_list = [(elem[1],elem[2],round(elem[-1],2)) for elem in my_list]\n",
    "    print(my_list)\n",
    "    print()"
   ]
  },
  {
   "cell_type": "markdown",
   "metadata": {
    "id": "2aXedy0ly-MZ"
   },
   "source": [
    "# Re-fitting a linear model with pca's"
   ]
  },
  {
   "cell_type": "code",
   "execution_count": 33,
   "metadata": {
    "colab": {
     "base_uri": "https://localhost:8080/",
     "height": 729
    },
    "executionInfo": {
     "elapsed": 2084,
     "status": "ok",
     "timestamp": 1626425259427,
     "user": {
      "displayName": "Ignacio Soteras",
      "photoUrl": "",
      "userId": "02050793736257155229"
     },
     "user_tz": -120
    },
    "id": "1Nh5IAIRzB5D",
    "outputId": "cf60083d-3df9-4725-93d4-395b7c274272"
   },
   "outputs": [
    {
     "data": {
      "image/png": "[encoded data removed]",
      "text/plain": [
       "<Figure size 720x720 with 4 Axes>"
      ]
     },
     "metadata": {},
     "output_type": "display_data"
    }
   ],
   "source": [
    "lm = LinearRegression()\n",
    "\n",
    "lm.fit(X_train,y_train)\n",
    "\n",
    "y_pred_train = lm.predict(X_train)\n",
    "y_pred_test  = lm.predict(X_test)\n",
    "\n",
    "show_errors(y_train, y_pred_train, y_test, y_pred_test)"
   ]
  },
  {
   "cell_type": "markdown",
   "metadata": {
    "id": "tuZD3T-vzrS2"
   },
   "source": [
    "Pca components, are NOT related with the dependent feature!!! They are related with the independent features. "
   ]
  }
 ],
 "metadata": {
  "colab": {
   "collapsed_sections": [],
   "name": "PCA_code_along.ipynb",
   "provenance": []
  },
  "kernelspec": {
   "display_name": "Python 3",
   "language": "python",
   "name": "python3"
  },
  "language_info": {
   "codemirror_mode": {
    "name": "ipython",
    "version": 3
   },
   "file_extension": ".py",
   "mimetype": "text/x-python",
   "name": "python",
   "nbconvert_exporter": "python",
   "pygments_lexer": "ipython3",
   "version": "3.9.6"
  },
  "toc": {
   "base_numbering": 1,
   "nav_menu": {},
   "number_sections": true,
   "sideBar": true,
   "skip_h1_title": false,
   "title_cell": "Table of Contents",
   "title_sidebar": "Contents",
   "toc_cell": false,
   "toc_position": {},
   "toc_section_display": true,
   "toc_window_display": false
  },
  "varInspector": {
   "cols": {
    "lenName": 16,
    "lenType": 16,
    "lenVar": 40
   },
   "kernels_config": {
    "python": {
     "delete_cmd_postfix": "",
     "delete_cmd_prefix": "del ",
     "library": "var_list.py",
     "varRefreshCmd": "print(var_dic_list())"
    },
    "r": {
     "delete_cmd_postfix": ") ",
     "delete_cmd_prefix": "rm(",
     "library": "var_list.r",
     "varRefreshCmd": "cat(var_dic_list()) "
    }
   },
   "types_to_exclude": [
    "module",
    "function",
    "builtin_function_or_method",
    "instance",
    "_Feature"
   ],
   "window_display": false
  }
 },
 "nbformat": 4,
 "nbformat_minor": 1
}
