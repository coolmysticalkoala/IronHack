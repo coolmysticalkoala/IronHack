{
 "cells": [
  {
   "cell_type": "code",
   "execution_count": 1,
   "id": "9a34e4df",
   "metadata": {},
   "outputs": [],
   "source": [
    "import pandas as pd"
   ]
  },
  {
   "cell_type": "code",
   "execution_count": 13,
   "id": "fda5bf3c",
   "metadata": {},
   "outputs": [
    {
     "name": "stdout",
     "output_type": "stream",
     "text": [
      "file1.txt  file2.txt  folder2\r\n"
     ]
    }
   ],
   "source": [
    "!ls .."
   ]
  },
  {
   "cell_type": "code",
   "execution_count": 4,
   "id": "5fd63098",
   "metadata": {},
   "outputs": [
    {
     "name": "stdout",
     "output_type": "stream",
     "text": [
      "/home/flo/Documents/coding/playground/folder1/folder2\r\n"
     ]
    }
   ],
   "source": [
    "!pwd"
   ]
  },
  {
   "cell_type": "code",
   "execution_count": 5,
   "id": "b72a1042",
   "metadata": {},
   "outputs": [
    {
     "name": "stdout",
     "output_type": "stream",
     "text": [
      "flo\r\n"
     ]
    }
   ],
   "source": [
    "!whoami"
   ]
  },
  {
   "cell_type": "code",
   "execution_count": 16,
   "id": "67f569d9",
   "metadata": {},
   "outputs": [],
   "source": [
    "df1 = pd.read_csv(\"../file1.txt\")"
   ]
  },
  {
   "cell_type": "code",
   "execution_count": 17,
   "id": "4811e827",
   "metadata": {},
   "outputs": [],
   "source": [
    "df2 = pd.read_csv(\"../file2.txt\")"
   ]
  },
  {
   "cell_type": "code",
   "execution_count": 33,
   "id": "a50dcbe8",
   "metadata": {},
   "outputs": [
    {
     "data": {
      "text/plain": [
       "True"
      ]
     },
     "execution_count": 33,
     "metadata": {},
     "output_type": "execute_result"
    }
   ],
   "source": [
    "set(df1.columns) == set(df2.columns)"
   ]
  },
  {
   "cell_type": "code",
   "execution_count": 31,
   "id": "49d0d0dc",
   "metadata": {},
   "outputs": [
    {
     "data": {
      "text/plain": [
       "Index(['Customer', 'ST', 'GENDER', 'Education', 'Customer Lifetime Value',\n",
       "       'Income', 'Monthly Premium Auto', 'Number of Open Complaints',\n",
       "       'Total Claim Amount', 'Policy Type', 'Vehicle Class'],\n",
       "      dtype='object')"
      ]
     },
     "execution_count": 31,
     "metadata": {},
     "output_type": "execute_result"
    }
   ],
   "source": [
    "pd.concat([df1, df2], )"
   ]
  },
  {
   "cell_type": "code",
   "execution_count": null,
   "id": "d25381e0",
   "metadata": {},
   "outputs": [],
   "source": [
    "df1.append()"
   ]
  },
  {
   "cell_type": "code",
   "execution_count": 34,
   "id": "2092e2e6",
   "metadata": {},
   "outputs": [],
   "source": [
    "df_10 = pd.DataFrame({'A':[1,2,3,4], 'B':[1,2,3,4],})\n",
    "df_11 = pd.DataFrame({'A':[1,2,3,4], 'C':[1,2,3,4],})"
   ]
  },
  {
   "cell_type": "code",
   "execution_count": 39,
   "id": "a5b66287",
   "metadata": {},
   "outputs": [
    {
     "data": {
      "text/html": [
       "<div>\n",
       "<style scoped>\n",
       "    .dataframe tbody tr th:only-of-type {\n",
       "        vertical-align: middle;\n",
       "    }\n",
       "\n",
       "    .dataframe tbody tr th {\n",
       "        vertical-align: top;\n",
       "    }\n",
       "\n",
       "    .dataframe thead th {\n",
       "        text-align: right;\n",
       "    }\n",
       "</style>\n",
       "<table border=\"1\" class=\"dataframe\">\n",
       "  <thead>\n",
       "    <tr style=\"text-align: right;\">\n",
       "      <th></th>\n",
       "      <th>A</th>\n",
       "      <th>B</th>\n",
       "      <th>C</th>\n",
       "    </tr>\n",
       "  </thead>\n",
       "  <tbody>\n",
       "    <tr>\n",
       "      <th>0</th>\n",
       "      <td>1</td>\n",
       "      <td>1.0</td>\n",
       "      <td>NaN</td>\n",
       "    </tr>\n",
       "    <tr>\n",
       "      <th>1</th>\n",
       "      <td>2</td>\n",
       "      <td>2.0</td>\n",
       "      <td>NaN</td>\n",
       "    </tr>\n",
       "    <tr>\n",
       "      <th>2</th>\n",
       "      <td>3</td>\n",
       "      <td>3.0</td>\n",
       "      <td>NaN</td>\n",
       "    </tr>\n",
       "    <tr>\n",
       "      <th>3</th>\n",
       "      <td>4</td>\n",
       "      <td>4.0</td>\n",
       "      <td>NaN</td>\n",
       "    </tr>\n",
       "    <tr>\n",
       "      <th>4</th>\n",
       "      <td>1</td>\n",
       "      <td>NaN</td>\n",
       "      <td>1.0</td>\n",
       "    </tr>\n",
       "    <tr>\n",
       "      <th>5</th>\n",
       "      <td>2</td>\n",
       "      <td>NaN</td>\n",
       "      <td>2.0</td>\n",
       "    </tr>\n",
       "    <tr>\n",
       "      <th>6</th>\n",
       "      <td>3</td>\n",
       "      <td>NaN</td>\n",
       "      <td>3.0</td>\n",
       "    </tr>\n",
       "    <tr>\n",
       "      <th>7</th>\n",
       "      <td>4</td>\n",
       "      <td>NaN</td>\n",
       "      <td>4.0</td>\n",
       "    </tr>\n",
       "    <tr>\n",
       "      <th>8</th>\n",
       "      <td>1</td>\n",
       "      <td>1.0</td>\n",
       "      <td>NaN</td>\n",
       "    </tr>\n",
       "    <tr>\n",
       "      <th>9</th>\n",
       "      <td>2</td>\n",
       "      <td>2.0</td>\n",
       "      <td>NaN</td>\n",
       "    </tr>\n",
       "    <tr>\n",
       "      <th>10</th>\n",
       "      <td>3</td>\n",
       "      <td>3.0</td>\n",
       "      <td>NaN</td>\n",
       "    </tr>\n",
       "    <tr>\n",
       "      <th>11</th>\n",
       "      <td>4</td>\n",
       "      <td>4.0</td>\n",
       "      <td>NaN</td>\n",
       "    </tr>\n",
       "  </tbody>\n",
       "</table>\n",
       "</div>"
      ],
      "text/plain": [
       "    A    B    C\n",
       "0   1  1.0  NaN\n",
       "1   2  2.0  NaN\n",
       "2   3  3.0  NaN\n",
       "3   4  4.0  NaN\n",
       "4   1  NaN  1.0\n",
       "5   2  NaN  2.0\n",
       "6   3  NaN  3.0\n",
       "7   4  NaN  4.0\n",
       "8   1  1.0  NaN\n",
       "9   2  2.0  NaN\n",
       "10  3  3.0  NaN\n",
       "11  4  4.0  NaN"
      ]
     },
     "execution_count": 39,
     "metadata": {},
     "output_type": "execute_result"
    }
   ],
   "source": [
    "df_10.append(df_11, ignore_index=True)"
   ]
  },
  {
   "cell_type": "code",
   "execution_count": 47,
   "id": "1e9cdb3d",
   "metadata": {},
   "outputs": [
    {
     "data": {
      "text/html": [
       "<div>\n",
       "<style scoped>\n",
       "    .dataframe tbody tr th:only-of-type {\n",
       "        vertical-align: middle;\n",
       "    }\n",
       "\n",
       "    .dataframe tbody tr th {\n",
       "        vertical-align: top;\n",
       "    }\n",
       "\n",
       "    .dataframe thead th {\n",
       "        text-align: right;\n",
       "    }\n",
       "</style>\n",
       "<table border=\"1\" class=\"dataframe\">\n",
       "  <thead>\n",
       "    <tr style=\"text-align: right;\">\n",
       "      <th></th>\n",
       "      <th>Customer</th>\n",
       "      <th>ST</th>\n",
       "      <th>GENDER</th>\n",
       "      <th>Education</th>\n",
       "      <th>Customer Lifetime Value</th>\n",
       "      <th>Income</th>\n",
       "      <th>Monthly Premium Auto</th>\n",
       "      <th>Number of Open Complaints</th>\n",
       "      <th>Policy Type</th>\n",
       "      <th>Vehicle Class</th>\n",
       "      <th>Total Claim Amount</th>\n",
       "    </tr>\n",
       "  </thead>\n",
       "  <tbody>\n",
       "    <tr>\n",
       "      <th>0</th>\n",
       "      <td>RB50392</td>\n",
       "      <td>Washington</td>\n",
       "      <td>NaN</td>\n",
       "      <td>Master</td>\n",
       "      <td>NaN</td>\n",
       "      <td>0.0</td>\n",
       "      <td>1000.0</td>\n",
       "      <td>1/0/00</td>\n",
       "      <td>Personal Auto</td>\n",
       "      <td>Four-Door Car</td>\n",
       "      <td>2.704934</td>\n",
       "    </tr>\n",
       "    <tr>\n",
       "      <th>1</th>\n",
       "      <td>QZ44356</td>\n",
       "      <td>Arizona</td>\n",
       "      <td>F</td>\n",
       "      <td>Bachelor</td>\n",
       "      <td>697953.59%</td>\n",
       "      <td>0.0</td>\n",
       "      <td>94.0</td>\n",
       "      <td>1/0/00</td>\n",
       "      <td>Personal Auto</td>\n",
       "      <td>Four-Door Car</td>\n",
       "      <td>1131.464935</td>\n",
       "    </tr>\n",
       "    <tr>\n",
       "      <th>2</th>\n",
       "      <td>AI49188</td>\n",
       "      <td>Nevada</td>\n",
       "      <td>F</td>\n",
       "      <td>Bachelor</td>\n",
       "      <td>1288743.17%</td>\n",
       "      <td>48767.0</td>\n",
       "      <td>108.0</td>\n",
       "      <td>1/0/00</td>\n",
       "      <td>Personal Auto</td>\n",
       "      <td>Two-Door Car</td>\n",
       "      <td>566.472247</td>\n",
       "    </tr>\n",
       "    <tr>\n",
       "      <th>3</th>\n",
       "      <td>WW63253</td>\n",
       "      <td>California</td>\n",
       "      <td>M</td>\n",
       "      <td>Bachelor</td>\n",
       "      <td>764586.18%</td>\n",
       "      <td>0.0</td>\n",
       "      <td>106.0</td>\n",
       "      <td>1/0/00</td>\n",
       "      <td>Corporate Auto</td>\n",
       "      <td>SUV</td>\n",
       "      <td>529.881344</td>\n",
       "    </tr>\n",
       "    <tr>\n",
       "      <th>4</th>\n",
       "      <td>GA49547</td>\n",
       "      <td>Washington</td>\n",
       "      <td>M</td>\n",
       "      <td>High School or Below</td>\n",
       "      <td>536307.65%</td>\n",
       "      <td>36357.0</td>\n",
       "      <td>68.0</td>\n",
       "      <td>1/0/00</td>\n",
       "      <td>Personal Auto</td>\n",
       "      <td>Four-Door Car</td>\n",
       "      <td>17.269323</td>\n",
       "    </tr>\n",
       "    <tr>\n",
       "      <th>...</th>\n",
       "      <td>...</td>\n",
       "      <td>...</td>\n",
       "      <td>...</td>\n",
       "      <td>...</td>\n",
       "      <td>...</td>\n",
       "      <td>...</td>\n",
       "      <td>...</td>\n",
       "      <td>...</td>\n",
       "      <td>...</td>\n",
       "      <td>...</td>\n",
       "      <td>...</td>\n",
       "    </tr>\n",
       "    <tr>\n",
       "      <th>4999</th>\n",
       "      <td>HV85198</td>\n",
       "      <td>Arizona</td>\n",
       "      <td>M</td>\n",
       "      <td>Master</td>\n",
       "      <td>847141.75%</td>\n",
       "      <td>63513.0</td>\n",
       "      <td>70.0</td>\n",
       "      <td>1/0/00</td>\n",
       "      <td>Personal Auto</td>\n",
       "      <td>Four-Door Car</td>\n",
       "      <td>185.667213</td>\n",
       "    </tr>\n",
       "    <tr>\n",
       "      <th>5000</th>\n",
       "      <td>BS91566</td>\n",
       "      <td>Arizona</td>\n",
       "      <td>F</td>\n",
       "      <td>College</td>\n",
       "      <td>543121.91%</td>\n",
       "      <td>58161.0</td>\n",
       "      <td>68.0</td>\n",
       "      <td>1/0/00</td>\n",
       "      <td>Corporate Auto</td>\n",
       "      <td>Four-Door Car</td>\n",
       "      <td>140.747286</td>\n",
       "    </tr>\n",
       "    <tr>\n",
       "      <th>5001</th>\n",
       "      <td>IL40123</td>\n",
       "      <td>Nevada</td>\n",
       "      <td>F</td>\n",
       "      <td>College</td>\n",
       "      <td>568964.41%</td>\n",
       "      <td>83640.0</td>\n",
       "      <td>70.0</td>\n",
       "      <td>1/0/00</td>\n",
       "      <td>Corporate Auto</td>\n",
       "      <td>Two-Door Car</td>\n",
       "      <td>471.050488</td>\n",
       "    </tr>\n",
       "    <tr>\n",
       "      <th>5002</th>\n",
       "      <td>MY32149</td>\n",
       "      <td>California</td>\n",
       "      <td>F</td>\n",
       "      <td>Master</td>\n",
       "      <td>368672.38%</td>\n",
       "      <td>0.0</td>\n",
       "      <td>96.0</td>\n",
       "      <td>1/0/00</td>\n",
       "      <td>Personal Auto</td>\n",
       "      <td>Two-Door Car</td>\n",
       "      <td>28.460568</td>\n",
       "    </tr>\n",
       "    <tr>\n",
       "      <th>5003</th>\n",
       "      <td>SA91515</td>\n",
       "      <td>California</td>\n",
       "      <td>M</td>\n",
       "      <td>Bachelor</td>\n",
       "      <td>399258.39%</td>\n",
       "      <td>0.0</td>\n",
       "      <td>111.0</td>\n",
       "      <td>1/0/00</td>\n",
       "      <td>Personal Auto</td>\n",
       "      <td>SUV</td>\n",
       "      <td>700.349052</td>\n",
       "    </tr>\n",
       "  </tbody>\n",
       "</table>\n",
       "<p>5004 rows × 11 columns</p>\n",
       "</div>"
      ],
      "text/plain": [
       "     Customer          ST GENDER             Education  \\\n",
       "0     RB50392  Washington    NaN                Master   \n",
       "1     QZ44356     Arizona      F              Bachelor   \n",
       "2     AI49188      Nevada      F              Bachelor   \n",
       "3     WW63253  California      M              Bachelor   \n",
       "4     GA49547  Washington      M  High School or Below   \n",
       "...       ...         ...    ...                   ...   \n",
       "4999  HV85198     Arizona      M                Master   \n",
       "5000  BS91566     Arizona      F               College   \n",
       "5001  IL40123      Nevada      F               College   \n",
       "5002  MY32149  California      F                Master   \n",
       "5003  SA91515  California      M              Bachelor   \n",
       "\n",
       "     Customer Lifetime Value   Income  Monthly Premium Auto  \\\n",
       "0                        NaN      0.0                1000.0   \n",
       "1                 697953.59%      0.0                  94.0   \n",
       "2                1288743.17%  48767.0                 108.0   \n",
       "3                 764586.18%      0.0                 106.0   \n",
       "4                 536307.65%  36357.0                  68.0   \n",
       "...                      ...      ...                   ...   \n",
       "4999              847141.75%  63513.0                  70.0   \n",
       "5000              543121.91%  58161.0                  68.0   \n",
       "5001              568964.41%  83640.0                  70.0   \n",
       "5002              368672.38%      0.0                  96.0   \n",
       "5003              399258.39%      0.0                 111.0   \n",
       "\n",
       "     Number of Open Complaints     Policy Type  Vehicle Class  \\\n",
       "0                       1/0/00   Personal Auto  Four-Door Car   \n",
       "1                       1/0/00   Personal Auto  Four-Door Car   \n",
       "2                       1/0/00   Personal Auto   Two-Door Car   \n",
       "3                       1/0/00  Corporate Auto            SUV   \n",
       "4                       1/0/00   Personal Auto  Four-Door Car   \n",
       "...                        ...             ...            ...   \n",
       "4999                    1/0/00   Personal Auto  Four-Door Car   \n",
       "5000                    1/0/00  Corporate Auto  Four-Door Car   \n",
       "5001                    1/0/00  Corporate Auto   Two-Door Car   \n",
       "5002                    1/0/00   Personal Auto   Two-Door Car   \n",
       "5003                    1/0/00   Personal Auto            SUV   \n",
       "\n",
       "      Total Claim Amount  \n",
       "0               2.704934  \n",
       "1            1131.464935  \n",
       "2             566.472247  \n",
       "3             529.881344  \n",
       "4              17.269323  \n",
       "...                  ...  \n",
       "4999          185.667213  \n",
       "5000          140.747286  \n",
       "5001          471.050488  \n",
       "5002           28.460568  \n",
       "5003          700.349052  \n",
       "\n",
       "[5004 rows x 11 columns]"
      ]
     },
     "execution_count": 47,
     "metadata": {},
     "output_type": "execute_result"
    }
   ],
   "source": [
    "df3 = pd.concat([df1, df2], axis=0).reset_index(drop=True)\n",
    "df3"
   ]
  },
  {
   "cell_type": "code",
   "execution_count": 52,
   "id": "7abd90f0",
   "metadata": {},
   "outputs": [
    {
     "data": {
      "text/html": [
       "<div>\n",
       "<style scoped>\n",
       "    .dataframe tbody tr th:only-of-type {\n",
       "        vertical-align: middle;\n",
       "    }\n",
       "\n",
       "    .dataframe tbody tr th {\n",
       "        vertical-align: top;\n",
       "    }\n",
       "\n",
       "    .dataframe thead th {\n",
       "        text-align: right;\n",
       "    }\n",
       "</style>\n",
       "<table border=\"1\" class=\"dataframe\">\n",
       "  <thead>\n",
       "    <tr style=\"text-align: right;\">\n",
       "      <th></th>\n",
       "      <th>Customer</th>\n",
       "      <th>ST</th>\n",
       "      <th>GENDER</th>\n",
       "      <th>Education</th>\n",
       "      <th>Customer Lifetime Value</th>\n",
       "      <th>Income</th>\n",
       "      <th>Monthly Premium Auto</th>\n",
       "      <th>Number of Open Complaints</th>\n",
       "      <th>Policy Type</th>\n",
       "      <th>Vehicle Class</th>\n",
       "      <th>Total Claim Amount</th>\n",
       "    </tr>\n",
       "  </thead>\n",
       "  <tbody>\n",
       "    <tr>\n",
       "      <th>0</th>\n",
       "      <td>RB50392</td>\n",
       "      <td>Washington</td>\n",
       "      <td>NaN</td>\n",
       "      <td>Master</td>\n",
       "      <td>NaN</td>\n",
       "      <td>0.0</td>\n",
       "      <td>1000.0</td>\n",
       "      <td>1/0/00</td>\n",
       "      <td>Personal Auto</td>\n",
       "      <td>Four-Door Car</td>\n",
       "      <td>2.704934</td>\n",
       "    </tr>\n",
       "    <tr>\n",
       "      <th>1</th>\n",
       "      <td>QZ44356</td>\n",
       "      <td>Arizona</td>\n",
       "      <td>F</td>\n",
       "      <td>Bachelor</td>\n",
       "      <td>697953.59%</td>\n",
       "      <td>0.0</td>\n",
       "      <td>94.0</td>\n",
       "      <td>1/0/00</td>\n",
       "      <td>Personal Auto</td>\n",
       "      <td>Four-Door Car</td>\n",
       "      <td>1131.464935</td>\n",
       "    </tr>\n",
       "    <tr>\n",
       "      <th>2</th>\n",
       "      <td>AI49188</td>\n",
       "      <td>Nevada</td>\n",
       "      <td>F</td>\n",
       "      <td>Bachelor</td>\n",
       "      <td>1288743.17%</td>\n",
       "      <td>48767.0</td>\n",
       "      <td>108.0</td>\n",
       "      <td>1/0/00</td>\n",
       "      <td>Personal Auto</td>\n",
       "      <td>Two-Door Car</td>\n",
       "      <td>566.472247</td>\n",
       "    </tr>\n",
       "    <tr>\n",
       "      <th>3</th>\n",
       "      <td>WW63253</td>\n",
       "      <td>California</td>\n",
       "      <td>M</td>\n",
       "      <td>Bachelor</td>\n",
       "      <td>764586.18%</td>\n",
       "      <td>0.0</td>\n",
       "      <td>106.0</td>\n",
       "      <td>1/0/00</td>\n",
       "      <td>Corporate Auto</td>\n",
       "      <td>SUV</td>\n",
       "      <td>529.881344</td>\n",
       "    </tr>\n",
       "    <tr>\n",
       "      <th>4</th>\n",
       "      <td>GA49547</td>\n",
       "      <td>Washington</td>\n",
       "      <td>M</td>\n",
       "      <td>High School or Below</td>\n",
       "      <td>536307.65%</td>\n",
       "      <td>36357.0</td>\n",
       "      <td>68.0</td>\n",
       "      <td>1/0/00</td>\n",
       "      <td>Personal Auto</td>\n",
       "      <td>Four-Door Car</td>\n",
       "      <td>17.269323</td>\n",
       "    </tr>\n",
       "    <tr>\n",
       "      <th>...</th>\n",
       "      <td>...</td>\n",
       "      <td>...</td>\n",
       "      <td>...</td>\n",
       "      <td>...</td>\n",
       "      <td>...</td>\n",
       "      <td>...</td>\n",
       "      <td>...</td>\n",
       "      <td>...</td>\n",
       "      <td>...</td>\n",
       "      <td>...</td>\n",
       "      <td>...</td>\n",
       "    </tr>\n",
       "    <tr>\n",
       "      <th>991</th>\n",
       "      <td>HV85198</td>\n",
       "      <td>Arizona</td>\n",
       "      <td>M</td>\n",
       "      <td>Master</td>\n",
       "      <td>847141.75%</td>\n",
       "      <td>63513.0</td>\n",
       "      <td>70.0</td>\n",
       "      <td>1/0/00</td>\n",
       "      <td>Personal Auto</td>\n",
       "      <td>Four-Door Car</td>\n",
       "      <td>185.667213</td>\n",
       "    </tr>\n",
       "    <tr>\n",
       "      <th>992</th>\n",
       "      <td>BS91566</td>\n",
       "      <td>Arizona</td>\n",
       "      <td>F</td>\n",
       "      <td>College</td>\n",
       "      <td>543121.91%</td>\n",
       "      <td>58161.0</td>\n",
       "      <td>68.0</td>\n",
       "      <td>1/0/00</td>\n",
       "      <td>Corporate Auto</td>\n",
       "      <td>Four-Door Car</td>\n",
       "      <td>140.747286</td>\n",
       "    </tr>\n",
       "    <tr>\n",
       "      <th>993</th>\n",
       "      <td>IL40123</td>\n",
       "      <td>Nevada</td>\n",
       "      <td>F</td>\n",
       "      <td>College</td>\n",
       "      <td>568964.41%</td>\n",
       "      <td>83640.0</td>\n",
       "      <td>70.0</td>\n",
       "      <td>1/0/00</td>\n",
       "      <td>Corporate Auto</td>\n",
       "      <td>Two-Door Car</td>\n",
       "      <td>471.050488</td>\n",
       "    </tr>\n",
       "    <tr>\n",
       "      <th>994</th>\n",
       "      <td>MY32149</td>\n",
       "      <td>California</td>\n",
       "      <td>F</td>\n",
       "      <td>Master</td>\n",
       "      <td>368672.38%</td>\n",
       "      <td>0.0</td>\n",
       "      <td>96.0</td>\n",
       "      <td>1/0/00</td>\n",
       "      <td>Personal Auto</td>\n",
       "      <td>Two-Door Car</td>\n",
       "      <td>28.460568</td>\n",
       "    </tr>\n",
       "    <tr>\n",
       "      <th>995</th>\n",
       "      <td>SA91515</td>\n",
       "      <td>California</td>\n",
       "      <td>M</td>\n",
       "      <td>Bachelor</td>\n",
       "      <td>399258.39%</td>\n",
       "      <td>0.0</td>\n",
       "      <td>111.0</td>\n",
       "      <td>1/0/00</td>\n",
       "      <td>Personal Auto</td>\n",
       "      <td>SUV</td>\n",
       "      <td>700.349052</td>\n",
       "    </tr>\n",
       "  </tbody>\n",
       "</table>\n",
       "<p>5004 rows × 11 columns</p>\n",
       "</div>"
      ],
      "text/plain": [
       "    Customer          ST GENDER             Education Customer Lifetime Value  \\\n",
       "0    RB50392  Washington    NaN                Master                     NaN   \n",
       "1    QZ44356     Arizona      F              Bachelor              697953.59%   \n",
       "2    AI49188      Nevada      F              Bachelor             1288743.17%   \n",
       "3    WW63253  California      M              Bachelor              764586.18%   \n",
       "4    GA49547  Washington      M  High School or Below              536307.65%   \n",
       "..       ...         ...    ...                   ...                     ...   \n",
       "991  HV85198     Arizona      M                Master              847141.75%   \n",
       "992  BS91566     Arizona      F               College              543121.91%   \n",
       "993  IL40123      Nevada      F               College              568964.41%   \n",
       "994  MY32149  California      F                Master              368672.38%   \n",
       "995  SA91515  California      M              Bachelor              399258.39%   \n",
       "\n",
       "      Income  Monthly Premium Auto Number of Open Complaints     Policy Type  \\\n",
       "0        0.0                1000.0                    1/0/00   Personal Auto   \n",
       "1        0.0                  94.0                    1/0/00   Personal Auto   \n",
       "2    48767.0                 108.0                    1/0/00   Personal Auto   \n",
       "3        0.0                 106.0                    1/0/00  Corporate Auto   \n",
       "4    36357.0                  68.0                    1/0/00   Personal Auto   \n",
       "..       ...                   ...                       ...             ...   \n",
       "991  63513.0                  70.0                    1/0/00   Personal Auto   \n",
       "992  58161.0                  68.0                    1/0/00  Corporate Auto   \n",
       "993  83640.0                  70.0                    1/0/00  Corporate Auto   \n",
       "994      0.0                  96.0                    1/0/00   Personal Auto   \n",
       "995      0.0                 111.0                    1/0/00   Personal Auto   \n",
       "\n",
       "     Vehicle Class  Total Claim Amount  \n",
       "0    Four-Door Car            2.704934  \n",
       "1    Four-Door Car         1131.464935  \n",
       "2     Two-Door Car          566.472247  \n",
       "3              SUV          529.881344  \n",
       "4    Four-Door Car           17.269323  \n",
       "..             ...                 ...  \n",
       "991  Four-Door Car          185.667213  \n",
       "992  Four-Door Car          140.747286  \n",
       "993   Two-Door Car          471.050488  \n",
       "994   Two-Door Car           28.460568  \n",
       "995            SUV          700.349052  \n",
       "\n",
       "[5004 rows x 11 columns]"
      ]
     },
     "execution_count": 52,
     "metadata": {},
     "output_type": "execute_result"
    }
   ],
   "source": [
    "df3 = pd.concat([df1, df2])\n",
    "df3"
   ]
  },
  {
   "cell_type": "code",
   "execution_count": 55,
   "id": "b41c52c7",
   "metadata": {},
   "outputs": [],
   "source": [
    "df3.columns = [col.lower().replace(\" \", \"_\") for col in df3.columns]"
   ]
  },
  {
   "cell_type": "code",
   "execution_count": 58,
   "id": "13cf1f07",
   "metadata": {},
   "outputs": [
    {
     "ename": "AttributeError",
     "evalue": "'float' object has no attribute 'replace'",
     "output_type": "error",
     "traceback": [
      "\u001b[0;31m---------------------------------------------------------------------------\u001b[0m",
      "\u001b[0;31mAttributeError\u001b[0m                            Traceback (most recent call last)",
      "\u001b[0;32m<ipython-input-58-5de5c8105f0a>\u001b[0m in \u001b[0;36m<module>\u001b[0;34m\u001b[0m\n\u001b[0;32m----> 1\u001b[0;31m \u001b[0mdf3\u001b[0m\u001b[0;34m[\u001b[0m\u001b[0;34m'customer_lifetime_value'\u001b[0m\u001b[0;34m]\u001b[0m\u001b[0;34m.\u001b[0m\u001b[0mapply\u001b[0m\u001b[0;34m(\u001b[0m\u001b[0;32mlambda\u001b[0m \u001b[0mx\u001b[0m\u001b[0;34m:\u001b[0m \u001b[0mx\u001b[0m\u001b[0;34m.\u001b[0m\u001b[0mreplace\u001b[0m\u001b[0;34m(\u001b[0m\u001b[0;34m\"%\"\u001b[0m\u001b[0;34m,\u001b[0m \u001b[0;34m\"\"\u001b[0m\u001b[0;34m)\u001b[0m\u001b[0;34m)\u001b[0m\u001b[0;34m\u001b[0m\u001b[0;34m\u001b[0m\u001b[0m\n\u001b[0m",
      "\u001b[0;32m~/anaconda3/envs/ironhack/lib/python3.8/site-packages/pandas/core/series.py\u001b[0m in \u001b[0;36mapply\u001b[0;34m(self, func, convert_dtype, args, **kwds)\u001b[0m\n\u001b[1;32m   4198\u001b[0m             \u001b[0;32melse\u001b[0m\u001b[0;34m:\u001b[0m\u001b[0;34m\u001b[0m\u001b[0;34m\u001b[0m\u001b[0m\n\u001b[1;32m   4199\u001b[0m                 \u001b[0mvalues\u001b[0m \u001b[0;34m=\u001b[0m \u001b[0mself\u001b[0m\u001b[0;34m.\u001b[0m\u001b[0mastype\u001b[0m\u001b[0;34m(\u001b[0m\u001b[0mobject\u001b[0m\u001b[0;34m)\u001b[0m\u001b[0;34m.\u001b[0m\u001b[0m_values\u001b[0m\u001b[0;34m\u001b[0m\u001b[0;34m\u001b[0m\u001b[0m\n\u001b[0;32m-> 4200\u001b[0;31m                 \u001b[0mmapped\u001b[0m \u001b[0;34m=\u001b[0m \u001b[0mlib\u001b[0m\u001b[0;34m.\u001b[0m\u001b[0mmap_infer\u001b[0m\u001b[0;34m(\u001b[0m\u001b[0mvalues\u001b[0m\u001b[0;34m,\u001b[0m \u001b[0mf\u001b[0m\u001b[0;34m,\u001b[0m \u001b[0mconvert\u001b[0m\u001b[0;34m=\u001b[0m\u001b[0mconvert_dtype\u001b[0m\u001b[0;34m)\u001b[0m\u001b[0;34m\u001b[0m\u001b[0;34m\u001b[0m\u001b[0m\n\u001b[0m\u001b[1;32m   4201\u001b[0m \u001b[0;34m\u001b[0m\u001b[0m\n\u001b[1;32m   4202\u001b[0m         \u001b[0;32mif\u001b[0m \u001b[0mlen\u001b[0m\u001b[0;34m(\u001b[0m\u001b[0mmapped\u001b[0m\u001b[0;34m)\u001b[0m \u001b[0;32mand\u001b[0m \u001b[0misinstance\u001b[0m\u001b[0;34m(\u001b[0m\u001b[0mmapped\u001b[0m\u001b[0;34m[\u001b[0m\u001b[0;36m0\u001b[0m\u001b[0;34m]\u001b[0m\u001b[0;34m,\u001b[0m \u001b[0mSeries\u001b[0m\u001b[0;34m)\u001b[0m\u001b[0;34m:\u001b[0m\u001b[0;34m\u001b[0m\u001b[0;34m\u001b[0m\u001b[0m\n",
      "\u001b[0;32mpandas/_libs/lib.pyx\u001b[0m in \u001b[0;36mpandas._libs.lib.map_infer\u001b[0;34m()\u001b[0m\n",
      "\u001b[0;32m<ipython-input-58-5de5c8105f0a>\u001b[0m in \u001b[0;36m<lambda>\u001b[0;34m(x)\u001b[0m\n\u001b[0;32m----> 1\u001b[0;31m \u001b[0mdf3\u001b[0m\u001b[0;34m[\u001b[0m\u001b[0;34m'customer_lifetime_value'\u001b[0m\u001b[0;34m]\u001b[0m\u001b[0;34m.\u001b[0m\u001b[0mapply\u001b[0m\u001b[0;34m(\u001b[0m\u001b[0;32mlambda\u001b[0m \u001b[0mx\u001b[0m\u001b[0;34m:\u001b[0m \u001b[0mx\u001b[0m\u001b[0;34m.\u001b[0m\u001b[0mreplace\u001b[0m\u001b[0;34m(\u001b[0m\u001b[0;34m\"%\"\u001b[0m\u001b[0;34m,\u001b[0m \u001b[0;34m\"\"\u001b[0m\u001b[0;34m)\u001b[0m\u001b[0;34m)\u001b[0m\u001b[0;34m\u001b[0m\u001b[0;34m\u001b[0m\u001b[0m\n\u001b[0m",
      "\u001b[0;31mAttributeError\u001b[0m: 'float' object has no attribute 'replace'"
     ]
    }
   ],
   "source": [
    "df3['customer_lifetime_value'].apply(lambda x: x.replace(\"%\", \"\"))"
   ]
  },
  {
   "cell_type": "code",
   "execution_count": 59,
   "id": "5dba8a98",
   "metadata": {},
   "outputs": [],
   "source": [
    "import numpy as np"
   ]
  },
  {
   "cell_type": "code",
   "execution_count": 60,
   "id": "a8ea0974",
   "metadata": {},
   "outputs": [
    {
     "data": {
      "text/plain": [
       "False"
      ]
     },
     "execution_count": 60,
     "metadata": {},
     "output_type": "execute_result"
    }
   ],
   "source": [
    "np.NaN == np.NaN"
   ]
  },
  {
   "cell_type": "code",
   "execution_count": 63,
   "id": "f144dff1",
   "metadata": {},
   "outputs": [
    {
     "data": {
      "text/plain": [
       "array(['Washington', 'Arizona', 'Nevada', 'California', 'Oregon', 'Cali',\n",
       "       'AZ', 'WA', nan], dtype=object)"
      ]
     },
     "execution_count": 63,
     "metadata": {},
     "output_type": "execute_result"
    }
   ],
   "source": [
    "df3['st'].unique()"
   ]
  },
  {
   "cell_type": "code",
   "execution_count": 76,
   "id": "116d5ce2",
   "metadata": {},
   "outputs": [
    {
     "data": {
      "text/plain": [
       "'WA'"
      ]
     },
     "execution_count": 76,
     "metadata": {},
     "output_type": "execute_result"
    }
   ],
   "source": [
    "def state_cl(x):\n",
    "    \n",
    "    if not x==x:\n",
    "        # then i know, that x is NaN\n",
    "        return x\n",
    "    else:\n",
    "        dct_ = {'Washington': 'WA',\n",
    "               'Arizona':'AZ',\n",
    "               'Nevada': 'NV',\n",
    "               'California':'CA',\n",
    "               'Oregon':'OR',\n",
    "               'Cali':'CA',\n",
    "               'AZ':'AZ',\n",
    "               'WA':'WA'}\n",
    "\n",
    "        return dct_[x]\n",
    "\n",
    "state_cl('WA')"
   ]
  },
  {
   "cell_type": "code",
   "execution_count": 96,
   "id": "588f2d6a",
   "metadata": {},
   "outputs": [],
   "source": [
    "df3['st'] = df3['st'].apply(state_cl)"
   ]
  },
  {
   "cell_type": "code",
   "execution_count": 97,
   "id": "fc83a114",
   "metadata": {},
   "outputs": [
    {
     "data": {
      "text/plain": [
       "0      WA\n",
       "1      AZ\n",
       "2      NV\n",
       "3      CA\n",
       "4      WA\n",
       "       ..\n",
       "991    AZ\n",
       "992    AZ\n",
       "993    NV\n",
       "994    CA\n",
       "995    CA\n",
       "Name: st, Length: 5004, dtype: object"
      ]
     },
     "execution_count": 97,
     "metadata": {},
     "output_type": "execute_result"
    }
   ],
   "source": [
    "df3['st']"
   ]
  },
  {
   "cell_type": "code",
   "execution_count": 71,
   "id": "e90dab1a",
   "metadata": {},
   "outputs": [],
   "source": [
    "import numpy as np"
   ]
  },
  {
   "cell_type": "code",
   "execution_count": 74,
   "id": "527f8826",
   "metadata": {},
   "outputs": [
    {
     "data": {
      "text/plain": [
       "False"
      ]
     },
     "execution_count": 74,
     "metadata": {},
     "output_type": "execute_result"
    }
   ],
   "source": [
    "np.NaN == np.NaN"
   ]
  },
  {
   "cell_type": "code",
   "execution_count": 75,
   "id": "d8230235",
   "metadata": {},
   "outputs": [
    {
     "data": {
      "text/plain": [
       "True"
      ]
     },
     "execution_count": 75,
     "metadata": {},
     "output_type": "execute_result"
    }
   ],
   "source": [
    "7 == 7"
   ]
  },
  {
   "cell_type": "code",
   "execution_count": 90,
   "id": "dc003c93",
   "metadata": {},
   "outputs": [
    {
     "ename": "TypeError",
     "evalue": "unique() takes 1 positional argument but 2 were given",
     "output_type": "error",
     "traceback": [
      "\u001b[0;31m---------------------------------------------------------------------------\u001b[0m",
      "\u001b[0;31mTypeError\u001b[0m                                 Traceback (most recent call last)",
      "\u001b[0;32m<ipython-input-90-e22d6a0ba0a8>\u001b[0m in \u001b[0;36m<module>\u001b[0;34m\u001b[0m\n\u001b[0;32m----> 1\u001b[0;31m \u001b[0mdf3\u001b[0m\u001b[0;34m[\u001b[0m\u001b[0;34m'gender'\u001b[0m\u001b[0;34m]\u001b[0m\u001b[0;34m.\u001b[0m\u001b[0munique\u001b[0m\u001b[0;34m(\u001b[0m\u001b[0;32mlambda\u001b[0m \u001b[0mx\u001b[0m\u001b[0;34m:\u001b[0m \u001b[0mx\u001b[0m \u001b[0;32min\u001b[0m \u001b[0;34m(\u001b[0m\u001b[0;34m'female'\u001b[0m\u001b[0;34m,\u001b[0m \u001b[0;34m'Male'\u001b[0m\u001b[0;34m,\u001b[0m \u001b[0;34m'Femal'\u001b[0m\u001b[0;34m)\u001b[0m\u001b[0;34m)\u001b[0m\u001b[0;34m\u001b[0m\u001b[0;34m\u001b[0m\u001b[0m\n\u001b[0m",
      "\u001b[0;31mTypeError\u001b[0m: unique() takes 1 positional argument but 2 were given"
     ]
    }
   ],
   "source": [
    "df3['gender'].unique()"
   ]
  },
  {
   "cell_type": "code",
   "execution_count": 98,
   "id": "86751484",
   "metadata": {},
   "outputs": [],
   "source": [
    "def my_func(x):\n",
    "    return x**2"
   ]
  },
  {
   "cell_type": "code",
   "execution_count": 99,
   "id": "90da09ca",
   "metadata": {},
   "outputs": [
    {
     "data": {
      "text/plain": [
       "16"
      ]
     },
     "execution_count": 99,
     "metadata": {},
     "output_type": "execute_result"
    }
   ],
   "source": [
    "my_func(4)"
   ]
  },
  {
   "cell_type": "code",
   "execution_count": 100,
   "id": "77cc530e",
   "metadata": {},
   "outputs": [
    {
     "data": {
      "text/plain": [
       "<function __main__.<lambda>(x)>"
      ]
     },
     "execution_count": 100,
     "metadata": {},
     "output_type": "execute_result"
    }
   ],
   "source": [
    "lambda x: x**2"
   ]
  },
  {
   "cell_type": "code",
   "execution_count": 101,
   "id": "280f248b",
   "metadata": {},
   "outputs": [
    {
     "data": {
      "text/plain": [
       "<function __main__.my_func(x)>"
      ]
     },
     "execution_count": 101,
     "metadata": {},
     "output_type": "execute_result"
    }
   ],
   "source": [
    "my_func"
   ]
  },
  {
   "cell_type": "code",
   "execution_count": 102,
   "id": "e22f348c",
   "metadata": {},
   "outputs": [
    {
     "data": {
      "text/plain": [
       "16"
      ]
     },
     "execution_count": 102,
     "metadata": {},
     "output_type": "execute_result"
    }
   ],
   "source": [
    "(lambda x: x**2)(4)"
   ]
  },
  {
   "cell_type": "code",
   "execution_count": 110,
   "id": "cd55281f",
   "metadata": {},
   "outputs": [
    {
     "data": {
      "text/html": [
       "<div>\n",
       "<style scoped>\n",
       "    .dataframe tbody tr th:only-of-type {\n",
       "        vertical-align: middle;\n",
       "    }\n",
       "\n",
       "    .dataframe tbody tr th {\n",
       "        vertical-align: top;\n",
       "    }\n",
       "\n",
       "    .dataframe thead th {\n",
       "        text-align: right;\n",
       "    }\n",
       "</style>\n",
       "<table border=\"1\" class=\"dataframe\">\n",
       "  <thead>\n",
       "    <tr style=\"text-align: right;\">\n",
       "      <th></th>\n",
       "      <th>customer</th>\n",
       "      <th>st</th>\n",
       "      <th>gender</th>\n",
       "      <th>education</th>\n",
       "      <th>customer_lifetime_value</th>\n",
       "      <th>income</th>\n",
       "      <th>monthly_premium_auto</th>\n",
       "      <th>number_of_open_complaints</th>\n",
       "      <th>policy_type</th>\n",
       "      <th>vehicle_class</th>\n",
       "      <th>total_claim_amount</th>\n",
       "    </tr>\n",
       "  </thead>\n",
       "  <tbody>\n",
       "    <tr>\n",
       "      <th>0</th>\n",
       "      <td>RB50392</td>\n",
       "      <td>WA</td>\n",
       "      <td>NaN</td>\n",
       "      <td>Master</td>\n",
       "      <td>NaN</td>\n",
       "      <td>0.0</td>\n",
       "      <td>1000.0</td>\n",
       "      <td>1/0/00</td>\n",
       "      <td>Personal Auto</td>\n",
       "      <td>Four-Door Car</td>\n",
       "      <td>2.704934</td>\n",
       "    </tr>\n",
       "    <tr>\n",
       "      <th>1</th>\n",
       "      <td>QZ44356</td>\n",
       "      <td>AZ</td>\n",
       "      <td>F</td>\n",
       "      <td>Bachelor</td>\n",
       "      <td>697953.59%</td>\n",
       "      <td>0.0</td>\n",
       "      <td>94.0</td>\n",
       "      <td>1/0/00</td>\n",
       "      <td>Personal Auto</td>\n",
       "      <td>Four-Door Car</td>\n",
       "      <td>1131.464935</td>\n",
       "    </tr>\n",
       "    <tr>\n",
       "      <th>2</th>\n",
       "      <td>AI49188</td>\n",
       "      <td>NV</td>\n",
       "      <td>F</td>\n",
       "      <td>Bachelor</td>\n",
       "      <td>1288743.17%</td>\n",
       "      <td>48767.0</td>\n",
       "      <td>108.0</td>\n",
       "      <td>1/0/00</td>\n",
       "      <td>Personal Auto</td>\n",
       "      <td>Two-Door Car</td>\n",
       "      <td>566.472247</td>\n",
       "    </tr>\n",
       "    <tr>\n",
       "      <th>3</th>\n",
       "      <td>WW63253</td>\n",
       "      <td>CA</td>\n",
       "      <td>M</td>\n",
       "      <td>Bachelor</td>\n",
       "      <td>764586.18%</td>\n",
       "      <td>0.0</td>\n",
       "      <td>106.0</td>\n",
       "      <td>1/0/00</td>\n",
       "      <td>Corporate Auto</td>\n",
       "      <td>SUV</td>\n",
       "      <td>529.881344</td>\n",
       "    </tr>\n",
       "    <tr>\n",
       "      <th>4</th>\n",
       "      <td>GA49547</td>\n",
       "      <td>WA</td>\n",
       "      <td>M</td>\n",
       "      <td>High School or Below</td>\n",
       "      <td>536307.65%</td>\n",
       "      <td>36357.0</td>\n",
       "      <td>68.0</td>\n",
       "      <td>1/0/00</td>\n",
       "      <td>Personal Auto</td>\n",
       "      <td>Four-Door Car</td>\n",
       "      <td>17.269323</td>\n",
       "    </tr>\n",
       "  </tbody>\n",
       "</table>\n",
       "</div>"
      ],
      "text/plain": [
       "  customer  st gender             education customer_lifetime_value   income  \\\n",
       "0  RB50392  WA    NaN                Master                     NaN      0.0   \n",
       "1  QZ44356  AZ      F              Bachelor              697953.59%      0.0   \n",
       "2  AI49188  NV      F              Bachelor             1288743.17%  48767.0   \n",
       "3  WW63253  CA      M              Bachelor              764586.18%      0.0   \n",
       "4  GA49547  WA      M  High School or Below              536307.65%  36357.0   \n",
       "\n",
       "   monthly_premium_auto number_of_open_complaints     policy_type  \\\n",
       "0                1000.0                    1/0/00   Personal Auto   \n",
       "1                  94.0                    1/0/00   Personal Auto   \n",
       "2                 108.0                    1/0/00   Personal Auto   \n",
       "3                 106.0                    1/0/00  Corporate Auto   \n",
       "4                  68.0                    1/0/00   Personal Auto   \n",
       "\n",
       "   vehicle_class  total_claim_amount  \n",
       "0  Four-Door Car            2.704934  \n",
       "1  Four-Door Car         1131.464935  \n",
       "2   Two-Door Car          566.472247  \n",
       "3            SUV          529.881344  \n",
       "4  Four-Door Car           17.269323  "
      ]
     },
     "execution_count": 110,
     "metadata": {},
     "output_type": "execute_result"
    }
   ],
   "source": [
    "df3.head()"
   ]
  },
  {
   "cell_type": "code",
   "execution_count": 152,
   "id": "c29db7c9",
   "metadata": {},
   "outputs": [
    {
     "data": {
      "text/plain": [
       "array(['WA', 'AZ', 'NV', 'CA', 'OR', nan], dtype=object)"
      ]
     },
     "execution_count": 152,
     "metadata": {},
     "output_type": "execute_result"
    }
   ],
   "source": [
    "df3['st'].unique()"
   ]
  },
  {
   "cell_type": "code",
   "execution_count": 162,
   "id": "a185abb5",
   "metadata": {},
   "outputs": [
    {
     "data": {
      "text/html": [
       "<div>\n",
       "<style scoped>\n",
       "    .dataframe tbody tr th:only-of-type {\n",
       "        vertical-align: middle;\n",
       "    }\n",
       "\n",
       "    .dataframe tbody tr th {\n",
       "        vertical-align: top;\n",
       "    }\n",
       "\n",
       "    .dataframe thead th {\n",
       "        text-align: right;\n",
       "    }\n",
       "</style>\n",
       "<table border=\"1\" class=\"dataframe\">\n",
       "  <thead>\n",
       "    <tr style=\"text-align: right;\">\n",
       "      <th></th>\n",
       "      <th>percent nan</th>\n",
       "    </tr>\n",
       "  </thead>\n",
       "  <tbody>\n",
       "    <tr>\n",
       "      <th>customer</th>\n",
       "      <td>58.693046</td>\n",
       "    </tr>\n",
       "    <tr>\n",
       "      <th>st</th>\n",
       "      <td>58.693046</td>\n",
       "    </tr>\n",
       "    <tr>\n",
       "      <th>gender</th>\n",
       "      <td>61.131095</td>\n",
       "    </tr>\n",
       "    <tr>\n",
       "      <th>education</th>\n",
       "      <td>58.693046</td>\n",
       "    </tr>\n",
       "    <tr>\n",
       "      <th>customer_lifetime_value</th>\n",
       "      <td>58.832934</td>\n",
       "    </tr>\n",
       "    <tr>\n",
       "      <th>income</th>\n",
       "      <td>58.693046</td>\n",
       "    </tr>\n",
       "    <tr>\n",
       "      <th>monthly_premium_auto</th>\n",
       "      <td>58.693046</td>\n",
       "    </tr>\n",
       "    <tr>\n",
       "      <th>number_of_open_complaints</th>\n",
       "      <td>58.693046</td>\n",
       "    </tr>\n",
       "    <tr>\n",
       "      <th>policy_type</th>\n",
       "      <td>58.693046</td>\n",
       "    </tr>\n",
       "    <tr>\n",
       "      <th>vehicle_class</th>\n",
       "      <td>58.693046</td>\n",
       "    </tr>\n",
       "    <tr>\n",
       "      <th>total_claim_amount</th>\n",
       "      <td>58.693046</td>\n",
       "    </tr>\n",
       "    <tr>\n",
       "      <th>region</th>\n",
       "      <td>58.693046</td>\n",
       "    </tr>\n",
       "    <tr>\n",
       "      <th>region_mapped</th>\n",
       "      <td>58.693046</td>\n",
       "    </tr>\n",
       "    <tr>\n",
       "      <th>region_st</th>\n",
       "      <td>58.693046</td>\n",
       "    </tr>\n",
       "  </tbody>\n",
       "</table>\n",
       "</div>"
      ],
      "text/plain": [
       "                           percent nan\n",
       "customer                     58.693046\n",
       "st                           58.693046\n",
       "gender                       61.131095\n",
       "education                    58.693046\n",
       "customer_lifetime_value      58.832934\n",
       "income                       58.693046\n",
       "monthly_premium_auto         58.693046\n",
       "number_of_open_complaints    58.693046\n",
       "policy_type                  58.693046\n",
       "vehicle_class                58.693046\n",
       "total_claim_amount           58.693046\n",
       "region                       58.693046\n",
       "region_mapped                58.693046\n",
       "region_st                    58.693046"
      ]
     },
     "execution_count": 162,
     "metadata": {},
     "output_type": "execute_result"
    }
   ],
   "source": [
    "pd.DataFrame(100 * df3.isna().sum()/len(df3), columns=['percent nan'])"
   ]
  },
  {
   "cell_type": "code",
   "execution_count": 165,
   "id": "31151461",
   "metadata": {},
   "outputs": [],
   "source": [
    "df4 = df3.dropna(axis=0, how='all')"
   ]
  },
  {
   "cell_type": "code",
   "execution_count": 166,
   "id": "aba2ae2b",
   "metadata": {},
   "outputs": [
    {
     "data": {
      "text/plain": [
       "customer                     0.000000\n",
       "st                           0.000000\n",
       "gender                       5.902274\n",
       "education                    0.000000\n",
       "customer_lifetime_value      0.338655\n",
       "income                       0.000000\n",
       "monthly_premium_auto         0.000000\n",
       "number_of_open_complaints    0.000000\n",
       "policy_type                  0.000000\n",
       "vehicle_class                0.000000\n",
       "total_claim_amount           0.000000\n",
       "region                       0.000000\n",
       "region_mapped                0.000000\n",
       "region_st                    0.000000\n",
       "dtype: float64"
      ]
     },
     "execution_count": 166,
     "metadata": {},
     "output_type": "execute_result"
    }
   ],
   "source": [
    "100 * df4.isna().sum()/len(df4)"
   ]
  },
  {
   "cell_type": "code",
   "execution_count": 167,
   "id": "e8caf4bb",
   "metadata": {},
   "outputs": [
    {
     "data": {
      "text/html": [
       "<div>\n",
       "<style scoped>\n",
       "    .dataframe tbody tr th:only-of-type {\n",
       "        vertical-align: middle;\n",
       "    }\n",
       "\n",
       "    .dataframe tbody tr th {\n",
       "        vertical-align: top;\n",
       "    }\n",
       "\n",
       "    .dataframe thead th {\n",
       "        text-align: right;\n",
       "    }\n",
       "</style>\n",
       "<table border=\"1\" class=\"dataframe\">\n",
       "  <thead>\n",
       "    <tr style=\"text-align: right;\">\n",
       "      <th></th>\n",
       "      <th>customer</th>\n",
       "      <th>st</th>\n",
       "      <th>gender</th>\n",
       "      <th>education</th>\n",
       "      <th>customer_lifetime_value</th>\n",
       "      <th>income</th>\n",
       "      <th>monthly_premium_auto</th>\n",
       "      <th>number_of_open_complaints</th>\n",
       "      <th>policy_type</th>\n",
       "      <th>vehicle_class</th>\n",
       "      <th>total_claim_amount</th>\n",
       "      <th>region</th>\n",
       "      <th>region_mapped</th>\n",
       "      <th>region_st</th>\n",
       "    </tr>\n",
       "  </thead>\n",
       "  <tbody>\n",
       "    <tr>\n",
       "      <th>0</th>\n",
       "      <td>RB50392</td>\n",
       "      <td>WA</td>\n",
       "      <td>NaN</td>\n",
       "      <td>Master</td>\n",
       "      <td>NaN</td>\n",
       "      <td>0.0</td>\n",
       "      <td>1000.0</td>\n",
       "      <td>1/0/00</td>\n",
       "      <td>Personal Auto</td>\n",
       "      <td>Four-Door Car</td>\n",
       "      <td>2.704934</td>\n",
       "      <td>west_coast</td>\n",
       "      <td>west_coast</td>\n",
       "      <td>west_coast</td>\n",
       "    </tr>\n",
       "    <tr>\n",
       "      <th>1</th>\n",
       "      <td>QZ44356</td>\n",
       "      <td>AZ</td>\n",
       "      <td>F</td>\n",
       "      <td>Bachelor</td>\n",
       "      <td>697953.59%</td>\n",
       "      <td>0.0</td>\n",
       "      <td>94.0</td>\n",
       "      <td>1/0/00</td>\n",
       "      <td>Personal Auto</td>\n",
       "      <td>Four-Door Car</td>\n",
       "      <td>1131.464935</td>\n",
       "      <td>midwest</td>\n",
       "      <td>midwest</td>\n",
       "      <td>midwest</td>\n",
       "    </tr>\n",
       "    <tr>\n",
       "      <th>2</th>\n",
       "      <td>AI49188</td>\n",
       "      <td>NV</td>\n",
       "      <td>F</td>\n",
       "      <td>Bachelor</td>\n",
       "      <td>1288743.17%</td>\n",
       "      <td>48767.0</td>\n",
       "      <td>108.0</td>\n",
       "      <td>1/0/00</td>\n",
       "      <td>Personal Auto</td>\n",
       "      <td>Two-Door Car</td>\n",
       "      <td>566.472247</td>\n",
       "      <td>midwest</td>\n",
       "      <td>midwest</td>\n",
       "      <td>midwest</td>\n",
       "    </tr>\n",
       "    <tr>\n",
       "      <th>3</th>\n",
       "      <td>WW63253</td>\n",
       "      <td>CA</td>\n",
       "      <td>M</td>\n",
       "      <td>Bachelor</td>\n",
       "      <td>764586.18%</td>\n",
       "      <td>0.0</td>\n",
       "      <td>106.0</td>\n",
       "      <td>1/0/00</td>\n",
       "      <td>Corporate Auto</td>\n",
       "      <td>SUV</td>\n",
       "      <td>529.881344</td>\n",
       "      <td>west_coast</td>\n",
       "      <td>west_coast</td>\n",
       "      <td>west_coast</td>\n",
       "    </tr>\n",
       "    <tr>\n",
       "      <th>4</th>\n",
       "      <td>GA49547</td>\n",
       "      <td>WA</td>\n",
       "      <td>M</td>\n",
       "      <td>High School or Below</td>\n",
       "      <td>536307.65%</td>\n",
       "      <td>36357.0</td>\n",
       "      <td>68.0</td>\n",
       "      <td>1/0/00</td>\n",
       "      <td>Personal Auto</td>\n",
       "      <td>Four-Door Car</td>\n",
       "      <td>17.269323</td>\n",
       "      <td>west_coast</td>\n",
       "      <td>west_coast</td>\n",
       "      <td>west_coast</td>\n",
       "    </tr>\n",
       "    <tr>\n",
       "      <th>...</th>\n",
       "      <td>...</td>\n",
       "      <td>...</td>\n",
       "      <td>...</td>\n",
       "      <td>...</td>\n",
       "      <td>...</td>\n",
       "      <td>...</td>\n",
       "      <td>...</td>\n",
       "      <td>...</td>\n",
       "      <td>...</td>\n",
       "      <td>...</td>\n",
       "      <td>...</td>\n",
       "      <td>...</td>\n",
       "      <td>...</td>\n",
       "      <td>...</td>\n",
       "    </tr>\n",
       "    <tr>\n",
       "      <th>991</th>\n",
       "      <td>HV85198</td>\n",
       "      <td>AZ</td>\n",
       "      <td>M</td>\n",
       "      <td>Master</td>\n",
       "      <td>847141.75%</td>\n",
       "      <td>63513.0</td>\n",
       "      <td>70.0</td>\n",
       "      <td>1/0/00</td>\n",
       "      <td>Personal Auto</td>\n",
       "      <td>Four-Door Car</td>\n",
       "      <td>185.667213</td>\n",
       "      <td>midwest</td>\n",
       "      <td>midwest</td>\n",
       "      <td>midwest</td>\n",
       "    </tr>\n",
       "    <tr>\n",
       "      <th>992</th>\n",
       "      <td>BS91566</td>\n",
       "      <td>AZ</td>\n",
       "      <td>F</td>\n",
       "      <td>College</td>\n",
       "      <td>543121.91%</td>\n",
       "      <td>58161.0</td>\n",
       "      <td>68.0</td>\n",
       "      <td>1/0/00</td>\n",
       "      <td>Corporate Auto</td>\n",
       "      <td>Four-Door Car</td>\n",
       "      <td>140.747286</td>\n",
       "      <td>midwest</td>\n",
       "      <td>midwest</td>\n",
       "      <td>midwest</td>\n",
       "    </tr>\n",
       "    <tr>\n",
       "      <th>993</th>\n",
       "      <td>IL40123</td>\n",
       "      <td>NV</td>\n",
       "      <td>F</td>\n",
       "      <td>College</td>\n",
       "      <td>568964.41%</td>\n",
       "      <td>83640.0</td>\n",
       "      <td>70.0</td>\n",
       "      <td>1/0/00</td>\n",
       "      <td>Corporate Auto</td>\n",
       "      <td>Two-Door Car</td>\n",
       "      <td>471.050488</td>\n",
       "      <td>midwest</td>\n",
       "      <td>midwest</td>\n",
       "      <td>midwest</td>\n",
       "    </tr>\n",
       "    <tr>\n",
       "      <th>994</th>\n",
       "      <td>MY32149</td>\n",
       "      <td>CA</td>\n",
       "      <td>F</td>\n",
       "      <td>Master</td>\n",
       "      <td>368672.38%</td>\n",
       "      <td>0.0</td>\n",
       "      <td>96.0</td>\n",
       "      <td>1/0/00</td>\n",
       "      <td>Personal Auto</td>\n",
       "      <td>Two-Door Car</td>\n",
       "      <td>28.460568</td>\n",
       "      <td>west_coast</td>\n",
       "      <td>west_coast</td>\n",
       "      <td>west_coast</td>\n",
       "    </tr>\n",
       "    <tr>\n",
       "      <th>995</th>\n",
       "      <td>SA91515</td>\n",
       "      <td>CA</td>\n",
       "      <td>M</td>\n",
       "      <td>Bachelor</td>\n",
       "      <td>399258.39%</td>\n",
       "      <td>0.0</td>\n",
       "      <td>111.0</td>\n",
       "      <td>1/0/00</td>\n",
       "      <td>Personal Auto</td>\n",
       "      <td>SUV</td>\n",
       "      <td>700.349052</td>\n",
       "      <td>west_coast</td>\n",
       "      <td>west_coast</td>\n",
       "      <td>west_coast</td>\n",
       "    </tr>\n",
       "  </tbody>\n",
       "</table>\n",
       "<p>5004 rows × 14 columns</p>\n",
       "</div>"
      ],
      "text/plain": [
       "    customer  st gender             education customer_lifetime_value  \\\n",
       "0    RB50392  WA    NaN                Master                     NaN   \n",
       "1    QZ44356  AZ      F              Bachelor              697953.59%   \n",
       "2    AI49188  NV      F              Bachelor             1288743.17%   \n",
       "3    WW63253  CA      M              Bachelor              764586.18%   \n",
       "4    GA49547  WA      M  High School or Below              536307.65%   \n",
       "..       ...  ..    ...                   ...                     ...   \n",
       "991  HV85198  AZ      M                Master              847141.75%   \n",
       "992  BS91566  AZ      F               College              543121.91%   \n",
       "993  IL40123  NV      F               College              568964.41%   \n",
       "994  MY32149  CA      F                Master              368672.38%   \n",
       "995  SA91515  CA      M              Bachelor              399258.39%   \n",
       "\n",
       "      income  monthly_premium_auto number_of_open_complaints     policy_type  \\\n",
       "0        0.0                1000.0                    1/0/00   Personal Auto   \n",
       "1        0.0                  94.0                    1/0/00   Personal Auto   \n",
       "2    48767.0                 108.0                    1/0/00   Personal Auto   \n",
       "3        0.0                 106.0                    1/0/00  Corporate Auto   \n",
       "4    36357.0                  68.0                    1/0/00   Personal Auto   \n",
       "..       ...                   ...                       ...             ...   \n",
       "991  63513.0                  70.0                    1/0/00   Personal Auto   \n",
       "992  58161.0                  68.0                    1/0/00  Corporate Auto   \n",
       "993  83640.0                  70.0                    1/0/00  Corporate Auto   \n",
       "994      0.0                  96.0                    1/0/00   Personal Auto   \n",
       "995      0.0                 111.0                    1/0/00   Personal Auto   \n",
       "\n",
       "     vehicle_class  total_claim_amount      region region_mapped   region_st  \n",
       "0    Four-Door Car            2.704934  west_coast    west_coast  west_coast  \n",
       "1    Four-Door Car         1131.464935     midwest       midwest     midwest  \n",
       "2     Two-Door Car          566.472247     midwest       midwest     midwest  \n",
       "3              SUV          529.881344  west_coast    west_coast  west_coast  \n",
       "4    Four-Door Car           17.269323  west_coast    west_coast  west_coast  \n",
       "..             ...                 ...         ...           ...         ...  \n",
       "991  Four-Door Car          185.667213     midwest       midwest     midwest  \n",
       "992  Four-Door Car          140.747286     midwest       midwest     midwest  \n",
       "993   Two-Door Car          471.050488     midwest       midwest     midwest  \n",
       "994   Two-Door Car           28.460568  west_coast    west_coast  west_coast  \n",
       "995            SUV          700.349052  west_coast    west_coast  west_coast  \n",
       "\n",
       "[5004 rows x 14 columns]"
      ]
     },
     "execution_count": 167,
     "metadata": {},
     "output_type": "execute_result"
    }
   ],
   "source": [
    "df3"
   ]
  },
  {
   "cell_type": "code",
   "execution_count": 150,
   "id": "7996071b",
   "metadata": {},
   "outputs": [],
   "source": [
    "def state_group(x):\n",
    "    # checking for NaN. If x is NaN, return x\n",
    "    if not x==x:\n",
    "        return x\n",
    "    \n",
    "    else:\n",
    "\n",
    "        dct_ = {'WA':'west_coast',\n",
    "                'AZ':'midwest',\n",
    "                'NV': 'midwest',\n",
    "                'CA':'west_coast',\n",
    "                'OR':'west_coast',\n",
    "               }\n",
    "        \n",
    "        return dct_[x]\n",
    "\n",
    "df3['region'] = df3['st'].apply(state_group)"
   ]
  },
  {
   "cell_type": "code",
   "execution_count": 153,
   "id": "89e88a20",
   "metadata": {},
   "outputs": [
    {
     "data": {
      "text/html": [
       "<div>\n",
       "<style scoped>\n",
       "    .dataframe tbody tr th:only-of-type {\n",
       "        vertical-align: middle;\n",
       "    }\n",
       "\n",
       "    .dataframe tbody tr th {\n",
       "        vertical-align: top;\n",
       "    }\n",
       "\n",
       "    .dataframe thead th {\n",
       "        text-align: right;\n",
       "    }\n",
       "</style>\n",
       "<table border=\"1\" class=\"dataframe\">\n",
       "  <thead>\n",
       "    <tr style=\"text-align: right;\">\n",
       "      <th></th>\n",
       "      <th>region</th>\n",
       "      <th>st</th>\n",
       "    </tr>\n",
       "  </thead>\n",
       "  <tbody>\n",
       "    <tr>\n",
       "      <th>0</th>\n",
       "      <td>west_coast</td>\n",
       "      <td>WA</td>\n",
       "    </tr>\n",
       "    <tr>\n",
       "      <th>1</th>\n",
       "      <td>midwest</td>\n",
       "      <td>AZ</td>\n",
       "    </tr>\n",
       "    <tr>\n",
       "      <th>2</th>\n",
       "      <td>midwest</td>\n",
       "      <td>NV</td>\n",
       "    </tr>\n",
       "    <tr>\n",
       "      <th>3</th>\n",
       "      <td>west_coast</td>\n",
       "      <td>CA</td>\n",
       "    </tr>\n",
       "    <tr>\n",
       "      <th>4</th>\n",
       "      <td>west_coast</td>\n",
       "      <td>WA</td>\n",
       "    </tr>\n",
       "    <tr>\n",
       "      <th>...</th>\n",
       "      <td>...</td>\n",
       "      <td>...</td>\n",
       "    </tr>\n",
       "    <tr>\n",
       "      <th>991</th>\n",
       "      <td>midwest</td>\n",
       "      <td>AZ</td>\n",
       "    </tr>\n",
       "    <tr>\n",
       "      <th>992</th>\n",
       "      <td>midwest</td>\n",
       "      <td>AZ</td>\n",
       "    </tr>\n",
       "    <tr>\n",
       "      <th>993</th>\n",
       "      <td>midwest</td>\n",
       "      <td>NV</td>\n",
       "    </tr>\n",
       "    <tr>\n",
       "      <th>994</th>\n",
       "      <td>west_coast</td>\n",
       "      <td>CA</td>\n",
       "    </tr>\n",
       "    <tr>\n",
       "      <th>995</th>\n",
       "      <td>west_coast</td>\n",
       "      <td>CA</td>\n",
       "    </tr>\n",
       "  </tbody>\n",
       "</table>\n",
       "<p>5004 rows × 2 columns</p>\n",
       "</div>"
      ],
      "text/plain": [
       "         region  st\n",
       "0    west_coast  WA\n",
       "1       midwest  AZ\n",
       "2       midwest  NV\n",
       "3    west_coast  CA\n",
       "4    west_coast  WA\n",
       "..          ...  ..\n",
       "991     midwest  AZ\n",
       "992     midwest  AZ\n",
       "993     midwest  NV\n",
       "994  west_coast  CA\n",
       "995  west_coast  CA\n",
       "\n",
       "[5004 rows x 2 columns]"
      ]
     },
     "execution_count": 153,
     "metadata": {},
     "output_type": "execute_result"
    }
   ],
   "source": [
    "df3[['region', 'st']]"
   ]
  },
  {
   "cell_type": "code",
   "execution_count": 154,
   "id": "2e3dbceb",
   "metadata": {},
   "outputs": [
    {
     "data": {
      "text/plain": [
       "array(['west_coast', 'midwest', None], dtype=object)"
      ]
     },
     "execution_count": 154,
     "metadata": {},
     "output_type": "execute_result"
    }
   ],
   "source": [
    "df3['region'].unique()"
   ]
  },
  {
   "cell_type": "code",
   "execution_count": 122,
   "id": "e51f3b07",
   "metadata": {},
   "outputs": [],
   "source": [
    "df3['region_mapped'] = list(map(state_group, df3['st']))"
   ]
  },
  {
   "cell_type": "code",
   "execution_count": 124,
   "id": "7f6c95f9",
   "metadata": {},
   "outputs": [
    {
     "data": {
      "text/html": [
       "<div>\n",
       "<style scoped>\n",
       "    .dataframe tbody tr th:only-of-type {\n",
       "        vertical-align: middle;\n",
       "    }\n",
       "\n",
       "    .dataframe tbody tr th {\n",
       "        vertical-align: top;\n",
       "    }\n",
       "\n",
       "    .dataframe thead th {\n",
       "        text-align: right;\n",
       "    }\n",
       "</style>\n",
       "<table border=\"1\" class=\"dataframe\">\n",
       "  <thead>\n",
       "    <tr style=\"text-align: right;\">\n",
       "      <th></th>\n",
       "      <th>region_mapped</th>\n",
       "      <th>region</th>\n",
       "      <th>st</th>\n",
       "    </tr>\n",
       "  </thead>\n",
       "  <tbody>\n",
       "    <tr>\n",
       "      <th>0</th>\n",
       "      <td>west_coast</td>\n",
       "      <td>west_coast</td>\n",
       "      <td>WA</td>\n",
       "    </tr>\n",
       "    <tr>\n",
       "      <th>1</th>\n",
       "      <td>midwest</td>\n",
       "      <td>midwest</td>\n",
       "      <td>AZ</td>\n",
       "    </tr>\n",
       "    <tr>\n",
       "      <th>2</th>\n",
       "      <td>midwest</td>\n",
       "      <td>midwest</td>\n",
       "      <td>NV</td>\n",
       "    </tr>\n",
       "    <tr>\n",
       "      <th>3</th>\n",
       "      <td>west_coast</td>\n",
       "      <td>west_coast</td>\n",
       "      <td>CA</td>\n",
       "    </tr>\n",
       "    <tr>\n",
       "      <th>4</th>\n",
       "      <td>west_coast</td>\n",
       "      <td>west_coast</td>\n",
       "      <td>WA</td>\n",
       "    </tr>\n",
       "    <tr>\n",
       "      <th>...</th>\n",
       "      <td>...</td>\n",
       "      <td>...</td>\n",
       "      <td>...</td>\n",
       "    </tr>\n",
       "    <tr>\n",
       "      <th>991</th>\n",
       "      <td>midwest</td>\n",
       "      <td>midwest</td>\n",
       "      <td>AZ</td>\n",
       "    </tr>\n",
       "    <tr>\n",
       "      <th>992</th>\n",
       "      <td>midwest</td>\n",
       "      <td>midwest</td>\n",
       "      <td>AZ</td>\n",
       "    </tr>\n",
       "    <tr>\n",
       "      <th>993</th>\n",
       "      <td>midwest</td>\n",
       "      <td>midwest</td>\n",
       "      <td>NV</td>\n",
       "    </tr>\n",
       "    <tr>\n",
       "      <th>994</th>\n",
       "      <td>west_coast</td>\n",
       "      <td>west_coast</td>\n",
       "      <td>CA</td>\n",
       "    </tr>\n",
       "    <tr>\n",
       "      <th>995</th>\n",
       "      <td>west_coast</td>\n",
       "      <td>west_coast</td>\n",
       "      <td>CA</td>\n",
       "    </tr>\n",
       "  </tbody>\n",
       "</table>\n",
       "<p>5004 rows × 3 columns</p>\n",
       "</div>"
      ],
      "text/plain": [
       "    region_mapped      region  st\n",
       "0      west_coast  west_coast  WA\n",
       "1         midwest     midwest  AZ\n",
       "2         midwest     midwest  NV\n",
       "3      west_coast  west_coast  CA\n",
       "4      west_coast  west_coast  WA\n",
       "..            ...         ...  ..\n",
       "991       midwest     midwest  AZ\n",
       "992       midwest     midwest  AZ\n",
       "993       midwest     midwest  NV\n",
       "994    west_coast  west_coast  CA\n",
       "995    west_coast  west_coast  CA\n",
       "\n",
       "[5004 rows x 3 columns]"
      ]
     },
     "execution_count": 124,
     "metadata": {},
     "output_type": "execute_result"
    }
   ],
   "source": [
    "df3[['region_mapped', 'region', 'st']]"
   ]
  },
  {
   "cell_type": "code",
   "execution_count": 125,
   "id": "2219eb28",
   "metadata": {},
   "outputs": [
    {
     "name": "stdout",
     "output_type": "stream",
     "text": [
      "pycountry                 20.7.3             pyh9f0ad1d_0    conda-forge\r\n",
      "pycountry-convert         0.7.2                    pypi_0    pypi\r\n"
     ]
    }
   ],
   "source": [
    "!conda list | grep pycountry"
   ]
  },
  {
   "cell_type": "code",
   "execution_count": 126,
   "id": "559bc84a",
   "metadata": {},
   "outputs": [],
   "source": [
    "import pycountry"
   ]
  },
  {
   "cell_type": "code",
   "execution_count": 145,
   "id": "9ca1c394",
   "metadata": {},
   "outputs": [],
   "source": [
    "def state_group(x):\n",
    "    # checking for NaN. If x is NaN, return x\n",
    "    if not x==x:\n",
    "        return x\n",
    "    else:\n",
    "        dct_ = {'west_coast':['CA', 'OR', 'WA'],\n",
    "                'midwest':['AZ', 'NV'],\n",
    "               }\n",
    "        \n",
    "        return [k for k,v in dct_.items() if x in v][0]\n",
    "\n",
    "\n"
   ]
  },
  {
   "cell_type": "code",
   "execution_count": 146,
   "id": "125e2869",
   "metadata": {},
   "outputs": [],
   "source": [
    "dct_ = {'west_coast':['CA', 'OR'],\n",
    "        'midwest':['AZ', 'NV'],\n",
    "       }"
   ]
  },
  {
   "cell_type": "code",
   "execution_count": 147,
   "id": "953b918f",
   "metadata": {},
   "outputs": [
    {
     "name": "stdout",
     "output_type": "stream",
     "text": [
      "midwest\n"
     ]
    }
   ],
   "source": [
    "for k, v in dct_.items():\n",
    "    if 'AZ' in v:\n",
    "        print(k)\n",
    "        "
   ]
  },
  {
   "cell_type": "code",
   "execution_count": 148,
   "id": "ac526287",
   "metadata": {},
   "outputs": [],
   "source": [
    "df3['region_st'] = df3['st'].apply(state_group)"
   ]
  },
  {
   "cell_type": "code",
   "execution_count": 149,
   "id": "e102a747",
   "metadata": {},
   "outputs": [
    {
     "data": {
      "text/plain": [
       "0      west_coast\n",
       "1         midwest\n",
       "2         midwest\n",
       "3      west_coast\n",
       "4      west_coast\n",
       "          ...    \n",
       "991       midwest\n",
       "992       midwest\n",
       "993       midwest\n",
       "994    west_coast\n",
       "995    west_coast\n",
       "Name: region_st, Length: 5004, dtype: object"
      ]
     },
     "execution_count": 149,
     "metadata": {},
     "output_type": "execute_result"
    }
   ],
   "source": [
    "df3['region_st']"
   ]
  },
  {
   "cell_type": "code",
   "execution_count": null,
   "id": "4fe14e79",
   "metadata": {},
   "outputs": [],
   "source": []
  }
 ],
 "metadata": {
  "kernelspec": {
   "display_name": "Python 3",
   "language": "python",
   "name": "python3"
  },
  "language_info": {
   "codemirror_mode": {
    "name": "ipython",
    "version": 3
   },
   "file_extension": ".py",
   "mimetype": "text/x-python",
   "name": "python",
   "nbconvert_exporter": "python",
   "pygments_lexer": "ipython3",
   "version": "3.8.11"
  }
 },
 "nbformat": 4,
 "nbformat_minor": 5
}
