{
 "cells": [
  {
   "cell_type": "code",
   "execution_count": 4,
   "id": "20b457f4",
   "metadata": {},
   "outputs": [],
   "source": [
    "# import libraries to use (pandas, numpy, matplotlib.pyplot and seaborn)\n",
    "import numpy as np\n",
    "import pandas as pd\n",
    "import matplotlib.pyplot as plt\n",
    "import seaborn as sns\n",
    "%matplotlib inline"
   ]
  },
  {
   "cell_type": "code",
   "execution_count": 5,
   "id": "87a9faec",
   "metadata": {},
   "outputs": [],
   "source": [
    "#importing function\n",
    "path = \"Data_Marketing_Customer_Analysis_Round2.csv\"\n",
    "#load original data\n",
    "def load_original_data(path):\n",
    "    return pd.read_csv(path)"
   ]
  },
  {
   "cell_type": "code",
   "execution_count": 6,
   "id": "010cd5a7",
   "metadata": {},
   "outputs": [],
   "source": [
    "cs_df = load_original_data(path)"
   ]
  },
  {
   "cell_type": "code",
   "execution_count": 7,
   "id": "f31d800f",
   "metadata": {},
   "outputs": [],
   "source": [
    "#standardising\n",
    "def lower_case_column_names(cs_df):\n",
    "    cs_df.columns = [i.lower() for i in cs_df.columns]\n",
    "    return cs_df"
   ]
  },
  {
   "cell_type": "code",
   "execution_count": 8,
   "id": "bbbeb8be",
   "metadata": {},
   "outputs": [],
   "source": [
    "def rename_columns(cs_df):\n",
    "    cs_df.rename(columns = {'employmentstatus': 'employment_status'}, inplace = True)\n",
    "    cs_df.columns = cs_df.columns.str.lower().str.replace(\" \", \"_\")\n",
    "\n",
    "    return cs_df"
   ]
  },
  {
   "cell_type": "code",
   "execution_count": 9,
   "id": "4ee82a05",
   "metadata": {},
   "outputs": [],
   "source": [
    "def drop_columns(cs_df):\n",
    "    cs_df.drop(columns = [\"unnamed:_0\",\"customer\"], inplace = True)\n",
    "    return cs_df"
   ]
  },
  {
   "cell_type": "code",
   "execution_count": 10,
   "id": "5b3ceb55",
   "metadata": {},
   "outputs": [],
   "source": [
    "def dd(cs_df):\n",
    "    cs_df = cs_df.drop_duplicates().reset_index()\n",
    "    cs_df.drop(columns = [\"index\"], inplace = True)\n",
    "    return cs_df"
   ]
  },
  {
   "cell_type": "code",
   "execution_count": 11,
   "id": "de71257e",
   "metadata": {},
   "outputs": [],
   "source": [
    "#Replacing null values\n",
    "def fill_na(cs_df):\n",
    "    cs_df['number_of_open_complaints'].fillna(value=cs_df['number_of_open_complaints'].mean(),inplace=True)\n",
    "    cs_df['months_since_last_claim'].fillna(value=cs_df['months_since_last_claim'].mean(),inplace=True)\n",
    "    cs_df['income'].fillna(value=cs_df['income'].mean(),inplace=True)\n",
    "    return cs_df"
   ]
  },
  {
   "cell_type": "code",
   "execution_count": 12,
   "id": "d57ecf37",
   "metadata": {},
   "outputs": [
    {
     "name": "stdout",
     "output_type": "stream",
     "text": [
      "<class 'pandas.core.frame.DataFrame'>\n",
      "RangeIndex: 10776 entries, 0 to 10775\n",
      "Data columns (total 24 columns):\n",
      " #   Column                         Non-Null Count  Dtype  \n",
      "---  ------                         --------------  -----  \n",
      " 0   state                          10163 non-null  object \n",
      " 1   customer_lifetime_value        10776 non-null  float64\n",
      " 2   response                       10163 non-null  object \n",
      " 3   coverage                       10776 non-null  object \n",
      " 4   education                      10776 non-null  object \n",
      " 5   effective_to_date              10776 non-null  object \n",
      " 6   employment_status              10776 non-null  object \n",
      " 7   gender                         10776 non-null  object \n",
      " 8   income                         10776 non-null  int64  \n",
      " 9   location_code                  10776 non-null  object \n",
      " 10  marital_status                 10776 non-null  object \n",
      " 11  monthly_premium_auto           10776 non-null  int64  \n",
      " 12  months_since_last_claim        10776 non-null  float64\n",
      " 13  months_since_policy_inception  10776 non-null  int64  \n",
      " 14  number_of_open_complaints      10776 non-null  float64\n",
      " 15  number_of_policies             10776 non-null  int64  \n",
      " 16  policy_type                    10776 non-null  object \n",
      " 17  policy                         10776 non-null  object \n",
      " 18  renew_offer_type               10776 non-null  object \n",
      " 19  sales_channel                  10776 non-null  object \n",
      " 20  total_claim_amount             10776 non-null  float64\n",
      " 21  vehicle_class                  10168 non-null  object \n",
      " 22  vehicle_size                   10168 non-null  object \n",
      " 23  vehicle_type                   5360 non-null   object \n",
      "dtypes: float64(4), int64(4), object(16)\n",
      "memory usage: 2.0+ MB\n"
     ]
    }
   ],
   "source": [
    "#Pipeline Controler\n",
    "cs_df = (load_original_data(path)\n",
    ".pipe(lower_case_column_names)\n",
    ".pipe(rename_columns)\n",
    ".pipe(drop_columns)\n",
    ".pipe(dd)\n",
    ".pipe(fill_na)\n",
    ")\n",
    "cs_df.info()"
   ]
  },
  {
   "cell_type": "code",
   "execution_count": 11,
   "id": "7feba020",
   "metadata": {},
   "outputs": [
    {
     "data": {
      "text/html": [
       "<div>\n",
       "<style scoped>\n",
       "    .dataframe tbody tr th:only-of-type {\n",
       "        vertical-align: middle;\n",
       "    }\n",
       "\n",
       "    .dataframe tbody tr th {\n",
       "        vertical-align: top;\n",
       "    }\n",
       "\n",
       "    .dataframe thead th {\n",
       "        text-align: right;\n",
       "    }\n",
       "</style>\n",
       "<table border=\"1\" class=\"dataframe\">\n",
       "  <thead>\n",
       "    <tr style=\"text-align: right;\">\n",
       "      <th></th>\n",
       "      <th>state</th>\n",
       "      <th>customer_lifetime_value</th>\n",
       "      <th>response</th>\n",
       "      <th>coverage</th>\n",
       "      <th>education</th>\n",
       "      <th>effective_to_date</th>\n",
       "      <th>employment_status</th>\n",
       "      <th>gender</th>\n",
       "      <th>income</th>\n",
       "      <th>location_code</th>\n",
       "      <th>...</th>\n",
       "      <th>number_of_open_complaints</th>\n",
       "      <th>number_of_policies</th>\n",
       "      <th>policy_type</th>\n",
       "      <th>policy</th>\n",
       "      <th>renew_offer_type</th>\n",
       "      <th>sales_channel</th>\n",
       "      <th>total_claim_amount</th>\n",
       "      <th>vehicle_class</th>\n",
       "      <th>vehicle_size</th>\n",
       "      <th>vehicle_type</th>\n",
       "    </tr>\n",
       "  </thead>\n",
       "  <tbody>\n",
       "    <tr>\n",
       "      <th>0</th>\n",
       "      <td>Arizona</td>\n",
       "      <td>4809.216960</td>\n",
       "      <td>No</td>\n",
       "      <td>Basic</td>\n",
       "      <td>College</td>\n",
       "      <td>2/18/11</td>\n",
       "      <td>Employed</td>\n",
       "      <td>M</td>\n",
       "      <td>48029</td>\n",
       "      <td>Suburban</td>\n",
       "      <td>...</td>\n",
       "      <td>0.000000</td>\n",
       "      <td>9</td>\n",
       "      <td>Corporate Auto</td>\n",
       "      <td>Corporate L3</td>\n",
       "      <td>Offer3</td>\n",
       "      <td>Agent</td>\n",
       "      <td>292.800000</td>\n",
       "      <td>Four-Door Car</td>\n",
       "      <td>Medsize</td>\n",
       "      <td>NaN</td>\n",
       "    </tr>\n",
       "    <tr>\n",
       "      <th>1</th>\n",
       "      <td>California</td>\n",
       "      <td>2228.525238</td>\n",
       "      <td>No</td>\n",
       "      <td>Basic</td>\n",
       "      <td>College</td>\n",
       "      <td>1/18/11</td>\n",
       "      <td>Unemployed</td>\n",
       "      <td>F</td>\n",
       "      <td>0</td>\n",
       "      <td>Suburban</td>\n",
       "      <td>...</td>\n",
       "      <td>0.000000</td>\n",
       "      <td>1</td>\n",
       "      <td>Personal Auto</td>\n",
       "      <td>Personal L3</td>\n",
       "      <td>Offer4</td>\n",
       "      <td>Call Center</td>\n",
       "      <td>744.924331</td>\n",
       "      <td>Four-Door Car</td>\n",
       "      <td>Medsize</td>\n",
       "      <td>NaN</td>\n",
       "    </tr>\n",
       "    <tr>\n",
       "      <th>2</th>\n",
       "      <td>Washington</td>\n",
       "      <td>14947.917300</td>\n",
       "      <td>No</td>\n",
       "      <td>Basic</td>\n",
       "      <td>Bachelor</td>\n",
       "      <td>2/10/2011</td>\n",
       "      <td>Employed</td>\n",
       "      <td>M</td>\n",
       "      <td>22139</td>\n",
       "      <td>Suburban</td>\n",
       "      <td>...</td>\n",
       "      <td>0.000000</td>\n",
       "      <td>2</td>\n",
       "      <td>Personal Auto</td>\n",
       "      <td>Personal L3</td>\n",
       "      <td>Offer3</td>\n",
       "      <td>Call Center</td>\n",
       "      <td>480.000000</td>\n",
       "      <td>SUV</td>\n",
       "      <td>Medsize</td>\n",
       "      <td>A</td>\n",
       "    </tr>\n",
       "    <tr>\n",
       "      <th>3</th>\n",
       "      <td>Oregon</td>\n",
       "      <td>22332.439460</td>\n",
       "      <td>Yes</td>\n",
       "      <td>Extended</td>\n",
       "      <td>College</td>\n",
       "      <td>1/11/2011</td>\n",
       "      <td>Employed</td>\n",
       "      <td>M</td>\n",
       "      <td>49078</td>\n",
       "      <td>Suburban</td>\n",
       "      <td>...</td>\n",
       "      <td>0.000000</td>\n",
       "      <td>2</td>\n",
       "      <td>Corporate Auto</td>\n",
       "      <td>Corporate L3</td>\n",
       "      <td>Offer2</td>\n",
       "      <td>Branch</td>\n",
       "      <td>484.013411</td>\n",
       "      <td>Four-Door Car</td>\n",
       "      <td>Medsize</td>\n",
       "      <td>A</td>\n",
       "    </tr>\n",
       "    <tr>\n",
       "      <th>4</th>\n",
       "      <td>Oregon</td>\n",
       "      <td>9025.067525</td>\n",
       "      <td>No</td>\n",
       "      <td>Premium</td>\n",
       "      <td>Bachelor</td>\n",
       "      <td>1/17/11</td>\n",
       "      <td>Medical Leave</td>\n",
       "      <td>F</td>\n",
       "      <td>23675</td>\n",
       "      <td>Suburban</td>\n",
       "      <td>...</td>\n",
       "      <td>0.383926</td>\n",
       "      <td>7</td>\n",
       "      <td>Personal Auto</td>\n",
       "      <td>Personal L2</td>\n",
       "      <td>Offer1</td>\n",
       "      <td>Branch</td>\n",
       "      <td>707.925645</td>\n",
       "      <td>Four-Door Car</td>\n",
       "      <td>Medsize</td>\n",
       "      <td>NaN</td>\n",
       "    </tr>\n",
       "  </tbody>\n",
       "</table>\n",
       "<p>5 rows × 24 columns</p>\n",
       "</div>"
      ],
      "text/plain": [
       "        state  customer_lifetime_value response  coverage education  \\\n",
       "0     Arizona              4809.216960       No     Basic   College   \n",
       "1  California              2228.525238       No     Basic   College   \n",
       "2  Washington             14947.917300       No     Basic  Bachelor   \n",
       "3      Oregon             22332.439460      Yes  Extended   College   \n",
       "4      Oregon              9025.067525       No   Premium  Bachelor   \n",
       "\n",
       "  effective_to_date employment_status gender  income location_code  ...  \\\n",
       "0           2/18/11          Employed      M   48029      Suburban  ...   \n",
       "1           1/18/11        Unemployed      F       0      Suburban  ...   \n",
       "2         2/10/2011          Employed      M   22139      Suburban  ...   \n",
       "3         1/11/2011          Employed      M   49078      Suburban  ...   \n",
       "4           1/17/11     Medical Leave      F   23675      Suburban  ...   \n",
       "\n",
       "  number_of_open_complaints  number_of_policies     policy_type        policy  \\\n",
       "0                  0.000000                   9  Corporate Auto  Corporate L3   \n",
       "1                  0.000000                   1   Personal Auto   Personal L3   \n",
       "2                  0.000000                   2   Personal Auto   Personal L3   \n",
       "3                  0.000000                   2  Corporate Auto  Corporate L3   \n",
       "4                  0.383926                   7   Personal Auto   Personal L2   \n",
       "\n",
       "   renew_offer_type  sales_channel total_claim_amount  vehicle_class  \\\n",
       "0            Offer3          Agent         292.800000  Four-Door Car   \n",
       "1            Offer4    Call Center         744.924331  Four-Door Car   \n",
       "2            Offer3    Call Center         480.000000            SUV   \n",
       "3            Offer2         Branch         484.013411  Four-Door Car   \n",
       "4            Offer1         Branch         707.925645  Four-Door Car   \n",
       "\n",
       "  vehicle_size vehicle_type  \n",
       "0      Medsize          NaN  \n",
       "1      Medsize          NaN  \n",
       "2      Medsize            A  \n",
       "3      Medsize            A  \n",
       "4      Medsize          NaN  \n",
       "\n",
       "[5 rows x 24 columns]"
      ]
     },
     "execution_count": 11,
     "metadata": {},
     "output_type": "execute_result"
    }
   ],
   "source": [
    "cs_df.head()"
   ]
  },
  {
   "cell_type": "markdown",
   "id": "07d9ec45",
   "metadata": {},
   "source": [
    "##Activity 4"
   ]
  },
  {
   "cell_type": "code",
   "execution_count": 13,
   "id": "8757945c",
   "metadata": {},
   "outputs": [
    {
     "data": {
      "text/plain": [
       "No     8795\n",
       "Yes    1368\n",
       "Name: response, dtype: int64"
      ]
     },
     "execution_count": 13,
     "metadata": {},
     "output_type": "execute_result"
    }
   ],
   "source": [
    "#Show a plot of the total number of responses.\n",
    "\n",
    "num_responses = cs_df[\"response\"].value_counts()\n",
    "num_responses"
   ]
  },
  {
   "cell_type": "code",
   "execution_count": 16,
   "id": "9cfb83e2",
   "metadata": {},
   "outputs": [
    {
     "data": {
      "image/png": "[encoded data removed]",
      "text/plain": [
       "<Figure size 432x288 with 1 Axes>"
      ]
     },
     "metadata": {
      "needs_background": "light"
     },
     "output_type": "display_data"
    }
   ],
   "source": [
    "sns.barplot(x=num_responses.index, y=num_responses)\n",
    "\n",
    "plt.show()"
   ]
  },
  {
   "cell_type": "code",
   "execution_count": 17,
   "id": "7fd1eb88",
   "metadata": {},
   "outputs": [
    {
     "data": {
      "text/html": [
       "<div>\n",
       "<style scoped>\n",
       "    .dataframe tbody tr th:only-of-type {\n",
       "        vertical-align: middle;\n",
       "    }\n",
       "\n",
       "    .dataframe tbody tr th {\n",
       "        vertical-align: top;\n",
       "    }\n",
       "\n",
       "    .dataframe thead th {\n",
       "        text-align: right;\n",
       "    }\n",
       "</style>\n",
       "<table border=\"1\" class=\"dataframe\">\n",
       "  <thead>\n",
       "    <tr style=\"text-align: right;\">\n",
       "      <th></th>\n",
       "      <th>response</th>\n",
       "      <th>sales_channel</th>\n",
       "      <th>count</th>\n",
       "    </tr>\n",
       "  </thead>\n",
       "  <tbody>\n",
       "    <tr>\n",
       "      <th>0</th>\n",
       "      <td>No</td>\n",
       "      <td>Agent</td>\n",
       "      <td>3142</td>\n",
       "    </tr>\n",
       "    <tr>\n",
       "      <th>1</th>\n",
       "      <td>No</td>\n",
       "      <td>Branch</td>\n",
       "      <td>2533</td>\n",
       "    </tr>\n",
       "    <tr>\n",
       "      <th>2</th>\n",
       "      <td>No</td>\n",
       "      <td>Call Center</td>\n",
       "      <td>1790</td>\n",
       "    </tr>\n",
       "    <tr>\n",
       "      <th>3</th>\n",
       "      <td>No</td>\n",
       "      <td>Web</td>\n",
       "      <td>1330</td>\n",
       "    </tr>\n",
       "    <tr>\n",
       "      <th>4</th>\n",
       "      <td>Yes</td>\n",
       "      <td>Agent</td>\n",
       "      <td>694</td>\n",
       "    </tr>\n",
       "    <tr>\n",
       "      <th>5</th>\n",
       "      <td>Yes</td>\n",
       "      <td>Branch</td>\n",
       "      <td>307</td>\n",
       "    </tr>\n",
       "    <tr>\n",
       "      <th>6</th>\n",
       "      <td>Yes</td>\n",
       "      <td>Call Center</td>\n",
       "      <td>204</td>\n",
       "    </tr>\n",
       "    <tr>\n",
       "      <th>7</th>\n",
       "      <td>Yes</td>\n",
       "      <td>Web</td>\n",
       "      <td>163</td>\n",
       "    </tr>\n",
       "  </tbody>\n",
       "</table>\n",
       "</div>"
      ],
      "text/plain": [
       "  response sales_channel  count\n",
       "0       No         Agent   3142\n",
       "1       No        Branch   2533\n",
       "2       No   Call Center   1790\n",
       "3       No           Web   1330\n",
       "4      Yes         Agent    694\n",
       "5      Yes        Branch    307\n",
       "6      Yes   Call Center    204\n",
       "7      Yes           Web    163"
      ]
     },
     "execution_count": 17,
     "metadata": {},
     "output_type": "execute_result"
    }
   ],
   "source": [
    "#Plot response rate by channel\n",
    "\n",
    "response_rate = cs_df.groupby(['response', 'sales_channel']).size().reset_index(name= 'count')\n",
    "response_rate"
   ]
  },
  {
   "cell_type": "code",
   "execution_count": 18,
   "id": "55f319aa",
   "metadata": {},
   "outputs": [
    {
     "data": {
      "text/plain": [
       "<AxesSubplot:title={'center':'Response rate by channel'}, xlabel='response', ylabel='count'>"
      ]
     },
     "execution_count": 18,
     "metadata": {},
     "output_type": "execute_result"
    },
    {
     "data": {
      "image/png": "[encoded data removed]",
      "text/plain": [
       "<Figure size 432x288 with 1 Axes>"
      ]
     },
     "metadata": {
      "needs_background": "light"
     },
     "output_type": "display_data"
    }
   ],
   "source": [
    "fig, ax = plt.subplots()\n",
    "\n",
    "ax.set_title(\"Response rate by channel\")\n",
    "\n",
    "# uses seaborn barplot(x, y, hue = , palette = ) function\n",
    "sns.barplot(x = response_rate['response'], y = response_rate['count'], hue = response_rate['sales_channel'])"
   ]
  },
  {
   "cell_type": "code",
   "execution_count": 39,
   "id": "96d40db4",
   "metadata": {},
   "outputs": [],
   "source": [
    "#Show a plot of the response rate by the total claim amount.\n",
    "# response_rate_1 = cs_df.groupby(['response', 'total_claim_amount']).size().reset_index(name= 'count')\n",
    "# response_rate_1\n",
    "# sns.barplot(x = response_rate['response'], y = response_rate['count'], hue = response_rate['total_claim_amount'])"
   ]
  },
  {
   "cell_type": "code",
   "execution_count": 40,
   "id": "e7995660",
   "metadata": {},
   "outputs": [],
   "source": [
    "#Show a plot of the response rate by income.\n",
    "# response_rate_2 = cs_df.groupby(['response', 'income']).size().reset_index(name= 'count')\n",
    "# response_rate_2\n",
    "# sns.barplot(x = response_rate['response'], y = response_rate['count'], hue = response_rate['income'])"
   ]
  },
  {
   "cell_type": "code",
   "execution_count": null,
   "id": "8c023f92",
   "metadata": {},
   "outputs": [],
   "source": [
    "#Show a plot of the response rate by income. "
   ]
  },
  {
   "cell_type": "code",
   "execution_count": 19,
   "id": "bb1f89f7",
   "metadata": {},
   "outputs": [
    {
     "data": {
      "text/plain": [
       "<AxesSubplot:>"
      ]
     },
     "execution_count": 19,
     "metadata": {},
     "output_type": "execute_result"
    },
    {
     "data": {
      "image/png": "[encoded data removed]",
      "text/plain": [
       "<Figure size 864x720 with 2 Axes>"
      ]
     },
     "metadata": {
      "needs_background": "light"
     },
     "output_type": "display_data"
    }
   ],
   "source": [
    "#Correlation heatmap\n",
    "\n",
    "fig,ax = plt.subplots(figsize=(12,10))\n",
    "sns.heatmap(cs_df.corr(),annot=True, ax=ax)"
   ]
  },
  {
   "cell_type": "code",
   "execution_count": null,
   "id": "643ce198",
   "metadata": {},
   "outputs": [],
   "source": []
  }
 ],
 "metadata": {
  "kernelspec": {
   "display_name": "Python 3",
   "language": "python",
   "name": "python3"
  },
  "language_info": {
   "codemirror_mode": {
    "name": "ipython",
    "version": 3
   },
   "file_extension": ".py",
   "mimetype": "text/x-python",
   "name": "python",
   "nbconvert_exporter": "python",
   "pygments_lexer": "ipython3",
   "version": "3.9.6"
  }
 },
 "nbformat": 4,
 "nbformat_minor": 5
}
