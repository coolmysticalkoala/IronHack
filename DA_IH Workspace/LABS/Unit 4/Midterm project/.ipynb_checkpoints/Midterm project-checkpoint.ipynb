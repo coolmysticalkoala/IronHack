{
 "cells": [
  {
   "cell_type": "markdown",
   "id": "0de6cc42",
   "metadata": {},
   "source": [
    "# Midterm project Ironhack Bootcamp"
   ]
  },
  {
   "cell_type": "markdown",
   "id": "8b91c2ca",
   "metadata": {},
   "source": [
    "#### Team: Ayse, Darinka, Julia"
   ]
  },
  {
   "cell_type": "markdown",
   "id": "80196b82",
   "metadata": {},
   "source": [
    "## Table of contents"
   ]
  },
  {
   "cell_type": "markdown",
   "id": "90deefca",
   "metadata": {},
   "source": [
    "## Introduction\n",
    "\n",
    "This is a data analytics project focusing on business intelligence (BI). The dataset used is a Brazilian ecommerce public dataset of orders made at Olist Store, the largest department store in the Brazilian marketplace. It contains information of 100,000 orders made between 2016 to 2018 Brazil-wide.The dataset structure can be seen below."
   ]
  },
  {
   "cell_type": "markdown",
   "id": "143bfd98",
   "metadata": {},
   "source": [
    "<div>\n",
    "<img src=\"https://i.imgur.com/HRhd2Y0.png\" width=\"800\"/>\n",
    "</div>"
   ]
  },
  {
   "cell_type": "markdown",
   "id": "3c9e367f",
   "metadata": {},
   "source": [
    "## Business problem statement\n",
    "\n",
    "Olist has completely changed its top management and would like to get the following deliverables:\n",
    "\n",
    "* definition of KPIs and providing with insights\n",
    "* the most recent overview of sales performance and marketing analytics\n",
    "* to increase profits, improve order processing time and shipping procedure, sustain good customer satisfaction levels, as well as positively influence the environment, the Olist management needs a CSR - strategy\n",
    "* advice on how to improve sales and marketing funnels\n",
    "* deliver further information that would help Olist become a leader in the e-commerce market"
   ]
  },
  {
   "cell_type": "markdown",
   "id": "8d15674a",
   "metadata": {},
   "source": [
    "## Workflow\n",
    "\n",
    "* data gathering\n",
    "* data cleaning\n",
    "* first EDA and defining KPIs\n",
    "* outline dashboards\n",
    "* data visualisation in Tableau\n",
    "* interpreting the results\n",
    "* presentation"
   ]
  },
  {
   "cell_type": "markdown",
   "id": "74c8c388",
   "metadata": {},
   "source": [
    "## Tools\n",
    "\n",
    "* Python \n",
    "* SQL\n",
    "* Tableau\n",
    "\n",
    "* Libraries used (pandas, scikit-learn...)"
   ]
  },
  {
   "cell_type": "markdown",
   "id": "9b1ba229",
   "metadata": {},
   "source": [
    "... TBA ..."
   ]
  }
 ],
 "metadata": {
  "kernelspec": {
   "display_name": "Python 3",
   "language": "python",
   "name": "python3"
  },
  "language_info": {
   "codemirror_mode": {
    "name": "ipython",
    "version": 3
   },
   "file_extension": ".py",
   "mimetype": "text/x-python",
   "name": "python",
   "nbconvert_exporter": "python",
   "pygments_lexer": "ipython3",
   "version": "3.9.6"
  }
 },
 "nbformat": 4,
 "nbformat_minor": 5
}
