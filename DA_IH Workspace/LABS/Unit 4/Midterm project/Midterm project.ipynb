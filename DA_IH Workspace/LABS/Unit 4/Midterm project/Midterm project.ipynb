{
 "cells": [
  {
   "cell_type": "markdown",
   "id": "855f4817",
   "metadata": {},
   "source": [
    "# Midterm project Ironhack Bootcamp"
   ]
  },
  {
   "cell_type": "markdown",
   "id": "8539b8a6",
   "metadata": {},
   "source": [
    "## Content\n",
    "\n",
    "This is a data analytics project focusing on business intelligence (BI). The dataset used is a Brazilian ecommerce public dataset of orders made at Olist Store, the largest department store in the Brazilian marketplace. It contains information of 100,000 orders made between 2016 to 2018 Brazil-wide.The dataset structure can be seen below."
   ]
  },
  {
   "cell_type": "markdown",
   "id": "de962146",
   "metadata": {},
   "source": [
    "<div>\n",
    "<img src=\"https://i.imgur.com/HRhd2Y0.png\" width=\"800\"/>\n",
    "</div>"
   ]
  },
  {
   "cell_type": "markdown",
   "id": "d550f450",
   "metadata": {},
   "source": [
    "## The objective\n",
    "\n"
   ]
  },
  {
   "cell_type": "markdown",
   "id": "da44ed11",
   "metadata": {},
   "source": [
    "## Workflow"
   ]
  },
  {
   "cell_type": "code",
   "execution_count": null,
   "id": "00df4ee1",
   "metadata": {},
   "outputs": [],
   "source": [
    "..."
   ]
  },
  {
   "cell_type": "code",
   "execution_count": null,
   "id": "c4cd41db",
   "metadata": {},
   "outputs": [],
   "source": [
    "# Export notebook as .md file $ jupyter nbconvert my_notebook.ipynb --to markdown --output output.md"
   ]
  }
 ],
 "metadata": {
  "kernelspec": {
   "display_name": "Python 3",
   "language": "python",
   "name": "python3"
  },
  "language_info": {
   "codemirror_mode": {
    "name": "ipython",
    "version": 3
   },
   "file_extension": ".py",
   "mimetype": "text/x-python",
   "name": "python",
   "nbconvert_exporter": "python",
   "pygments_lexer": "ipython3",
   "version": "3.9.6"
  }
 },
 "nbformat": 4,
 "nbformat_minor": 5
}
