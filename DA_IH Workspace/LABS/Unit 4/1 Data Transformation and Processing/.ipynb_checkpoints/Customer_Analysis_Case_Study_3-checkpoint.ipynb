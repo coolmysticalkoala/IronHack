{
 "cells": [
  {
   "cell_type": "code",
   "execution_count": 103,
   "id": "20b457f4",
   "metadata": {},
   "outputs": [],
   "source": [
    "# Importing libraries to use\n",
    "\n",
    "import matplotlib.pyplot as plt\n",
    "import seaborn as sns\n",
    "%matplotlib inline\n",
    "import pandas as pd\n",
    "import numpy as np\n",
    "from sklearn.preprocessing import StandardScaler\n",
    "from sklearn.preprocessing import OneHotEncoder\n",
    "from sklearn.preprocessing import QuantileTransformer\n",
    "from sklearn.linear_model import LinearRegression\n",
    "from sklearn.model_selection import train_test_split\n",
    "from sklearn.preprocessing import PowerTransformer\n",
    "from sklearn.metrics import r2_score\n",
    "from sklearn.metrics import mean_squared_error as mse\n",
    "from sklearn.metrics import mean_absolute_error as mae\n",
    "from scipy.stats import boxcox\n",
    "pd.options.display.max_rows = 50"
   ]
  },
  {
   "cell_type": "code",
   "execution_count": 40,
   "id": "fc331874",
   "metadata": {},
   "outputs": [],
   "source": [
    "#Importing data\n",
    "cs_df = pd.read_csv(\"Data_Marketing_Customer_Analysis_Round3.csv\", index_col = 0)"
   ]
  },
  {
   "cell_type": "markdown",
   "id": "c68fa96d",
   "metadata": {},
   "source": [
    "## Data Cleaning"
   ]
  },
  {
   "cell_type": "code",
   "execution_count": 41,
   "id": "f31d800f",
   "metadata": {},
   "outputs": [],
   "source": [
    "# Cleaning data\n",
    "def cleaning_data (df):\n",
    "    df.columns = [i.lower().replace(\" \", \"_\") for i in df.columns]\n",
    "    df.rename(columns = {\"employmentstatus\": \"employment_status\"}, inplace = True)\n",
    "    df = df.drop_duplicates().reset_index()\n",
    "    df = df.drop(columns = [\"index\",\"customer\",\"number_of_open_complaints\",\"vehicle_type\",\"effective_to_date\"])\n",
    "    df = df.dropna()\n",
    "    return df"
   ]
  },
  {
   "cell_type": "code",
   "execution_count": 42,
   "id": "017c7a14",
   "metadata": {},
   "outputs": [],
   "source": [
    "def transforming_data (df):\n",
    "    df=df[df['income'] > 0]\n",
    "    df[\"total_claim_amount\"] = round(df[\"total_claim_amount\"],0)\n",
    "    df[\"customer_lifetime_value\"]=round(df[\"customer_lifetime_value\"],0)\n",
    "    df.vehicle_class[df.vehicle_class.isin([\"Luxury Car\",\"Luxury SUV\"])] = \"Luxury Car\"\n",
    "    df.policy[df.policy.isin([\"Personal L3\",\"Personal L2\",\"Personal L1\"]) ] = \"Personal\"\n",
    "    df.policy[df.policy.isin([\"Corporate L3\",\"Corporate L2\",\"Corporate L1\"]) ] = \"Corporate\"\n",
    "    df.policy[df.policy.isin([\"Special L3\",\"Special L2\",\"Special L1\"]) ] = \"Special\"\n",
    "    return df"
   ]
  },
  {
   "cell_type": "code",
   "execution_count": 43,
   "id": "923325f0",
   "metadata": {},
   "outputs": [
    {
     "name": "stderr",
     "output_type": "stream",
     "text": [
      "<ipython-input-42-30934e13c8f4>:3: SettingWithCopyWarning: \n",
      "A value is trying to be set on a copy of a slice from a DataFrame.\n",
      "Try using .loc[row_indexer,col_indexer] = value instead\n",
      "\n",
      "See the caveats in the documentation: https://pandas.pydata.org/pandas-docs/stable/user_guide/indexing.html#returning-a-view-versus-a-copy\n",
      "  df[\"total_claim_amount\"] = round(df[\"total_claim_amount\"],0)\n",
      "<ipython-input-42-30934e13c8f4>:4: SettingWithCopyWarning: \n",
      "A value is trying to be set on a copy of a slice from a DataFrame.\n",
      "Try using .loc[row_indexer,col_indexer] = value instead\n",
      "\n",
      "See the caveats in the documentation: https://pandas.pydata.org/pandas-docs/stable/user_guide/indexing.html#returning-a-view-versus-a-copy\n",
      "  df[\"customer_lifetime_value\"]=round(df[\"customer_lifetime_value\"],0)\n",
      "<ipython-input-42-30934e13c8f4>:5: SettingWithCopyWarning: \n",
      "A value is trying to be set on a copy of a slice from a DataFrame\n",
      "\n",
      "See the caveats in the documentation: https://pandas.pydata.org/pandas-docs/stable/user_guide/indexing.html#returning-a-view-versus-a-copy\n",
      "  df.vehicle_class[df.vehicle_class.isin([\"Luxury Car\",\"Luxury SUV\"])] = \"Luxury Car\"\n",
      "C:\\Users\\DACA\\AppData\\Local\\conda\\conda\\envs\\DataEnv\\lib\\site-packages\\pandas\\core\\generic.py:8861: SettingWithCopyWarning: \n",
      "A value is trying to be set on a copy of a slice from a DataFrame\n",
      "\n",
      "See the caveats in the documentation: https://pandas.pydata.org/pandas-docs/stable/user_guide/indexing.html#returning-a-view-versus-a-copy\n",
      "  return self._update_inplace(result)\n",
      "<ipython-input-42-30934e13c8f4>:6: SettingWithCopyWarning: \n",
      "A value is trying to be set on a copy of a slice from a DataFrame\n",
      "\n",
      "See the caveats in the documentation: https://pandas.pydata.org/pandas-docs/stable/user_guide/indexing.html#returning-a-view-versus-a-copy\n",
      "  df.policy[df.policy.isin([\"Personal L3\",\"Personal L2\",\"Personal L1\"]) ] = \"Personal\"\n",
      "<ipython-input-42-30934e13c8f4>:7: SettingWithCopyWarning: \n",
      "A value is trying to be set on a copy of a slice from a DataFrame\n",
      "\n",
      "See the caveats in the documentation: https://pandas.pydata.org/pandas-docs/stable/user_guide/indexing.html#returning-a-view-versus-a-copy\n",
      "  df.policy[df.policy.isin([\"Corporate L3\",\"Corporate L2\",\"Corporate L1\"]) ] = \"Corporate\"\n",
      "<ipython-input-42-30934e13c8f4>:8: SettingWithCopyWarning: \n",
      "A value is trying to be set on a copy of a slice from a DataFrame\n",
      "\n",
      "See the caveats in the documentation: https://pandas.pydata.org/pandas-docs/stable/user_guide/indexing.html#returning-a-view-versus-a-copy\n",
      "  df.policy[df.policy.isin([\"Special L3\",\"Special L2\",\"Special L1\"]) ] = \"Special\"\n"
     ]
    }
   ],
   "source": [
    "cs_df = cleaning_data(cs_df)\n",
    "cs_df = transforming_data(cs_df)"
   ]
  },
  {
   "cell_type": "code",
   "execution_count": 44,
   "id": "391c7a49",
   "metadata": {},
   "outputs": [
    {
     "data": {
      "text/html": [
       "<div>\n",
       "<style scoped>\n",
       "    .dataframe tbody tr th:only-of-type {\n",
       "        vertical-align: middle;\n",
       "    }\n",
       "\n",
       "    .dataframe tbody tr th {\n",
       "        vertical-align: top;\n",
       "    }\n",
       "\n",
       "    .dataframe thead th {\n",
       "        text-align: right;\n",
       "    }\n",
       "</style>\n",
       "<table border=\"1\" class=\"dataframe\">\n",
       "  <thead>\n",
       "    <tr style=\"text-align: right;\">\n",
       "      <th></th>\n",
       "      <th>state</th>\n",
       "      <th>customer_lifetime_value</th>\n",
       "      <th>response</th>\n",
       "      <th>coverage</th>\n",
       "      <th>education</th>\n",
       "      <th>employment_status</th>\n",
       "      <th>gender</th>\n",
       "      <th>income</th>\n",
       "      <th>location_code</th>\n",
       "      <th>marital_status</th>\n",
       "      <th>...</th>\n",
       "      <th>months_since_last_claim</th>\n",
       "      <th>months_since_policy_inception</th>\n",
       "      <th>number_of_policies</th>\n",
       "      <th>policy_type</th>\n",
       "      <th>policy</th>\n",
       "      <th>renew_offer_type</th>\n",
       "      <th>sales_channel</th>\n",
       "      <th>total_claim_amount</th>\n",
       "      <th>vehicle_class</th>\n",
       "      <th>vehicle_size</th>\n",
       "    </tr>\n",
       "  </thead>\n",
       "  <tbody>\n",
       "    <tr>\n",
       "      <th>0</th>\n",
       "      <td>Arizona</td>\n",
       "      <td>4809.0</td>\n",
       "      <td>No</td>\n",
       "      <td>Basic</td>\n",
       "      <td>College</td>\n",
       "      <td>Employed</td>\n",
       "      <td>M</td>\n",
       "      <td>48029</td>\n",
       "      <td>Suburban</td>\n",
       "      <td>Married</td>\n",
       "      <td>...</td>\n",
       "      <td>7.0</td>\n",
       "      <td>52</td>\n",
       "      <td>9</td>\n",
       "      <td>Corporate Auto</td>\n",
       "      <td>Corporate</td>\n",
       "      <td>Offer3</td>\n",
       "      <td>Agent</td>\n",
       "      <td>293.0</td>\n",
       "      <td>Four-Door Car</td>\n",
       "      <td>Medsize</td>\n",
       "    </tr>\n",
       "    <tr>\n",
       "      <th>2</th>\n",
       "      <td>Washington</td>\n",
       "      <td>14948.0</td>\n",
       "      <td>No</td>\n",
       "      <td>Basic</td>\n",
       "      <td>Bachelor</td>\n",
       "      <td>Employed</td>\n",
       "      <td>M</td>\n",
       "      <td>22139</td>\n",
       "      <td>Suburban</td>\n",
       "      <td>Single</td>\n",
       "      <td>...</td>\n",
       "      <td>34.0</td>\n",
       "      <td>31</td>\n",
       "      <td>2</td>\n",
       "      <td>Personal Auto</td>\n",
       "      <td>Personal</td>\n",
       "      <td>Offer3</td>\n",
       "      <td>Call Center</td>\n",
       "      <td>480.0</td>\n",
       "      <td>SUV</td>\n",
       "      <td>Medsize</td>\n",
       "    </tr>\n",
       "    <tr>\n",
       "      <th>3</th>\n",
       "      <td>Oregon</td>\n",
       "      <td>22332.0</td>\n",
       "      <td>Yes</td>\n",
       "      <td>Extended</td>\n",
       "      <td>College</td>\n",
       "      <td>Employed</td>\n",
       "      <td>M</td>\n",
       "      <td>49078</td>\n",
       "      <td>Suburban</td>\n",
       "      <td>Single</td>\n",
       "      <td>...</td>\n",
       "      <td>10.0</td>\n",
       "      <td>3</td>\n",
       "      <td>2</td>\n",
       "      <td>Corporate Auto</td>\n",
       "      <td>Corporate</td>\n",
       "      <td>Offer2</td>\n",
       "      <td>Branch</td>\n",
       "      <td>484.0</td>\n",
       "      <td>Four-Door Car</td>\n",
       "      <td>Medsize</td>\n",
       "    </tr>\n",
       "    <tr>\n",
       "      <th>6</th>\n",
       "      <td>California</td>\n",
       "      <td>5035.0</td>\n",
       "      <td>No</td>\n",
       "      <td>Basic</td>\n",
       "      <td>Doctor</td>\n",
       "      <td>Employed</td>\n",
       "      <td>F</td>\n",
       "      <td>37405</td>\n",
       "      <td>Urban</td>\n",
       "      <td>Married</td>\n",
       "      <td>...</td>\n",
       "      <td>8.0</td>\n",
       "      <td>99</td>\n",
       "      <td>4</td>\n",
       "      <td>Corporate Auto</td>\n",
       "      <td>Corporate</td>\n",
       "      <td>Offer2</td>\n",
       "      <td>Branch</td>\n",
       "      <td>288.0</td>\n",
       "      <td>Four-Door Car</td>\n",
       "      <td>Medsize</td>\n",
       "    </tr>\n",
       "    <tr>\n",
       "      <th>7</th>\n",
       "      <td>California</td>\n",
       "      <td>4956.0</td>\n",
       "      <td>No</td>\n",
       "      <td>Basic</td>\n",
       "      <td>High School or Below</td>\n",
       "      <td>Employed</td>\n",
       "      <td>M</td>\n",
       "      <td>87197</td>\n",
       "      <td>Urban</td>\n",
       "      <td>Single</td>\n",
       "      <td>...</td>\n",
       "      <td>35.0</td>\n",
       "      <td>45</td>\n",
       "      <td>3</td>\n",
       "      <td>Personal Auto</td>\n",
       "      <td>Personal</td>\n",
       "      <td>Offer2</td>\n",
       "      <td>Branch</td>\n",
       "      <td>247.0</td>\n",
       "      <td>Two-Door Car</td>\n",
       "      <td>Medsize</td>\n",
       "    </tr>\n",
       "  </tbody>\n",
       "</table>\n",
       "<p>5 rows × 21 columns</p>\n",
       "</div>"
      ],
      "text/plain": [
       "        state  customer_lifetime_value response  coverage  \\\n",
       "0     Arizona                   4809.0       No     Basic   \n",
       "2  Washington                  14948.0       No     Basic   \n",
       "3      Oregon                  22332.0      Yes  Extended   \n",
       "6  California                   5035.0       No     Basic   \n",
       "7  California                   4956.0       No     Basic   \n",
       "\n",
       "              education employment_status gender  income location_code  \\\n",
       "0               College          Employed      M   48029      Suburban   \n",
       "2              Bachelor          Employed      M   22139      Suburban   \n",
       "3               College          Employed      M   49078      Suburban   \n",
       "6                Doctor          Employed      F   37405         Urban   \n",
       "7  High School or Below          Employed      M   87197         Urban   \n",
       "\n",
       "  marital_status  ...  months_since_last_claim  months_since_policy_inception  \\\n",
       "0        Married  ...                      7.0                             52   \n",
       "2         Single  ...                     34.0                             31   \n",
       "3         Single  ...                     10.0                              3   \n",
       "6        Married  ...                      8.0                             99   \n",
       "7         Single  ...                     35.0                             45   \n",
       "\n",
       "   number_of_policies     policy_type     policy renew_offer_type  \\\n",
       "0                   9  Corporate Auto  Corporate           Offer3   \n",
       "2                   2   Personal Auto   Personal           Offer3   \n",
       "3                   2  Corporate Auto  Corporate           Offer2   \n",
       "6                   4  Corporate Auto  Corporate           Offer2   \n",
       "7                   3   Personal Auto   Personal           Offer2   \n",
       "\n",
       "  sales_channel total_claim_amount  vehicle_class vehicle_size  \n",
       "0         Agent              293.0  Four-Door Car      Medsize  \n",
       "2   Call Center              480.0            SUV      Medsize  \n",
       "3        Branch              484.0  Four-Door Car      Medsize  \n",
       "6        Branch              288.0  Four-Door Car      Medsize  \n",
       "7        Branch              247.0   Two-Door Car      Medsize  \n",
       "\n",
       "[5 rows x 21 columns]"
      ]
     },
     "execution_count": 44,
     "metadata": {},
     "output_type": "execute_result"
    }
   ],
   "source": [
    "cs_df.head()"
   ]
  },
  {
   "cell_type": "code",
   "execution_count": 45,
   "id": "7829ef56",
   "metadata": {},
   "outputs": [
    {
     "data": {
      "text/plain": [
       "Index(['state', 'customer_lifetime_value', 'response', 'coverage', 'education',\n",
       "       'employment_status', 'gender', 'income', 'location_code',\n",
       "       'marital_status', 'monthly_premium_auto', 'months_since_last_claim',\n",
       "       'months_since_policy_inception', 'number_of_policies', 'policy_type',\n",
       "       'policy', 'renew_offer_type', 'sales_channel', 'total_claim_amount',\n",
       "       'vehicle_class', 'vehicle_size'],\n",
       "      dtype='object')"
      ]
     },
     "execution_count": 45,
     "metadata": {},
     "output_type": "execute_result"
    }
   ],
   "source": [
    "cs_df.columns"
   ]
  },
  {
   "cell_type": "code",
   "execution_count": 46,
   "id": "6032b9d0",
   "metadata": {},
   "outputs": [
    {
     "data": {
      "text/plain": [
       "(6817, 21)"
      ]
     },
     "execution_count": 46,
     "metadata": {},
     "output_type": "execute_result"
    }
   ],
   "source": [
    "cs_df.shape"
   ]
  },
  {
   "cell_type": "code",
   "execution_count": 47,
   "id": "bc138e70",
   "metadata": {},
   "outputs": [],
   "source": [
    "# Export cleaned dataframe to .csv\n",
    "\n",
    "cs_df.to_csv(r'C:\\Users\\DACA\\Desktop\\export_dataframe.csv')"
   ]
  },
  {
   "cell_type": "markdown",
   "id": "7dab9930",
   "metadata": {},
   "source": [
    "## Data exploration / plotting"
   ]
  },
  {
   "cell_type": "markdown",
   "id": "64b07b1c",
   "metadata": {},
   "source": [
    "EDA Categorical columns"
   ]
  },
  {
   "cell_type": "code",
   "execution_count": 48,
   "id": "91320827",
   "metadata": {},
   "outputs": [
    {
     "data": {
      "image/png": "[encoded data removed]",
      "text/plain": [
       "<Figure size 720x360 with 1 Axes>"
      ]
     },
     "metadata": {
      "needs_background": "light"
     },
     "output_type": "display_data"
    },
    {
     "data": {
      "image/png": "[encoded data removed]",
      "text/plain": [
       "<Figure size 720x360 with 1 Axes>"
      ]
     },
     "metadata": {
      "needs_background": "light"
     },
     "output_type": "display_data"
    },
    {
     "data": {
      "image/png": "[encoded data removed]",
      "text/plain": [
       "<Figure size 720x360 with 1 Axes>"
      ]
     },
     "metadata": {
      "needs_background": "light"
     },
     "output_type": "display_data"
    },
    {
     "data": {
      "image/png": "[encoded data removed]",
      "text/plain": [
       "<Figure size 720x360 with 1 Axes>"
      ]
     },
     "metadata": {
      "needs_background": "light"
     },
     "output_type": "display_data"
    },
    {
     "data": {
      "image/png": "[encoded data removed]",
      "text/plain": [
       "<Figure size 720x360 with 1 Axes>"
      ]
     },
     "metadata": {
      "needs_background": "light"
     },
     "output_type": "display_data"
    },
    {
     "data": {
      "image/png": "[encoded data removed]",
      "text/plain": [
       "<Figure size 720x360 with 1 Axes>"
      ]
     },
     "metadata": {
      "needs_background": "light"
     },
     "output_type": "display_data"
    },
    {
     "data": {
      "image/png": "[encoded data removed]",
      "text/plain": [
       "<Figure size 720x360 with 1 Axes>"
      ]
     },
     "metadata": {
      "needs_background": "light"
     },
     "output_type": "display_data"
    },
    {
     "data": {
      "image/png": "[encoded data removed]",
      "text/plain": [
       "<Figure size 720x360 with 1 Axes>"
      ]
     },
     "metadata": {
      "needs_background": "light"
     },
     "output_type": "display_data"
    },
    {
     "data": {
      "image/png": "[encoded data removed]",
      "text/plain": [
       "<Figure size 720x360 with 1 Axes>"
      ]
     },
     "metadata": {
      "needs_background": "light"
     },
     "output_type": "display_data"
    },
    {
     "data": {
      "image/png": "[encoded data removed]",
      "text/plain": [
       "<Figure size 720x360 with 1 Axes>"
      ]
     },
     "metadata": {
      "needs_background": "light"
     },
     "output_type": "display_data"
    },
    {
     "data": {
      "image/png": "[encoded data removed]",
      "text/plain": [
       "<Figure size 720x360 with 1 Axes>"
      ]
     },
     "metadata": {
      "needs_background": "light"
     },
     "output_type": "display_data"
    },
    {
     "data": {
      "image/png": "[encoded data removed]",
      "text/plain": [
       "<Figure size 720x360 with 1 Axes>"
      ]
     },
     "metadata": {
      "needs_background": "light"
     },
     "output_type": "display_data"
    },
    {
     "data": {
      "image/png": "[encoded data removed]",
      "text/plain": [
       "<Figure size 720x360 with 1 Axes>"
      ]
     },
     "metadata": {
      "needs_background": "light"
     },
     "output_type": "display_data"
    },
    {
     "data": {
      "image/png": "[encoded data removed]",
      "text/plain": [
       "<Figure size 720x360 with 1 Axes>"
      ]
     },
     "metadata": {
      "needs_background": "light"
     },
     "output_type": "display_data"
    }
   ],
   "source": [
    "for c in cs_df.select_dtypes(object):\n",
    "    plt.figure(figsize=(10,5))\n",
    "    plt.bar(cs_df[c].unique(), cs_df[c].value_counts())\n",
    "    plt.title(c)\n",
    "    plt.show()"
   ]
  },
  {
   "cell_type": "markdown",
   "id": "78e87858",
   "metadata": {},
   "source": [
    "### Show a plot of the total number of responses."
   ]
  },
  {
   "cell_type": "code",
   "execution_count": 49,
   "id": "8757945c",
   "metadata": {},
   "outputs": [
    {
     "name": "stdout",
     "output_type": "stream",
     "text": [
      "No     5707\n",
      "Yes    1110\n",
      "Name: response, dtype: int64\n"
     ]
    }
   ],
   "source": [
    "num_responses = cs_df['response'].value_counts()\n",
    "print(num_responses)"
   ]
  },
  {
   "cell_type": "code",
   "execution_count": 50,
   "id": "9cfb83e2",
   "metadata": {},
   "outputs": [
    {
     "data": {
      "image/png": "[encoded data removed]",
      "text/plain": [
       "<Figure size 432x288 with 1 Axes>"
      ]
     },
     "metadata": {
      "needs_background": "light"
     },
     "output_type": "display_data"
    }
   ],
   "source": [
    "fig, ax = plt.subplots()\n",
    "\n",
    "ax.set_title(\"Total number of responses\")\n",
    "\n",
    "sns.barplot(x=num_responses.index, y=num_responses, palette = 'rocket')\n",
    "\n",
    "plt.show()"
   ]
  },
  {
   "cell_type": "markdown",
   "id": "007ece73",
   "metadata": {},
   "source": [
    "### Show response rate by channel."
   ]
  },
  {
   "cell_type": "code",
   "execution_count": 51,
   "id": "7fd1eb88",
   "metadata": {},
   "outputs": [
    {
     "name": "stdout",
     "output_type": "stream",
     "text": [
      "  response sales_channel  count\n",
      "0       No         Agent   2021\n",
      "1       No        Branch   1660\n",
      "2       No   Call Center   1167\n",
      "3       No           Web    859\n",
      "4      Yes         Agent    552\n",
      "5      Yes        Branch    264\n",
      "6      Yes   Call Center    162\n",
      "7      Yes           Web    132\n"
     ]
    }
   ],
   "source": [
    "response_rate = cs_df.groupby(['response', 'sales_channel']).size().reset_index(name= 'count')\n",
    "print(response_rate)"
   ]
  },
  {
   "cell_type": "code",
   "execution_count": 52,
   "id": "458404d9",
   "metadata": {},
   "outputs": [
    {
     "data": {
      "image/png": "[encoded data removed]",
      "text/plain": [
       "<Figure size 432x288 with 1 Axes>"
      ]
     },
     "metadata": {
      "needs_background": "light"
     },
     "output_type": "display_data"
    }
   ],
   "source": [
    "#plot \n",
    "    \n",
    "fig, ax = plt.subplots()\n",
    "\n",
    "ax.set_title(\"Response rate by channel\")\n",
    "\n",
    "# seaborn barplot\n",
    "sns.barplot(x = response_rate['sales_channel'], y = response_rate['count'], hue = response_rate['response'], data = cs_df, palette = \"rocket\")\n",
    "plt.show()"
   ]
  },
  {
   "cell_type": "markdown",
   "id": "d3c79d75",
   "metadata": {},
   "source": [
    "### Show a plot of the response rate by the total claim amount."
   ]
  },
  {
   "cell_type": "code",
   "execution_count": 53,
   "id": "96d40db4",
   "metadata": {},
   "outputs": [
    {
     "name": "stdout",
     "output_type": "stream",
     "text": [
      "     response  total_claim_amount  count\n",
      "0          No                 0.0      3\n",
      "1          No                 1.0      6\n",
      "2          No                 2.0      7\n",
      "3          No                 3.0      9\n",
      "4          No                 4.0      8\n",
      "...       ...                 ...    ...\n",
      "1094      Yes              1261.0      6\n",
      "1095      Yes              1295.0      6\n",
      "1096      Yes              1301.0      6\n",
      "1097      Yes              1325.0      6\n",
      "1098      Yes              1358.0      6\n",
      "\n",
      "[1099 rows x 3 columns]\n"
     ]
    }
   ],
   "source": [
    "total_cl_amount = cs_df.groupby(['response','total_claim_amount']).size().reset_index(name = 'count')\n",
    "print(total_cl_amount)"
   ]
  },
  {
   "cell_type": "code",
   "execution_count": 54,
   "id": "5f00fe1d",
   "metadata": {},
   "outputs": [
    {
     "data": {
      "image/png": "[encoded data removed]",
      "text/plain": [
       "<Figure size 432x288 with 1 Axes>"
      ]
     },
     "metadata": {
      "needs_background": "light"
     },
     "output_type": "display_data"
    }
   ],
   "source": [
    "# Plot\n",
    "\n",
    "sns.barplot(x = total_cl_amount['response'], y = total_cl_amount['total_claim_amount'], palette = 'rocket')\n",
    "plt.show()"
   ]
  },
  {
   "cell_type": "markdown",
   "id": "9636a8af",
   "metadata": {},
   "source": [
    "### Show a plot of the response rate by income."
   ]
  },
  {
   "cell_type": "code",
   "execution_count": 55,
   "id": "e7995660",
   "metadata": {},
   "outputs": [
    {
     "name": "stdout",
     "output_type": "stream",
     "text": [
      "     response  income  count\n",
      "0          No   10037      1\n",
      "1          No   10074      1\n",
      "2          No   10097      1\n",
      "3          No   10105      1\n",
      "4          No   10147      1\n",
      "...       ...     ...    ...\n",
      "5697      Yes   95697     12\n",
      "5698      Yes   96306      6\n",
      "5699      Yes   97131      6\n",
      "5700      Yes   97361      6\n",
      "5701      Yes   99845      6\n",
      "\n",
      "[5702 rows x 3 columns]\n"
     ]
    }
   ],
   "source": [
    "r_income =  cs_df.groupby(['response', 'income']).size().reset_index(name = 'count')\n",
    "print(r_income)"
   ]
  },
  {
   "cell_type": "code",
   "execution_count": 56,
   "id": "d4eedbde",
   "metadata": {},
   "outputs": [
    {
     "data": {
      "image/png": "[encoded data removed]",
      "text/plain": [
       "<Figure size 432x288 with 1 Axes>"
      ]
     },
     "metadata": {
      "needs_background": "light"
     },
     "output_type": "display_data"
    }
   ],
   "source": [
    "# Plot\n",
    "\n",
    "sns.boxplot(x = 'response', y = 'income', data = r_income, palette = \"rocket\")\n",
    "plt.show()"
   ]
  },
  {
   "cell_type": "code",
   "execution_count": 57,
   "id": "bb1f89f7",
   "metadata": {},
   "outputs": [
    {
     "data": {
      "image/png": "[encoded data removed]",
      "text/plain": [
       "<Figure size 864x720 with 2 Axes>"
      ]
     },
     "metadata": {
      "needs_background": "light"
     },
     "output_type": "display_data"
    }
   ],
   "source": [
    "# Correlation heatmap\n",
    "\n",
    "fig,ax = plt.subplots(figsize=(12,10))\n",
    "sns.heatmap(cs_df.corr(),annot=True, ax=ax,  cmap='RdYlGn', center=0)\n",
    "plt.show()"
   ]
  },
  {
   "cell_type": "markdown",
   "id": "8841cafb",
   "metadata": {},
   "source": [
    "## Data transformation "
   ]
  },
  {
   "cell_type": "code",
   "execution_count": 58,
   "id": "f5af67f8",
   "metadata": {},
   "outputs": [
    {
     "name": "stdout",
     "output_type": "stream",
     "text": [
      "       customer_lifetime_value  income  monthly_premium_auto  \\\n",
      "0                       4809.0   48029                    61   \n",
      "2                      14948.0   22139                   100   \n",
      "3                      22332.0   49078                    97   \n",
      "6                       5035.0   37405                    63   \n",
      "7                       4956.0   87197                    63   \n",
      "...                        ...     ...                   ...   \n",
      "10865                   3579.0   28304                    91   \n",
      "10866                   2772.0   59855                    74   \n",
      "10869                   5259.0   61146                    65   \n",
      "10870                  23893.0   39837                   201   \n",
      "10871                  11972.0   64195                   158   \n",
      "\n",
      "       months_since_last_claim  months_since_policy_inception  \\\n",
      "0                          7.0                             52   \n",
      "2                         34.0                             31   \n",
      "3                         10.0                              3   \n",
      "6                          8.0                             99   \n",
      "7                         35.0                             45   \n",
      "...                        ...                            ...   \n",
      "10865                     10.0                             30   \n",
      "10866                     30.0                             82   \n",
      "10869                      7.0                             68   \n",
      "10870                     11.0                             63   \n",
      "10871                      0.0                             27   \n",
      "\n",
      "       number_of_policies  total_claim_amount  \n",
      "0                       9               293.0  \n",
      "2                       2               480.0  \n",
      "3                       2               484.0  \n",
      "6                       4               288.0  \n",
      "7                       3               247.0  \n",
      "...                   ...                 ...  \n",
      "10865                   1               655.0  \n",
      "10866                   1               355.0  \n",
      "10869                   6               273.0  \n",
      "10870                   2               381.0  \n",
      "10871                   6               618.0  \n",
      "\n",
      "[6817 rows x 7 columns]\n"
     ]
    }
   ],
   "source": [
    "# Getting numerical data\n",
    "\n",
    "numerical = cs_df.select_dtypes(include = np.number)\n",
    "print(numerical)"
   ]
  },
  {
   "cell_type": "code",
   "execution_count": 59,
   "id": "bf2e5a29",
   "metadata": {
    "scrolled": true
   },
   "outputs": [
    {
     "name": "stdout",
     "output_type": "stream",
     "text": [
      "            state response  coverage             education employment_status  \\\n",
      "0         Arizona       No     Basic               College          Employed   \n",
      "2      Washington       No     Basic              Bachelor          Employed   \n",
      "3          Oregon      Yes  Extended               College          Employed   \n",
      "6      California       No     Basic                Doctor          Employed   \n",
      "7      California       No     Basic  High School or Below          Employed   \n",
      "...           ...      ...       ...                   ...               ...   \n",
      "10865  California       No  Extended  High School or Below          Employed   \n",
      "10866     Arizona       No     Basic               College          Employed   \n",
      "10869      Oregon       No     Basic               College          Employed   \n",
      "10870     Arizona       No  Extended              Bachelor          Employed   \n",
      "10871  California       No   Premium               College          Employed   \n",
      "\n",
      "      gender location_code marital_status     policy_type     policy  \\\n",
      "0          M      Suburban        Married  Corporate Auto  Corporate   \n",
      "2          M      Suburban         Single   Personal Auto   Personal   \n",
      "3          M      Suburban         Single  Corporate Auto  Corporate   \n",
      "6          F         Urban        Married  Corporate Auto  Corporate   \n",
      "7          M         Urban         Single   Personal Auto   Personal   \n",
      "...      ...           ...            ...             ...        ...   \n",
      "10865      F      Suburban        Married   Personal Auto   Personal   \n",
      "10866      M      Suburban        Married   Personal Auto   Personal   \n",
      "10869      F         Urban        Married   Personal Auto   Personal   \n",
      "10870      F         Rural        Married  Corporate Auto  Corporate   \n",
      "10871      F         Urban       Divorced   Personal Auto   Personal   \n",
      "\n",
      "      renew_offer_type sales_channel  vehicle_class vehicle_size  \n",
      "0               Offer3         Agent  Four-Door Car      Medsize  \n",
      "2               Offer3   Call Center            SUV      Medsize  \n",
      "3               Offer2        Branch  Four-Door Car      Medsize  \n",
      "6               Offer2        Branch  Four-Door Car      Medsize  \n",
      "7               Offer2        Branch   Two-Door Car      Medsize  \n",
      "...                ...           ...            ...          ...  \n",
      "10865           Offer2         Agent  Four-Door Car      Medsize  \n",
      "10866           Offer2        Branch   Two-Door Car      Medsize  \n",
      "10869           Offer2        Branch  Four-Door Car      Medsize  \n",
      "10870           Offer1           Web     Luxury Car      Medsize  \n",
      "10871           Offer1        Branch            SUV      Medsize  \n",
      "\n",
      "[6817 rows x 14 columns]\n"
     ]
    },
    {
     "name": "stderr",
     "output_type": "stream",
     "text": [
      "<ipython-input-59-cbed6b1dc3d8>:3: DeprecationWarning: `np.object` is a deprecated alias for the builtin `object`. To silence this warning, use `object` by itself. Doing this will not modify any behavior and is safe. \n",
      "Deprecated in NumPy 1.20; for more details and guidance: https://numpy.org/devdocs/release/1.20.0-notes.html#deprecations\n",
      "  categorical = cs_df.select_dtypes(include = np.object)\n"
     ]
    }
   ],
   "source": [
    "# Getting categorical data\n",
    "\n",
    "categorical = cs_df.select_dtypes(include = np.object)\n",
    "print(categorical)"
   ]
  },
  {
   "cell_type": "code",
   "execution_count": 60,
   "id": "45a10a0b",
   "metadata": {},
   "outputs": [
    {
     "ename": "NameError",
     "evalue": "name 'preprocessing' is not defined",
     "output_type": "error",
     "traceback": [
      "\u001b[1;31m---------------------------------------------------------------------------\u001b[0m",
      "\u001b[1;31mNameError\u001b[0m                                 Traceback (most recent call last)",
      "\u001b[1;32m<ipython-input-60-f5c77f439060>\u001b[0m in \u001b[0;36m<module>\u001b[1;34m\u001b[0m\n\u001b[1;32m----> 1\u001b[1;33m \u001b[0mmin_max_scaler\u001b[0m \u001b[1;33m=\u001b[0m \u001b[0mpreprocessing\u001b[0m\u001b[1;33m.\u001b[0m\u001b[0mMinMaxScaler\u001b[0m\u001b[1;33m(\u001b[0m\u001b[1;33m)\u001b[0m\u001b[1;33m\u001b[0m\u001b[1;33m\u001b[0m\u001b[0m\n\u001b[0m\u001b[0;32m      2\u001b[0m \u001b[0mnumerical_scaled\u001b[0m \u001b[1;33m=\u001b[0m \u001b[0mmin_max_scaler\u001b[0m\u001b[1;33m.\u001b[0m\u001b[0mfit_transform\u001b[0m\u001b[1;33m(\u001b[0m\u001b[0mnumerical\u001b[0m\u001b[1;33m)\u001b[0m\u001b[1;33m\u001b[0m\u001b[1;33m\u001b[0m\u001b[0m\n\u001b[0;32m      3\u001b[0m \u001b[0mcs_df_normalized\u001b[0m \u001b[1;33m=\u001b[0m \u001b[0mpd\u001b[0m\u001b[1;33m.\u001b[0m\u001b[0mDataFrame\u001b[0m\u001b[1;33m(\u001b[0m\u001b[0mnumerical_scaled\u001b[0m\u001b[1;33m)\u001b[0m\u001b[1;33m\u001b[0m\u001b[1;33m\u001b[0m\u001b[0m\n\u001b[0;32m      4\u001b[0m \u001b[1;33m\u001b[0m\u001b[0m\n\u001b[0;32m      5\u001b[0m \u001b[0mprint\u001b[0m\u001b[1;33m(\u001b[0m\u001b[0mcs_df_normalized\u001b[0m\u001b[1;33m)\u001b[0m\u001b[1;33m\u001b[0m\u001b[1;33m\u001b[0m\u001b[0m\n",
      "\u001b[1;31mNameError\u001b[0m: name 'preprocessing' is not defined"
     ]
    }
   ],
   "source": [
    "min_max_scaler = preprocessing.MinMaxScaler()\n",
    "numerical_scaled = min_max_scaler.fit_transform(numerical)\n",
    "cs_df_normalized = pd.DataFrame(numerical_scaled)\n",
    "\n",
    "print(cs_df_normalized)"
   ]
  },
  {
   "cell_type": "markdown",
   "id": "060f8f7b",
   "metadata": {},
   "source": [
    "#### Check the normality of the numerical variables visually.\n"
   ]
  },
  {
   "cell_type": "code",
   "execution_count": null,
   "id": "da2378ce",
   "metadata": {},
   "outputs": [],
   "source": [
    "sns.displot(cs_df.income, bins = 20)\n",
    "plt.show()"
   ]
  },
  {
   "cell_type": "code",
   "execution_count": null,
   "id": "8ffdaa5b",
   "metadata": {},
   "outputs": [],
   "source": [
    "sns.displot(cs_df.customer_lifetime_value,  bins = 20)\n",
    "plt.show()"
   ]
  },
  {
   "cell_type": "code",
   "execution_count": null,
   "id": "86df30b9",
   "metadata": {},
   "outputs": [],
   "source": [
    "sns.displot(cs_df.monthly_premium_auto, bins = 20)\n",
    "plt.show()"
   ]
  },
  {
   "cell_type": "code",
   "execution_count": null,
   "id": "6dae06a2",
   "metadata": {},
   "outputs": [],
   "source": [
    "sns.displot(cs_df.months_since_last_claim, bins = 20)\n",
    "plt.show()"
   ]
  },
  {
   "cell_type": "code",
   "execution_count": null,
   "id": "9700cdfe",
   "metadata": {},
   "outputs": [],
   "source": [
    "sns.displot(cs_df.months_since_policy_inception, bins = 20)\n",
    "plt.show()"
   ]
  },
  {
   "cell_type": "code",
   "execution_count": null,
   "id": "71eeb4b5",
   "metadata": {},
   "outputs": [],
   "source": [
    "sns.pairplot(cs_df)\n",
    "plt.show()"
   ]
  },
  {
   "cell_type": "markdown",
   "id": "13c4729c",
   "metadata": {},
   "source": [
    "#### For the numerical variables, check the multicollinearity between the features. "
   ]
  },
  {
   "cell_type": "code",
   "execution_count": null,
   "id": "5672a86a",
   "metadata": {},
   "outputs": [],
   "source": [
    "fig,ax = plt.subplots(figsize=(12,10))\n",
    "sns.heatmap(numerical.corr(),annot=True, ax=ax,  cmap='RdYlGn', center=0)\n",
    "plt.show()"
   ]
  },
  {
   "cell_type": "markdown",
   "id": "e0ea8430",
   "metadata": {},
   "source": [
    "## Data processing\n"
   ]
  },
  {
   "cell_type": "markdown",
   "id": "31788a8d",
   "metadata": {},
   "source": [
    "### Standardization"
   ]
  },
  {
   "cell_type": "markdown",
   "id": "cef045e9",
   "metadata": {},
   "source": [
    "#### Categorical variables transformation."
   ]
  },
  {
   "cell_type": "code",
   "execution_count": null,
   "id": "40a531c2",
   "metadata": {},
   "outputs": [],
   "source": [
    "enc = OneHotEncoder(handle_unknown='ignore')"
   ]
  },
  {
   "cell_type": "code",
   "execution_count": null,
   "id": "d074c45d",
   "metadata": {},
   "outputs": [],
   "source": [
    "# define example\n",
    "data = [['Corporate Auto'], ['Personal Auto'], ['Special Auto']]\n",
    "values = array(data)\n",
    "print(values)"
   ]
  },
  {
   "cell_type": "code",
   "execution_count": null,
   "id": "d5196dda",
   "metadata": {},
   "outputs": [],
   "source": [
    "# integer encode\n",
    "label_encoder = LabelEncoder()\n",
    "integer_encoded = label_encoder.fit_transform(values)\n",
    "print(integer_encoded)"
   ]
  },
  {
   "cell_type": "code",
   "execution_count": null,
   "id": "6accce8e",
   "metadata": {},
   "outputs": [],
   "source": [
    "# binary encode\n",
    "onehot_encoder = OneHotEncoder(sparse=False)\n",
    "integer_encoded = integer_encoded.reshape(len(integer_encoded), 1)\n",
    "onehot_encoded = onehot_encoder.fit_transform(integer_encoded)\n",
    "print(onehot_encoded)"
   ]
  },
  {
   "cell_type": "code",
   "execution_count": null,
   "id": "42081e3a",
   "metadata": {},
   "outputs": [],
   "source": [
    "# invert first example\n",
    "inverted = label_encoder.inverse_transform([argmax(onehot_encoded[0, :])])\n",
    "print(inverted)"
   ]
  },
  {
   "cell_type": "markdown",
   "id": "0fe915e8",
   "metadata": {},
   "source": [
    "## X-Y-split"
   ]
  },
  {
   "cell_type": "code",
   "execution_count": 85,
   "id": "9e43fef3",
   "metadata": {},
   "outputs": [],
   "source": [
    "# x-y split - split the target variable from dependant variables\n",
    "\n",
    "X = cs_df.drop(columns = ['total_claim_amount'])\n",
    "y = cs_df.total_claim_amount"
   ]
  },
  {
   "cell_type": "code",
   "execution_count": 87,
   "id": "95f32e56",
   "metadata": {},
   "outputs": [
    {
     "data": {
      "text/html": [
       "<div>\n",
       "<style scoped>\n",
       "    .dataframe tbody tr th:only-of-type {\n",
       "        vertical-align: middle;\n",
       "    }\n",
       "\n",
       "    .dataframe tbody tr th {\n",
       "        vertical-align: top;\n",
       "    }\n",
       "\n",
       "    .dataframe thead th {\n",
       "        text-align: right;\n",
       "    }\n",
       "</style>\n",
       "<table border=\"1\" class=\"dataframe\">\n",
       "  <thead>\n",
       "    <tr style=\"text-align: right;\">\n",
       "      <th></th>\n",
       "      <th>customer_lifetime_value</th>\n",
       "      <th>income</th>\n",
       "      <th>monthly_premium_auto</th>\n",
       "      <th>months_since_last_claim</th>\n",
       "      <th>months_since_policy_inception</th>\n",
       "      <th>number_of_policies</th>\n",
       "    </tr>\n",
       "  </thead>\n",
       "  <tbody>\n",
       "    <tr>\n",
       "      <th>0</th>\n",
       "      <td>4809.0</td>\n",
       "      <td>48029</td>\n",
       "      <td>61</td>\n",
       "      <td>7.0</td>\n",
       "      <td>52</td>\n",
       "      <td>9</td>\n",
       "    </tr>\n",
       "    <tr>\n",
       "      <th>2</th>\n",
       "      <td>14948.0</td>\n",
       "      <td>22139</td>\n",
       "      <td>100</td>\n",
       "      <td>34.0</td>\n",
       "      <td>31</td>\n",
       "      <td>2</td>\n",
       "    </tr>\n",
       "    <tr>\n",
       "      <th>3</th>\n",
       "      <td>22332.0</td>\n",
       "      <td>49078</td>\n",
       "      <td>97</td>\n",
       "      <td>10.0</td>\n",
       "      <td>3</td>\n",
       "      <td>2</td>\n",
       "    </tr>\n",
       "    <tr>\n",
       "      <th>6</th>\n",
       "      <td>5035.0</td>\n",
       "      <td>37405</td>\n",
       "      <td>63</td>\n",
       "      <td>8.0</td>\n",
       "      <td>99</td>\n",
       "      <td>4</td>\n",
       "    </tr>\n",
       "    <tr>\n",
       "      <th>7</th>\n",
       "      <td>4956.0</td>\n",
       "      <td>87197</td>\n",
       "      <td>63</td>\n",
       "      <td>35.0</td>\n",
       "      <td>45</td>\n",
       "      <td>3</td>\n",
       "    </tr>\n",
       "  </tbody>\n",
       "</table>\n",
       "</div>"
      ],
      "text/plain": [
       "   customer_lifetime_value  income  monthly_premium_auto  \\\n",
       "0                   4809.0   48029                    61   \n",
       "2                  14948.0   22139                   100   \n",
       "3                  22332.0   49078                    97   \n",
       "6                   5035.0   37405                    63   \n",
       "7                   4956.0   87197                    63   \n",
       "\n",
       "   months_since_last_claim  months_since_policy_inception  number_of_policies  \n",
       "0                      7.0                             52                   9  \n",
       "2                     34.0                             31                   2  \n",
       "3                     10.0                              3                   2  \n",
       "6                      8.0                             99                   4  \n",
       "7                     35.0                             45                   3  "
      ]
     },
     "execution_count": 87,
     "metadata": {},
     "output_type": "execute_result"
    }
   ],
   "source": [
    "# Get the numeric data\n",
    "\n",
    "numericals_features =X._get_numeric_data()\n",
    "# numericals =data.select_dtypes(np.number)\n",
    "numericals_features.head()"
   ]
  },
  {
   "cell_type": "code",
   "execution_count": 88,
   "id": "ea76f3b3",
   "metadata": {},
   "outputs": [
    {
     "data": {
      "text/plain": [
       "(6817, 6)"
      ]
     },
     "execution_count": 88,
     "metadata": {},
     "output_type": "execute_result"
    }
   ],
   "source": [
    "#Standardize\n",
    "X_scaled=StandardScaler().fit_transform(numericals_features)\n",
    "X_scaled.shape"
   ]
  },
  {
   "cell_type": "code",
   "execution_count": 89,
   "id": "c05208dd",
   "metadata": {},
   "outputs": [
    {
     "data": {
      "text/html": [
       "<div>\n",
       "<style scoped>\n",
       "    .dataframe tbody tr th:only-of-type {\n",
       "        vertical-align: middle;\n",
       "    }\n",
       "\n",
       "    .dataframe tbody tr th {\n",
       "        vertical-align: top;\n",
       "    }\n",
       "\n",
       "    .dataframe thead th {\n",
       "        text-align: right;\n",
       "    }\n",
       "</style>\n",
       "<table border=\"1\" class=\"dataframe\">\n",
       "  <thead>\n",
       "    <tr style=\"text-align: right;\">\n",
       "      <th></th>\n",
       "      <th>state</th>\n",
       "      <th>response</th>\n",
       "      <th>coverage</th>\n",
       "      <th>education</th>\n",
       "      <th>employment_status</th>\n",
       "      <th>gender</th>\n",
       "      <th>location_code</th>\n",
       "      <th>marital_status</th>\n",
       "      <th>policy_type</th>\n",
       "      <th>policy</th>\n",
       "      <th>renew_offer_type</th>\n",
       "      <th>sales_channel</th>\n",
       "      <th>vehicle_class</th>\n",
       "      <th>vehicle_size</th>\n",
       "    </tr>\n",
       "  </thead>\n",
       "  <tbody>\n",
       "    <tr>\n",
       "      <th>0</th>\n",
       "      <td>Arizona</td>\n",
       "      <td>No</td>\n",
       "      <td>Basic</td>\n",
       "      <td>College</td>\n",
       "      <td>Employed</td>\n",
       "      <td>M</td>\n",
       "      <td>Suburban</td>\n",
       "      <td>Married</td>\n",
       "      <td>Corporate Auto</td>\n",
       "      <td>Corporate</td>\n",
       "      <td>Offer3</td>\n",
       "      <td>Agent</td>\n",
       "      <td>Four-Door Car</td>\n",
       "      <td>Medsize</td>\n",
       "    </tr>\n",
       "    <tr>\n",
       "      <th>2</th>\n",
       "      <td>Washington</td>\n",
       "      <td>No</td>\n",
       "      <td>Basic</td>\n",
       "      <td>Bachelor</td>\n",
       "      <td>Employed</td>\n",
       "      <td>M</td>\n",
       "      <td>Suburban</td>\n",
       "      <td>Single</td>\n",
       "      <td>Personal Auto</td>\n",
       "      <td>Personal</td>\n",
       "      <td>Offer3</td>\n",
       "      <td>Call Center</td>\n",
       "      <td>SUV</td>\n",
       "      <td>Medsize</td>\n",
       "    </tr>\n",
       "    <tr>\n",
       "      <th>3</th>\n",
       "      <td>Oregon</td>\n",
       "      <td>Yes</td>\n",
       "      <td>Extended</td>\n",
       "      <td>College</td>\n",
       "      <td>Employed</td>\n",
       "      <td>M</td>\n",
       "      <td>Suburban</td>\n",
       "      <td>Single</td>\n",
       "      <td>Corporate Auto</td>\n",
       "      <td>Corporate</td>\n",
       "      <td>Offer2</td>\n",
       "      <td>Branch</td>\n",
       "      <td>Four-Door Car</td>\n",
       "      <td>Medsize</td>\n",
       "    </tr>\n",
       "    <tr>\n",
       "      <th>6</th>\n",
       "      <td>California</td>\n",
       "      <td>No</td>\n",
       "      <td>Basic</td>\n",
       "      <td>Doctor</td>\n",
       "      <td>Employed</td>\n",
       "      <td>F</td>\n",
       "      <td>Urban</td>\n",
       "      <td>Married</td>\n",
       "      <td>Corporate Auto</td>\n",
       "      <td>Corporate</td>\n",
       "      <td>Offer2</td>\n",
       "      <td>Branch</td>\n",
       "      <td>Four-Door Car</td>\n",
       "      <td>Medsize</td>\n",
       "    </tr>\n",
       "    <tr>\n",
       "      <th>7</th>\n",
       "      <td>California</td>\n",
       "      <td>No</td>\n",
       "      <td>Basic</td>\n",
       "      <td>High School or Below</td>\n",
       "      <td>Employed</td>\n",
       "      <td>M</td>\n",
       "      <td>Urban</td>\n",
       "      <td>Single</td>\n",
       "      <td>Personal Auto</td>\n",
       "      <td>Personal</td>\n",
       "      <td>Offer2</td>\n",
       "      <td>Branch</td>\n",
       "      <td>Two-Door Car</td>\n",
       "      <td>Medsize</td>\n",
       "    </tr>\n",
       "  </tbody>\n",
       "</table>\n",
       "</div>"
      ],
      "text/plain": [
       "        state response  coverage             education employment_status  \\\n",
       "0     Arizona       No     Basic               College          Employed   \n",
       "2  Washington       No     Basic              Bachelor          Employed   \n",
       "3      Oregon      Yes  Extended               College          Employed   \n",
       "6  California       No     Basic                Doctor          Employed   \n",
       "7  California       No     Basic  High School or Below          Employed   \n",
       "\n",
       "  gender location_code marital_status     policy_type     policy  \\\n",
       "0      M      Suburban        Married  Corporate Auto  Corporate   \n",
       "2      M      Suburban         Single   Personal Auto   Personal   \n",
       "3      M      Suburban         Single  Corporate Auto  Corporate   \n",
       "6      F         Urban        Married  Corporate Auto  Corporate   \n",
       "7      M         Urban         Single   Personal Auto   Personal   \n",
       "\n",
       "  renew_offer_type sales_channel  vehicle_class vehicle_size  \n",
       "0           Offer3         Agent  Four-Door Car      Medsize  \n",
       "2           Offer3   Call Center            SUV      Medsize  \n",
       "3           Offer2        Branch  Four-Door Car      Medsize  \n",
       "6           Offer2        Branch  Four-Door Car      Medsize  \n",
       "7           Offer2        Branch   Two-Door Car      Medsize  "
      ]
     },
     "execution_count": 89,
     "metadata": {},
     "output_type": "execute_result"
    }
   ],
   "source": [
    "#Get Categorical data\n",
    "\n",
    "categoricals_features = X.select_dtypes(object)\n",
    "categoricals_features.head()"
   ]
  },
  {
   "cell_type": "markdown",
   "id": "13888647",
   "metadata": {},
   "source": [
    "Categoricals transformation"
   ]
  },
  {
   "cell_type": "code",
   "execution_count": 91,
   "id": "48bd9aa5",
   "metadata": {},
   "outputs": [],
   "source": [
    "# One-Hot-Encoding"
   ]
  },
  {
   "cell_type": "code",
   "execution_count": 62,
   "id": "74d10f84",
   "metadata": {},
   "outputs": [],
   "source": [
    "# get dummies pandas\n",
    "categorical_features = pd.get_dummies(categorical, drop_first=True)"
   ]
  },
  {
   "cell_type": "code",
   "execution_count": 63,
   "id": "89f1984c",
   "metadata": {},
   "outputs": [
    {
     "data": {
      "text/html": [
       "<div>\n",
       "<style scoped>\n",
       "    .dataframe tbody tr th:only-of-type {\n",
       "        vertical-align: middle;\n",
       "    }\n",
       "\n",
       "    .dataframe tbody tr th {\n",
       "        vertical-align: top;\n",
       "    }\n",
       "\n",
       "    .dataframe thead th {\n",
       "        text-align: right;\n",
       "    }\n",
       "</style>\n",
       "<table border=\"1\" class=\"dataframe\">\n",
       "  <thead>\n",
       "    <tr style=\"text-align: right;\">\n",
       "      <th></th>\n",
       "      <th>state_California</th>\n",
       "      <th>state_Nevada</th>\n",
       "      <th>state_Oregon</th>\n",
       "      <th>state_Washington</th>\n",
       "      <th>response_Yes</th>\n",
       "      <th>coverage_Extended</th>\n",
       "      <th>coverage_Premium</th>\n",
       "      <th>education_College</th>\n",
       "      <th>education_Doctor</th>\n",
       "      <th>education_High School or Below</th>\n",
       "      <th>...</th>\n",
       "      <th>renew_offer_type_Offer4</th>\n",
       "      <th>sales_channel_Branch</th>\n",
       "      <th>sales_channel_Call Center</th>\n",
       "      <th>sales_channel_Web</th>\n",
       "      <th>vehicle_class_Luxury Car</th>\n",
       "      <th>vehicle_class_SUV</th>\n",
       "      <th>vehicle_class_Sports Car</th>\n",
       "      <th>vehicle_class_Two-Door Car</th>\n",
       "      <th>vehicle_size_Medsize</th>\n",
       "      <th>vehicle_size_Small</th>\n",
       "    </tr>\n",
       "  </thead>\n",
       "  <tbody>\n",
       "    <tr>\n",
       "      <th>0</th>\n",
       "      <td>0</td>\n",
       "      <td>0</td>\n",
       "      <td>0</td>\n",
       "      <td>0</td>\n",
       "      <td>0</td>\n",
       "      <td>0</td>\n",
       "      <td>0</td>\n",
       "      <td>1</td>\n",
       "      <td>0</td>\n",
       "      <td>0</td>\n",
       "      <td>...</td>\n",
       "      <td>0</td>\n",
       "      <td>0</td>\n",
       "      <td>0</td>\n",
       "      <td>0</td>\n",
       "      <td>0</td>\n",
       "      <td>0</td>\n",
       "      <td>0</td>\n",
       "      <td>0</td>\n",
       "      <td>1</td>\n",
       "      <td>0</td>\n",
       "    </tr>\n",
       "    <tr>\n",
       "      <th>2</th>\n",
       "      <td>0</td>\n",
       "      <td>0</td>\n",
       "      <td>0</td>\n",
       "      <td>1</td>\n",
       "      <td>0</td>\n",
       "      <td>0</td>\n",
       "      <td>0</td>\n",
       "      <td>0</td>\n",
       "      <td>0</td>\n",
       "      <td>0</td>\n",
       "      <td>...</td>\n",
       "      <td>0</td>\n",
       "      <td>0</td>\n",
       "      <td>1</td>\n",
       "      <td>0</td>\n",
       "      <td>0</td>\n",
       "      <td>1</td>\n",
       "      <td>0</td>\n",
       "      <td>0</td>\n",
       "      <td>1</td>\n",
       "      <td>0</td>\n",
       "    </tr>\n",
       "    <tr>\n",
       "      <th>3</th>\n",
       "      <td>0</td>\n",
       "      <td>0</td>\n",
       "      <td>1</td>\n",
       "      <td>0</td>\n",
       "      <td>1</td>\n",
       "      <td>1</td>\n",
       "      <td>0</td>\n",
       "      <td>1</td>\n",
       "      <td>0</td>\n",
       "      <td>0</td>\n",
       "      <td>...</td>\n",
       "      <td>0</td>\n",
       "      <td>1</td>\n",
       "      <td>0</td>\n",
       "      <td>0</td>\n",
       "      <td>0</td>\n",
       "      <td>0</td>\n",
       "      <td>0</td>\n",
       "      <td>0</td>\n",
       "      <td>1</td>\n",
       "      <td>0</td>\n",
       "    </tr>\n",
       "    <tr>\n",
       "      <th>6</th>\n",
       "      <td>1</td>\n",
       "      <td>0</td>\n",
       "      <td>0</td>\n",
       "      <td>0</td>\n",
       "      <td>0</td>\n",
       "      <td>0</td>\n",
       "      <td>0</td>\n",
       "      <td>0</td>\n",
       "      <td>1</td>\n",
       "      <td>0</td>\n",
       "      <td>...</td>\n",
       "      <td>0</td>\n",
       "      <td>1</td>\n",
       "      <td>0</td>\n",
       "      <td>0</td>\n",
       "      <td>0</td>\n",
       "      <td>0</td>\n",
       "      <td>0</td>\n",
       "      <td>0</td>\n",
       "      <td>1</td>\n",
       "      <td>0</td>\n",
       "    </tr>\n",
       "    <tr>\n",
       "      <th>7</th>\n",
       "      <td>1</td>\n",
       "      <td>0</td>\n",
       "      <td>0</td>\n",
       "      <td>0</td>\n",
       "      <td>0</td>\n",
       "      <td>0</td>\n",
       "      <td>0</td>\n",
       "      <td>0</td>\n",
       "      <td>0</td>\n",
       "      <td>1</td>\n",
       "      <td>...</td>\n",
       "      <td>0</td>\n",
       "      <td>1</td>\n",
       "      <td>0</td>\n",
       "      <td>0</td>\n",
       "      <td>0</td>\n",
       "      <td>0</td>\n",
       "      <td>0</td>\n",
       "      <td>1</td>\n",
       "      <td>1</td>\n",
       "      <td>0</td>\n",
       "    </tr>\n",
       "    <tr>\n",
       "      <th>...</th>\n",
       "      <td>...</td>\n",
       "      <td>...</td>\n",
       "      <td>...</td>\n",
       "      <td>...</td>\n",
       "      <td>...</td>\n",
       "      <td>...</td>\n",
       "      <td>...</td>\n",
       "      <td>...</td>\n",
       "      <td>...</td>\n",
       "      <td>...</td>\n",
       "      <td>...</td>\n",
       "      <td>...</td>\n",
       "      <td>...</td>\n",
       "      <td>...</td>\n",
       "      <td>...</td>\n",
       "      <td>...</td>\n",
       "      <td>...</td>\n",
       "      <td>...</td>\n",
       "      <td>...</td>\n",
       "      <td>...</td>\n",
       "      <td>...</td>\n",
       "    </tr>\n",
       "    <tr>\n",
       "      <th>10865</th>\n",
       "      <td>1</td>\n",
       "      <td>0</td>\n",
       "      <td>0</td>\n",
       "      <td>0</td>\n",
       "      <td>0</td>\n",
       "      <td>1</td>\n",
       "      <td>0</td>\n",
       "      <td>0</td>\n",
       "      <td>0</td>\n",
       "      <td>1</td>\n",
       "      <td>...</td>\n",
       "      <td>0</td>\n",
       "      <td>0</td>\n",
       "      <td>0</td>\n",
       "      <td>0</td>\n",
       "      <td>0</td>\n",
       "      <td>0</td>\n",
       "      <td>0</td>\n",
       "      <td>0</td>\n",
       "      <td>1</td>\n",
       "      <td>0</td>\n",
       "    </tr>\n",
       "    <tr>\n",
       "      <th>10866</th>\n",
       "      <td>0</td>\n",
       "      <td>0</td>\n",
       "      <td>0</td>\n",
       "      <td>0</td>\n",
       "      <td>0</td>\n",
       "      <td>0</td>\n",
       "      <td>0</td>\n",
       "      <td>1</td>\n",
       "      <td>0</td>\n",
       "      <td>0</td>\n",
       "      <td>...</td>\n",
       "      <td>0</td>\n",
       "      <td>1</td>\n",
       "      <td>0</td>\n",
       "      <td>0</td>\n",
       "      <td>0</td>\n",
       "      <td>0</td>\n",
       "      <td>0</td>\n",
       "      <td>1</td>\n",
       "      <td>1</td>\n",
       "      <td>0</td>\n",
       "    </tr>\n",
       "    <tr>\n",
       "      <th>10869</th>\n",
       "      <td>0</td>\n",
       "      <td>0</td>\n",
       "      <td>1</td>\n",
       "      <td>0</td>\n",
       "      <td>0</td>\n",
       "      <td>0</td>\n",
       "      <td>0</td>\n",
       "      <td>1</td>\n",
       "      <td>0</td>\n",
       "      <td>0</td>\n",
       "      <td>...</td>\n",
       "      <td>0</td>\n",
       "      <td>1</td>\n",
       "      <td>0</td>\n",
       "      <td>0</td>\n",
       "      <td>0</td>\n",
       "      <td>0</td>\n",
       "      <td>0</td>\n",
       "      <td>0</td>\n",
       "      <td>1</td>\n",
       "      <td>0</td>\n",
       "    </tr>\n",
       "    <tr>\n",
       "      <th>10870</th>\n",
       "      <td>0</td>\n",
       "      <td>0</td>\n",
       "      <td>0</td>\n",
       "      <td>0</td>\n",
       "      <td>0</td>\n",
       "      <td>1</td>\n",
       "      <td>0</td>\n",
       "      <td>0</td>\n",
       "      <td>0</td>\n",
       "      <td>0</td>\n",
       "      <td>...</td>\n",
       "      <td>0</td>\n",
       "      <td>0</td>\n",
       "      <td>0</td>\n",
       "      <td>1</td>\n",
       "      <td>1</td>\n",
       "      <td>0</td>\n",
       "      <td>0</td>\n",
       "      <td>0</td>\n",
       "      <td>1</td>\n",
       "      <td>0</td>\n",
       "    </tr>\n",
       "    <tr>\n",
       "      <th>10871</th>\n",
       "      <td>1</td>\n",
       "      <td>0</td>\n",
       "      <td>0</td>\n",
       "      <td>0</td>\n",
       "      <td>0</td>\n",
       "      <td>0</td>\n",
       "      <td>1</td>\n",
       "      <td>1</td>\n",
       "      <td>0</td>\n",
       "      <td>0</td>\n",
       "      <td>...</td>\n",
       "      <td>0</td>\n",
       "      <td>1</td>\n",
       "      <td>0</td>\n",
       "      <td>0</td>\n",
       "      <td>0</td>\n",
       "      <td>1</td>\n",
       "      <td>0</td>\n",
       "      <td>0</td>\n",
       "      <td>1</td>\n",
       "      <td>0</td>\n",
       "    </tr>\n",
       "  </tbody>\n",
       "</table>\n",
       "<p>6817 rows × 35 columns</p>\n",
       "</div>"
      ],
      "text/plain": [
       "       state_California  state_Nevada  state_Oregon  state_Washington  \\\n",
       "0                     0             0             0                 0   \n",
       "2                     0             0             0                 1   \n",
       "3                     0             0             1                 0   \n",
       "6                     1             0             0                 0   \n",
       "7                     1             0             0                 0   \n",
       "...                 ...           ...           ...               ...   \n",
       "10865                 1             0             0                 0   \n",
       "10866                 0             0             0                 0   \n",
       "10869                 0             0             1                 0   \n",
       "10870                 0             0             0                 0   \n",
       "10871                 1             0             0                 0   \n",
       "\n",
       "       response_Yes  coverage_Extended  coverage_Premium  education_College  \\\n",
       "0                 0                  0                 0                  1   \n",
       "2                 0                  0                 0                  0   \n",
       "3                 1                  1                 0                  1   \n",
       "6                 0                  0                 0                  0   \n",
       "7                 0                  0                 0                  0   \n",
       "...             ...                ...               ...                ...   \n",
       "10865             0                  1                 0                  0   \n",
       "10866             0                  0                 0                  1   \n",
       "10869             0                  0                 0                  1   \n",
       "10870             0                  1                 0                  0   \n",
       "10871             0                  0                 1                  1   \n",
       "\n",
       "       education_Doctor  education_High School or Below  ...  \\\n",
       "0                     0                               0  ...   \n",
       "2                     0                               0  ...   \n",
       "3                     0                               0  ...   \n",
       "6                     1                               0  ...   \n",
       "7                     0                               1  ...   \n",
       "...                 ...                             ...  ...   \n",
       "10865                 0                               1  ...   \n",
       "10866                 0                               0  ...   \n",
       "10869                 0                               0  ...   \n",
       "10870                 0                               0  ...   \n",
       "10871                 0                               0  ...   \n",
       "\n",
       "       renew_offer_type_Offer4  sales_channel_Branch  \\\n",
       "0                            0                     0   \n",
       "2                            0                     0   \n",
       "3                            0                     1   \n",
       "6                            0                     1   \n",
       "7                            0                     1   \n",
       "...                        ...                   ...   \n",
       "10865                        0                     0   \n",
       "10866                        0                     1   \n",
       "10869                        0                     1   \n",
       "10870                        0                     0   \n",
       "10871                        0                     1   \n",
       "\n",
       "       sales_channel_Call Center  sales_channel_Web  vehicle_class_Luxury Car  \\\n",
       "0                              0                  0                         0   \n",
       "2                              1                  0                         0   \n",
       "3                              0                  0                         0   \n",
       "6                              0                  0                         0   \n",
       "7                              0                  0                         0   \n",
       "...                          ...                ...                       ...   \n",
       "10865                          0                  0                         0   \n",
       "10866                          0                  0                         0   \n",
       "10869                          0                  0                         0   \n",
       "10870                          0                  1                         1   \n",
       "10871                          0                  0                         0   \n",
       "\n",
       "       vehicle_class_SUV  vehicle_class_Sports Car  \\\n",
       "0                      0                         0   \n",
       "2                      1                         0   \n",
       "3                      0                         0   \n",
       "6                      0                         0   \n",
       "7                      0                         0   \n",
       "...                  ...                       ...   \n",
       "10865                  0                         0   \n",
       "10866                  0                         0   \n",
       "10869                  0                         0   \n",
       "10870                  0                         0   \n",
       "10871                  1                         0   \n",
       "\n",
       "       vehicle_class_Two-Door Car  vehicle_size_Medsize  vehicle_size_Small  \n",
       "0                               0                     1                   0  \n",
       "2                               0                     1                   0  \n",
       "3                               0                     1                   0  \n",
       "6                               0                     1                   0  \n",
       "7                               1                     1                   0  \n",
       "...                           ...                   ...                 ...  \n",
       "10865                           0                     1                   0  \n",
       "10866                           1                     1                   0  \n",
       "10869                           0                     1                   0  \n",
       "10870                           0                     1                   0  \n",
       "10871                           0                     1                   0  \n",
       "\n",
       "[6817 rows x 35 columns]"
      ]
     },
     "execution_count": 63,
     "metadata": {},
     "output_type": "execute_result"
    }
   ],
   "source": [
    "categorical_features"
   ]
  },
  {
   "cell_type": "code",
   "execution_count": null,
   "id": "0aeaeed1",
   "metadata": {},
   "outputs": [],
   "source": [
    "#Merging the encoded results into the original data frame"
   ]
  },
  {
   "cell_type": "code",
   "execution_count": 95,
   "id": "38c18c99",
   "metadata": {
    "scrolled": true
   },
   "outputs": [
    {
     "data": {
      "text/html": [
       "<div>\n",
       "<style scoped>\n",
       "    .dataframe tbody tr th:only-of-type {\n",
       "        vertical-align: middle;\n",
       "    }\n",
       "\n",
       "    .dataframe tbody tr th {\n",
       "        vertical-align: top;\n",
       "    }\n",
       "\n",
       "    .dataframe thead th {\n",
       "        text-align: right;\n",
       "    }\n",
       "</style>\n",
       "<table border=\"1\" class=\"dataframe\">\n",
       "  <thead>\n",
       "    <tr style=\"text-align: right;\">\n",
       "      <th></th>\n",
       "      <th>customer_lifetime_value</th>\n",
       "      <th>income</th>\n",
       "      <th>monthly_premium_auto</th>\n",
       "      <th>months_since_last_claim</th>\n",
       "      <th>months_since_policy_inception</th>\n",
       "      <th>number_of_policies</th>\n",
       "      <th>state_California</th>\n",
       "      <th>state_Nevada</th>\n",
       "      <th>state_Oregon</th>\n",
       "      <th>state_Washington</th>\n",
       "      <th>...</th>\n",
       "      <th>renew_offer_type_Offer4</th>\n",
       "      <th>sales_channel_Branch</th>\n",
       "      <th>sales_channel_Call Center</th>\n",
       "      <th>sales_channel_Web</th>\n",
       "      <th>vehicle_class_Luxury Car</th>\n",
       "      <th>vehicle_class_SUV</th>\n",
       "      <th>vehicle_class_Sports Car</th>\n",
       "      <th>vehicle_class_Two-Door Car</th>\n",
       "      <th>vehicle_size_Medsize</th>\n",
       "      <th>vehicle_size_Small</th>\n",
       "    </tr>\n",
       "  </thead>\n",
       "  <tbody>\n",
       "    <tr>\n",
       "      <th>0</th>\n",
       "      <td>4809.0</td>\n",
       "      <td>48029</td>\n",
       "      <td>61</td>\n",
       "      <td>7.0</td>\n",
       "      <td>52</td>\n",
       "      <td>9</td>\n",
       "      <td>0</td>\n",
       "      <td>0</td>\n",
       "      <td>0</td>\n",
       "      <td>0</td>\n",
       "      <td>...</td>\n",
       "      <td>0</td>\n",
       "      <td>0</td>\n",
       "      <td>0</td>\n",
       "      <td>0</td>\n",
       "      <td>0</td>\n",
       "      <td>0</td>\n",
       "      <td>0</td>\n",
       "      <td>0</td>\n",
       "      <td>1</td>\n",
       "      <td>0</td>\n",
       "    </tr>\n",
       "    <tr>\n",
       "      <th>2</th>\n",
       "      <td>14948.0</td>\n",
       "      <td>22139</td>\n",
       "      <td>100</td>\n",
       "      <td>34.0</td>\n",
       "      <td>31</td>\n",
       "      <td>2</td>\n",
       "      <td>0</td>\n",
       "      <td>0</td>\n",
       "      <td>0</td>\n",
       "      <td>1</td>\n",
       "      <td>...</td>\n",
       "      <td>0</td>\n",
       "      <td>0</td>\n",
       "      <td>1</td>\n",
       "      <td>0</td>\n",
       "      <td>0</td>\n",
       "      <td>1</td>\n",
       "      <td>0</td>\n",
       "      <td>0</td>\n",
       "      <td>1</td>\n",
       "      <td>0</td>\n",
       "    </tr>\n",
       "    <tr>\n",
       "      <th>3</th>\n",
       "      <td>22332.0</td>\n",
       "      <td>49078</td>\n",
       "      <td>97</td>\n",
       "      <td>10.0</td>\n",
       "      <td>3</td>\n",
       "      <td>2</td>\n",
       "      <td>0</td>\n",
       "      <td>0</td>\n",
       "      <td>1</td>\n",
       "      <td>0</td>\n",
       "      <td>...</td>\n",
       "      <td>0</td>\n",
       "      <td>1</td>\n",
       "      <td>0</td>\n",
       "      <td>0</td>\n",
       "      <td>0</td>\n",
       "      <td>0</td>\n",
       "      <td>0</td>\n",
       "      <td>0</td>\n",
       "      <td>1</td>\n",
       "      <td>0</td>\n",
       "    </tr>\n",
       "    <tr>\n",
       "      <th>6</th>\n",
       "      <td>5035.0</td>\n",
       "      <td>37405</td>\n",
       "      <td>63</td>\n",
       "      <td>8.0</td>\n",
       "      <td>99</td>\n",
       "      <td>4</td>\n",
       "      <td>1</td>\n",
       "      <td>0</td>\n",
       "      <td>0</td>\n",
       "      <td>0</td>\n",
       "      <td>...</td>\n",
       "      <td>0</td>\n",
       "      <td>1</td>\n",
       "      <td>0</td>\n",
       "      <td>0</td>\n",
       "      <td>0</td>\n",
       "      <td>0</td>\n",
       "      <td>0</td>\n",
       "      <td>0</td>\n",
       "      <td>1</td>\n",
       "      <td>0</td>\n",
       "    </tr>\n",
       "    <tr>\n",
       "      <th>7</th>\n",
       "      <td>4956.0</td>\n",
       "      <td>87197</td>\n",
       "      <td>63</td>\n",
       "      <td>35.0</td>\n",
       "      <td>45</td>\n",
       "      <td>3</td>\n",
       "      <td>1</td>\n",
       "      <td>0</td>\n",
       "      <td>0</td>\n",
       "      <td>0</td>\n",
       "      <td>...</td>\n",
       "      <td>0</td>\n",
       "      <td>1</td>\n",
       "      <td>0</td>\n",
       "      <td>0</td>\n",
       "      <td>0</td>\n",
       "      <td>0</td>\n",
       "      <td>0</td>\n",
       "      <td>1</td>\n",
       "      <td>1</td>\n",
       "      <td>0</td>\n",
       "    </tr>\n",
       "  </tbody>\n",
       "</table>\n",
       "<p>5 rows × 41 columns</p>\n",
       "</div>"
      ],
      "text/plain": [
       "   customer_lifetime_value  income  monthly_premium_auto  \\\n",
       "0                   4809.0   48029                    61   \n",
       "2                  14948.0   22139                   100   \n",
       "3                  22332.0   49078                    97   \n",
       "6                   5035.0   37405                    63   \n",
       "7                   4956.0   87197                    63   \n",
       "\n",
       "   months_since_last_claim  months_since_policy_inception  number_of_policies  \\\n",
       "0                      7.0                             52                   9   \n",
       "2                     34.0                             31                   2   \n",
       "3                     10.0                              3                   2   \n",
       "6                      8.0                             99                   4   \n",
       "7                     35.0                             45                   3   \n",
       "\n",
       "   state_California  state_Nevada  state_Oregon  state_Washington  ...  \\\n",
       "0                 0             0             0                 0  ...   \n",
       "2                 0             0             0                 1  ...   \n",
       "3                 0             0             1                 0  ...   \n",
       "6                 1             0             0                 0  ...   \n",
       "7                 1             0             0                 0  ...   \n",
       "\n",
       "   renew_offer_type_Offer4  sales_channel_Branch  sales_channel_Call Center  \\\n",
       "0                        0                     0                          0   \n",
       "2                        0                     0                          1   \n",
       "3                        0                     1                          0   \n",
       "6                        0                     1                          0   \n",
       "7                        0                     1                          0   \n",
       "\n",
       "   sales_channel_Web  vehicle_class_Luxury Car  vehicle_class_SUV  \\\n",
       "0                  0                         0                  0   \n",
       "2                  0                         0                  1   \n",
       "3                  0                         0                  0   \n",
       "6                  0                         0                  0   \n",
       "7                  0                         0                  0   \n",
       "\n",
       "   vehicle_class_Sports Car  vehicle_class_Two-Door Car  vehicle_size_Medsize  \\\n",
       "0                         0                           0                     1   \n",
       "2                         0                           0                     1   \n",
       "3                         0                           0                     1   \n",
       "6                         0                           0                     1   \n",
       "7                         0                           1                     1   \n",
       "\n",
       "   vehicle_size_Small  \n",
       "0                   0  \n",
       "2                   0  \n",
       "3                   0  \n",
       "6                   0  \n",
       "7                   0  \n",
       "\n",
       "[5 rows x 41 columns]"
      ]
     },
     "execution_count": 95,
     "metadata": {},
     "output_type": "execute_result"
    }
   ],
   "source": [
    "all_features = pd.concat([numericals_features, categorical_features], axis=1) \n",
    "all_features.head()"
   ]
  },
  {
   "cell_type": "markdown",
   "id": "0898884f",
   "metadata": {},
   "source": [
    "#### Train Test Split"
   ]
  },
  {
   "cell_type": "code",
   "execution_count": 96,
   "id": "2ee0dc99",
   "metadata": {},
   "outputs": [],
   "source": [
    "X_train, X_test, y_train, y_test=train_test_split(all_features, y, test_size=.20)"
   ]
  },
  {
   "cell_type": "code",
   "execution_count": 97,
   "id": "405106e5",
   "metadata": {},
   "outputs": [
    {
     "data": {
      "text/html": [
       "<div>\n",
       "<style scoped>\n",
       "    .dataframe tbody tr th:only-of-type {\n",
       "        vertical-align: middle;\n",
       "    }\n",
       "\n",
       "    .dataframe tbody tr th {\n",
       "        vertical-align: top;\n",
       "    }\n",
       "\n",
       "    .dataframe thead th {\n",
       "        text-align: right;\n",
       "    }\n",
       "</style>\n",
       "<table border=\"1\" class=\"dataframe\">\n",
       "  <thead>\n",
       "    <tr style=\"text-align: right;\">\n",
       "      <th></th>\n",
       "      <th>customer_lifetime_value</th>\n",
       "      <th>income</th>\n",
       "      <th>monthly_premium_auto</th>\n",
       "      <th>months_since_last_claim</th>\n",
       "      <th>months_since_policy_inception</th>\n",
       "      <th>number_of_policies</th>\n",
       "      <th>state_California</th>\n",
       "      <th>state_Nevada</th>\n",
       "      <th>state_Oregon</th>\n",
       "      <th>state_Washington</th>\n",
       "      <th>...</th>\n",
       "      <th>renew_offer_type_Offer4</th>\n",
       "      <th>sales_channel_Branch</th>\n",
       "      <th>sales_channel_Call Center</th>\n",
       "      <th>sales_channel_Web</th>\n",
       "      <th>vehicle_class_Luxury Car</th>\n",
       "      <th>vehicle_class_SUV</th>\n",
       "      <th>vehicle_class_Sports Car</th>\n",
       "      <th>vehicle_class_Two-Door Car</th>\n",
       "      <th>vehicle_size_Medsize</th>\n",
       "      <th>vehicle_size_Small</th>\n",
       "    </tr>\n",
       "  </thead>\n",
       "  <tbody>\n",
       "    <tr>\n",
       "      <th>2518</th>\n",
       "      <td>4196.0</td>\n",
       "      <td>18052</td>\n",
       "      <td>111</td>\n",
       "      <td>5.0</td>\n",
       "      <td>71</td>\n",
       "      <td>1</td>\n",
       "      <td>0</td>\n",
       "      <td>0</td>\n",
       "      <td>0</td>\n",
       "      <td>0</td>\n",
       "      <td>...</td>\n",
       "      <td>0</td>\n",
       "      <td>0</td>\n",
       "      <td>0</td>\n",
       "      <td>1</td>\n",
       "      <td>0</td>\n",
       "      <td>0</td>\n",
       "      <td>0</td>\n",
       "      <td>0</td>\n",
       "      <td>1</td>\n",
       "      <td>0</td>\n",
       "    </tr>\n",
       "    <tr>\n",
       "      <th>1161</th>\n",
       "      <td>11473.0</td>\n",
       "      <td>66538</td>\n",
       "      <td>95</td>\n",
       "      <td>14.0</td>\n",
       "      <td>64</td>\n",
       "      <td>2</td>\n",
       "      <td>0</td>\n",
       "      <td>0</td>\n",
       "      <td>1</td>\n",
       "      <td>0</td>\n",
       "      <td>...</td>\n",
       "      <td>0</td>\n",
       "      <td>0</td>\n",
       "      <td>0</td>\n",
       "      <td>0</td>\n",
       "      <td>0</td>\n",
       "      <td>0</td>\n",
       "      <td>0</td>\n",
       "      <td>1</td>\n",
       "      <td>1</td>\n",
       "      <td>0</td>\n",
       "    </tr>\n",
       "    <tr>\n",
       "      <th>3268</th>\n",
       "      <td>4769.0</td>\n",
       "      <td>51144</td>\n",
       "      <td>61</td>\n",
       "      <td>28.0</td>\n",
       "      <td>32</td>\n",
       "      <td>9</td>\n",
       "      <td>0</td>\n",
       "      <td>0</td>\n",
       "      <td>0</td>\n",
       "      <td>1</td>\n",
       "      <td>...</td>\n",
       "      <td>0</td>\n",
       "      <td>0</td>\n",
       "      <td>0</td>\n",
       "      <td>0</td>\n",
       "      <td>0</td>\n",
       "      <td>0</td>\n",
       "      <td>0</td>\n",
       "      <td>1</td>\n",
       "      <td>1</td>\n",
       "      <td>0</td>\n",
       "    </tr>\n",
       "    <tr>\n",
       "      <th>8040</th>\n",
       "      <td>9320.0</td>\n",
       "      <td>21033</td>\n",
       "      <td>118</td>\n",
       "      <td>5.0</td>\n",
       "      <td>22</td>\n",
       "      <td>8</td>\n",
       "      <td>0</td>\n",
       "      <td>0</td>\n",
       "      <td>0</td>\n",
       "      <td>0</td>\n",
       "      <td>...</td>\n",
       "      <td>0</td>\n",
       "      <td>0</td>\n",
       "      <td>1</td>\n",
       "      <td>0</td>\n",
       "      <td>0</td>\n",
       "      <td>0</td>\n",
       "      <td>0</td>\n",
       "      <td>1</td>\n",
       "      <td>0</td>\n",
       "      <td>1</td>\n",
       "    </tr>\n",
       "    <tr>\n",
       "      <th>10606</th>\n",
       "      <td>17786.0</td>\n",
       "      <td>99790</td>\n",
       "      <td>64</td>\n",
       "      <td>24.0</td>\n",
       "      <td>8</td>\n",
       "      <td>2</td>\n",
       "      <td>0</td>\n",
       "      <td>0</td>\n",
       "      <td>0</td>\n",
       "      <td>1</td>\n",
       "      <td>...</td>\n",
       "      <td>0</td>\n",
       "      <td>0</td>\n",
       "      <td>1</td>\n",
       "      <td>0</td>\n",
       "      <td>0</td>\n",
       "      <td>0</td>\n",
       "      <td>0</td>\n",
       "      <td>0</td>\n",
       "      <td>1</td>\n",
       "      <td>0</td>\n",
       "    </tr>\n",
       "    <tr>\n",
       "      <th>...</th>\n",
       "      <td>...</td>\n",
       "      <td>...</td>\n",
       "      <td>...</td>\n",
       "      <td>...</td>\n",
       "      <td>...</td>\n",
       "      <td>...</td>\n",
       "      <td>...</td>\n",
       "      <td>...</td>\n",
       "      <td>...</td>\n",
       "      <td>...</td>\n",
       "      <td>...</td>\n",
       "      <td>...</td>\n",
       "      <td>...</td>\n",
       "      <td>...</td>\n",
       "      <td>...</td>\n",
       "      <td>...</td>\n",
       "      <td>...</td>\n",
       "      <td>...</td>\n",
       "      <td>...</td>\n",
       "      <td>...</td>\n",
       "      <td>...</td>\n",
       "    </tr>\n",
       "    <tr>\n",
       "      <th>4806</th>\n",
       "      <td>5228.0</td>\n",
       "      <td>70988</td>\n",
       "      <td>65</td>\n",
       "      <td>3.0</td>\n",
       "      <td>82</td>\n",
       "      <td>7</td>\n",
       "      <td>1</td>\n",
       "      <td>0</td>\n",
       "      <td>0</td>\n",
       "      <td>0</td>\n",
       "      <td>...</td>\n",
       "      <td>0</td>\n",
       "      <td>0</td>\n",
       "      <td>0</td>\n",
       "      <td>1</td>\n",
       "      <td>0</td>\n",
       "      <td>0</td>\n",
       "      <td>0</td>\n",
       "      <td>0</td>\n",
       "      <td>1</td>\n",
       "      <td>0</td>\n",
       "    </tr>\n",
       "    <tr>\n",
       "      <th>1865</th>\n",
       "      <td>11639.0</td>\n",
       "      <td>25370</td>\n",
       "      <td>102</td>\n",
       "      <td>10.0</td>\n",
       "      <td>77</td>\n",
       "      <td>2</td>\n",
       "      <td>1</td>\n",
       "      <td>0</td>\n",
       "      <td>0</td>\n",
       "      <td>0</td>\n",
       "      <td>...</td>\n",
       "      <td>0</td>\n",
       "      <td>1</td>\n",
       "      <td>0</td>\n",
       "      <td>0</td>\n",
       "      <td>0</td>\n",
       "      <td>0</td>\n",
       "      <td>1</td>\n",
       "      <td>0</td>\n",
       "      <td>0</td>\n",
       "      <td>0</td>\n",
       "    </tr>\n",
       "    <tr>\n",
       "      <th>6086</th>\n",
       "      <td>2396.0</td>\n",
       "      <td>39062</td>\n",
       "      <td>61</td>\n",
       "      <td>2.0</td>\n",
       "      <td>20</td>\n",
       "      <td>1</td>\n",
       "      <td>0</td>\n",
       "      <td>0</td>\n",
       "      <td>0</td>\n",
       "      <td>1</td>\n",
       "      <td>...</td>\n",
       "      <td>0</td>\n",
       "      <td>0</td>\n",
       "      <td>0</td>\n",
       "      <td>0</td>\n",
       "      <td>0</td>\n",
       "      <td>0</td>\n",
       "      <td>0</td>\n",
       "      <td>1</td>\n",
       "      <td>1</td>\n",
       "      <td>0</td>\n",
       "    </tr>\n",
       "    <tr>\n",
       "      <th>6979</th>\n",
       "      <td>9199.0</td>\n",
       "      <td>31562</td>\n",
       "      <td>115</td>\n",
       "      <td>14.0</td>\n",
       "      <td>6</td>\n",
       "      <td>3</td>\n",
       "      <td>1</td>\n",
       "      <td>0</td>\n",
       "      <td>0</td>\n",
       "      <td>0</td>\n",
       "      <td>...</td>\n",
       "      <td>0</td>\n",
       "      <td>0</td>\n",
       "      <td>1</td>\n",
       "      <td>0</td>\n",
       "      <td>0</td>\n",
       "      <td>1</td>\n",
       "      <td>0</td>\n",
       "      <td>0</td>\n",
       "      <td>1</td>\n",
       "      <td>0</td>\n",
       "    </tr>\n",
       "    <tr>\n",
       "      <th>10618</th>\n",
       "      <td>20878.0</td>\n",
       "      <td>50555</td>\n",
       "      <td>88</td>\n",
       "      <td>9.0</td>\n",
       "      <td>45</td>\n",
       "      <td>2</td>\n",
       "      <td>1</td>\n",
       "      <td>0</td>\n",
       "      <td>0</td>\n",
       "      <td>0</td>\n",
       "      <td>...</td>\n",
       "      <td>1</td>\n",
       "      <td>0</td>\n",
       "      <td>0</td>\n",
       "      <td>1</td>\n",
       "      <td>0</td>\n",
       "      <td>0</td>\n",
       "      <td>0</td>\n",
       "      <td>0</td>\n",
       "      <td>0</td>\n",
       "      <td>0</td>\n",
       "    </tr>\n",
       "  </tbody>\n",
       "</table>\n",
       "<p>5453 rows × 41 columns</p>\n",
       "</div>"
      ],
      "text/plain": [
       "       customer_lifetime_value  income  monthly_premium_auto  \\\n",
       "2518                    4196.0   18052                   111   \n",
       "1161                   11473.0   66538                    95   \n",
       "3268                    4769.0   51144                    61   \n",
       "8040                    9320.0   21033                   118   \n",
       "10606                  17786.0   99790                    64   \n",
       "...                        ...     ...                   ...   \n",
       "4806                    5228.0   70988                    65   \n",
       "1865                   11639.0   25370                   102   \n",
       "6086                    2396.0   39062                    61   \n",
       "6979                    9199.0   31562                   115   \n",
       "10618                  20878.0   50555                    88   \n",
       "\n",
       "       months_since_last_claim  months_since_policy_inception  \\\n",
       "2518                       5.0                             71   \n",
       "1161                      14.0                             64   \n",
       "3268                      28.0                             32   \n",
       "8040                       5.0                             22   \n",
       "10606                     24.0                              8   \n",
       "...                        ...                            ...   \n",
       "4806                       3.0                             82   \n",
       "1865                      10.0                             77   \n",
       "6086                       2.0                             20   \n",
       "6979                      14.0                              6   \n",
       "10618                      9.0                             45   \n",
       "\n",
       "       number_of_policies  state_California  state_Nevada  state_Oregon  \\\n",
       "2518                    1                 0             0             0   \n",
       "1161                    2                 0             0             1   \n",
       "3268                    9                 0             0             0   \n",
       "8040                    8                 0             0             0   \n",
       "10606                   2                 0             0             0   \n",
       "...                   ...               ...           ...           ...   \n",
       "4806                    7                 1             0             0   \n",
       "1865                    2                 1             0             0   \n",
       "6086                    1                 0             0             0   \n",
       "6979                    3                 1             0             0   \n",
       "10618                   2                 1             0             0   \n",
       "\n",
       "       state_Washington  ...  renew_offer_type_Offer4  sales_channel_Branch  \\\n",
       "2518                  0  ...                        0                     0   \n",
       "1161                  0  ...                        0                     0   \n",
       "3268                  1  ...                        0                     0   \n",
       "8040                  0  ...                        0                     0   \n",
       "10606                 1  ...                        0                     0   \n",
       "...                 ...  ...                      ...                   ...   \n",
       "4806                  0  ...                        0                     0   \n",
       "1865                  0  ...                        0                     1   \n",
       "6086                  1  ...                        0                     0   \n",
       "6979                  0  ...                        0                     0   \n",
       "10618                 0  ...                        1                     0   \n",
       "\n",
       "       sales_channel_Call Center  sales_channel_Web  vehicle_class_Luxury Car  \\\n",
       "2518                           0                  1                         0   \n",
       "1161                           0                  0                         0   \n",
       "3268                           0                  0                         0   \n",
       "8040                           1                  0                         0   \n",
       "10606                          1                  0                         0   \n",
       "...                          ...                ...                       ...   \n",
       "4806                           0                  1                         0   \n",
       "1865                           0                  0                         0   \n",
       "6086                           0                  0                         0   \n",
       "6979                           1                  0                         0   \n",
       "10618                          0                  1                         0   \n",
       "\n",
       "       vehicle_class_SUV  vehicle_class_Sports Car  \\\n",
       "2518                   0                         0   \n",
       "1161                   0                         0   \n",
       "3268                   0                         0   \n",
       "8040                   0                         0   \n",
       "10606                  0                         0   \n",
       "...                  ...                       ...   \n",
       "4806                   0                         0   \n",
       "1865                   0                         1   \n",
       "6086                   0                         0   \n",
       "6979                   1                         0   \n",
       "10618                  0                         0   \n",
       "\n",
       "       vehicle_class_Two-Door Car  vehicle_size_Medsize  vehicle_size_Small  \n",
       "2518                            0                     1                   0  \n",
       "1161                            1                     1                   0  \n",
       "3268                            1                     1                   0  \n",
       "8040                            1                     0                   1  \n",
       "10606                           0                     1                   0  \n",
       "...                           ...                   ...                 ...  \n",
       "4806                            0                     1                   0  \n",
       "1865                            0                     0                   0  \n",
       "6086                            1                     1                   0  \n",
       "6979                            0                     1                   0  \n",
       "10618                           0                     0                   0  \n",
       "\n",
       "[5453 rows x 41 columns]"
      ]
     },
     "execution_count": 97,
     "metadata": {},
     "output_type": "execute_result"
    }
   ],
   "source": [
    "X_train"
   ]
  },
  {
   "cell_type": "markdown",
   "id": "4ad9a86d",
   "metadata": {},
   "source": [
    "### Linear Regression"
   ]
  },
  {
   "cell_type": "code",
   "execution_count": 99,
   "id": "6899ffc2",
   "metadata": {},
   "outputs": [],
   "source": [
    "model=LinearRegression()    # model\n",
    "model.fit(X_train.to_numpy(), y_train)   # model train\n",
    "\n",
    "y\n",
    "y_pred=model.predict(X_test.to_numpy())   # model prediction\n",
    "\n",
    "\n",
    "y_pred_train=model.predict(X_train.to_numpy())"
   ]
  },
  {
   "cell_type": "code",
   "execution_count": 100,
   "id": "d2588f5b",
   "metadata": {},
   "outputs": [
    {
     "data": {
      "text/plain": [
       "array([ 201.2851077 ,  147.02761487,  382.59732963, ...,  375.57978315,\n",
       "       1412.08737793,  421.83944924])"
      ]
     },
     "execution_count": 100,
     "metadata": {},
     "output_type": "execute_result"
    }
   ],
   "source": [
    "y_pred"
   ]
  },
  {
   "cell_type": "code",
   "execution_count": 101,
   "id": "bd3e18b4",
   "metadata": {},
   "outputs": [
    {
     "data": {
      "text/plain": [
       "Text(0.5, 1.0, 'Train Residual histogram')"
      ]
     },
     "execution_count": 101,
     "metadata": {},
     "output_type": "execute_result"
    },
    {
     "data": {
      "image/png": "[encoded data removed]",
      "text/plain": [
       "<Figure size 432x288 with 4 Axes>"
      ]
     },
     "metadata": {
      "needs_background": "light"
     },
     "output_type": "display_data"
    }
   ],
   "source": [
    "fig, ax = plt.subplots(2,2)\n",
    "ax[0,0].plot(y_pred, y_test, 'o')\n",
    "ax[0,0].set_xlabel(\"y_test\")\n",
    "ax[0,0].set_ylabel(\"y_pred\")\n",
    "ax[0,0].set_title(\"Test Set -Predicted vs real\")\n",
    "\n",
    "# Get a histogram of the residuals ie: y - y_pred.  Homoscdasticity\n",
    "# It resembles a normal distribution?\n",
    "ax[0,1].hist(y_test - y_pred)\n",
    "ax[0,1].set_xlabel(\"Test y-y_pred\")\n",
    "ax[0,1].set_title(\"Test Set Residual histogram\")\n",
    "\n",
    "ax[1,0].plot(y_pred_train, y_train, 'o')\n",
    "ax[1,0].set_xlabel(\"y_train\")\n",
    "ax[1,0].set_ylabel(\"y_pred_train\")\n",
    "ax[1,0].set_title(\"Train set Predicted vs real\")\n",
    "\n",
    "# Get a histogram of the residuals ie: y - y_pred.  Homoscdasticity\n",
    "# It resembles a normal distribution?\n",
    "ax[1,1].hist(y_train - y_pred_train)\n",
    "ax[1,1].set_xlabel(\"Train y-y_pred\")\n",
    "ax[1,1].set_title(\"Train Residual histogram\")"
   ]
  },
  {
   "cell_type": "markdown",
   "id": "8f572c1f",
   "metadata": {},
   "source": [
    "#### Model Validation"
   ]
  },
  {
   "cell_type": "markdown",
   "id": "0670b438",
   "metadata": {},
   "source": [
    "MSE"
   ]
  },
  {
   "cell_type": "code",
   "execution_count": 104,
   "id": "86ff1ad6",
   "metadata": {},
   "outputs": [
    {
     "name": "stdout",
     "output_type": "stream",
     "text": [
      "train MSE: 12502.629909310861 -- test MSE: 12862.5629615593\n"
     ]
    }
   ],
   "source": [
    "train_mse = mse(y_train,model.predict(X_train.to_numpy()))\n",
    "test_mse = mse(y_test,model.predict(X_test.to_numpy()))\n",
    "\n",
    "print('train MSE: {} -- test MSE: {}'.format(train_mse, test_mse))"
   ]
  },
  {
   "cell_type": "markdown",
   "id": "565e5d96",
   "metadata": {},
   "source": [
    "RMSE"
   ]
  },
  {
   "cell_type": "code",
   "execution_count": 105,
   "id": "84c67ea3",
   "metadata": {},
   "outputs": [
    {
     "name": "stdout",
     "output_type": "stream",
     "text": [
      "train RMSE: 111.81515956841837 -- test RMSE: 113.41323979835556\n"
     ]
    }
   ],
   "source": [
    "print('train RMSE: {} -- test RMSE: {}'.format(train_mse**.5, test_mse**.5))"
   ]
  },
  {
   "cell_type": "markdown",
   "id": "05322c14",
   "metadata": {},
   "source": [
    "MAE"
   ]
  },
  {
   "cell_type": "code",
   "execution_count": 106,
   "id": "f804b27e",
   "metadata": {},
   "outputs": [
    {
     "name": "stdout",
     "output_type": "stream",
     "text": [
      "train RMSE: 111.81515956841837 -- test RMSE: 113.41323979835556\n"
     ]
    }
   ],
   "source": [
    "print('train RMSE: {} -- test RMSE: {}'.format(train_mse**.5, test_mse**.5))"
   ]
  },
  {
   "cell_type": "markdown",
   "id": "63fec35a",
   "metadata": {},
   "source": [
    "R2"
   ]
  },
  {
   "cell_type": "code",
   "execution_count": 107,
   "id": "393d03ec",
   "metadata": {},
   "outputs": [
    {
     "name": "stdout",
     "output_type": "stream",
     "text": [
      "0.8243309280682153\n",
      "0.8243309280682153\n"
     ]
    }
   ],
   "source": [
    "r2 = model.score(X_test.to_numpy(), y_test)\n",
    "print (r2)\n",
    "\n",
    "print(r2_score(y_test,model.predict(X_test.to_numpy())))"
   ]
  },
  {
   "cell_type": "code",
   "execution_count": 108,
   "id": "697336c7",
   "metadata": {},
   "outputs": [
    {
     "name": "stdout",
     "output_type": "stream",
     "text": [
      "train R2: 0.7965627757420377 -- test R2: 0.8243309280682153\n"
     ]
    }
   ],
   "source": [
    "print ('train R2: {} -- test R2: {}'.format(model.score(X_train.to_numpy(), y_train),\n",
    "                                            model.score(X_test.to_numpy(), y_test)))"
   ]
  },
  {
   "cell_type": "markdown",
   "id": "d2d39d56",
   "metadata": {},
   "source": [
    "Adjusted R2"
   ]
  },
  {
   "cell_type": "code",
   "execution_count": 109,
   "id": "050d4384",
   "metadata": {},
   "outputs": [
    {
     "name": "stdout",
     "output_type": "stream",
     "text": [
      "Adjusted-R2 :  0.8231632606772359\n"
     ]
    }
   ],
   "source": [
    "N=X_train.shape[0]\n",
    "p=36\n",
    "x = (1-r2)\n",
    "y = (N-1) / (N-p-1)\n",
    "adj_rsquared = (1 - (x * y))\n",
    "print(\"Adjusted-R2 : \" , adj_rsquared)"
   ]
  },
  {
   "cell_type": "markdown",
   "id": "62a6d3fa",
   "metadata": {},
   "source": [
    "#### Feature importance"
   ]
  },
  {
   "cell_type": "code",
   "execution_count": 110,
   "id": "33698d70",
   "metadata": {},
   "outputs": [],
   "source": [
    "features_importances = pd.DataFrame(data={\n",
    "    'Attribute': X_train.columns,\n",
    "    'Importance': model.coef_\n",
    "})\n",
    "features_importances = features_importances.sort_values(by='Importance', ascending=False)"
   ]
  },
  {
   "cell_type": "code",
   "execution_count": 111,
   "id": "c903dc61",
   "metadata": {},
   "outputs": [
    {
     "data": {
      "text/html": [
       "<div>\n",
       "<style scoped>\n",
       "    .dataframe tbody tr th:only-of-type {\n",
       "        vertical-align: middle;\n",
       "    }\n",
       "\n",
       "    .dataframe tbody tr th {\n",
       "        vertical-align: top;\n",
       "    }\n",
       "\n",
       "    .dataframe thead th {\n",
       "        text-align: right;\n",
       "    }\n",
       "</style>\n",
       "<table border=\"1\" class=\"dataframe\">\n",
       "  <thead>\n",
       "    <tr style=\"text-align: right;\">\n",
       "      <th></th>\n",
       "      <th>Attribute</th>\n",
       "      <th>Importance</th>\n",
       "    </tr>\n",
       "  </thead>\n",
       "  <tbody>\n",
       "    <tr>\n",
       "      <th>21</th>\n",
       "      <td>location_code_Suburban</td>\n",
       "      <td>376.623285</td>\n",
       "    </tr>\n",
       "    <tr>\n",
       "      <th>22</th>\n",
       "      <td>location_code_Urban</td>\n",
       "      <td>220.409130</td>\n",
       "    </tr>\n",
       "    <tr>\n",
       "      <th>18</th>\n",
       "      <td>employment_status_Medical Leave</td>\n",
       "      <td>20.777913</td>\n",
       "    </tr>\n",
       "    <tr>\n",
       "      <th>29</th>\n",
       "      <td>renew_offer_type_Offer2</td>\n",
       "      <td>12.778440</td>\n",
       "    </tr>\n",
       "    <tr>\n",
       "      <th>20</th>\n",
       "      <td>gender_M</td>\n",
       "      <td>10.592791</td>\n",
       "    </tr>\n",
       "    <tr>\n",
       "      <th>9</th>\n",
       "      <td>state_Washington</td>\n",
       "      <td>9.734025</td>\n",
       "    </tr>\n",
       "    <tr>\n",
       "      <th>30</th>\n",
       "      <td>renew_offer_type_Offer3</td>\n",
       "      <td>9.343535</td>\n",
       "    </tr>\n",
       "    <tr>\n",
       "      <th>31</th>\n",
       "      <td>renew_offer_type_Offer4</td>\n",
       "      <td>8.342420</td>\n",
       "    </tr>\n",
       "    <tr>\n",
       "      <th>34</th>\n",
       "      <td>sales_channel_Web</td>\n",
       "      <td>5.466989</td>\n",
       "    </tr>\n",
       "    <tr>\n",
       "      <th>2</th>\n",
       "      <td>monthly_premium_auto</td>\n",
       "      <td>4.624945</td>\n",
       "    </tr>\n",
       "    <tr>\n",
       "      <th>26</th>\n",
       "      <td>policy_type_Special Auto</td>\n",
       "      <td>3.490080</td>\n",
       "    </tr>\n",
       "    <tr>\n",
       "      <th>28</th>\n",
       "      <td>policy_Special</td>\n",
       "      <td>3.490080</td>\n",
       "    </tr>\n",
       "    <tr>\n",
       "      <th>24</th>\n",
       "      <td>marital_status_Single</td>\n",
       "      <td>2.995002</td>\n",
       "    </tr>\n",
       "    <tr>\n",
       "      <th>38</th>\n",
       "      <td>vehicle_class_Two-Door Car</td>\n",
       "      <td>2.236726</td>\n",
       "    </tr>\n",
       "    <tr>\n",
       "      <th>25</th>\n",
       "      <td>policy_type_Personal Auto</td>\n",
       "      <td>2.179453</td>\n",
       "    </tr>\n",
       "    <tr>\n",
       "      <th>27</th>\n",
       "      <td>policy_Personal</td>\n",
       "      <td>2.179453</td>\n",
       "    </tr>\n",
       "    <tr>\n",
       "      <th>40</th>\n",
       "      <td>vehicle_size_Small</td>\n",
       "      <td>1.063763</td>\n",
       "    </tr>\n",
       "    <tr>\n",
       "      <th>32</th>\n",
       "      <td>sales_channel_Branch</td>\n",
       "      <td>0.975884</td>\n",
       "    </tr>\n",
       "    <tr>\n",
       "      <th>5</th>\n",
       "      <td>number_of_policies</td>\n",
       "      <td>0.320235</td>\n",
       "    </tr>\n",
       "    <tr>\n",
       "      <th>3</th>\n",
       "      <td>months_since_last_claim</td>\n",
       "      <td>0.197169</td>\n",
       "    </tr>\n",
       "    <tr>\n",
       "      <th>0</th>\n",
       "      <td>customer_lifetime_value</td>\n",
       "      <td>0.000440</td>\n",
       "    </tr>\n",
       "    <tr>\n",
       "      <th>1</th>\n",
       "      <td>income</td>\n",
       "      <td>-0.000337</td>\n",
       "    </tr>\n",
       "    <tr>\n",
       "      <th>4</th>\n",
       "      <td>months_since_policy_inception</td>\n",
       "      <td>-0.004846</td>\n",
       "    </tr>\n",
       "    <tr>\n",
       "      <th>6</th>\n",
       "      <td>state_California</td>\n",
       "      <td>-0.410255</td>\n",
       "    </tr>\n",
       "    <tr>\n",
       "      <th>15</th>\n",
       "      <td>education_High School or Below</td>\n",
       "      <td>-0.656308</td>\n",
       "    </tr>\n",
       "    <tr>\n",
       "      <th>17</th>\n",
       "      <td>employment_status_Employed</td>\n",
       "      <td>-0.929495</td>\n",
       "    </tr>\n",
       "    <tr>\n",
       "      <th>33</th>\n",
       "      <td>sales_channel_Call Center</td>\n",
       "      <td>-0.995599</td>\n",
       "    </tr>\n",
       "    <tr>\n",
       "      <th>10</th>\n",
       "      <td>response_Yes</td>\n",
       "      <td>-2.715220</td>\n",
       "    </tr>\n",
       "    <tr>\n",
       "      <th>8</th>\n",
       "      <td>state_Oregon</td>\n",
       "      <td>-2.817782</td>\n",
       "    </tr>\n",
       "    <tr>\n",
       "      <th>39</th>\n",
       "      <td>vehicle_size_Medsize</td>\n",
       "      <td>-2.941265</td>\n",
       "    </tr>\n",
       "    <tr>\n",
       "      <th>7</th>\n",
       "      <td>state_Nevada</td>\n",
       "      <td>-4.352344</td>\n",
       "    </tr>\n",
       "    <tr>\n",
       "      <th>16</th>\n",
       "      <td>education_Master</td>\n",
       "      <td>-4.960573</td>\n",
       "    </tr>\n",
       "    <tr>\n",
       "      <th>13</th>\n",
       "      <td>education_College</td>\n",
       "      <td>-5.488065</td>\n",
       "    </tr>\n",
       "    <tr>\n",
       "      <th>23</th>\n",
       "      <td>marital_status_Married</td>\n",
       "      <td>-5.874033</td>\n",
       "    </tr>\n",
       "    <tr>\n",
       "      <th>19</th>\n",
       "      <td>employment_status_Retired</td>\n",
       "      <td>-6.073574</td>\n",
       "    </tr>\n",
       "    <tr>\n",
       "      <th>11</th>\n",
       "      <td>coverage_Extended</td>\n",
       "      <td>-11.079533</td>\n",
       "    </tr>\n",
       "    <tr>\n",
       "      <th>14</th>\n",
       "      <td>education_Doctor</td>\n",
       "      <td>-20.493140</td>\n",
       "    </tr>\n",
       "    <tr>\n",
       "      <th>12</th>\n",
       "      <td>coverage_Premium</td>\n",
       "      <td>-21.033602</td>\n",
       "    </tr>\n",
       "    <tr>\n",
       "      <th>35</th>\n",
       "      <td>vehicle_class_Luxury Car</td>\n",
       "      <td>-27.531280</td>\n",
       "    </tr>\n",
       "    <tr>\n",
       "      <th>36</th>\n",
       "      <td>vehicle_class_SUV</td>\n",
       "      <td>-28.211290</td>\n",
       "    </tr>\n",
       "    <tr>\n",
       "      <th>37</th>\n",
       "      <td>vehicle_class_Sports Car</td>\n",
       "      <td>-41.906798</td>\n",
       "    </tr>\n",
       "  </tbody>\n",
       "</table>\n",
       "</div>"
      ],
      "text/plain": [
       "                          Attribute  Importance\n",
       "21           location_code_Suburban  376.623285\n",
       "22              location_code_Urban  220.409130\n",
       "18  employment_status_Medical Leave   20.777913\n",
       "29          renew_offer_type_Offer2   12.778440\n",
       "20                         gender_M   10.592791\n",
       "9                  state_Washington    9.734025\n",
       "30          renew_offer_type_Offer3    9.343535\n",
       "31          renew_offer_type_Offer4    8.342420\n",
       "34                sales_channel_Web    5.466989\n",
       "2              monthly_premium_auto    4.624945\n",
       "26         policy_type_Special Auto    3.490080\n",
       "28                   policy_Special    3.490080\n",
       "24            marital_status_Single    2.995002\n",
       "38       vehicle_class_Two-Door Car    2.236726\n",
       "25        policy_type_Personal Auto    2.179453\n",
       "27                  policy_Personal    2.179453\n",
       "40               vehicle_size_Small    1.063763\n",
       "32             sales_channel_Branch    0.975884\n",
       "5                number_of_policies    0.320235\n",
       "3           months_since_last_claim    0.197169\n",
       "0           customer_lifetime_value    0.000440\n",
       "1                            income   -0.000337\n",
       "4     months_since_policy_inception   -0.004846\n",
       "6                  state_California   -0.410255\n",
       "15   education_High School or Below   -0.656308\n",
       "17       employment_status_Employed   -0.929495\n",
       "33        sales_channel_Call Center   -0.995599\n",
       "10                     response_Yes   -2.715220\n",
       "8                      state_Oregon   -2.817782\n",
       "39             vehicle_size_Medsize   -2.941265\n",
       "7                      state_Nevada   -4.352344\n",
       "16                 education_Master   -4.960573\n",
       "13                education_College   -5.488065\n",
       "23           marital_status_Married   -5.874033\n",
       "19        employment_status_Retired   -6.073574\n",
       "11                coverage_Extended  -11.079533\n",
       "14                 education_Doctor  -20.493140\n",
       "12                 coverage_Premium  -21.033602\n",
       "35         vehicle_class_Luxury Car  -27.531280\n",
       "36                vehicle_class_SUV  -28.211290\n",
       "37         vehicle_class_Sports Car  -41.906798"
      ]
     },
     "execution_count": 111,
     "metadata": {},
     "output_type": "execute_result"
    }
   ],
   "source": [
    "features_importances"
   ]
  },
  {
   "cell_type": "code",
   "execution_count": 112,
   "id": "9f1cf60f",
   "metadata": {},
   "outputs": [
    {
     "data": {
      "image/png": "[encoded data removed]",
      "text/plain": [
       "<Figure size 432x288 with 1 Axes>"
      ]
     },
     "metadata": {
      "needs_background": "light"
     },
     "output_type": "display_data"
    }
   ],
   "source": [
    "plt.bar(x=features_importances['Attribute'], height=features_importances['Importance'], color='#087E8B')\n",
    "plt.title('Feature importances obtained from coefficients', size=20)\n",
    "plt.xticks(rotation='vertical')\n",
    "plt.show()"
   ]
  },
  {
   "cell_type": "code",
   "execution_count": null,
   "id": "26467c1e",
   "metadata": {},
   "outputs": [],
   "source": []
  }
 ],
 "metadata": {
  "kernelspec": {
   "display_name": "Python 3",
   "language": "python",
   "name": "python3"
  },
  "language_info": {
   "codemirror_mode": {
    "name": "ipython",
    "version": 3
   },
   "file_extension": ".py",
   "mimetype": "text/x-python",
   "name": "python",
   "nbconvert_exporter": "python",
   "pygments_lexer": "ipython3",
   "version": "3.9.6"
  }
 },
 "nbformat": 4,
 "nbformat_minor": 5
}
