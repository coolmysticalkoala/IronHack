{
 "cells": [
  {
   "cell_type": "markdown",
   "id": "a641fa48",
   "metadata": {},
   "source": [
    "### Lab | Hypothesis Testing\n",
    "\n",
    "#### Instructions\n",
    "\n",
    "It is assumed that the mean systolic blood pressure is μ = 120 mm Hg. In the Honolulu Heart Study, a sample of n = 100 people had an average systolic blood pressure of 130.1 mm Hg with a standard deviation of 21.21 mm Hg. Is the group significantly different (with respect to systolic blood pressure!) from the regular population?\n",
    "\n",
    "* Set up the hypothesis test.\n",
    "\n",
    "* Write down all the steps followed for setting up the test. \n",
    "\n",
    "* Calculate the test statistic by hand and also code it in Python. It should be 4.76190. What decision can you make based on this calculated value?\n",
    "\n",
    "* We will have another simple example on two sample t test. But this time this is a one sided t-test In a packing plant, a machine packs cartons with jars. It is supposed that a new machine will pack faster on the average than the machine currently used. To test that hypothesis, the times it takes each machine to pack ten cartons are recorded. The results, in seconds, are shown in the tables in the file Data/machine.txt. Assume that there is sufficient evidence to conduct the t test, does the data provide sufficient evidence to show if one machine is better than the other"
   ]
  },
  {
   "cell_type": "code",
   "execution_count": 71,
   "id": "259f327e",
   "metadata": {},
   "outputs": [],
   "source": [
    "# Importing libraries\n",
    "\n",
    "import numpy as np\n",
    "import pandas as pd\n",
    "import scipy.stats as stats"
   ]
  },
  {
   "cell_type": "markdown",
   "id": "b98a64ef",
   "metadata": {},
   "source": [
    "##### Hypothesis testing workflow:\n",
    "\n",
    "1. Identify population parameter that is hypothesized about.\n",
    "2. Specify the null and alternative hypothesis.\n",
    "3. Determine (standardized) test statistic and corresponding null distribution.\n",
    "4. Conduct hypothesis test in Python.\n",
    "5. Measure evidence against the null hypothesis.\n",
    "6. Make a decision comparing evidence to significance level.\n",
    "7. Interpret the results in the context of the original problem."
   ]
  },
  {
   "cell_type": "code",
   "execution_count": 3,
   "id": "6b8834c5",
   "metadata": {},
   "outputs": [],
   "source": [
    "# 1. The sample size is 100, which is > 30, meaning it's a normal distribution."
   ]
  },
  {
   "cell_type": "code",
   "execution_count": 4,
   "id": "53cf458e",
   "metadata": {},
   "outputs": [],
   "source": [
    "# 2. The hypotheses:"
   ]
  },
  {
   "cell_type": "markdown",
   "id": "d2f3d9b4",
   "metadata": {},
   "source": [
    "$$H_0$$ - The mean systolic blood pressure _is_ μ = 120 mm Hg."
   ]
  },
  {
   "cell_type": "markdown",
   "id": "ad00786f",
   "metadata": {},
   "source": [
    "$$H_a$$ - \n",
    "The mean systolic blood pressure (sample) is _greater_ than μ = 120 mm Hg."
   ]
  },
  {
   "attachments": {
    "image.png": {
     "image/png": "[encoded data removed]"
    }
   },
   "cell_type": "markdown",
   "id": "b02ec53f",
   "metadata": {},
   "source": [
    "_The test statistic_:\n",
    "\n",
    "- x̄ = sample mean \n",
    "- μ is the population mean\n",
    "- σ is the population standard deviation\n",
    "- n is the sample size\n",
    "\n",
    "![image.png](attachment:image.png)\n"
   ]
  },
  {
   "cell_type": "code",
   "execution_count": 8,
   "id": "df476961",
   "metadata": {},
   "outputs": [
    {
     "name": "stdout",
     "output_type": "stream",
     "text": [
      "The z score is: 4.76190\n"
     ]
    }
   ],
   "source": [
    "# 3,4. test statistic\n",
    "\n",
    "sample_mean = 130.1\n",
    "pop_mean = 120\n",
    "pop_std_dev = 21.21\n",
    "\n",
    "z = ( sample_mean - pop_mean ) / ( pop_std_dev / np.sqrt(100) )\n",
    "print(\"The z score is: {:.5f}\".format(z))"
   ]
  },
  {
   "cell_type": "markdown",
   "id": "21779e1f",
   "metadata": {},
   "source": [
    "Set confidence level to 95 per cent, or $\\alpha = 1 - 0.95 = 0.05$"
   ]
  },
  {
   "cell_type": "code",
   "execution_count": 5,
   "id": "54181e74",
   "metadata": {},
   "outputs": [],
   "source": [
    "# 5. \n",
    "# If p-value > alpha: Fail to reject the null hypothesis (i.e. not significant result).\n",
    "# If p-value <= alpha: Reject the null hypothesis (i.e. significant result)"
   ]
  },
  {
   "cell_type": "code",
   "execution_count": 10,
   "id": "5df8b595",
   "metadata": {},
   "outputs": [
    {
     "name": "stdout",
     "output_type": "stream",
     "text": [
      "The critical value corresponding to a 0.95 area of a normal distribution is: 1.64\n"
     ]
    }
   ],
   "source": [
    "zc = stats.norm.ppf(0.95) # 0.95 is the confidence level.\n",
    "print(\"The critical value corresponding to a 0.95 area of a normal distribution is: {:.2f}\".format(zc))"
   ]
  },
  {
   "cell_type": "markdown",
   "id": "3fcd3c2f",
   "metadata": {},
   "source": [
    "6. \n",
    "\n",
    "Compare the z-score with the z-critical value: zc:\n",
    "\n",
    "z = 4.76 > zc = 1.64\n",
    "\n",
    "We reject the null hypothesis."
   ]
  },
  {
   "cell_type": "markdown",
   "id": "c7cb184b",
   "metadata": {},
   "source": [
    "###### Second example: 2 sample _t_ test"
   ]
  },
  {
   "cell_type": "code",
   "execution_count": 81,
   "id": "33613fae",
   "metadata": {},
   "outputs": [],
   "source": [
    "# load data\n",
    "\n",
    "data = pd.read_csv('Data_Machine.csv')"
   ]
  },
  {
   "cell_type": "markdown",
   "id": "cd84318d",
   "metadata": {},
   "source": [
    " Hypotheses:\n",
    "\n",
    "$$H_0$$ - The average speed of the machines is equal.\n",
    "\n",
    "$$H_a$$ - The new machine will pack faster on the average than the old one (two-tailed)."
   ]
  },
  {
   "attachments": {
    "image.png": {
     "image/png": "[encoded data removed]"
    }
   },
   "cell_type": "markdown",
   "id": "69802888",
   "metadata": {},
   "source": [
    "##### T-score (two populations)\n",
    "![image.png](attachment:image.png)"
   ]
  },
  {
   "cell_type": "code",
   "execution_count": 82,
   "id": "2929563d",
   "metadata": {},
   "outputs": [
    {
     "data": {
      "text/html": [
       "<div>\n",
       "<style scoped>\n",
       "    .dataframe tbody tr th:only-of-type {\n",
       "        vertical-align: middle;\n",
       "    }\n",
       "\n",
       "    .dataframe tbody tr th {\n",
       "        vertical-align: top;\n",
       "    }\n",
       "\n",
       "    .dataframe thead th {\n",
       "        text-align: right;\n",
       "    }\n",
       "</style>\n",
       "<table border=\"1\" class=\"dataframe\">\n",
       "  <thead>\n",
       "    <tr style=\"text-align: right;\">\n",
       "      <th></th>\n",
       "      <th>New Machine</th>\n",
       "      <th>Old Machine</th>\n",
       "    </tr>\n",
       "  </thead>\n",
       "  <tbody>\n",
       "    <tr>\n",
       "      <th>0</th>\n",
       "      <td>42.1</td>\n",
       "      <td>42.7</td>\n",
       "    </tr>\n",
       "    <tr>\n",
       "      <th>1</th>\n",
       "      <td>41.0</td>\n",
       "      <td>43.6</td>\n",
       "    </tr>\n",
       "    <tr>\n",
       "      <th>2</th>\n",
       "      <td>41.3</td>\n",
       "      <td>43.8</td>\n",
       "    </tr>\n",
       "    <tr>\n",
       "      <th>3</th>\n",
       "      <td>41.8</td>\n",
       "      <td>43.3</td>\n",
       "    </tr>\n",
       "    <tr>\n",
       "      <th>4</th>\n",
       "      <td>42.4</td>\n",
       "      <td>42.5</td>\n",
       "    </tr>\n",
       "  </tbody>\n",
       "</table>\n",
       "</div>"
      ],
      "text/plain": [
       "   New Machine  Old Machine\n",
       "0         42.1         42.7\n",
       "1         41.0         43.6\n",
       "2         41.3         43.8\n",
       "3         41.8         43.3\n",
       "4         42.4         42.5"
      ]
     },
     "execution_count": 82,
     "metadata": {},
     "output_type": "execute_result"
    }
   ],
   "source": [
    "# for small samples (<50) we use t-statistics\n",
    "\n",
    "data.head(5)"
   ]
  },
  {
   "cell_type": "code",
   "execution_count": 83,
   "id": "80b5a22b",
   "metadata": {},
   "outputs": [
    {
     "data": {
      "text/html": [
       "<div>\n",
       "<style scoped>\n",
       "    .dataframe tbody tr th:only-of-type {\n",
       "        vertical-align: middle;\n",
       "    }\n",
       "\n",
       "    .dataframe tbody tr th {\n",
       "        vertical-align: top;\n",
       "    }\n",
       "\n",
       "    .dataframe thead th {\n",
       "        text-align: right;\n",
       "    }\n",
       "</style>\n",
       "<table border=\"1\" class=\"dataframe\">\n",
       "  <thead>\n",
       "    <tr style=\"text-align: right;\">\n",
       "      <th></th>\n",
       "      <th>New Machine</th>\n",
       "      <th>Old Machine</th>\n",
       "    </tr>\n",
       "  </thead>\n",
       "  <tbody>\n",
       "    <tr>\n",
       "      <th>count</th>\n",
       "      <td>10.000000</td>\n",
       "      <td>10.000000</td>\n",
       "    </tr>\n",
       "    <tr>\n",
       "      <th>mean</th>\n",
       "      <td>42.140000</td>\n",
       "      <td>43.230000</td>\n",
       "    </tr>\n",
       "    <tr>\n",
       "      <th>std</th>\n",
       "      <td>0.683455</td>\n",
       "      <td>0.749889</td>\n",
       "    </tr>\n",
       "    <tr>\n",
       "      <th>min</th>\n",
       "      <td>41.000000</td>\n",
       "      <td>41.700000</td>\n",
       "    </tr>\n",
       "    <tr>\n",
       "      <th>25%</th>\n",
       "      <td>41.800000</td>\n",
       "      <td>42.800000</td>\n",
       "    </tr>\n",
       "    <tr>\n",
       "      <th>50%</th>\n",
       "      <td>42.200000</td>\n",
       "      <td>43.400000</td>\n",
       "    </tr>\n",
       "    <tr>\n",
       "      <th>75%</th>\n",
       "      <td>42.625000</td>\n",
       "      <td>43.750000</td>\n",
       "    </tr>\n",
       "    <tr>\n",
       "      <th>max</th>\n",
       "      <td>43.200000</td>\n",
       "      <td>44.100000</td>\n",
       "    </tr>\n",
       "  </tbody>\n",
       "</table>\n",
       "</div>"
      ],
      "text/plain": [
       "       New Machine  Old Machine\n",
       "count    10.000000    10.000000\n",
       "mean     42.140000    43.230000\n",
       "std       0.683455     0.749889\n",
       "min      41.000000    41.700000\n",
       "25%      41.800000    42.800000\n",
       "50%      42.200000    43.400000\n",
       "75%      42.625000    43.750000\n",
       "max      43.200000    44.100000"
      ]
     },
     "execution_count": 83,
     "metadata": {},
     "output_type": "execute_result"
    }
   ],
   "source": [
    "data.describe()"
   ]
  },
  {
   "cell_type": "code",
   "execution_count": 84,
   "id": "788b312a",
   "metadata": {},
   "outputs": [],
   "source": [
    "old = data['Old Machine']"
   ]
  },
  {
   "cell_type": "code",
   "execution_count": 85,
   "id": "3f806469",
   "metadata": {},
   "outputs": [],
   "source": [
    "new = data['New Machine']"
   ]
  },
  {
   "cell_type": "code",
   "execution_count": 86,
   "id": "c92710bf",
   "metadata": {},
   "outputs": [],
   "source": [
    "# calculate mean and standard deviation of samples\n",
    "\n",
    "mean_old = np.mean(data['Old Machine'])"
   ]
  },
  {
   "cell_type": "code",
   "execution_count": 87,
   "id": "3bfe7117",
   "metadata": {},
   "outputs": [],
   "source": [
    "mean_new = np.mean(data['New Machine'])"
   ]
  },
  {
   "cell_type": "code",
   "execution_count": 88,
   "id": "a5266bc4",
   "metadata": {},
   "outputs": [],
   "source": [
    "std_old = np.std(data['Old Machine'])"
   ]
  },
  {
   "cell_type": "code",
   "execution_count": 89,
   "id": "0d135c8c",
   "metadata": {},
   "outputs": [],
   "source": [
    "std_new = np.std(data['New Machine'])"
   ]
  },
  {
   "cell_type": "code",
   "execution_count": 119,
   "id": "e26e10dd",
   "metadata": {},
   "outputs": [
    {
     "name": "stdout",
     "output_type": "stream",
     "text": [
      "Our t statistic is: 3.5810\n"
     ]
    }
   ],
   "source": [
    "# Calculate the T-test \n",
    "\n",
    "t = (mean_old - mean_new) / np.sqrt((std_old **2)/10 + (std_new **2)/10)\n",
    "\n",
    "print(\"Our t statistic is: {:.4f}\".format(t))"
   ]
  },
  {
   "cell_type": "code",
   "execution_count": 120,
   "id": "d5c344b7",
   "metadata": {},
   "outputs": [],
   "source": [
    "t = stats.ttest_ind(old, new, equal_var = True)"
   ]
  },
  {
   "cell_type": "code",
   "execution_count": 121,
   "id": "024c8ebd",
   "metadata": {},
   "outputs": [
    {
     "data": {
      "text/plain": [
       "Ttest_indResult(statistic=3.3972307061176026, pvalue=0.0032111425007745158)"
      ]
     },
     "execution_count": 121,
     "metadata": {},
     "output_type": "execute_result"
    }
   ],
   "source": [
    "t # slightly different result?"
   ]
  },
  {
   "cell_type": "markdown",
   "id": "5e9fed31",
   "metadata": {},
   "source": [
    "The number of degrees of freedom for an entire table or set of columns, is df = (r-1) x (c-1), where r is the number of rows, and c the number of columns."
   ]
  },
  {
   "cell_type": "code",
   "execution_count": 113,
   "id": "0efc52bb",
   "metadata": {},
   "outputs": [
    {
     "name": "stdout",
     "output_type": "stream",
     "text": [
      "The tc critical value is: 2.10092\n"
     ]
    }
   ],
   "source": [
    "# for 95% confidence interval, alpha = 5% = 0.05 and alpha/2 = 0.025\n",
    "\n",
    "df = (len(data)-1) * 2\n",
    "tc = stats.t.ppf(1-(0.05/2),df = 18)\n",
    "\n",
    "print(\"The tc critical value is: {:.5f}\".format(tc))"
   ]
  },
  {
   "cell_type": "markdown",
   "id": "01be475c",
   "metadata": {},
   "source": [
    "If the absolute value of the t-value is greater than the critical value, we reject the null hypothesis. "
   ]
  }
 ],
 "metadata": {
  "kernelspec": {
   "display_name": "Python 3",
   "language": "python",
   "name": "python3"
  },
  "language_info": {
   "codemirror_mode": {
    "name": "ipython",
    "version": 3
   },
   "file_extension": ".py",
   "mimetype": "text/x-python",
   "name": "python",
   "nbconvert_exporter": "python",
   "pygments_lexer": "ipython3",
   "version": "3.9.6"
  }
 },
 "nbformat": 4,
 "nbformat_minor": 5
}
