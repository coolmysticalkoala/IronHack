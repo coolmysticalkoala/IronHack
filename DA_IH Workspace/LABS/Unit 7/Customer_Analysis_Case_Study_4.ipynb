{
 "cells": [
  {
   "cell_type": "code",
   "execution_count": 1,
   "id": "20b457f4",
   "metadata": {},
   "outputs": [],
   "source": [
    "# Importing libraries to use\n",
    "\n",
    "import matplotlib.pyplot as plt\n",
    "import seaborn as sns\n",
    "%matplotlib inline\n",
    "import pandas as pd\n",
    "import numpy as np\n",
    "from sklearn.preprocessing import StandardScaler\n",
    "from sklearn.preprocessing import OneHotEncoder\n",
    "from sklearn.preprocessing import QuantileTransformer\n",
    "from sklearn.linear_model import LinearRegression\n",
    "from sklearn.model_selection import train_test_split\n",
    "from sklearn.preprocessing import PowerTransformer\n",
    "from sklearn.metrics import r2_score\n",
    "from sklearn.metrics import mean_squared_error as mse\n",
    "from sklearn.metrics import mean_absolute_error as mae\n",
    "from scipy.stats import boxcox\n",
    "pd.options.display.max_rows = 50\n",
    "import warnings\n",
    "warnings.filterwarnings(\"ignore\")"
   ]
  },
  {
   "cell_type": "code",
   "execution_count": 2,
   "id": "fc331874",
   "metadata": {},
   "outputs": [],
   "source": [
    "#Importing data\n",
    "cs_df = pd.read_csv(\"Data_Marketing_Customer_Analysis_Round3.csv\", index_col = 0)"
   ]
  },
  {
   "cell_type": "markdown",
   "id": "c68fa96d",
   "metadata": {},
   "source": [
    "## Data Cleaning"
   ]
  },
  {
   "cell_type": "code",
   "execution_count": 3,
   "id": "f31d800f",
   "metadata": {},
   "outputs": [],
   "source": [
    "# Cleaning data\n",
    "def cleaning_data (df):\n",
    "    df.columns = [i.lower().replace(\" \", \"_\") for i in df.columns]\n",
    "    df.rename(columns = {\"employmentstatus\": \"employment_status\"}, inplace = True)\n",
    "    df = df.drop_duplicates().reset_index()\n",
    "    df = df.drop(columns = [\"index\",\"customer\",\"number_of_open_complaints\",\"vehicle_type\",\"effective_to_date\"])\n",
    "    df = df.dropna()\n",
    "    return df"
   ]
  },
  {
   "cell_type": "code",
   "execution_count": 4,
   "id": "017c7a14",
   "metadata": {},
   "outputs": [],
   "source": [
    "def transforming_data (df):\n",
    "    df=df[df['income'] > 0]\n",
    "    df[\"total_claim_amount\"] = round(df[\"total_claim_amount\"],0)\n",
    "    df[\"customer_lifetime_value\"]=round(df[\"customer_lifetime_value\"],0)\n",
    "    df.vehicle_class[df.vehicle_class.isin([\"Luxury Car\",\"Luxury SUV\"])] = \"Luxury Car\"\n",
    "    df.policy[df.policy.isin([\"Personal L3\",\"Personal L2\",\"Personal L1\"]) ] = \"Personal\"\n",
    "    df.policy[df.policy.isin([\"Corporate L3\",\"Corporate L2\",\"Corporate L1\"]) ] = \"Corporate\"\n",
    "    df.policy[df.policy.isin([\"Special L3\",\"Special L2\",\"Special L1\"]) ] = \"Special\"\n",
    "    return df"
   ]
  },
  {
   "cell_type": "code",
   "execution_count": 5,
   "id": "923325f0",
   "metadata": {},
   "outputs": [],
   "source": [
    "cs_df = cleaning_data(cs_df)\n",
    "cs_df = transforming_data(cs_df)"
   ]
  },
  {
   "cell_type": "code",
   "execution_count": 6,
   "id": "391c7a49",
   "metadata": {},
   "outputs": [
    {
     "data": {
      "text/html": [
       "<div>\n",
       "<style scoped>\n",
       "    .dataframe tbody tr th:only-of-type {\n",
       "        vertical-align: middle;\n",
       "    }\n",
       "\n",
       "    .dataframe tbody tr th {\n",
       "        vertical-align: top;\n",
       "    }\n",
       "\n",
       "    .dataframe thead th {\n",
       "        text-align: right;\n",
       "    }\n",
       "</style>\n",
       "<table border=\"1\" class=\"dataframe\">\n",
       "  <thead>\n",
       "    <tr style=\"text-align: right;\">\n",
       "      <th></th>\n",
       "      <th>state</th>\n",
       "      <th>customer_lifetime_value</th>\n",
       "      <th>response</th>\n",
       "      <th>coverage</th>\n",
       "      <th>education</th>\n",
       "      <th>employment_status</th>\n",
       "      <th>gender</th>\n",
       "      <th>income</th>\n",
       "      <th>location_code</th>\n",
       "      <th>marital_status</th>\n",
       "      <th>...</th>\n",
       "      <th>months_since_last_claim</th>\n",
       "      <th>months_since_policy_inception</th>\n",
       "      <th>number_of_policies</th>\n",
       "      <th>policy_type</th>\n",
       "      <th>policy</th>\n",
       "      <th>renew_offer_type</th>\n",
       "      <th>sales_channel</th>\n",
       "      <th>total_claim_amount</th>\n",
       "      <th>vehicle_class</th>\n",
       "      <th>vehicle_size</th>\n",
       "    </tr>\n",
       "  </thead>\n",
       "  <tbody>\n",
       "    <tr>\n",
       "      <th>0</th>\n",
       "      <td>Arizona</td>\n",
       "      <td>4809.0</td>\n",
       "      <td>No</td>\n",
       "      <td>Basic</td>\n",
       "      <td>College</td>\n",
       "      <td>Employed</td>\n",
       "      <td>M</td>\n",
       "      <td>48029</td>\n",
       "      <td>Suburban</td>\n",
       "      <td>Married</td>\n",
       "      <td>...</td>\n",
       "      <td>7.0</td>\n",
       "      <td>52</td>\n",
       "      <td>9</td>\n",
       "      <td>Corporate Auto</td>\n",
       "      <td>Corporate</td>\n",
       "      <td>Offer3</td>\n",
       "      <td>Agent</td>\n",
       "      <td>293.0</td>\n",
       "      <td>Four-Door Car</td>\n",
       "      <td>Medsize</td>\n",
       "    </tr>\n",
       "    <tr>\n",
       "      <th>2</th>\n",
       "      <td>Washington</td>\n",
       "      <td>14948.0</td>\n",
       "      <td>No</td>\n",
       "      <td>Basic</td>\n",
       "      <td>Bachelor</td>\n",
       "      <td>Employed</td>\n",
       "      <td>M</td>\n",
       "      <td>22139</td>\n",
       "      <td>Suburban</td>\n",
       "      <td>Single</td>\n",
       "      <td>...</td>\n",
       "      <td>34.0</td>\n",
       "      <td>31</td>\n",
       "      <td>2</td>\n",
       "      <td>Personal Auto</td>\n",
       "      <td>Personal</td>\n",
       "      <td>Offer3</td>\n",
       "      <td>Call Center</td>\n",
       "      <td>480.0</td>\n",
       "      <td>SUV</td>\n",
       "      <td>Medsize</td>\n",
       "    </tr>\n",
       "    <tr>\n",
       "      <th>3</th>\n",
       "      <td>Oregon</td>\n",
       "      <td>22332.0</td>\n",
       "      <td>Yes</td>\n",
       "      <td>Extended</td>\n",
       "      <td>College</td>\n",
       "      <td>Employed</td>\n",
       "      <td>M</td>\n",
       "      <td>49078</td>\n",
       "      <td>Suburban</td>\n",
       "      <td>Single</td>\n",
       "      <td>...</td>\n",
       "      <td>10.0</td>\n",
       "      <td>3</td>\n",
       "      <td>2</td>\n",
       "      <td>Corporate Auto</td>\n",
       "      <td>Corporate</td>\n",
       "      <td>Offer2</td>\n",
       "      <td>Branch</td>\n",
       "      <td>484.0</td>\n",
       "      <td>Four-Door Car</td>\n",
       "      <td>Medsize</td>\n",
       "    </tr>\n",
       "    <tr>\n",
       "      <th>6</th>\n",
       "      <td>California</td>\n",
       "      <td>5035.0</td>\n",
       "      <td>No</td>\n",
       "      <td>Basic</td>\n",
       "      <td>Doctor</td>\n",
       "      <td>Employed</td>\n",
       "      <td>F</td>\n",
       "      <td>37405</td>\n",
       "      <td>Urban</td>\n",
       "      <td>Married</td>\n",
       "      <td>...</td>\n",
       "      <td>8.0</td>\n",
       "      <td>99</td>\n",
       "      <td>4</td>\n",
       "      <td>Corporate Auto</td>\n",
       "      <td>Corporate</td>\n",
       "      <td>Offer2</td>\n",
       "      <td>Branch</td>\n",
       "      <td>288.0</td>\n",
       "      <td>Four-Door Car</td>\n",
       "      <td>Medsize</td>\n",
       "    </tr>\n",
       "    <tr>\n",
       "      <th>7</th>\n",
       "      <td>California</td>\n",
       "      <td>4956.0</td>\n",
       "      <td>No</td>\n",
       "      <td>Basic</td>\n",
       "      <td>High School or Below</td>\n",
       "      <td>Employed</td>\n",
       "      <td>M</td>\n",
       "      <td>87197</td>\n",
       "      <td>Urban</td>\n",
       "      <td>Single</td>\n",
       "      <td>...</td>\n",
       "      <td>35.0</td>\n",
       "      <td>45</td>\n",
       "      <td>3</td>\n",
       "      <td>Personal Auto</td>\n",
       "      <td>Personal</td>\n",
       "      <td>Offer2</td>\n",
       "      <td>Branch</td>\n",
       "      <td>247.0</td>\n",
       "      <td>Two-Door Car</td>\n",
       "      <td>Medsize</td>\n",
       "    </tr>\n",
       "  </tbody>\n",
       "</table>\n",
       "<p>5 rows × 21 columns</p>\n",
       "</div>"
      ],
      "text/plain": [
       "        state  customer_lifetime_value response  coverage  \\\n",
       "0     Arizona                   4809.0       No     Basic   \n",
       "2  Washington                  14948.0       No     Basic   \n",
       "3      Oregon                  22332.0      Yes  Extended   \n",
       "6  California                   5035.0       No     Basic   \n",
       "7  California                   4956.0       No     Basic   \n",
       "\n",
       "              education employment_status gender  income location_code  \\\n",
       "0               College          Employed      M   48029      Suburban   \n",
       "2              Bachelor          Employed      M   22139      Suburban   \n",
       "3               College          Employed      M   49078      Suburban   \n",
       "6                Doctor          Employed      F   37405         Urban   \n",
       "7  High School or Below          Employed      M   87197         Urban   \n",
       "\n",
       "  marital_status  ...  months_since_last_claim  months_since_policy_inception  \\\n",
       "0        Married  ...                      7.0                             52   \n",
       "2         Single  ...                     34.0                             31   \n",
       "3         Single  ...                     10.0                              3   \n",
       "6        Married  ...                      8.0                             99   \n",
       "7         Single  ...                     35.0                             45   \n",
       "\n",
       "   number_of_policies     policy_type     policy renew_offer_type  \\\n",
       "0                   9  Corporate Auto  Corporate           Offer3   \n",
       "2                   2   Personal Auto   Personal           Offer3   \n",
       "3                   2  Corporate Auto  Corporate           Offer2   \n",
       "6                   4  Corporate Auto  Corporate           Offer2   \n",
       "7                   3   Personal Auto   Personal           Offer2   \n",
       "\n",
       "  sales_channel total_claim_amount  vehicle_class vehicle_size  \n",
       "0         Agent              293.0  Four-Door Car      Medsize  \n",
       "2   Call Center              480.0            SUV      Medsize  \n",
       "3        Branch              484.0  Four-Door Car      Medsize  \n",
       "6        Branch              288.0  Four-Door Car      Medsize  \n",
       "7        Branch              247.0   Two-Door Car      Medsize  \n",
       "\n",
       "[5 rows x 21 columns]"
      ]
     },
     "execution_count": 6,
     "metadata": {},
     "output_type": "execute_result"
    }
   ],
   "source": [
    "cs_df.head()"
   ]
  },
  {
   "cell_type": "code",
   "execution_count": 7,
   "id": "7829ef56",
   "metadata": {},
   "outputs": [
    {
     "data": {
      "text/plain": [
       "Index(['state', 'customer_lifetime_value', 'response', 'coverage', 'education',\n",
       "       'employment_status', 'gender', 'income', 'location_code',\n",
       "       'marital_status', 'monthly_premium_auto', 'months_since_last_claim',\n",
       "       'months_since_policy_inception', 'number_of_policies', 'policy_type',\n",
       "       'policy', 'renew_offer_type', 'sales_channel', 'total_claim_amount',\n",
       "       'vehicle_class', 'vehicle_size'],\n",
       "      dtype='object')"
      ]
     },
     "execution_count": 7,
     "metadata": {},
     "output_type": "execute_result"
    }
   ],
   "source": [
    "cs_df.columns"
   ]
  },
  {
   "cell_type": "code",
   "execution_count": 8,
   "id": "8ced1b6f",
   "metadata": {},
   "outputs": [
    {
     "data": {
      "text/plain": [
       "(6817, 21)"
      ]
     },
     "execution_count": 8,
     "metadata": {},
     "output_type": "execute_result"
    }
   ],
   "source": [
    "cs_df.shape"
   ]
  },
  {
   "cell_type": "code",
   "execution_count": 9,
   "id": "bc138e70",
   "metadata": {},
   "outputs": [],
   "source": [
    "# Export cleaned dataframe to .csv\n",
    "\n",
    "cs_df.to_csv(r'C:\\Users\\DACA\\Desktop\\export_dataframe.csv')"
   ]
  },
  {
   "cell_type": "markdown",
   "id": "7dab9930",
   "metadata": {},
   "source": [
    "## Data exploration / plotting"
   ]
  },
  {
   "cell_type": "markdown",
   "id": "f84a876f",
   "metadata": {},
   "source": [
    "EDA Categorical columns"
   ]
  },
  {
   "cell_type": "code",
   "execution_count": 10,
   "id": "377a6f1a",
   "metadata": {},
   "outputs": [
    {
     "data": {
      "image/png": "[encoded data removed]",
      "text/plain": [
       "<Figure size 720x360 with 1 Axes>"
      ]
     },
     "metadata": {
      "needs_background": "light"
     },
     "output_type": "display_data"
    },
    {
     "data": {
      "image/png": "[encoded data removed]",
      "text/plain": [
       "<Figure size 720x360 with 1 Axes>"
      ]
     },
     "metadata": {
      "needs_background": "light"
     },
     "output_type": "display_data"
    },
    {
     "data": {
      "image/png": "[encoded data removed]",
      "text/plain": [
       "<Figure size 720x360 with 1 Axes>"
      ]
     },
     "metadata": {
      "needs_background": "light"
     },
     "output_type": "display_data"
    },
    {
     "data": {
      "image/png": "[encoded data removed]",
      "text/plain": [
       "<Figure size 720x360 with 1 Axes>"
      ]
     },
     "metadata": {
      "needs_background": "light"
     },
     "output_type": "display_data"
    },
    {
     "data": {
      "image/png": "[encoded data removed]",
      "text/plain": [
       "<Figure size 720x360 with 1 Axes>"
      ]
     },
     "metadata": {
      "needs_background": "light"
     },
     "output_type": "display_data"
    },
    {
     "data": {
      "image/png": "[encoded data removed]",
      "text/plain": [
       "<Figure size 720x360 with 1 Axes>"
      ]
     },
     "metadata": {
      "needs_background": "light"
     },
     "output_type": "display_data"
    },
    {
     "data": {
      "image/png": "[encoded data removed]",
      "text/plain": [
       "<Figure size 720x360 with 1 Axes>"
      ]
     },
     "metadata": {
      "needs_background": "light"
     },
     "output_type": "display_data"
    },
    {
     "data": {
      "image/png": "[encoded data removed]",
      "text/plain": [
       "<Figure size 720x360 with 1 Axes>"
      ]
     },
     "metadata": {
      "needs_background": "light"
     },
     "output_type": "display_data"
    },
    {
     "data": {
      "image/png": "[encoded data removed]",
      "text/plain": [
       "<Figure size 720x360 with 1 Axes>"
      ]
     },
     "metadata": {
      "needs_background": "light"
     },
     "output_type": "display_data"
    },
    {
     "data": {
      "image/png": "[encoded data removed]",
      "text/plain": [
       "<Figure size 720x360 with 1 Axes>"
      ]
     },
     "metadata": {
      "needs_background": "light"
     },
     "output_type": "display_data"
    },
    {
     "data": {
      "image/png": "[encoded data removed]",
      "text/plain": [
       "<Figure size 720x360 with 1 Axes>"
      ]
     },
     "metadata": {
      "needs_background": "light"
     },
     "output_type": "display_data"
    },
    {
     "data": {
      "image/png": "[encoded data removed]",
      "text/plain": [
       "<Figure size 720x360 with 1 Axes>"
      ]
     },
     "metadata": {
      "needs_background": "light"
     },
     "output_type": "display_data"
    },
    {
     "data": {
      "image/png": "[encoded data removed]",
      "text/plain": [
       "<Figure size 720x360 with 1 Axes>"
      ]
     },
     "metadata": {
      "needs_background": "light"
     },
     "output_type": "display_data"
    },
    {
     "data": {
      "image/png": "[encoded data removed]",
      "text/plain": [
       "<Figure size 720x360 with 1 Axes>"
      ]
     },
     "metadata": {
      "needs_background": "light"
     },
     "output_type": "display_data"
    }
   ],
   "source": [
    "for c in cs_df.select_dtypes(object):\n",
    "    plt.figure(figsize=(10,5))\n",
    "    plt.bar(cs_df[c].unique(), cs_df[c].value_counts())\n",
    "    plt.title(c)\n",
    "    plt.show()"
   ]
  },
  {
   "cell_type": "markdown",
   "id": "78e87858",
   "metadata": {},
   "source": [
    "### Show a plot of the total number of responses."
   ]
  },
  {
   "cell_type": "code",
   "execution_count": 11,
   "id": "8757945c",
   "metadata": {},
   "outputs": [
    {
     "name": "stdout",
     "output_type": "stream",
     "text": [
      "No     5707\n",
      "Yes    1110\n",
      "Name: response, dtype: int64\n"
     ]
    }
   ],
   "source": [
    "num_responses = cs_df['response'].value_counts()\n",
    "print(num_responses)"
   ]
  },
  {
   "cell_type": "code",
   "execution_count": 12,
   "id": "9cfb83e2",
   "metadata": {},
   "outputs": [
    {
     "data": {
      "image/png": "[encoded data removed]",
      "text/plain": [
       "<Figure size 432x288 with 1 Axes>"
      ]
     },
     "metadata": {
      "needs_background": "light"
     },
     "output_type": "display_data"
    }
   ],
   "source": [
    "fig, ax = plt.subplots()\n",
    "\n",
    "ax.set_title(\"Total number of responses\")\n",
    "\n",
    "sns.barplot(x=num_responses.index, y=num_responses, palette = 'rocket')\n",
    "\n",
    "plt.show()"
   ]
  },
  {
   "cell_type": "markdown",
   "id": "007ece73",
   "metadata": {},
   "source": [
    "### Show response rate by channel."
   ]
  },
  {
   "cell_type": "code",
   "execution_count": 13,
   "id": "7fd1eb88",
   "metadata": {},
   "outputs": [
    {
     "name": "stdout",
     "output_type": "stream",
     "text": [
      "  response sales_channel  count\n",
      "0       No         Agent   2021\n",
      "1       No        Branch   1660\n",
      "2       No   Call Center   1167\n",
      "3       No           Web    859\n",
      "4      Yes         Agent    552\n",
      "5      Yes        Branch    264\n",
      "6      Yes   Call Center    162\n",
      "7      Yes           Web    132\n"
     ]
    }
   ],
   "source": [
    "response_rate = cs_df.groupby(['response', 'sales_channel']).size().reset_index(name= 'count')\n",
    "print(response_rate)"
   ]
  },
  {
   "cell_type": "code",
   "execution_count": 14,
   "id": "458404d9",
   "metadata": {},
   "outputs": [
    {
     "data": {
      "image/png": "[encoded data removed]",
      "text/plain": [
       "<Figure size 432x288 with 1 Axes>"
      ]
     },
     "metadata": {
      "needs_background": "light"
     },
     "output_type": "display_data"
    }
   ],
   "source": [
    "#plot \n",
    "    \n",
    "fig, ax = plt.subplots()\n",
    "\n",
    "ax.set_title(\"Response rate by channel\")\n",
    "\n",
    "# seaborn barplot\n",
    "sns.barplot(x = response_rate['sales_channel'], y = response_rate['count'], hue = response_rate['response'], data = cs_df, palette = \"rocket\")\n",
    "plt.show()"
   ]
  },
  {
   "cell_type": "markdown",
   "id": "d3c79d75",
   "metadata": {},
   "source": [
    "### Show a plot of the response rate by the total claim amount."
   ]
  },
  {
   "cell_type": "code",
   "execution_count": 15,
   "id": "96d40db4",
   "metadata": {},
   "outputs": [
    {
     "name": "stdout",
     "output_type": "stream",
     "text": [
      "     response  total_claim_amount  count\n",
      "0          No                 0.0      3\n",
      "1          No                 1.0      6\n",
      "2          No                 2.0      7\n",
      "3          No                 3.0      9\n",
      "4          No                 4.0      8\n",
      "...       ...                 ...    ...\n",
      "1094      Yes              1261.0      6\n",
      "1095      Yes              1295.0      6\n",
      "1096      Yes              1301.0      6\n",
      "1097      Yes              1325.0      6\n",
      "1098      Yes              1358.0      6\n",
      "\n",
      "[1099 rows x 3 columns]\n"
     ]
    }
   ],
   "source": [
    "total_cl_amount = cs_df.groupby(['response','total_claim_amount']).size().reset_index(name = 'count')\n",
    "print(total_cl_amount)"
   ]
  },
  {
   "cell_type": "code",
   "execution_count": 16,
   "id": "5f00fe1d",
   "metadata": {},
   "outputs": [
    {
     "data": {
      "image/png": "[encoded data removed]",
      "text/plain": [
       "<Figure size 432x288 with 1 Axes>"
      ]
     },
     "metadata": {
      "needs_background": "light"
     },
     "output_type": "display_data"
    }
   ],
   "source": [
    "# Plot\n",
    "\n",
    "sns.barplot(x = total_cl_amount['response'], y = total_cl_amount['total_claim_amount'], palette = 'rocket')\n",
    "plt.show()"
   ]
  },
  {
   "cell_type": "markdown",
   "id": "9636a8af",
   "metadata": {},
   "source": [
    "### Show a plot of the response rate by income."
   ]
  },
  {
   "cell_type": "code",
   "execution_count": 17,
   "id": "e7995660",
   "metadata": {},
   "outputs": [
    {
     "name": "stdout",
     "output_type": "stream",
     "text": [
      "     response  income  count\n",
      "0          No   10037      1\n",
      "1          No   10074      1\n",
      "2          No   10097      1\n",
      "3          No   10105      1\n",
      "4          No   10147      1\n",
      "...       ...     ...    ...\n",
      "5697      Yes   95697     12\n",
      "5698      Yes   96306      6\n",
      "5699      Yes   97131      6\n",
      "5700      Yes   97361      6\n",
      "5701      Yes   99845      6\n",
      "\n",
      "[5702 rows x 3 columns]\n"
     ]
    }
   ],
   "source": [
    "r_income =  cs_df.groupby(['response', 'income']).size().reset_index(name = 'count')\n",
    "print(r_income)"
   ]
  },
  {
   "cell_type": "code",
   "execution_count": 18,
   "id": "d4eedbde",
   "metadata": {},
   "outputs": [
    {
     "data": {
      "image/png": "[encoded data removed]",
      "text/plain": [
       "<Figure size 432x288 with 1 Axes>"
      ]
     },
     "metadata": {
      "needs_background": "light"
     },
     "output_type": "display_data"
    }
   ],
   "source": [
    "# Plot\n",
    "\n",
    "sns.boxplot(x = 'response', y = 'income', data = r_income, palette = \"rocket\")\n",
    "plt.show()"
   ]
  },
  {
   "cell_type": "code",
   "execution_count": 19,
   "id": "bb1f89f7",
   "metadata": {},
   "outputs": [
    {
     "data": {
      "image/png": "[encoded data removed]",
      "text/plain": [
       "<Figure size 864x720 with 2 Axes>"
      ]
     },
     "metadata": {
      "needs_background": "light"
     },
     "output_type": "display_data"
    }
   ],
   "source": [
    "# Correlation heatmap\n",
    "\n",
    "fig,ax = plt.subplots(figsize=(12,10))\n",
    "sns.heatmap(cs_df.corr(),annot=True, ax=ax,  cmap='RdYlGn', center=0)\n",
    "plt.show()"
   ]
  },
  {
   "cell_type": "markdown",
   "id": "8841cafb",
   "metadata": {},
   "source": [
    "## Data transformation "
   ]
  },
  {
   "cell_type": "code",
   "execution_count": 20,
   "id": "f5af67f8",
   "metadata": {},
   "outputs": [
    {
     "name": "stdout",
     "output_type": "stream",
     "text": [
      "       customer_lifetime_value  income  monthly_premium_auto  \\\n",
      "0                       4809.0   48029                    61   \n",
      "2                      14948.0   22139                   100   \n",
      "3                      22332.0   49078                    97   \n",
      "6                       5035.0   37405                    63   \n",
      "7                       4956.0   87197                    63   \n",
      "...                        ...     ...                   ...   \n",
      "10865                   3579.0   28304                    91   \n",
      "10866                   2772.0   59855                    74   \n",
      "10869                   5259.0   61146                    65   \n",
      "10870                  23893.0   39837                   201   \n",
      "10871                  11972.0   64195                   158   \n",
      "\n",
      "       months_since_last_claim  months_since_policy_inception  \\\n",
      "0                          7.0                             52   \n",
      "2                         34.0                             31   \n",
      "3                         10.0                              3   \n",
      "6                          8.0                             99   \n",
      "7                         35.0                             45   \n",
      "...                        ...                            ...   \n",
      "10865                     10.0                             30   \n",
      "10866                     30.0                             82   \n",
      "10869                      7.0                             68   \n",
      "10870                     11.0                             63   \n",
      "10871                      0.0                             27   \n",
      "\n",
      "       number_of_policies  total_claim_amount  \n",
      "0                       9               293.0  \n",
      "2                       2               480.0  \n",
      "3                       2               484.0  \n",
      "6                       4               288.0  \n",
      "7                       3               247.0  \n",
      "...                   ...                 ...  \n",
      "10865                   1               655.0  \n",
      "10866                   1               355.0  \n",
      "10869                   6               273.0  \n",
      "10870                   2               381.0  \n",
      "10871                   6               618.0  \n",
      "\n",
      "[6817 rows x 7 columns]\n"
     ]
    }
   ],
   "source": [
    "# Getting numerical data\n",
    "\n",
    "numerical = cs_df.select_dtypes(include = np.number)\n",
    "print(numerical)"
   ]
  },
  {
   "cell_type": "code",
   "execution_count": 21,
   "id": "bf2e5a29",
   "metadata": {
    "scrolled": true
   },
   "outputs": [
    {
     "name": "stdout",
     "output_type": "stream",
     "text": [
      "            state response  coverage             education employment_status  \\\n",
      "0         Arizona       No     Basic               College          Employed   \n",
      "2      Washington       No     Basic              Bachelor          Employed   \n",
      "3          Oregon      Yes  Extended               College          Employed   \n",
      "6      California       No     Basic                Doctor          Employed   \n",
      "7      California       No     Basic  High School or Below          Employed   \n",
      "...           ...      ...       ...                   ...               ...   \n",
      "10865  California       No  Extended  High School or Below          Employed   \n",
      "10866     Arizona       No     Basic               College          Employed   \n",
      "10869      Oregon       No     Basic               College          Employed   \n",
      "10870     Arizona       No  Extended              Bachelor          Employed   \n",
      "10871  California       No   Premium               College          Employed   \n",
      "\n",
      "      gender location_code marital_status     policy_type     policy  \\\n",
      "0          M      Suburban        Married  Corporate Auto  Corporate   \n",
      "2          M      Suburban         Single   Personal Auto   Personal   \n",
      "3          M      Suburban         Single  Corporate Auto  Corporate   \n",
      "6          F         Urban        Married  Corporate Auto  Corporate   \n",
      "7          M         Urban         Single   Personal Auto   Personal   \n",
      "...      ...           ...            ...             ...        ...   \n",
      "10865      F      Suburban        Married   Personal Auto   Personal   \n",
      "10866      M      Suburban        Married   Personal Auto   Personal   \n",
      "10869      F         Urban        Married   Personal Auto   Personal   \n",
      "10870      F         Rural        Married  Corporate Auto  Corporate   \n",
      "10871      F         Urban       Divorced   Personal Auto   Personal   \n",
      "\n",
      "      renew_offer_type sales_channel  vehicle_class vehicle_size  \n",
      "0               Offer3         Agent  Four-Door Car      Medsize  \n",
      "2               Offer3   Call Center            SUV      Medsize  \n",
      "3               Offer2        Branch  Four-Door Car      Medsize  \n",
      "6               Offer2        Branch  Four-Door Car      Medsize  \n",
      "7               Offer2        Branch   Two-Door Car      Medsize  \n",
      "...                ...           ...            ...          ...  \n",
      "10865           Offer2         Agent  Four-Door Car      Medsize  \n",
      "10866           Offer2        Branch   Two-Door Car      Medsize  \n",
      "10869           Offer2        Branch  Four-Door Car      Medsize  \n",
      "10870           Offer1           Web     Luxury Car      Medsize  \n",
      "10871           Offer1        Branch            SUV      Medsize  \n",
      "\n",
      "[6817 rows x 14 columns]\n"
     ]
    }
   ],
   "source": [
    "# Getting categorical data\n",
    "\n",
    "categorical = cs_df.select_dtypes(include = np.object)\n",
    "print(categorical)"
   ]
  },
  {
   "cell_type": "code",
   "execution_count": 22,
   "id": "45a10a0b",
   "metadata": {},
   "outputs": [
    {
     "ename": "NameError",
     "evalue": "name 'preprocessing' is not defined",
     "output_type": "error",
     "traceback": [
      "\u001b[1;31m---------------------------------------------------------------------------\u001b[0m",
      "\u001b[1;31mNameError\u001b[0m                                 Traceback (most recent call last)",
      "\u001b[1;32m<ipython-input-22-f5c77f439060>\u001b[0m in \u001b[0;36m<module>\u001b[1;34m\u001b[0m\n\u001b[1;32m----> 1\u001b[1;33m \u001b[0mmin_max_scaler\u001b[0m \u001b[1;33m=\u001b[0m \u001b[0mpreprocessing\u001b[0m\u001b[1;33m.\u001b[0m\u001b[0mMinMaxScaler\u001b[0m\u001b[1;33m(\u001b[0m\u001b[1;33m)\u001b[0m\u001b[1;33m\u001b[0m\u001b[1;33m\u001b[0m\u001b[0m\n\u001b[0m\u001b[0;32m      2\u001b[0m \u001b[0mnumerical_scaled\u001b[0m \u001b[1;33m=\u001b[0m \u001b[0mmin_max_scaler\u001b[0m\u001b[1;33m.\u001b[0m\u001b[0mfit_transform\u001b[0m\u001b[1;33m(\u001b[0m\u001b[0mnumerical\u001b[0m\u001b[1;33m)\u001b[0m\u001b[1;33m\u001b[0m\u001b[1;33m\u001b[0m\u001b[0m\n\u001b[0;32m      3\u001b[0m \u001b[0mcs_df_normalized\u001b[0m \u001b[1;33m=\u001b[0m \u001b[0mpd\u001b[0m\u001b[1;33m.\u001b[0m\u001b[0mDataFrame\u001b[0m\u001b[1;33m(\u001b[0m\u001b[0mnumerical_scaled\u001b[0m\u001b[1;33m)\u001b[0m\u001b[1;33m\u001b[0m\u001b[1;33m\u001b[0m\u001b[0m\n\u001b[0;32m      4\u001b[0m \u001b[1;33m\u001b[0m\u001b[0m\n\u001b[0;32m      5\u001b[0m \u001b[0mprint\u001b[0m\u001b[1;33m(\u001b[0m\u001b[0mcs_df_normalized\u001b[0m\u001b[1;33m)\u001b[0m\u001b[1;33m\u001b[0m\u001b[1;33m\u001b[0m\u001b[0m\n",
      "\u001b[1;31mNameError\u001b[0m: name 'preprocessing' is not defined"
     ]
    }
   ],
   "source": [
    "min_max_scaler = preprocessing.MinMaxScaler()\n",
    "numerical_scaled = min_max_scaler.fit_transform(numerical)\n",
    "cs_df_normalized = pd.DataFrame(numerical_scaled)\n",
    "\n",
    "print(cs_df_normalized)"
   ]
  },
  {
   "cell_type": "markdown",
   "id": "060f8f7b",
   "metadata": {},
   "source": [
    "#### Check the normality of the numerical variables visually.\n"
   ]
  },
  {
   "cell_type": "code",
   "execution_count": null,
   "id": "da2378ce",
   "metadata": {},
   "outputs": [],
   "source": [
    "sns.displot(cs_df.income, bins = 20)\n",
    "plt.show()"
   ]
  },
  {
   "cell_type": "code",
   "execution_count": null,
   "id": "8ffdaa5b",
   "metadata": {},
   "outputs": [],
   "source": [
    "sns.displot(cs_df.customer_lifetime_value,  bins = 20)\n",
    "plt.show()"
   ]
  },
  {
   "cell_type": "code",
   "execution_count": null,
   "id": "86df30b9",
   "metadata": {},
   "outputs": [],
   "source": [
    "sns.displot(cs_df.monthly_premium_auto, bins = 20)\n",
    "plt.show()"
   ]
  },
  {
   "cell_type": "code",
   "execution_count": null,
   "id": "6dae06a2",
   "metadata": {},
   "outputs": [],
   "source": [
    "sns.displot(cs_df.months_since_last_claim, bins = 20)\n",
    "plt.show()"
   ]
  },
  {
   "cell_type": "code",
   "execution_count": null,
   "id": "9700cdfe",
   "metadata": {},
   "outputs": [],
   "source": [
    "sns.displot(cs_df.months_since_policy_inception, bins = 20)\n",
    "plt.show()"
   ]
  },
  {
   "cell_type": "code",
   "execution_count": null,
   "id": "71eeb4b5",
   "metadata": {},
   "outputs": [],
   "source": [
    "sns.pairplot(cs_df)\n",
    "plt.show()"
   ]
  },
  {
   "cell_type": "markdown",
   "id": "13c4729c",
   "metadata": {},
   "source": [
    "#### For the numerical variables, check the multicollinearity between the features. "
   ]
  },
  {
   "cell_type": "code",
   "execution_count": null,
   "id": "5672a86a",
   "metadata": {},
   "outputs": [],
   "source": [
    "fig,ax = plt.subplots(figsize=(12,10))\n",
    "sns.heatmap(numerical.corr(),annot=True, ax=ax,  cmap='RdYlGn', center=0)\n",
    "plt.show()"
   ]
  },
  {
   "cell_type": "markdown",
   "id": "e0ea8430",
   "metadata": {},
   "source": [
    "## Data processing\n"
   ]
  },
  {
   "cell_type": "markdown",
   "id": "31788a8d",
   "metadata": {},
   "source": [
    "### Standardization"
   ]
  },
  {
   "cell_type": "markdown",
   "id": "cef045e9",
   "metadata": {},
   "source": [
    "#### Categorical variables transformation."
   ]
  },
  {
   "cell_type": "code",
   "execution_count": null,
   "id": "40a531c2",
   "metadata": {},
   "outputs": [],
   "source": [
    "enc = OneHotEncoder(handle_unknown='ignore')"
   ]
  },
  {
   "cell_type": "code",
   "execution_count": null,
   "id": "d074c45d",
   "metadata": {},
   "outputs": [],
   "source": [
    "# define example\n",
    "data = [['Corporate Auto'], ['Personal Auto'], ['Special Auto']]\n",
    "values = array(data)\n",
    "print(values)"
   ]
  },
  {
   "cell_type": "code",
   "execution_count": null,
   "id": "d5196dda",
   "metadata": {},
   "outputs": [],
   "source": [
    "# integer encode\n",
    "label_encoder = LabelEncoder()\n",
    "integer_encoded = label_encoder.fit_transform(values)\n",
    "print(integer_encoded)"
   ]
  },
  {
   "cell_type": "code",
   "execution_count": null,
   "id": "6accce8e",
   "metadata": {},
   "outputs": [],
   "source": [
    "# binary encode\n",
    "onehot_encoder = OneHotEncoder(sparse=False)\n",
    "integer_encoded = integer_encoded.reshape(len(integer_encoded), 1)\n",
    "onehot_encoded = onehot_encoder.fit_transform(integer_encoded)\n",
    "print(onehot_encoded)"
   ]
  },
  {
   "cell_type": "code",
   "execution_count": null,
   "id": "42081e3a",
   "metadata": {},
   "outputs": [],
   "source": [
    "# invert first example\n",
    "inverted = label_encoder.inverse_transform([argmax(onehot_encoded[0, :])])\n",
    "print(inverted)"
   ]
  },
  {
   "cell_type": "markdown",
   "id": "0fe915e8",
   "metadata": {},
   "source": [
    "## X-Y-split"
   ]
  },
  {
   "cell_type": "code",
   "execution_count": null,
   "id": "9e43fef3",
   "metadata": {},
   "outputs": [],
   "source": [
    "# x-y split - split the target variable from dependant variables\n",
    "\n",
    "X = cs_df.drop(columns = ['total_claim_amount'])\n",
    "y = cs_df.total_claim_amount"
   ]
  },
  {
   "cell_type": "code",
   "execution_count": null,
   "id": "e12916b6",
   "metadata": {},
   "outputs": [],
   "source": [
    "# Get the numeric data\n",
    "\n",
    "numericals_features = X._get_numeric_data()\n",
    "# numericals =data.select_dtypes(np.number)\n",
    "numericals_features.head()"
   ]
  },
  {
   "cell_type": "code",
   "execution_count": null,
   "id": "d26548e6",
   "metadata": {},
   "outputs": [],
   "source": [
    "#Standardize\n",
    "X_scaled = StandardScaler().fit_transform(numericals_features)\n",
    "X_scaled.shape"
   ]
  },
  {
   "cell_type": "code",
   "execution_count": null,
   "id": "04a80df2",
   "metadata": {},
   "outputs": [],
   "source": [
    "#Get Categorical data\n",
    "\n",
    "categoricals_features = X.select_dtypes(object)\n",
    "categoricals_features.head()"
   ]
  },
  {
   "cell_type": "markdown",
   "id": "0e3295df",
   "metadata": {},
   "source": [
    "Categoricals transformation"
   ]
  },
  {
   "cell_type": "code",
   "execution_count": null,
   "id": "3f862096",
   "metadata": {},
   "outputs": [],
   "source": [
    "# get dummies pandas\n",
    "categorical_features = pd.get_dummies(categorical, drop_first=True)"
   ]
  },
  {
   "cell_type": "code",
   "execution_count": null,
   "id": "dbce6ec7",
   "metadata": {},
   "outputs": [],
   "source": [
    "categorical_features"
   ]
  },
  {
   "cell_type": "code",
   "execution_count": null,
   "id": "c7d2fe94",
   "metadata": {},
   "outputs": [],
   "source": [
    "# Merging the encoded results into the original data frame"
   ]
  },
  {
   "cell_type": "code",
   "execution_count": null,
   "id": "a2d393bc",
   "metadata": {
    "scrolled": true
   },
   "outputs": [],
   "source": [
    "all_features = pd.concat([numericals_features, categorical_features], axis=1) \n",
    "all_features.head()"
   ]
  },
  {
   "cell_type": "markdown",
   "id": "74e79363",
   "metadata": {},
   "source": [
    "#### Train Test Split"
   ]
  },
  {
   "cell_type": "code",
   "execution_count": null,
   "id": "952fbd6b",
   "metadata": {},
   "outputs": [],
   "source": [
    "X_train, X_test, y_train, y_test=train_test_split(all_features, y, test_size=.20)"
   ]
  },
  {
   "cell_type": "code",
   "execution_count": null,
   "id": "47f396b9",
   "metadata": {},
   "outputs": [],
   "source": [
    "X_train"
   ]
  },
  {
   "cell_type": "markdown",
   "id": "4ad9a86d",
   "metadata": {},
   "source": [
    "### Linear Regression"
   ]
  },
  {
   "cell_type": "code",
   "execution_count": null,
   "id": "75ee6810",
   "metadata": {},
   "outputs": [],
   "source": [
    "model = LinearRegression()    # model\n",
    "model.fit(X_train.to_numpy(), y_train)   # model train\n",
    "\n",
    "y\n",
    "y_pred = model.predict(X_test.to_numpy())   # model prediction\n",
    "\n",
    "y_pred_train = model.predict(X_train.to_numpy())"
   ]
  },
  {
   "cell_type": "code",
   "execution_count": null,
   "id": "79fcce69",
   "metadata": {},
   "outputs": [],
   "source": [
    "y_pred"
   ]
  },
  {
   "cell_type": "code",
   "execution_count": null,
   "id": "08c59bb8",
   "metadata": {},
   "outputs": [],
   "source": [
    "fig, ax = plt.subplots(2,2)\n",
    "ax[0,0].plot(y_pred, y_test, 'o')\n",
    "ax[0,0].set_xlabel(\"y_test\")\n",
    "ax[0,0].set_ylabel(\"y_pred\")\n",
    "ax[0,0].set_title(\"Test Set -Predicted vs real\")\n",
    "\n",
    "# Get a histogram of the residuals ie: y - y_pred.  Homoscdasticity\n",
    "# It resembles a normal distribution?\n",
    "ax[0,1].hist(y_test - y_pred)\n",
    "ax[0,1].set_xlabel(\"Test y-y_pred\")\n",
    "ax[0,1].set_title(\"Test Set Residual histogram\")\n",
    "\n",
    "ax[1,0].plot(y_pred_train, y_train, 'o')\n",
    "ax[1,0].set_xlabel(\"y_train\")\n",
    "ax[1,0].set_ylabel(\"y_pred_train\")\n",
    "ax[1,0].set_title(\"Train set Predicted vs real\")\n",
    "\n",
    "# Get a histogram of the residuals ie: y - y_pred.  Homoscdasticity\n",
    "# It resembles a normal distribution?\n",
    "ax[1,1].hist(y_train - y_pred_train)\n",
    "ax[1,1].set_xlabel(\"Train y-y_pred\")\n",
    "ax[1,1].set_title(\"Train Residual histogram\")"
   ]
  },
  {
   "cell_type": "markdown",
   "id": "63c2aea9",
   "metadata": {},
   "source": [
    "#### Model Validation"
   ]
  },
  {
   "cell_type": "markdown",
   "id": "d3436bb3",
   "metadata": {},
   "source": [
    "MSE"
   ]
  },
  {
   "cell_type": "code",
   "execution_count": null,
   "id": "00f4ce65",
   "metadata": {},
   "outputs": [],
   "source": [
    "train_mse = mse(y_train,model.predict(X_train.to_numpy()))\n",
    "test_mse = mse(y_test,model.predict(X_test.to_numpy()))\n",
    "\n",
    "print('train MSE: {} -- test MSE: {}'.format(train_mse, test_mse))"
   ]
  },
  {
   "cell_type": "markdown",
   "id": "c8974519",
   "metadata": {},
   "source": [
    "RMSE"
   ]
  },
  {
   "cell_type": "code",
   "execution_count": null,
   "id": "f1d99150",
   "metadata": {},
   "outputs": [],
   "source": [
    "print('train RMSE: {} -- test RMSE: {}'.format(train_mse**.5, test_mse**.5))"
   ]
  },
  {
   "cell_type": "markdown",
   "id": "fb2cff20",
   "metadata": {},
   "source": [
    "MAE"
   ]
  },
  {
   "cell_type": "code",
   "execution_count": null,
   "id": "974c727e",
   "metadata": {},
   "outputs": [],
   "source": [
    "print('train RMSE: {} -- test RMSE: {}'.format(train_mse**.5, test_mse**.5))"
   ]
  },
  {
   "cell_type": "markdown",
   "id": "c51e4dc9",
   "metadata": {},
   "source": [
    "R2"
   ]
  },
  {
   "cell_type": "code",
   "execution_count": null,
   "id": "11dc581d",
   "metadata": {},
   "outputs": [],
   "source": [
    "r2 = model.score(X_test.to_numpy(), y_test)\n",
    "print (r2)\n",
    "\n",
    "print(r2_score(y_test,model.predict(X_test.to_numpy())))"
   ]
  },
  {
   "cell_type": "code",
   "execution_count": null,
   "id": "d5f1acae",
   "metadata": {},
   "outputs": [],
   "source": [
    "print ('train R2: {} -- test R2: {}'.format(model.score(X_train.to_numpy(), y_train),\n",
    "                                            model.score(X_test.to_numpy(), y_test)))"
   ]
  },
  {
   "cell_type": "markdown",
   "id": "62a6057a",
   "metadata": {},
   "source": [
    "Adjusted R2"
   ]
  },
  {
   "cell_type": "code",
   "execution_count": null,
   "id": "5aa7730e",
   "metadata": {},
   "outputs": [],
   "source": [
    "N=X_train.shape[0]\n",
    "p=36\n",
    "x = (1-r2)\n",
    "y = (N-1) / (N-p-1)\n",
    "adj_rsquared = (1 - (x * y))\n",
    "print(\"Adjusted-R2 : \" , adj_rsquared)"
   ]
  },
  {
   "cell_type": "markdown",
   "id": "e3cb6011",
   "metadata": {},
   "source": [
    "#### Feature importance"
   ]
  },
  {
   "cell_type": "code",
   "execution_count": null,
   "id": "3d4fb393",
   "metadata": {},
   "outputs": [],
   "source": [
    "features_importances = pd.DataFrame(data={\n",
    "    'Attribute': X_train.columns,\n",
    "    'Importance': model.coef_\n",
    "})\n",
    "features_importances = features_importances.sort_values(by='Importance', ascending=False)"
   ]
  },
  {
   "cell_type": "code",
   "execution_count": null,
   "id": "2e962973",
   "metadata": {},
   "outputs": [],
   "source": [
    "features_importances"
   ]
  },
  {
   "cell_type": "code",
   "execution_count": null,
   "id": "d964720f",
   "metadata": {},
   "outputs": [],
   "source": [
    "plt.bar(x=features_importances['Attribute'], height=features_importances['Importance'], color='#087E8B')\n",
    "plt.title('Feature importances obtained from coefficients', size=20)\n",
    "plt.xticks(rotation='vertical')\n",
    "plt.show()"
   ]
  },
  {
   "cell_type": "markdown",
   "id": "0af50cf2",
   "metadata": {},
   "source": [
    "### Lab | Comparing regression models"
   ]
  },
  {
   "cell_type": "code",
   "execution_count": null,
   "id": "2e05c0f1",
   "metadata": {},
   "outputs": [],
   "source": [
    "# Importing libraries\n",
    "from sklearn.linear_model import LinearRegression\n",
    "from sklearn.model_selection import train_test_split\n",
    "from sklearn.metrics import mean_squared_error\n",
    "from sklearn.linear_model import Lasso,Ridge,ElasticNet\n",
    "from sklearn.model_selection import cross_val_score\n",
    "from sklearn.neighbors import KNeighborsClassifier"
   ]
  },
  {
   "cell_type": "code",
   "execution_count": 121,
   "id": "18f940d1",
   "metadata": {},
   "outputs": [],
   "source": [
    "# Create training and test sets\n",
    "X_train, X_test, y_train, y_test=train_test_split(all_features, y, test_size=.20)"
   ]
  },
  {
   "cell_type": "code",
   "execution_count": 122,
   "id": "fe2a8927",
   "metadata": {},
   "outputs": [
    {
     "data": {
      "text/html": [
       "<div>\n",
       "<style scoped>\n",
       "    .dataframe tbody tr th:only-of-type {\n",
       "        vertical-align: middle;\n",
       "    }\n",
       "\n",
       "    .dataframe tbody tr th {\n",
       "        vertical-align: top;\n",
       "    }\n",
       "\n",
       "    .dataframe thead th {\n",
       "        text-align: right;\n",
       "    }\n",
       "</style>\n",
       "<table border=\"1\" class=\"dataframe\">\n",
       "  <thead>\n",
       "    <tr style=\"text-align: right;\">\n",
       "      <th></th>\n",
       "      <th>customer_lifetime_value</th>\n",
       "      <th>income</th>\n",
       "      <th>monthly_premium_auto</th>\n",
       "      <th>months_since_last_claim</th>\n",
       "      <th>months_since_policy_inception</th>\n",
       "      <th>number_of_policies</th>\n",
       "      <th>state_California</th>\n",
       "      <th>state_Nevada</th>\n",
       "      <th>state_Oregon</th>\n",
       "      <th>state_Washington</th>\n",
       "      <th>...</th>\n",
       "      <th>renew_offer_type_Offer4</th>\n",
       "      <th>sales_channel_Branch</th>\n",
       "      <th>sales_channel_Call Center</th>\n",
       "      <th>sales_channel_Web</th>\n",
       "      <th>vehicle_class_Luxury Car</th>\n",
       "      <th>vehicle_class_SUV</th>\n",
       "      <th>vehicle_class_Sports Car</th>\n",
       "      <th>vehicle_class_Two-Door Car</th>\n",
       "      <th>vehicle_size_Medsize</th>\n",
       "      <th>vehicle_size_Small</th>\n",
       "    </tr>\n",
       "  </thead>\n",
       "  <tbody>\n",
       "    <tr>\n",
       "      <th>8684</th>\n",
       "      <td>29050.0</td>\n",
       "      <td>21070</td>\n",
       "      <td>195</td>\n",
       "      <td>6.0</td>\n",
       "      <td>47</td>\n",
       "      <td>2</td>\n",
       "      <td>1</td>\n",
       "      <td>0</td>\n",
       "      <td>0</td>\n",
       "      <td>0</td>\n",
       "      <td>...</td>\n",
       "      <td>0</td>\n",
       "      <td>0</td>\n",
       "      <td>1</td>\n",
       "      <td>0</td>\n",
       "      <td>0</td>\n",
       "      <td>0</td>\n",
       "      <td>1</td>\n",
       "      <td>0</td>\n",
       "      <td>0</td>\n",
       "      <td>1</td>\n",
       "    </tr>\n",
       "    <tr>\n",
       "      <th>9929</th>\n",
       "      <td>3934.0</td>\n",
       "      <td>25927</td>\n",
       "      <td>103</td>\n",
       "      <td>6.0</td>\n",
       "      <td>20</td>\n",
       "      <td>1</td>\n",
       "      <td>0</td>\n",
       "      <td>0</td>\n",
       "      <td>0</td>\n",
       "      <td>1</td>\n",
       "      <td>...</td>\n",
       "      <td>0</td>\n",
       "      <td>0</td>\n",
       "      <td>0</td>\n",
       "      <td>1</td>\n",
       "      <td>0</td>\n",
       "      <td>1</td>\n",
       "      <td>0</td>\n",
       "      <td>0</td>\n",
       "      <td>1</td>\n",
       "      <td>0</td>\n",
       "    </tr>\n",
       "    <tr>\n",
       "      <th>948</th>\n",
       "      <td>3586.0</td>\n",
       "      <td>49080</td>\n",
       "      <td>91</td>\n",
       "      <td>14.0</td>\n",
       "      <td>68</td>\n",
       "      <td>1</td>\n",
       "      <td>0</td>\n",
       "      <td>1</td>\n",
       "      <td>0</td>\n",
       "      <td>0</td>\n",
       "      <td>...</td>\n",
       "      <td>0</td>\n",
       "      <td>0</td>\n",
       "      <td>0</td>\n",
       "      <td>0</td>\n",
       "      <td>0</td>\n",
       "      <td>0</td>\n",
       "      <td>0</td>\n",
       "      <td>0</td>\n",
       "      <td>0</td>\n",
       "      <td>1</td>\n",
       "    </tr>\n",
       "    <tr>\n",
       "      <th>2345</th>\n",
       "      <td>7759.0</td>\n",
       "      <td>96162</td>\n",
       "      <td>97</td>\n",
       "      <td>9.0</td>\n",
       "      <td>91</td>\n",
       "      <td>4</td>\n",
       "      <td>0</td>\n",
       "      <td>1</td>\n",
       "      <td>0</td>\n",
       "      <td>0</td>\n",
       "      <td>...</td>\n",
       "      <td>0</td>\n",
       "      <td>0</td>\n",
       "      <td>0</td>\n",
       "      <td>0</td>\n",
       "      <td>0</td>\n",
       "      <td>0</td>\n",
       "      <td>0</td>\n",
       "      <td>0</td>\n",
       "      <td>0</td>\n",
       "      <td>1</td>\n",
       "    </tr>\n",
       "    <tr>\n",
       "      <th>3038</th>\n",
       "      <td>4985.0</td>\n",
       "      <td>86305</td>\n",
       "      <td>62</td>\n",
       "      <td>1.0</td>\n",
       "      <td>99</td>\n",
       "      <td>5</td>\n",
       "      <td>1</td>\n",
       "      <td>0</td>\n",
       "      <td>0</td>\n",
       "      <td>0</td>\n",
       "      <td>...</td>\n",
       "      <td>0</td>\n",
       "      <td>0</td>\n",
       "      <td>1</td>\n",
       "      <td>0</td>\n",
       "      <td>0</td>\n",
       "      <td>0</td>\n",
       "      <td>0</td>\n",
       "      <td>0</td>\n",
       "      <td>1</td>\n",
       "      <td>0</td>\n",
       "    </tr>\n",
       "    <tr>\n",
       "      <th>...</th>\n",
       "      <td>...</td>\n",
       "      <td>...</td>\n",
       "      <td>...</td>\n",
       "      <td>...</td>\n",
       "      <td>...</td>\n",
       "      <td>...</td>\n",
       "      <td>...</td>\n",
       "      <td>...</td>\n",
       "      <td>...</td>\n",
       "      <td>...</td>\n",
       "      <td>...</td>\n",
       "      <td>...</td>\n",
       "      <td>...</td>\n",
       "      <td>...</td>\n",
       "      <td>...</td>\n",
       "      <td>...</td>\n",
       "      <td>...</td>\n",
       "      <td>...</td>\n",
       "      <td>...</td>\n",
       "      <td>...</td>\n",
       "      <td>...</td>\n",
       "    </tr>\n",
       "    <tr>\n",
       "      <th>4576</th>\n",
       "      <td>24128.0</td>\n",
       "      <td>14072</td>\n",
       "      <td>71</td>\n",
       "      <td>13.0</td>\n",
       "      <td>3</td>\n",
       "      <td>2</td>\n",
       "      <td>0</td>\n",
       "      <td>0</td>\n",
       "      <td>1</td>\n",
       "      <td>0</td>\n",
       "      <td>...</td>\n",
       "      <td>0</td>\n",
       "      <td>0</td>\n",
       "      <td>0</td>\n",
       "      <td>0</td>\n",
       "      <td>0</td>\n",
       "      <td>0</td>\n",
       "      <td>0</td>\n",
       "      <td>0</td>\n",
       "      <td>1</td>\n",
       "      <td>0</td>\n",
       "    </tr>\n",
       "    <tr>\n",
       "      <th>2456</th>\n",
       "      <td>4909.0</td>\n",
       "      <td>98693</td>\n",
       "      <td>61</td>\n",
       "      <td>7.0</td>\n",
       "      <td>57</td>\n",
       "      <td>3</td>\n",
       "      <td>0</td>\n",
       "      <td>0</td>\n",
       "      <td>1</td>\n",
       "      <td>0</td>\n",
       "      <td>...</td>\n",
       "      <td>0</td>\n",
       "      <td>0</td>\n",
       "      <td>0</td>\n",
       "      <td>0</td>\n",
       "      <td>0</td>\n",
       "      <td>0</td>\n",
       "      <td>0</td>\n",
       "      <td>0</td>\n",
       "      <td>0</td>\n",
       "      <td>1</td>\n",
       "    </tr>\n",
       "    <tr>\n",
       "      <th>276</th>\n",
       "      <td>5687.0</td>\n",
       "      <td>30242</td>\n",
       "      <td>72</td>\n",
       "      <td>30.0</td>\n",
       "      <td>23</td>\n",
       "      <td>3</td>\n",
       "      <td>0</td>\n",
       "      <td>0</td>\n",
       "      <td>1</td>\n",
       "      <td>0</td>\n",
       "      <td>...</td>\n",
       "      <td>0</td>\n",
       "      <td>1</td>\n",
       "      <td>0</td>\n",
       "      <td>0</td>\n",
       "      <td>0</td>\n",
       "      <td>0</td>\n",
       "      <td>0</td>\n",
       "      <td>0</td>\n",
       "      <td>1</td>\n",
       "      <td>0</td>\n",
       "    </tr>\n",
       "    <tr>\n",
       "      <th>6727</th>\n",
       "      <td>7463.0</td>\n",
       "      <td>70263</td>\n",
       "      <td>93</td>\n",
       "      <td>30.0</td>\n",
       "      <td>66</td>\n",
       "      <td>5</td>\n",
       "      <td>1</td>\n",
       "      <td>0</td>\n",
       "      <td>0</td>\n",
       "      <td>0</td>\n",
       "      <td>...</td>\n",
       "      <td>0</td>\n",
       "      <td>0</td>\n",
       "      <td>1</td>\n",
       "      <td>0</td>\n",
       "      <td>0</td>\n",
       "      <td>0</td>\n",
       "      <td>0</td>\n",
       "      <td>1</td>\n",
       "      <td>0</td>\n",
       "      <td>1</td>\n",
       "    </tr>\n",
       "    <tr>\n",
       "      <th>6378</th>\n",
       "      <td>4682.0</td>\n",
       "      <td>37929</td>\n",
       "      <td>61</td>\n",
       "      <td>21.0</td>\n",
       "      <td>35</td>\n",
       "      <td>5</td>\n",
       "      <td>0</td>\n",
       "      <td>0</td>\n",
       "      <td>0</td>\n",
       "      <td>0</td>\n",
       "      <td>...</td>\n",
       "      <td>0</td>\n",
       "      <td>0</td>\n",
       "      <td>1</td>\n",
       "      <td>0</td>\n",
       "      <td>0</td>\n",
       "      <td>0</td>\n",
       "      <td>0</td>\n",
       "      <td>0</td>\n",
       "      <td>1</td>\n",
       "      <td>0</td>\n",
       "    </tr>\n",
       "  </tbody>\n",
       "</table>\n",
       "<p>5453 rows × 41 columns</p>\n",
       "</div>"
      ],
      "text/plain": [
       "      customer_lifetime_value  income  monthly_premium_auto  \\\n",
       "8684                  29050.0   21070                   195   \n",
       "9929                   3934.0   25927                   103   \n",
       "948                    3586.0   49080                    91   \n",
       "2345                   7759.0   96162                    97   \n",
       "3038                   4985.0   86305                    62   \n",
       "...                       ...     ...                   ...   \n",
       "4576                  24128.0   14072                    71   \n",
       "2456                   4909.0   98693                    61   \n",
       "276                    5687.0   30242                    72   \n",
       "6727                   7463.0   70263                    93   \n",
       "6378                   4682.0   37929                    61   \n",
       "\n",
       "      months_since_last_claim  months_since_policy_inception  \\\n",
       "8684                      6.0                             47   \n",
       "9929                      6.0                             20   \n",
       "948                      14.0                             68   \n",
       "2345                      9.0                             91   \n",
       "3038                      1.0                             99   \n",
       "...                       ...                            ...   \n",
       "4576                     13.0                              3   \n",
       "2456                      7.0                             57   \n",
       "276                      30.0                             23   \n",
       "6727                     30.0                             66   \n",
       "6378                     21.0                             35   \n",
       "\n",
       "      number_of_policies  state_California  state_Nevada  state_Oregon  \\\n",
       "8684                   2                 1             0             0   \n",
       "9929                   1                 0             0             0   \n",
       "948                    1                 0             1             0   \n",
       "2345                   4                 0             1             0   \n",
       "3038                   5                 1             0             0   \n",
       "...                  ...               ...           ...           ...   \n",
       "4576                   2                 0             0             1   \n",
       "2456                   3                 0             0             1   \n",
       "276                    3                 0             0             1   \n",
       "6727                   5                 1             0             0   \n",
       "6378                   5                 0             0             0   \n",
       "\n",
       "      state_Washington  ...  renew_offer_type_Offer4  sales_channel_Branch  \\\n",
       "8684                 0  ...                        0                     0   \n",
       "9929                 1  ...                        0                     0   \n",
       "948                  0  ...                        0                     0   \n",
       "2345                 0  ...                        0                     0   \n",
       "3038                 0  ...                        0                     0   \n",
       "...                ...  ...                      ...                   ...   \n",
       "4576                 0  ...                        0                     0   \n",
       "2456                 0  ...                        0                     0   \n",
       "276                  0  ...                        0                     1   \n",
       "6727                 0  ...                        0                     0   \n",
       "6378                 0  ...                        0                     0   \n",
       "\n",
       "      sales_channel_Call Center  sales_channel_Web  vehicle_class_Luxury Car  \\\n",
       "8684                          1                  0                         0   \n",
       "9929                          0                  1                         0   \n",
       "948                           0                  0                         0   \n",
       "2345                          0                  0                         0   \n",
       "3038                          1                  0                         0   \n",
       "...                         ...                ...                       ...   \n",
       "4576                          0                  0                         0   \n",
       "2456                          0                  0                         0   \n",
       "276                           0                  0                         0   \n",
       "6727                          1                  0                         0   \n",
       "6378                          1                  0                         0   \n",
       "\n",
       "      vehicle_class_SUV  vehicle_class_Sports Car  vehicle_class_Two-Door Car  \\\n",
       "8684                  0                         1                           0   \n",
       "9929                  1                         0                           0   \n",
       "948                   0                         0                           0   \n",
       "2345                  0                         0                           0   \n",
       "3038                  0                         0                           0   \n",
       "...                 ...                       ...                         ...   \n",
       "4576                  0                         0                           0   \n",
       "2456                  0                         0                           0   \n",
       "276                   0                         0                           0   \n",
       "6727                  0                         0                           1   \n",
       "6378                  0                         0                           0   \n",
       "\n",
       "      vehicle_size_Medsize  vehicle_size_Small  \n",
       "8684                     0                   1  \n",
       "9929                     1                   0  \n",
       "948                      0                   1  \n",
       "2345                     0                   1  \n",
       "3038                     1                   0  \n",
       "...                    ...                 ...  \n",
       "4576                     1                   0  \n",
       "2456                     0                   1  \n",
       "276                      1                   0  \n",
       "6727                     0                   1  \n",
       "6378                     1                   0  \n",
       "\n",
       "[5453 rows x 41 columns]"
      ]
     },
     "execution_count": 122,
     "metadata": {},
     "output_type": "execute_result"
    }
   ],
   "source": [
    "X_train"
   ]
  },
  {
   "cell_type": "code",
   "execution_count": 123,
   "id": "e0707908",
   "metadata": {},
   "outputs": [
    {
     "name": "stdout",
     "output_type": "stream",
     "text": [
      "R^2: 0.810020578727825\n",
      "Root Mean Squared Error: 111.52245830896364\n"
     ]
    }
   ],
   "source": [
    "# Linear Regressor\n",
    "reg = LinearRegression()\n",
    "\n",
    "# Fit the regressor to the training data\n",
    "reg.fit(X_train, y_train)\n",
    "\n",
    "# Predict on the test data: y_pred\n",
    "y_pred = reg.predict(X_test)\n",
    "\n",
    "# Compute and print R^2 and RMSE\n",
    "print(\"R^2: {}\".format(reg.score(X_test, y_test)))\n",
    "rmse = np.sqrt(mean_squared_error(y_test,y_pred))\n",
    "print(\"Root Mean Squared Error: {}\".format(rmse))"
   ]
  },
  {
   "cell_type": "code",
   "execution_count": 113,
   "id": "53be361f",
   "metadata": {},
   "outputs": [
    {
     "name": "stdout",
     "output_type": "stream",
     "text": [
      "Lasso: Train -> 0.7987199275510345, Test -> 0.8075466920700106\n"
     ]
    }
   ],
   "source": [
    "# Lasso\n",
    "lasso = Lasso()\n",
    "lasso.fit(X_train, y_train)\n",
    "print(f\"{lasso.__class__.__name__}: Train -> {lasso.score(X_train, y_train)}, Test -> {lasso.score(X_test, y_test)}\")"
   ]
  },
  {
   "cell_type": "code",
   "execution_count": 111,
   "id": "5d070faa",
   "metadata": {},
   "outputs": [
    {
     "name": "stdout",
     "output_type": "stream",
     "text": [
      "Ridge score: 0.7914078576806275\n"
     ]
    }
   ],
   "source": [
    "# Ridge\n",
    "ridge = Ridge(alpha = 0.1, normalize = True)\n",
    "ridge.fit(X_train, y_train)\n",
    "ridge_pred = ridge.predict(X_test)\n",
    "ridge_score = ridge.score(X_test, y_test)\n",
    "print(\"Ridge score: {}\".format(ridge_score))"
   ]
  },
  {
   "cell_type": "code",
   "execution_count": 126,
   "id": "83dd1bb7",
   "metadata": {},
   "outputs": [
    {
     "name": "stdout",
     "output_type": "stream",
     "text": [
      "Test set predictions: [ 50. 523. 405. ... 739. 557. 145.]\n"
     ]
    },
    {
     "data": {
      "text/plain": [
       "0.16642228739002932"
      ]
     },
     "execution_count": 126,
     "metadata": {},
     "output_type": "execute_result"
    }
   ],
   "source": [
    "# KNN\n",
    "knn = KNeighborsClassifier(n_neighbors = 8)\n",
    "\n",
    "knn.fit(X_train, y_train)\n",
    "y_pred = knn.predict(X_test)\n",
    "print(\"Test set predictions: {}\".format(y_pred))\n",
    "knn.score(X_test, y_test)"
   ]
  }
 ],
 "metadata": {
  "kernelspec": {
   "display_name": "Python 3",
   "language": "python",
   "name": "python3"
  },
  "language_info": {
   "codemirror_mode": {
    "name": "ipython",
    "version": 3
   },
   "file_extension": ".py",
   "mimetype": "text/x-python",
   "name": "python",
   "nbconvert_exporter": "python",
   "pygments_lexer": "ipython3",
   "version": "3.9.6"
  }
 },
 "nbformat": 4,
 "nbformat_minor": 5
}
