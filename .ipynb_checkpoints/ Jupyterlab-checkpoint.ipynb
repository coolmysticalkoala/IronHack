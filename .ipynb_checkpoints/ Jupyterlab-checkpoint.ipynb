{
 "cells": [
  {
   "cell_type": "markdown",
   "metadata": {},
   "source": [
    "# Favourite holiday destination\n",
    "## Vietnam"
   ]
  },
  {
   "cell_type": "markdown",
   "metadata": {},
   "source": [
    "*Inventive cooking and isolated beaches make for a perfect escape. This is a favourite travel destination of Mario: Vietnam.*"
   ]
  },
  {
   "cell_type": "code",
   "execution_count": null,
   "metadata": {},
   "outputs": [
    {
     "name": "stdout",
     "output_type": "stream",
     "text": [
      "Enter your name:\n"
     ]
    }
   ],
   "source": [
    "print('Enter your name:')\n",
    "x = input()"
   ]
  },
  {
   "cell_type": "markdown",
   "metadata": {},
   "source": [
    "![alt text](https://encrypted-tbn0.gstatic.com/images?q=tbn:ANd9GcSDRkspbA0k32STxKBSrCPB-FzfxGWVZ0IVRiwYGMA668y0YyAyo1jbLkElZbAV4qHzdXLS6MJTFPmfNw&usqp=CAU)"
   ]
  },
  {
   "cell_type": "code",
   "execution_count": null,
   "metadata": {},
   "outputs": [],
   "source": [
    "print('What is your favourite holiday destination:')\n",
    "x = input()"
   ]
  },
  {
   "cell_type": "markdown",
   "metadata": {},
   "source": [
    "![alt text](https://idsb.tmgrup.com.tr/ly/uploads/images/2021/05/26/117393.jpg)"
   ]
  },
  {
   "cell_type": "markdown",
   "metadata": {},
   "source": [
    "### My bucket list for Vietnam:\n",
    "\n",
    "- Visit Halong Bay\n",
    "- Hike through Cat Ba Island\n",
    "- Cruise the Mekong Delta\n",
    "- ***Phong Nha National Park***\n",
    "- <span style=\"color: red;\"> Don't miss to visit the coffee-making heartland, Buon Ma Thuot</span>.\n",
    "- <span style=\"color: green;\"> Eat pho in Hanoi</span>."
   ]
  },
  {
   "cell_type": "markdown",
   "metadata": {},
   "source": [
    "Visit the link to get the best tourist guide: [The tourist guide to Vietnam](https://www.youtube.com/watch?v=3M0TmN2TsK4)"
   ]
  },
  {
   "cell_type": "code",
   "execution_count": null,
   "metadata": {},
   "outputs": [],
   "source": []
  },
  {
   "cell_type": "code",
   "execution_count": null,
   "metadata": {},
   "outputs": [],
   "source": []
  },
  {
   "cell_type": "code",
   "execution_count": null,
   "metadata": {},
   "outputs": [],
   "source": []
  },
  {
   "cell_type": "code",
   "execution_count": null,
   "metadata": {},
   "outputs": [],
   "source": []
  },
  {
   "cell_type": "code",
   "execution_count": null,
   "metadata": {},
   "outputs": [],
   "source": []
  },
  {
   "cell_type": "code",
   "execution_count": null,
   "metadata": {},
   "outputs": [],
   "source": []
  }
 ],
 "metadata": {
  "kernelspec": {
   "display_name": "Python 3",
   "language": "python",
   "name": "python3"
  },
  "language_info": {
   "codemirror_mode": {
    "name": "ipython",
    "version": 3
   },
   "file_extension": ".py",
   "mimetype": "text/x-python",
   "name": "python",
   "nbconvert_exporter": "python",
   "pygments_lexer": "ipython3",
   "version": "3.7.1"
  }
 },
 "nbformat": 4,
 "nbformat_minor": 2
}
